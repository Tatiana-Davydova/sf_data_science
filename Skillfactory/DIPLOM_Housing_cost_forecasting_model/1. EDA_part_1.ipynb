{
 "cells": [
  {
   "cell_type": "markdown",
   "metadata": {},
   "source": [
    "## Дипломный проект. Бриф учебного кейса\n",
    "### «Модель прогнозирования стоимости жилья для агентства недвижимости»"
   ]
  },
  {
   "cell_type": "markdown",
   "metadata": {},
   "source": [
    "Необходимо:\n",
    "1. Провести разведывательный анализ и очистку исходных данных. Обратите\n",
    "внимание, что данные в таблице реальные: в результате во многих\n",
    "признаках присутствуют дублирующиеся категории, ошибки ввода,\n",
    "жаргонные сокращения и т .д. Вам предстоит отыскать закономерности,\n",
    "самостоятельно расшифровать все сокращения, найти синонимы в\n",
    "данных, обработать пропуски и удалить выбросы.\n",
    "Постарайтесь уделить этапу очистки максимум внимания, так как это\n",
    "напрямую повлияет на результаты моделирования.\n",
    "2. Выделить наиболее значимые факторы, влияющие на стоимость\n",
    "недвижимости.\n",
    "3. Построить модель для прогнозирования стоимости недвижимости.\n",
    "4. Разработать небольшой веб-сервис, на вход которому поступают данные\n",
    "о некоторой выставленной на продажу недвижимости, а сервис\n",
    "прогнозирует его стоимость."
   ]
  },
  {
   "cell_type": "code",
   "execution_count": 164,
   "metadata": {},
   "outputs": [],
   "source": [
    "import pandas as pd\n",
    "import numpy as np\n",
    "import matplotlib.pyplot as plt\n",
    "import seaborn as sns\n",
    "import plotly\n",
    "import plotly.express as px"
   ]
  },
  {
   "cell_type": "code",
   "execution_count": 165,
   "metadata": {},
   "outputs": [
    {
     "data": {
      "text/html": [
       "<div>\n",
       "<style scoped>\n",
       "    .dataframe tbody tr th:only-of-type {\n",
       "        vertical-align: middle;\n",
       "    }\n",
       "\n",
       "    .dataframe tbody tr th {\n",
       "        vertical-align: top;\n",
       "    }\n",
       "\n",
       "    .dataframe thead th {\n",
       "        text-align: right;\n",
       "    }\n",
       "</style>\n",
       "<table border=\"1\" class=\"dataframe\">\n",
       "  <thead>\n",
       "    <tr style=\"text-align: right;\">\n",
       "      <th></th>\n",
       "      <th>status</th>\n",
       "      <th>private pool</th>\n",
       "      <th>propertyType</th>\n",
       "      <th>street</th>\n",
       "      <th>baths</th>\n",
       "      <th>homeFacts</th>\n",
       "      <th>fireplace</th>\n",
       "      <th>city</th>\n",
       "      <th>schools</th>\n",
       "      <th>sqft</th>\n",
       "      <th>zipcode</th>\n",
       "      <th>beds</th>\n",
       "      <th>state</th>\n",
       "      <th>stories</th>\n",
       "      <th>mls-id</th>\n",
       "      <th>PrivatePool</th>\n",
       "      <th>MlsId</th>\n",
       "      <th>target</th>\n",
       "    </tr>\n",
       "  </thead>\n",
       "  <tbody>\n",
       "    <tr>\n",
       "      <th>0</th>\n",
       "      <td>Active</td>\n",
       "      <td>NaN</td>\n",
       "      <td>Single Family Home</td>\n",
       "      <td>240 Heather Ln</td>\n",
       "      <td>3.5</td>\n",
       "      <td>{'atAGlanceFacts': [{'factValue': '2019', 'fac...</td>\n",
       "      <td>Gas Logs</td>\n",
       "      <td>Southern Pines</td>\n",
       "      <td>[{'rating': ['4', '4', '7', 'NR', '4', '7', 'N...</td>\n",
       "      <td>2900</td>\n",
       "      <td>28387</td>\n",
       "      <td>4</td>\n",
       "      <td>NC</td>\n",
       "      <td>NaN</td>\n",
       "      <td>NaN</td>\n",
       "      <td>NaN</td>\n",
       "      <td>611019</td>\n",
       "      <td>$418,000</td>\n",
       "    </tr>\n",
       "    <tr>\n",
       "      <th>1</th>\n",
       "      <td>for sale</td>\n",
       "      <td>NaN</td>\n",
       "      <td>single-family home</td>\n",
       "      <td>12911 E Heroy Ave</td>\n",
       "      <td>3 Baths</td>\n",
       "      <td>{'atAGlanceFacts': [{'factValue': '2019', 'fac...</td>\n",
       "      <td>NaN</td>\n",
       "      <td>Spokane Valley</td>\n",
       "      <td>[{'rating': ['4/10', 'None/10', '4/10'], 'data...</td>\n",
       "      <td>1,947 sqft</td>\n",
       "      <td>99216</td>\n",
       "      <td>3 Beds</td>\n",
       "      <td>WA</td>\n",
       "      <td>2.0</td>\n",
       "      <td>NaN</td>\n",
       "      <td>NaN</td>\n",
       "      <td>201916904</td>\n",
       "      <td>$310,000</td>\n",
       "    </tr>\n",
       "    <tr>\n",
       "      <th>2</th>\n",
       "      <td>for sale</td>\n",
       "      <td>NaN</td>\n",
       "      <td>single-family home</td>\n",
       "      <td>2005 Westridge Rd</td>\n",
       "      <td>2 Baths</td>\n",
       "      <td>{'atAGlanceFacts': [{'factValue': '1961', 'fac...</td>\n",
       "      <td>yes</td>\n",
       "      <td>Los Angeles</td>\n",
       "      <td>[{'rating': ['8/10', '4/10', '8/10'], 'data': ...</td>\n",
       "      <td>3,000 sqft</td>\n",
       "      <td>90049</td>\n",
       "      <td>3 Beds</td>\n",
       "      <td>CA</td>\n",
       "      <td>1.0</td>\n",
       "      <td>NaN</td>\n",
       "      <td>yes</td>\n",
       "      <td>FR19221027</td>\n",
       "      <td>$2,895,000</td>\n",
       "    </tr>\n",
       "  </tbody>\n",
       "</table>\n",
       "</div>"
      ],
      "text/plain": [
       "     status private pool        propertyType             street    baths   \n",
       "0    Active          NaN  Single Family Home     240 Heather Ln      3.5  \\\n",
       "1  for sale          NaN  single-family home  12911 E Heroy Ave  3 Baths   \n",
       "2  for sale          NaN  single-family home  2005 Westridge Rd  2 Baths   \n",
       "\n",
       "                                           homeFacts fireplace   \n",
       "0  {'atAGlanceFacts': [{'factValue': '2019', 'fac...  Gas Logs  \\\n",
       "1  {'atAGlanceFacts': [{'factValue': '2019', 'fac...       NaN   \n",
       "2  {'atAGlanceFacts': [{'factValue': '1961', 'fac...       yes   \n",
       "\n",
       "             city                                            schools   \n",
       "0  Southern Pines  [{'rating': ['4', '4', '7', 'NR', '4', '7', 'N...  \\\n",
       "1  Spokane Valley  [{'rating': ['4/10', 'None/10', '4/10'], 'data...   \n",
       "2     Los Angeles  [{'rating': ['8/10', '4/10', '8/10'], 'data': ...   \n",
       "\n",
       "         sqft zipcode    beds state stories mls-id PrivatePool       MlsId   \n",
       "0        2900   28387       4    NC     NaN    NaN         NaN      611019  \\\n",
       "1  1,947 sqft   99216  3 Beds    WA     2.0    NaN         NaN   201916904   \n",
       "2  3,000 sqft   90049  3 Beds    CA     1.0    NaN         yes  FR19221027   \n",
       "\n",
       "       target  \n",
       "0    $418,000  \n",
       "1    $310,000  \n",
       "2  $2,895,000  "
      ]
     },
     "execution_count": 165,
     "metadata": {},
     "output_type": "execute_result"
    }
   ],
   "source": [
    "# загрузка данных\n",
    "df = pd.read_csv('data\\data.csv')\n",
    "df.head(3)"
   ]
  },
  {
   "cell_type": "code",
   "execution_count": 166,
   "metadata": {},
   "outputs": [
    {
     "name": "stdout",
     "output_type": "stream",
     "text": [
      "<class 'pandas.core.frame.DataFrame'>\n",
      "RangeIndex: 377185 entries, 0 to 377184\n",
      "Data columns (total 18 columns):\n",
      " #   Column        Non-Null Count   Dtype \n",
      "---  ------        --------------   ----- \n",
      " 0   status        337267 non-null  object\n",
      " 1   private pool  4181 non-null    object\n",
      " 2   propertyType  342452 non-null  object\n",
      " 3   street        377183 non-null  object\n",
      " 4   baths         270847 non-null  object\n",
      " 5   homeFacts     377185 non-null  object\n",
      " 6   fireplace     103114 non-null  object\n",
      " 7   city          377151 non-null  object\n",
      " 8   schools       377185 non-null  object\n",
      " 9   sqft          336608 non-null  object\n",
      " 10  zipcode       377185 non-null  object\n",
      " 11  beds          285903 non-null  object\n",
      " 12  state         377185 non-null  object\n",
      " 13  stories       226469 non-null  object\n",
      " 14  mls-id        24942 non-null   object\n",
      " 15  PrivatePool   40311 non-null   object\n",
      " 16  MlsId         310305 non-null  object\n",
      " 17  target        374704 non-null  object\n",
      "dtypes: object(18)\n",
      "memory usage: 51.8+ MB\n"
     ]
    }
   ],
   "source": [
    "df.info()"
   ]
  },
  {
   "cell_type": "markdown",
   "metadata": {},
   "source": [
    "Описание данных:\n",
    "* 'status' — статус продажи;\n",
    "* 'private pool' и 'PrivatePool' — наличие собственного бассейна;\n",
    "* 'propertyType' — тип объекта недвижимости;\n",
    "* 'street' — адрес объекта;\n",
    "* 'baths' — количество ванных комнат;\n",
    "* 'homeFacts' — сведения о строительстве объекта (содержит несколько\n",
    "типов сведений, влияющих на оценку объекта);\n",
    "* 'fireplace' — наличие камина;\n",
    "* 'city' — город;\n",
    "* 'schools' — сведения о школах в районе;\n",
    "* 'sqft' — площадь в футах;\n",
    "* 'zipcode' — почтовый индекс;\n",
    "* 'beds' — количество спален;\n",
    "* 'state' — штат;\n",
    "* 'stories' — количество этажей;\n",
    "* 'mls-id' и 'MlsId' — идентификатор MLS (Multiple Listing Service, система\n",
    "мультилистинга);\n",
    "* 'target' — цена объекта недвижимости (целевой признак, который\n",
    "необходимо спрогнозировать)."
   ]
  },
  {
   "cell_type": "markdown",
   "metadata": {},
   "source": [
    "Важные сведения о данных:\n",
    "1. Признаки 'homeFacts' и 'schools' представляют собой словари и\n",
    "содержат несколько типов сведений. Необходимо десериализовать\n",
    "содержимое этих признаков. Если в нём есть полезные данные,\n",
    "необходимо создать из них новые признаки.\n",
    "\n",
    "2. Типы жилья и их основные характеристики (может пригодиться при\n",
    "обработке признака propertyType):\n",
    "*  apartment — съёмная квартира (нельзя купить);\n",
    "* condo — кондоминиум (можно купить);\n",
    "* co-op — квартира в жилищном кооперативе;\n",
    "* single-family (detached, tiny home) — односемейный (отдельный,\n",
    "маленький) дом;\n",
    "* townhome, townhouse — таунхаус;\n",
    "* cape cod — черепичная крыша, облицовка деревянным сайдингом,\n",
    "дверь в центре здания, окна по бокам, один-два этажа;\n",
    "* colonial home — минимум два этажа, симметрия, лестница в центре\n",
    "здания, строгий внешний вид;\n",
    "* contemporary — чистые, простые линии, нейтральные цвета, натуральные\n",
    "текстуры;\n",
    "* cottage — небольшая уютная веранда, небольшие жилые помещения;\n",
    "* craftsman — деревянные элементы ручной работы, выступающие балки,\n",
    "большие колонны;\n",
    "* Greek revival — большие белые колонны, украшения в греческом стиле,\n",
    "нарядный вход;\n",
    "* farmhouse — прямоугольная планировка, большое крыльцо, амбарная\n",
    "крыша;\n",
    "* French country — влияние прованса, облицовка камнем, состаренный\n",
    "вид;\n",
    "* Mediterranean — белая штукатурка, дерево и камень в тёплых тонах,\n",
    "черепичные крыши, элементы испанских и итальянских вилл;\n",
    "* midcentury modern — сочетание плавных природных и строгих\n",
    "геометрических линий, гладкость, лаконичность, большие окна;\n",
    "* ranch — один этаж, низкая крыша, открытые жилые помещения, задний\n",
    "двор;\n",
    "* split-level — жилые помещения разделены короткими лестничными\n",
    "пролётами;\n",
    "* Tudor — деревянные балки, каменная кладка, асимметричная крутая\n",
    "двускатная крыша;\n",
    "* Victorian (Queen Anne Houses) — два-три и более этажей, богатый декор,\n",
    "крутая двускатная крыша, небольшие башенки, яркий фасад;\n",
    "* European Houses style — кирпич или камень, высокая крутая крыша,\n",
    "высокие окна, часто со ставнями, традиционные декоративные детали\n",
    "(фронтоны, замковые камни);\n",
    "* log home — деревянный дом.\n",
    "\n",
    "3. Некоторые жаргонные сокращения — для исправления дублирования\n",
    "(может пригодиться при обработке признака propertyType):\n",
    "* 'manufactured home (house)' = 'mobile' = 'prefab' = 'modular';\n",
    "* 'mobile' = 'mo2 le' = 'mo2le';\n",
    "* 'cabin' = 'ca2 n' = 'ca2n';\n",
    "* midcentury = mid century = mid-century;\n",
    "* single family = single-family home.\n",
    "4. Некоторые термины, используемые в сфере купли-продажи\n",
    "недвижимости:\n",
    "* status — статус, состояние.\n",
    "* estate — объект недвижимости.\n",
    "* 'foreclosed' ('foreclosure') — «лишён права выкупа».\n",
    "Это процесс, когда недвижимость переходит к кредитору из-за\n",
    "неуплаты ипотеки заёмщиком. Продажа foreclosure-недвижимости\n",
    "отличается от традиционных продаж.\n",
    "* 'pre foreclosure' ('pre foreclosure auction') — «до выкупа»,\n",
    "«аукцион до выкупа».\n",
    "* 'under contract showing' ('under contract show', 'under\n",
    "contract', 'active under contract') — предложение о покупке\n",
    "уже сделано, но не принято продавцом окончательно, и\n",
    "недвижимость продолжают показывать другим потенциальным\n",
    "покупателям.\n",
    "* 'under contract backups', 'active backup', 'backup contract' —\n",
    "предложение о покупке уже сделано и принято продавцом,\n",
    "однако он открыт для резервных предложений.\n",
    "* 'contingency' — дополнительные обстоятельства (критерии,\n",
    "которым должен соответствовать продавец/покупатель до\n",
    "завершения сделки).\n",
    "* 'contingency contract' — контракт на случай возникновения\n",
    "дополнительных обстоятельств.\n",
    "* 'active contingency' — сделка уже практически состоялась,\n",
    "однако продавцу/покупателю для её завершения необходимо\n",
    "выполнить какие-то условия.\n",
    "* 'insp inspection contingency' — ситуация, когда покупатель\n",
    "может официально проинспектировать объект недвижимости в\n",
    "определённый период времени.\n",
    "* 'pending escape clause' — договор, предполагающий свободный\n",
    "выход сторон из него.\n",
    "* 'pending backup wanted' — договор уже заключен, однако\n",
    "продавец хочет продолжать показывать недвижимость другим\n",
    "потенциальным покупателям и принимать резервные\n",
    "предложения.\n",
    "* 'pending take backups' — условие, предполагающее, что\n",
    "продавец может принимать резерные предложения, если сделка\n",
    "с текущим покупателем не состоится.\n",
    "* 'pending continue show' — договор уже заключен, однако\n",
    "продавец хочет продолжать показывать недвижимость другим\n",
    "потенциальным покупателям на случай, если текущая сделка не\n",
    "состоится.\n",
    "* 'pending inspection' — «в ожидании инспекции».\n",
    "* 'due diligence period' — период, в течение которого покупатель\n",
    "имеет право проинспектировать недвижимость и изучить всю\n",
    "важную для заключения сделки информацию.\n",
    "* 'activated' — «активен», открыт для покупки.\n",
    "* 'active with contract' — продавец уже принял предложение о\n",
    "покупке, однако сделка ещё не закрыта.\n",
    "* 'active with offer' — продавец принял предложение о покупке,\n",
    "однако ищет резервные предложения на случай, если сделка с\n",
    "текущим покупателем не состоится.\n",
    "* 'active auction', 'auction active', 'auction' — продажа\n",
    "недвижимости с помощью аукциона.\n",
    "* cooling-off period — период, в течение которого покупатель\n",
    "может расторгнуть договор после завершения сделки."
   ]
  },
  {
   "cell_type": "markdown",
   "metadata": {},
   "source": [
    "## Часть I. Анализ и очистка данных"
   ]
  },
  {
   "cell_type": "markdown",
   "metadata": {},
   "source": [
    "##### Проанализируем имеющиеся у нас данные."
   ]
  },
  {
   "cell_type": "code",
   "execution_count": 167,
   "metadata": {},
   "outputs": [
    {
     "name": "stdout",
     "output_type": "stream",
     "text": [
      "<class 'pandas.core.frame.DataFrame'>\n",
      "Index: 50 entries, 25418 to 371886\n",
      "Data columns (total 18 columns):\n",
      " #   Column        Non-Null Count  Dtype \n",
      "---  ------        --------------  ----- \n",
      " 0   status        49 non-null     object\n",
      " 1   private pool  0 non-null      object\n",
      " 2   propertyType  50 non-null     object\n",
      " 3   street        50 non-null     object\n",
      " 4   baths         20 non-null     object\n",
      " 5   homeFacts     50 non-null     object\n",
      " 6   fireplace     3 non-null      object\n",
      " 7   city          50 non-null     object\n",
      " 8   schools       50 non-null     object\n",
      " 9   sqft          23 non-null     object\n",
      " 10  zipcode       50 non-null     object\n",
      " 11  beds          22 non-null     object\n",
      " 12  state         50 non-null     object\n",
      " 13  stories       8 non-null      object\n",
      " 14  mls-id        0 non-null      object\n",
      " 15  PrivatePool   1 non-null      object\n",
      " 16  MlsId         39 non-null     object\n",
      " 17  target        49 non-null     object\n",
      "dtypes: object(18)\n",
      "memory usage: 7.4+ KB\n"
     ]
    }
   ],
   "source": [
    "# поиск строк-дубликатов \n",
    "dupl = df[df.duplicated()]\n",
    "dupl.info()"
   ]
  },
  {
   "cell_type": "code",
   "execution_count": 168,
   "metadata": {},
   "outputs": [
    {
     "name": "stdout",
     "output_type": "stream",
     "text": [
      "<class 'pandas.core.frame.DataFrame'>\n",
      "Index: 377135 entries, 0 to 377184\n",
      "Data columns (total 18 columns):\n",
      " #   Column        Non-Null Count   Dtype \n",
      "---  ------        --------------   ----- \n",
      " 0   status        337218 non-null  object\n",
      " 1   private pool  4181 non-null    object\n",
      " 2   propertyType  342402 non-null  object\n",
      " 3   street        377133 non-null  object\n",
      " 4   baths         270827 non-null  object\n",
      " 5   homeFacts     377135 non-null  object\n",
      " 6   fireplace     103111 non-null  object\n",
      " 7   city          377101 non-null  object\n",
      " 8   schools       377135 non-null  object\n",
      " 9   sqft          336585 non-null  object\n",
      " 10  zipcode       377135 non-null  object\n",
      " 11  beds          285881 non-null  object\n",
      " 12  state         377135 non-null  object\n",
      " 13  stories       226461 non-null  object\n",
      " 14  mls-id        24942 non-null   object\n",
      " 15  PrivatePool   40310 non-null   object\n",
      " 16  MlsId         310266 non-null  object\n",
      " 17  target        374655 non-null  object\n",
      "dtypes: object(18)\n",
      "memory usage: 54.7+ MB\n"
     ]
    }
   ],
   "source": [
    "# удаление строк-дубликатов \n",
    "df = df.drop_duplicates(keep='first')\n",
    "df.info()"
   ]
  },
  {
   "cell_type": "code",
   "execution_count": 169,
   "metadata": {},
   "outputs": [
    {
     "data": {
      "text/plain": [
       "<Axes: >"
      ]
     },
     "execution_count": 169,
     "metadata": {},
     "output_type": "execute_result"
    },
    {
     "data": {
      "image/png": "[encoded data removed]",
      "text/plain": [
       "<Figure size 1500x500 with 2 Axes>"
      ]
     },
     "metadata": {},
     "output_type": "display_data"
    }
   ],
   "source": [
    "# построим тепловую карту пропущенных значений в признаках\n",
    "cols = df.columns[:]\n",
    "# красные - пропущенные данные, синий - не пропущенные\n",
    "colours = ['#5555FF', '#FF5555'] \n",
    "fig, ax = plt.subplots(figsize=(15, 5))\n",
    "sns.heatmap(df[cols].isnull(), cmap=sns.color_palette(colours))"
   ]
  },
  {
   "cell_type": "code",
   "execution_count": 170,
   "metadata": {},
   "outputs": [
    {
     "data": {
      "text/plain": [
       "private pool    98.9\n",
       "mls-id          93.4\n",
       "PrivatePool     89.3\n",
       "fireplace       72.7\n",
       "stories         40.0\n",
       "baths           28.2\n",
       "beds            24.2\n",
       "MlsId           17.7\n",
       "sqft            10.8\n",
       "status          10.6\n",
       "propertyType     9.2\n",
       "target           0.7\n",
       "city             0.0\n",
       "street           0.0\n",
       "dtype: float64"
      ]
     },
     "metadata": {},
     "output_type": "display_data"
    }
   ],
   "source": [
    "# поиск признаков, где доля пропусков больше 0.\n",
    "cols_null_percent = df.isnull().mean() * 100\n",
    "cols_with_null = round(cols_null_percent[cols_null_percent>0].sort_values(ascending=False),1)\n",
    "display(cols_with_null)"
   ]
  },
  {
   "cell_type": "code",
   "execution_count": 171,
   "metadata": {},
   "outputs": [
    {
     "data": {
      "text/plain": [
       "Text(0.5, 1.0, 'Гистограмма пропусков в строках')"
      ]
     },
     "execution_count": 171,
     "metadata": {},
     "output_type": "execute_result"
    },
    {
     "data": {
      "image/png": "[encoded data removed]",
      "text/plain": [
       "<Figure size 1500x500 with 1 Axes>"
      ]
     },
     "metadata": {},
     "output_type": "display_data"
    }
   ],
   "source": [
    "# построим гистограмму, чтобы понять количество пропусков по строкам\n",
    "# Подсчет количества пропусков по строкам\n",
    "num_missing = df.isnull().sum(axis=1)\n",
    "# Построение гистограммы\n",
    "fig, ax = plt.subplots(figsize=(15, 5))\n",
    "num_missing.value_counts().plot.bar()\n",
    "ax.set_xlabel('Количество пропусков')\n",
    "ax.set_ylabel('Количество строк')\n",
    "ax.set_title('Гистограмма пропусков в строках')"
   ]
  },
  {
   "cell_type": "markdown",
   "metadata": {},
   "source": [
    "Как мы видим большая часть данных (около 250 тысяч строк) в строках содержит от 3 до 5 пропусков."
   ]
  },
  {
   "cell_type": "markdown",
   "metadata": {},
   "source": [
    "##### Произведем очистку данных"
   ]
  },
  {
   "cell_type": "markdown",
   "metadata": {},
   "source": [
    "### Бассейны ('privat pool', 'PrivatPool')"
   ]
  },
  {
   "cell_type": "markdown",
   "metadata": {},
   "source": [
    "##### Несмотря на то, что отсутствии информации о наличии частных бассейнов высока, такие признаки как 'privat pool' и 'PrivatPool' удалять не будем, так как наличие бассейна влияет на стоимость недвижимости. Объединим эти два столбца в один и укажем - Yes, по тем строкам, где имеется бассейн и No - там где бассейна нет. "
   ]
  },
  {
   "cell_type": "code",
   "execution_count": 172,
   "metadata": {},
   "outputs": [
    {
     "name": "stdout",
     "output_type": "stream",
     "text": [
      "private pool\n",
      "Yes    4181\n",
      "Name: count, dtype: int64\n",
      "PrivatePool\n",
      "yes    28792\n",
      "Yes    11518\n",
      "Name: count, dtype: int64\n"
     ]
    }
   ],
   "source": [
    "# посмотрим на данные признаков 'privat pool' и 'PrivatPool'\n",
    "print(df['private pool'].value_counts())\n",
    "print(df['PrivatePool'].value_counts())"
   ]
  },
  {
   "cell_type": "code",
   "execution_count": 173,
   "metadata": {},
   "outputs": [
    {
     "name": "stdout",
     "output_type": "stream",
     "text": [
      "private pool\n",
      "0    372954\n",
      "1      4181\n",
      "Name: count, dtype: int64\n",
      "PrivatePool\n",
      "0    336825\n",
      "1     40310\n",
      "Name: count, dtype: int64\n"
     ]
    }
   ],
   "source": [
    "# Данные признаков 'private pool' и 'PrivatePool' обозначим как: наличие - 1 или отсутствие - 0.\n",
    "df[['private pool']] = df[['private pool']].fillna(0)\n",
    "df.loc[df['private pool'] != 0, 'private pool'] = 1\n",
    "df[['PrivatePool']] = df[['PrivatePool']].fillna(0)\n",
    "df.loc[df['PrivatePool'] != 0, 'PrivatePool'] = 1\n",
    "\n",
    "# проверка признаков 'private pool' и 'PrivatePool'\n",
    "print(df['private pool'].value_counts())\n",
    "print(df['PrivatePool'].value_counts())"
   ]
  },
  {
   "cell_type": "code",
   "execution_count": 174,
   "metadata": {},
   "outputs": [
    {
     "data": {
      "text/plain": [
       "pool\n",
       "No     332644\n",
       "Yes     44491\n",
       "Name: count, dtype: int64"
      ]
     },
     "execution_count": 174,
     "metadata": {},
     "output_type": "execute_result"
    }
   ],
   "source": [
    "# создаем новый признак 'pool' и вносим в него информацию о наличии (Yes или No) бассейна из столбцов 'private pool' и 'PrivatePool'\n",
    "def new_pool(pool):\n",
    "    if pool['private pool'] == 1 or pool['PrivatePool'] == 1:\n",
    "        return 'Yes'\n",
    "    else:\n",
    "        return 'No'\n",
    "\n",
    "df['pool'] = df.apply(new_pool, axis=1)\n",
    "\n",
    "# проверка признака 'pool'\n",
    "df['pool'].value_counts()"
   ]
  },
  {
   "cell_type": "code",
   "execution_count": 175,
   "metadata": {},
   "outputs": [],
   "source": [
    "# удаление столбцов 'private pool' и 'PrivatePool'\n",
    "df = df.drop(['private pool', 'PrivatePool'],  axis=1)"
   ]
  },
  {
   "cell_type": "markdown",
   "metadata": {},
   "source": [
    "### Наличие в базе данных о недвижимости ('mls-id', 'MlsId')"
   ]
  },
  {
   "cell_type": "markdown",
   "metadata": {},
   "source": [
    "##### Удалим признак 'mls-id' и 'MlsId' (наличие объекта в базе брокеров о недвижимости), так как он не влияет на стоимость недвижимости"
   ]
  },
  {
   "cell_type": "code",
   "execution_count": 176,
   "metadata": {},
   "outputs": [],
   "source": [
    "# удаление признака 'mls-id' и 'MlsId'\n",
    "df = df.drop(['mls-id', 'MlsId'],  axis=1)"
   ]
  },
  {
   "cell_type": "code",
   "execution_count": 177,
   "metadata": {},
   "outputs": [
    {
     "data": {
      "text/html": [
       "<div>\n",
       "<style scoped>\n",
       "    .dataframe tbody tr th:only-of-type {\n",
       "        vertical-align: middle;\n",
       "    }\n",
       "\n",
       "    .dataframe tbody tr th {\n",
       "        vertical-align: top;\n",
       "    }\n",
       "\n",
       "    .dataframe thead th {\n",
       "        text-align: right;\n",
       "    }\n",
       "</style>\n",
       "<table border=\"1\" class=\"dataframe\">\n",
       "  <thead>\n",
       "    <tr style=\"text-align: right;\">\n",
       "      <th></th>\n",
       "      <th>status</th>\n",
       "      <th>propertyType</th>\n",
       "      <th>street</th>\n",
       "      <th>baths</th>\n",
       "      <th>homeFacts</th>\n",
       "      <th>fireplace</th>\n",
       "      <th>city</th>\n",
       "      <th>schools</th>\n",
       "      <th>sqft</th>\n",
       "      <th>zipcode</th>\n",
       "      <th>beds</th>\n",
       "      <th>state</th>\n",
       "      <th>stories</th>\n",
       "      <th>target</th>\n",
       "      <th>pool</th>\n",
       "    </tr>\n",
       "  </thead>\n",
       "  <tbody>\n",
       "    <tr>\n",
       "      <th>0</th>\n",
       "      <td>Active</td>\n",
       "      <td>Single Family Home</td>\n",
       "      <td>240 Heather Ln</td>\n",
       "      <td>3.5</td>\n",
       "      <td>{'atAGlanceFacts': [{'factValue': '2019', 'fac...</td>\n",
       "      <td>Gas Logs</td>\n",
       "      <td>Southern Pines</td>\n",
       "      <td>[{'rating': ['4', '4', '7', 'NR', '4', '7', 'N...</td>\n",
       "      <td>2900</td>\n",
       "      <td>28387</td>\n",
       "      <td>4</td>\n",
       "      <td>NC</td>\n",
       "      <td>NaN</td>\n",
       "      <td>$418,000</td>\n",
       "      <td>No</td>\n",
       "    </tr>\n",
       "    <tr>\n",
       "      <th>1</th>\n",
       "      <td>for sale</td>\n",
       "      <td>single-family home</td>\n",
       "      <td>12911 E Heroy Ave</td>\n",
       "      <td>3 Baths</td>\n",
       "      <td>{'atAGlanceFacts': [{'factValue': '2019', 'fac...</td>\n",
       "      <td>NaN</td>\n",
       "      <td>Spokane Valley</td>\n",
       "      <td>[{'rating': ['4/10', 'None/10', '4/10'], 'data...</td>\n",
       "      <td>1,947 sqft</td>\n",
       "      <td>99216</td>\n",
       "      <td>3 Beds</td>\n",
       "      <td>WA</td>\n",
       "      <td>2.0</td>\n",
       "      <td>$310,000</td>\n",
       "      <td>No</td>\n",
       "    </tr>\n",
       "    <tr>\n",
       "      <th>2</th>\n",
       "      <td>for sale</td>\n",
       "      <td>single-family home</td>\n",
       "      <td>2005 Westridge Rd</td>\n",
       "      <td>2 Baths</td>\n",
       "      <td>{'atAGlanceFacts': [{'factValue': '1961', 'fac...</td>\n",
       "      <td>yes</td>\n",
       "      <td>Los Angeles</td>\n",
       "      <td>[{'rating': ['8/10', '4/10', '8/10'], 'data': ...</td>\n",
       "      <td>3,000 sqft</td>\n",
       "      <td>90049</td>\n",
       "      <td>3 Beds</td>\n",
       "      <td>CA</td>\n",
       "      <td>1.0</td>\n",
       "      <td>$2,895,000</td>\n",
       "      <td>Yes</td>\n",
       "    </tr>\n",
       "  </tbody>\n",
       "</table>\n",
       "</div>"
      ],
      "text/plain": [
       "     status        propertyType             street    baths   \n",
       "0    Active  Single Family Home     240 Heather Ln      3.5  \\\n",
       "1  for sale  single-family home  12911 E Heroy Ave  3 Baths   \n",
       "2  for sale  single-family home  2005 Westridge Rd  2 Baths   \n",
       "\n",
       "                                           homeFacts fireplace   \n",
       "0  {'atAGlanceFacts': [{'factValue': '2019', 'fac...  Gas Logs  \\\n",
       "1  {'atAGlanceFacts': [{'factValue': '2019', 'fac...       NaN   \n",
       "2  {'atAGlanceFacts': [{'factValue': '1961', 'fac...       yes   \n",
       "\n",
       "             city                                            schools   \n",
       "0  Southern Pines  [{'rating': ['4', '4', '7', 'NR', '4', '7', 'N...  \\\n",
       "1  Spokane Valley  [{'rating': ['4/10', 'None/10', '4/10'], 'data...   \n",
       "2     Los Angeles  [{'rating': ['8/10', '4/10', '8/10'], 'data': ...   \n",
       "\n",
       "         sqft zipcode    beds state stories      target pool  \n",
       "0        2900   28387       4    NC     NaN    $418,000   No  \n",
       "1  1,947 sqft   99216  3 Beds    WA     2.0    $310,000   No  \n",
       "2  3,000 sqft   90049  3 Beds    CA     1.0  $2,895,000  Yes  "
      ]
     },
     "execution_count": 177,
     "metadata": {},
     "output_type": "execute_result"
    }
   ],
   "source": [
    "df.head(3)"
   ]
  },
  {
   "cell_type": "markdown",
   "metadata": {},
   "source": [
    "### Камин ('fireplace')"
   ]
  },
  {
   "cell_type": "markdown",
   "metadata": {},
   "source": [
    "##### По признаку 'fireplace' укажем - Yes, по тем строкам, где имеется камин и No - там где камина нет или камин в нерабочем состоянии. "
   ]
  },
  {
   "cell_type": "code",
   "execution_count": 178,
   "metadata": {},
   "outputs": [
    {
     "data": {
      "text/plain": [
       "fireplace\n",
       "No     276306\n",
       "Yes    100829\n",
       "Name: count, dtype: int64"
      ]
     },
     "execution_count": 178,
     "metadata": {},
     "output_type": "execute_result"
    }
   ],
   "source": [
    "# Данные признака 'fireplace' приобразуем в наличие - Yes или отсутствие - No.\n",
    "df['fireplace'] = df['fireplace'].str.replace('Not Applicable', 'No', regex=True)\n",
    "df[['fireplace']] = df[['fireplace']].fillna(0)\n",
    "df['fireplace'] = df['fireplace'].replace(0,'No', regex=True)\n",
    "df['fireplace'] = df['fireplace'].apply(lambda x: 'Yes' if x != 'No' else x)\n",
    "\n",
    "# проверка признака 'fireplace'\n",
    "df['fireplace'].value_counts()"
   ]
  },
  {
   "cell_type": "code",
   "execution_count": 179,
   "metadata": {},
   "outputs": [
    {
     "data": {
      "text/html": [
       "<div>\n",
       "<style scoped>\n",
       "    .dataframe tbody tr th:only-of-type {\n",
       "        vertical-align: middle;\n",
       "    }\n",
       "\n",
       "    .dataframe tbody tr th {\n",
       "        vertical-align: top;\n",
       "    }\n",
       "\n",
       "    .dataframe thead th {\n",
       "        text-align: right;\n",
       "    }\n",
       "</style>\n",
       "<table border=\"1\" class=\"dataframe\">\n",
       "  <thead>\n",
       "    <tr style=\"text-align: right;\">\n",
       "      <th></th>\n",
       "      <th>status</th>\n",
       "      <th>propertyType</th>\n",
       "      <th>street</th>\n",
       "      <th>baths</th>\n",
       "      <th>homeFacts</th>\n",
       "      <th>fireplace</th>\n",
       "      <th>city</th>\n",
       "      <th>schools</th>\n",
       "      <th>sqft</th>\n",
       "      <th>zipcode</th>\n",
       "      <th>beds</th>\n",
       "      <th>state</th>\n",
       "      <th>stories</th>\n",
       "      <th>target</th>\n",
       "      <th>pool</th>\n",
       "    </tr>\n",
       "  </thead>\n",
       "  <tbody>\n",
       "    <tr>\n",
       "      <th>0</th>\n",
       "      <td>Active</td>\n",
       "      <td>Single Family Home</td>\n",
       "      <td>240 Heather Ln</td>\n",
       "      <td>3.5</td>\n",
       "      <td>{'atAGlanceFacts': [{'factValue': '2019', 'fac...</td>\n",
       "      <td>Yes</td>\n",
       "      <td>Southern Pines</td>\n",
       "      <td>[{'rating': ['4', '4', '7', 'NR', '4', '7', 'N...</td>\n",
       "      <td>2900</td>\n",
       "      <td>28387</td>\n",
       "      <td>4</td>\n",
       "      <td>NC</td>\n",
       "      <td>NaN</td>\n",
       "      <td>$418,000</td>\n",
       "      <td>No</td>\n",
       "    </tr>\n",
       "    <tr>\n",
       "      <th>1</th>\n",
       "      <td>for sale</td>\n",
       "      <td>single-family home</td>\n",
       "      <td>12911 E Heroy Ave</td>\n",
       "      <td>3 Baths</td>\n",
       "      <td>{'atAGlanceFacts': [{'factValue': '2019', 'fac...</td>\n",
       "      <td>No</td>\n",
       "      <td>Spokane Valley</td>\n",
       "      <td>[{'rating': ['4/10', 'None/10', '4/10'], 'data...</td>\n",
       "      <td>1,947 sqft</td>\n",
       "      <td>99216</td>\n",
       "      <td>3 Beds</td>\n",
       "      <td>WA</td>\n",
       "      <td>2.0</td>\n",
       "      <td>$310,000</td>\n",
       "      <td>No</td>\n",
       "    </tr>\n",
       "    <tr>\n",
       "      <th>2</th>\n",
       "      <td>for sale</td>\n",
       "      <td>single-family home</td>\n",
       "      <td>2005 Westridge Rd</td>\n",
       "      <td>2 Baths</td>\n",
       "      <td>{'atAGlanceFacts': [{'factValue': '1961', 'fac...</td>\n",
       "      <td>Yes</td>\n",
       "      <td>Los Angeles</td>\n",
       "      <td>[{'rating': ['8/10', '4/10', '8/10'], 'data': ...</td>\n",
       "      <td>3,000 sqft</td>\n",
       "      <td>90049</td>\n",
       "      <td>3 Beds</td>\n",
       "      <td>CA</td>\n",
       "      <td>1.0</td>\n",
       "      <td>$2,895,000</td>\n",
       "      <td>Yes</td>\n",
       "    </tr>\n",
       "  </tbody>\n",
       "</table>\n",
       "</div>"
      ],
      "text/plain": [
       "     status        propertyType             street    baths   \n",
       "0    Active  Single Family Home     240 Heather Ln      3.5  \\\n",
       "1  for sale  single-family home  12911 E Heroy Ave  3 Baths   \n",
       "2  for sale  single-family home  2005 Westridge Rd  2 Baths   \n",
       "\n",
       "                                           homeFacts fireplace   \n",
       "0  {'atAGlanceFacts': [{'factValue': '2019', 'fac...       Yes  \\\n",
       "1  {'atAGlanceFacts': [{'factValue': '2019', 'fac...        No   \n",
       "2  {'atAGlanceFacts': [{'factValue': '1961', 'fac...       Yes   \n",
       "\n",
       "             city                                            schools   \n",
       "0  Southern Pines  [{'rating': ['4', '4', '7', 'NR', '4', '7', 'N...  \\\n",
       "1  Spokane Valley  [{'rating': ['4/10', 'None/10', '4/10'], 'data...   \n",
       "2     Los Angeles  [{'rating': ['8/10', '4/10', '8/10'], 'data': ...   \n",
       "\n",
       "         sqft zipcode    beds state stories      target pool  \n",
       "0        2900   28387       4    NC     NaN    $418,000   No  \n",
       "1  1,947 sqft   99216  3 Beds    WA     2.0    $310,000   No  \n",
       "2  3,000 sqft   90049  3 Beds    CA     1.0  $2,895,000  Yes  "
      ]
     },
     "execution_count": 179,
     "metadata": {},
     "output_type": "execute_result"
    }
   ],
   "source": [
    "df.head(3)"
   ]
  },
  {
   "cell_type": "markdown",
   "metadata": {},
   "source": [
    "### Этажность ('stories')"
   ]
  },
  {
   "cell_type": "code",
   "execution_count": 180,
   "metadata": {},
   "outputs": [
    {
     "name": "stdout",
     "output_type": "stream",
     "text": [
      "Количество уникальных значений: 347\n",
      "Список первых уникальных значений: [nan, '2.0', '1.0', '3.0', 'One', '2', 'Multi/Split', '4.0', '0.0', '0', 'One Level', '1', '9.0', '3', '1 Level, Site Built']\n",
      "Список последних уникальных значений: 377175    2.0\n",
      "377176      1\n",
      "377177    NaN\n",
      "377178    1.0\n",
      "377179    3.0\n",
      "377180    0.0\n",
      "377181    9.0\n",
      "377182      2\n",
      "377183    NaN\n",
      "377184    1.0\n",
      "Name: stories, dtype: object\n"
     ]
    }
   ],
   "source": [
    "# выведем уникальные значения признака 'stories'\n",
    "baths_sum = df['stories'].nunique()\n",
    "print(f'Количество уникальных значений:', baths_sum)\n",
    "unique_values = df['stories'].unique()\n",
    "a = (list(unique_values))\n",
    "print(f'Список первых уникальных значений:',a[:15])\n",
    "print(f'Список последних уникальных значений:',df['stories'].tail(10))"
   ]
  },
  {
   "cell_type": "code",
   "execution_count": 181,
   "metadata": {},
   "outputs": [],
   "source": [
    "# переведем текстовое значение этажности здания в числовое: 1 - одноэтажное, 2 - двухэтажное, 3 - трехэтажное и более, 0 - без указания этажности.\n",
    "def new_stories(stories):\n",
    "    diff_height = ['Acreage', 'Condominium', 'Stories/Levels', 'Traditional', 'Mid-Rise', 'Split Level', 'Total Floors in Bldg', 'Commercial',\n",
    "'Garden', 'Farm House', 'Other Multi-unit', 'Site Built', 'Contemporary', 'Split Foyer', 'Manufactured Doublewide', 'Unimproved Commercial', 'Cape Cod', ', 2',\n",
    "'Site Built, Split Foyer', 'Modular Home', 'Mobile', 'Condo', ', 1', 'Manufactured Single wide', 'Farm', 'Ground Level',\n",
    "'Victorian', 'Colonial', 'Manufactured Singlewide', 'Cabin/Cottage', ', 3', 'Cape', 'Other Style', 'Log Home', 'Craftsman', 'Federal', 'One, Three Or More', \n",
    "'1.5 Level, Site Built, Tri-Level', 'Tri/Multi Level', 'Live/Work', 'Site Built, Split Level', 'Condo, Site Built', 'Loft',\n",
    "'Split Foyer, Tri-Level', 'Cape, Other Style', 'Two, Three Or More', 'Sixplex', '1, 1', 'Apartments', 'Log', 'Hillside', 'Tudor', 'Chalet', 'A Frame', \n",
    "'Detached', 'Patio Home', 'T3-Townhouse 3+ Stories', 'Bedroom - Split Plan', 'Manufactured Home, Non-Site Built', 'Quad Level', 'Double Wide',\n",
    "'1-2 Stories, 3-4 Stories', 'Dwelling Stories', '2 Level, Split Foyer', 'Other, Two, Multi/Split', '1 Story, Split Level', 'Co-op', '1 Level, Site Built, Townhouse']\n",
    "    two_height = ['2 Stories, Townhouse', '2 Story, Multi Level', '2 Level, Site Built, Townhouse', '1 1/2 Story', \n",
    "'2 Story or 2 Level', '2 Levels','Two Story or More', 'Two', '2 Story', '2 Stories',\n",
    "'2 Level', '2 Story/Basement', '1.5 Story', '2 Level, Site Built', 'Towhouse',\n",
    "'1.5 Level, Site Built' , '2 Or More Stories', '1.5 Story/Basement', '1.5 Level', 'One and One Half',\n",
    "'Bi-Level', 'Townhouse' , '1.5 Stories', '2 Level, Condo, Site Built', '1 1/2 Levels', 'Two Stories', '2 Level, Condo', 'Two, Multi/Split', 'Townhouse',\n",
    "'1-2 Stories', '1.5, 2 ', 'Duplex', '1.5, 2', 'Split Level w/ Sub', '2 Story, Tri Level', '2 Story, Split Level', '2 Level, Site Built, Split Foyer', 'Multi/Split, Two',\n",
    "'Townhouse-2 Story, T3-Townhouse 3+ Stories', '2 Stories, Tear Down', 'Ground Level, Two', '1 Story, Townhouse', 'Site Built, Townhouse', 'Split Entry (Bi-Level)']\n",
    "    one_height = ['One', '1 Story' , 'One Story' , '1 Level, Site Built', '1 Level' , 'One story' , 'One Level' , '1 Story/Ranch', 'Ranch/1 Story',\n",
    "'Ranch', '1 Story Basement', 'Raised Ranch', 'Bungalow','1 Story/F.R.O.G.', '1 Level, Condo, Site Built', '1 Level, Condo', '1 Level, Site Built', 'One, Two',\n",
    "'1 Level, Non-Site Built', '1 Level, Townhouse', '1 Story, 2 Story', '1 Leveland + Loft', '1 Story, Hillside', 'Ground Level, One', '1 Story, Multi Level',\n",
    "'1 Level, 2 Level', '1 Level, 1.5 Level', 'Ground Level, Split Level, Two', '1 Level, Split Foyer']\n",
    "    three_height = ['3 Story/Basement', 'Three Or More', '3 Story', 'Tri-Level', '4 Story', '2.5 Story', '3+', '3 Level, Site Built', 'Multi-Level',\n",
    "'High-Rise', 'Three Or More Levels', 'Multi-Level', '3+ Story', '3 - 5 Stories', 'Triplex', 'Lot', 'Multi/Split', 'Fourplex', '3-4 Stories',\n",
    "'6+ Stories', '3 Level, Site Built, Townhouse', '3 Level', 'Condo 5+ Stories', 'Multi-Story', 'Tri Level', 'Three Or More, Multi/Split', '3 Stories',\n",
    "'3 Level, Townhouse', '3 Level, Condo, Site Built', '3 Levels', '2.5 Story/Basement', '4 Stories', '3 Story, Multi Level', '3 Level, Site Built, Split Level',\n",
    "'Multi Level, Tri Level', 'Multi Level, Three or More', 'Multi Level', 'Site Built, Tri-Level', 'Multi-Level, New Englander', '3 Level, Site Built, Tri-Level', \n",
    "'One and One Half, Three Or More', '3 Story, Tri Level', 'One, Two, Multi/Split']\n",
    "    if stories['stories'] in two_height:\n",
    "        return 2\n",
    "    elif stories['stories'] in one_height:\n",
    "        return 1\n",
    "    elif stories['stories'] in three_height:\n",
    "        return 3    \n",
    "    elif stories['stories'] in diff_height:\n",
    "        return 0    \n",
    "    else:\n",
    "        return(stories['stories'])\n",
    "\n",
    "df['stories'] = df.apply(new_stories, axis=1)"
   ]
  },
  {
   "cell_type": "code",
   "execution_count": 182,
   "metadata": {},
   "outputs": [
    {
     "data": {
      "text/plain": [
       "stories\n",
       "1.0       67451\n",
       "2.0       55283\n",
       "1         23085\n",
       "2         18146\n",
       "3.0       11272\n",
       "          ...  \n",
       "16.00         1\n",
       "1.70          1\n",
       "78            1\n",
       "4.0000        1\n",
       "65.0          1\n",
       "Name: count, Length: 176, dtype: int64"
      ]
     },
     "execution_count": 182,
     "metadata": {},
     "output_type": "execute_result"
    }
   ],
   "source": [
    "# проверим, что тектовых наименований этажей больше нет\n",
    "df['stories'].value_counts()"
   ]
  },
  {
   "cell_type": "code",
   "execution_count": 183,
   "metadata": {},
   "outputs": [],
   "source": [
    "# переведем в числовой тип информацию об этажности здания\n",
    "df['stories'] = pd.to_numeric(df['stories'], errors='coerce')"
   ]
  },
  {
   "cell_type": "code",
   "execution_count": 184,
   "metadata": {},
   "outputs": [],
   "source": [
    "# удаление NaN в 'num_stories'\n",
    "df[['stories']] = df[['stories']].fillna(0)"
   ]
  },
  {
   "cell_type": "code",
   "execution_count": 185,
   "metadata": {},
   "outputs": [],
   "source": [
    "# всю информацию об этажности зданиий, кроме тех, где показатель этажности равен 0,  распределим по трем группам:\n",
    "# 1 - одноэтажное, 2 - двухэтажное, 3 - трехэтажное и более\n",
    "def nums_stories(n_st):\n",
    "    one_stories = [1, 1.5, 1.2, 1.3, 1.75, 1.7]\n",
    "    two_stories = [2, 2.2, 2.5]\n",
    "    three_stories = range(3,1121)\n",
    "    if n_st['stories'] in three_stories:\n",
    "        return 3\n",
    "    elif n_st['stories'] == 3.5:\n",
    "        return 3\n",
    "    elif n_st['stories'] in two_stories:\n",
    "        return 2\n",
    "    elif n_st['stories'] in one_stories:\n",
    "        return 1\n",
    "    else:\n",
    "        return n_st['stories']\n",
    "\n",
    "df['stories'] = df.apply(nums_stories, axis=1)"
   ]
  },
  {
   "cell_type": "code",
   "execution_count": 186,
   "metadata": {},
   "outputs": [
    {
     "data": {
      "text/plain": [
       "stories\n",
       "0.0    163241\n",
       "1.0    101345\n",
       "2.0     82897\n",
       "3.0     29652\n",
       "Name: count, dtype: int64"
      ]
     },
     "execution_count": 186,
     "metadata": {},
     "output_type": "execute_result"
    }
   ],
   "source": [
    "df['stories'].value_counts()"
   ]
  },
  {
   "cell_type": "markdown",
   "metadata": {},
   "source": [
    "### Ванные комнаты ('baths')"
   ]
  },
  {
   "cell_type": "code",
   "execution_count": 187,
   "metadata": {},
   "outputs": [
    {
     "name": "stdout",
     "output_type": "stream",
     "text": [
      "Количество уникальных значений: 229\n",
      "Список первых уникальных значений: ['3.5', '3 Baths', '2 Baths', '8 Baths', nan, '2', '3', 'Bathrooms: 2', '1,750', '4 Baths', '2 ba', 'Bathrooms: 5', '1,000', '7 Baths', '2.0']\n",
      "Список последних уникальных значений: 377175    3 Baths\n",
      "377176        2.0\n",
      "377177        NaN\n",
      "377178          2\n",
      "377179          3\n",
      "377180        6.0\n",
      "377181    3 Baths\n",
      "377182    3 Baths\n",
      "377183        NaN\n",
      "377184        2.0\n",
      "Name: baths, dtype: object\n"
     ]
    }
   ],
   "source": [
    "# выведем уникальные значения признака 'baths'\n",
    "baths_sum = df['baths'].nunique()\n",
    "print(f'Количество уникальных значений:', baths_sum)\n",
    "unique_values = df['baths'].unique()\n",
    "a = (list(unique_values))\n",
    "print(f'Список первых уникальных значений:',a[:15])\n",
    "print(f'Список последних уникальных значений:',df['baths'].tail(10))"
   ]
  },
  {
   "cell_type": "code",
   "execution_count": 188,
   "metadata": {},
   "outputs": [],
   "source": [
    "# переведем текстовое значение количества ванных комнат в числовое: 1 - одна, 2 - две, 3 - три и более, 0 - без указания количества.\n",
    "def new_bath(baths):\n",
    "    dif_baths = ['Sq. Ft.', '2-1 / 2-1 / 1-1 / 1-1', '1 / 1-0 / 1-0 / 1-0', '~', '0', '0 / 0', '-- baths', '1-0 / 1-0 / 1', '0.00', '—', '0.0','116 / 116 / 116',\n",
    "'Bathrooms: SemiMod', '3-1 / 2-2', '1 / 1 / 1 / 1', '0.5 Baths', '0.75 Baths', 0]\n",
    "    two_baths = ['2,000','2.5','2 ba', '2.5 Baths', 'Bathrooms: 2', '2 Baths', \n",
    "'2.8 Baths','Two Story or More', 'Two', '2 Story', '2 Stories',\n",
    "'2 Level', '2 Story/Basement', '1.5 Story', '2 Level, Site Built', 'Towhouse',\n",
    "'1.5 Level, Site Built' , '2 Or More Stories', '1.5 Story/Basement', '1.5 Level', 'One and One Half',\n",
    "'Bi-Level', 'Townhouse' , '1.5 Stories', '2 Level, Condo, Site Built', '1 1/2 Levels', 'Two Stories', '2 Level, Condo', 'Two, Multi/Split', 'Townhouse',\n",
    "'1-2 Stories', '1.5, 2 ', 'Duplex', '1.5, 2', 'Split Level w/ Sub', '2 Story, Tri Level', '2 Story, Split Level', '2 Level, Site Built, Split Foyer', 'Multi/Split, Two',\n",
    "'Townhouse-2 Story, T3-Townhouse 3+ Stories', '2 Stories, Tear Down', 'Ground Level, Two', '1 Story, Townhouse', 'Site Built, Townhouse', 'Split Entry (Bi-Level)',\n",
    "'2,250', '2,750', '2.5+', '2.5 ba', '2.75 Baths', '2.25 Baths', '2 baths', '2.25 ba', '2.2 Baths', '2.1 Baths', '2,500', '2', 2, '2.0']\n",
    "    one_bath = ['One', '1 ba' , '1.75 Baths' , 'Bathrooms: 1', '1-2 Baths' , 'One story' , 'One Level' , '1 Story/Ranch', 'Ranch/1 Story',\n",
    "'Ranch', '1 Story Basement', 'Raised Ranch', 'Bungalow','1 Story/F.R.O.G.', '1 Level, Condo, Site Built', '1 Level, Condo', '1 Level, Site Built', 'One, Two',\n",
    "'1 Level, Non-Site Built', '1 Level, Townhouse', '1 Story, 2 Story', '1 Leveland + Loft', '1 Story, Hillside', 'Ground Level, One', '1 Story, Multi Level',\n",
    "'1 Level, 2 Level', '1 Level, 1.5 Level', 'Ground Level, Split Level, Two', '1 Level, Split Foyer', '1,500', '1,250', '1.5 Baths', '1.5 ba', '1.5+', '1.1 Baths',\n",
    "'1.75 ba', '1.25 Baths', '1,750', 1, '1', '1,000', '1.0', '1.5']\n",
    "    three_baths = ['3 Baths', 'Bathrooms: 3', '5 Baths', '4 Baths', '6 Baths ', '2.5 Story', 'Bathrooms: 4', '3.5 Baths', '6 Baths',\n",
    "'3 ba', '7 Baths', 'Bathrooms: 5', '4 ba', '3.5+', '10 Baths', 'Bathrooms: 7', '4.5+', '5.5+', 'Sq. Ft. ',\n",
    "'6 ba', '11 Baths', 'Bathrooms: 8', '5.5 Baths', '12 Baths', '10.5 Baths', 'Bathrooms: 27', '68 Baths',\n",
    "'Bathrooms: 15', '13 ba', '39 Baths', '6.75 Baths', '19 Baths', '7.5 Baths', '32 Baths',\n",
    "'Bathrooms: 18', 'Bathrooms: 241', 'Bathrooms: 241', '29 Baths', '34 Baths', '42 Baths', \n",
    "'5.5 ba', '11.5 Baths', 'Bathrooms: 21', '5.2 Baths', '60 Baths', '3.2 Baths', '11 ba', '8 Baths',\n",
    "'3.5', '3', '3.0', '4.0', '4.5', '5', '4', '4,000', '3,000', '8.0', '3.5 ba', '5.0', '7.0', '9 Baths',  '6.0', '5.5', '3,500', 'Bathrooms: 6', '4.5 Baths', '750', '6',\n",
    "'Bathrooms: 19', '10.0', '12 ba', '8', '7.5+', 'Bathrooms: 10', '5 ba', '18 Baths', '7', '18', '5,000', '9', '12.0', '6.5', '10', 'Bathrooms: 9', '16 Baths', '13 Baths',\n",
    "'Bathrooms: 13', '14', '9.0', '8.5+', '7 ba', '12', 'Bathrooms: 12', '17', '16.0', '10.5+', '8 ba', '6.5+', '6.5 Baths', '14 Baths', '7,500+', '7.5', '11.0', '20 Baths',\n",
    "'11', '40 Baths', '14.0', '24 Baths', '22.0',  '3.1 Baths', '3.25 Baths', '13', '4.5 ba', '22', '9 ba', '32', '18.0', 'Bathrooms: 11', '17 Baths', '26', '20.0', '9.5', '8.5',\n",
    "'26 Baths', '15 Baths', '16', '35', '3.75 Baths', '22 Baths',  '40', '21 Baths', '29', '8.5 Baths', '14.5+', '76 Baths', '13.0', '15.0', '23 Baths', '3.3 Baths', '43 Baths',\n",
    "'21', '20',  '55.0', '3 baths', '25 Baths', '12.5+', 'Bathrooms: 24', '44 Baths', '4.25 Baths', '4.75 Baths', '4.1 Baths', '15', 'Bathrooms: 14', '5.25 Baths', '10 ba', '41.0',\n",
    "'1.8 Baths', 'Bathrooms: 16', '10.5', '9.5+', '36 Baths', '30 Baths', '27', '12.5', '24.0', '23.0', '24', '28 Baths', '34.0', '64.0', '11.5+', '30', '30.0', '17.0', '16 ba',\n",
    "'27 Baths', 0, '23', '44.0']\n",
    "    if baths['baths'] in two_baths:\n",
    "        return 2\n",
    "    elif baths['baths'] in one_bath:\n",
    "        return 1\n",
    "    elif baths['baths'] in dif_baths:\n",
    "        return 0\n",
    "    elif baths['baths'] in three_baths:\n",
    "        return 3  \n",
    "    else:\n",
    "        return(baths['baths'])\n",
    "\n",
    "df['baths'] = df.apply(new_bath, axis=1)"
   ]
  },
  {
   "cell_type": "code",
   "execution_count": 189,
   "metadata": {},
   "outputs": [],
   "source": [
    "# удаление NaN в 'baths'\n",
    "df[['baths']] = df[['baths']].fillna(0)"
   ]
  },
  {
   "cell_type": "code",
   "execution_count": 190,
   "metadata": {},
   "outputs": [
    {
     "data": {
      "text/plain": [
       "baths\n",
       "3.0    120598\n",
       "2.0    119810\n",
       "0.0    111530\n",
       "1.0     25197\n",
       "Name: count, dtype: int64"
      ]
     },
     "execution_count": 190,
     "metadata": {},
     "output_type": "execute_result"
    }
   ],
   "source": [
    "# проверим признак 'baths'\n",
    "df['baths'].value_counts()"
   ]
  },
  {
   "cell_type": "markdown",
   "metadata": {},
   "source": [
    "#### Спальные комнаты"
   ]
  },
  {
   "cell_type": "code",
   "execution_count": 191,
   "metadata": {},
   "outputs": [
    {
     "name": "stdout",
     "output_type": "stream",
     "text": [
      "Количество уникальных значений: 1184\n",
      "Список первых уникальных значений: ['4', '3 Beds', '5 Beds', nan, '2 Beds', '3', '4 Beds', '3 bd', 'Baths', '4 bd', '5 bd', '8 Beds', '2', '2 bd', '2.0']\n",
      "Список последних уникальных значений: 377175        4 Beds\n",
      "377176             3\n",
      "377177           NaN\n",
      "377178             4\n",
      "377179             2\n",
      "377180             5\n",
      "377181        3 Beds\n",
      "377182        3 Beds\n",
      "377183    8,479 sqft\n",
      "377184             3\n",
      "Name: beds, dtype: object\n"
     ]
    }
   ],
   "source": [
    "# выведем уникальные значения признака 'bads'\n",
    "beds_sum = df['beds'].nunique()\n",
    "print(f'Количество уникальных значений:', beds_sum)\n",
    "unique_values = df['beds'].unique()\n",
    "a = (list(unique_values))\n",
    "print(f'Список первых уникальных значений:',a[:15])\n",
    "print(f'Список последних уникальных значений:',df['beds'].tail(10))"
   ]
  },
  {
   "cell_type": "markdown",
   "metadata": {},
   "source": [
    "Так как в признаке 'bads' окло 24% пропусков и нет единой меры, а указано большое разнообразие уникальных значений, таких как количество спален или площадь спален, а также есть нецелые числа, которые обозначают непонятно что, то этот признак мы удалим."
   ]
  },
  {
   "cell_type": "code",
   "execution_count": 192,
   "metadata": {},
   "outputs": [],
   "source": [
    "# удаление признака 'beds'\n",
    "df = df.drop(['beds'],  axis=1)"
   ]
  },
  {
   "cell_type": "markdown",
   "metadata": {},
   "source": [
    "### Площадь ('sqft')"
   ]
  },
  {
   "cell_type": "code",
   "execution_count": 193,
   "metadata": {},
   "outputs": [
    {
     "name": "stdout",
     "output_type": "stream",
     "text": [
      "Количество уникальных значений: 25405\n",
      "Список первых уникальных значений: ['2900', '1,947 sqft', '3,000 sqft', '6,457 sqft', nan, '897 sqft', '1,507', '3588', '1,930', '1,300 sqft', '3,130', '2,839 sqft', 'Total interior livable area: 1,820 sqft', '2,454', '2,203']\n",
      "Список последних уникальных значений: 377175    1,792 sqft\n",
      "377176    1,829 sqft\n",
      "377177         1,895\n",
      "377178         1,841\n",
      "377179         1,417\n",
      "377180         4,017\n",
      "377181    2,000 sqft\n",
      "377182    1,152 sqft\n",
      "377183           NaN\n",
      "377184         1,462\n",
      "Name: sqft, dtype: object\n"
     ]
    }
   ],
   "source": [
    "# выведем уникальные значения признака 'sqft'\n",
    "sqft_sum = df['sqft'].nunique()\n",
    "print(f'Количество уникальных значений:', sqft_sum)\n",
    "unique_values = df['sqft'].unique()\n",
    "a = (list(unique_values))\n",
    "print(f'Список первых уникальных значений:',a[:15])\n",
    "print(f'Список последних уникальных значений:',df['sqft'].tail(10))"
   ]
  },
  {
   "cell_type": "code",
   "execution_count": 194,
   "metadata": {},
   "outputs": [],
   "source": [
    "# Удалим все буквы, пробелы и двоеточия\n",
    "df['sqft'] = df['sqft'].str.replace('[a-zA-Z:]','', regex=True)\n",
    "# Удалим все пробелы\n",
    "df['sqft'] = df['sqft'].str.replace(' ','', regex=True)\n",
    "# Удалим запятую\n",
    "df['sqft'] = df['sqft'].str.replace(',','', regex=True)\n",
    "# Переопределим все остальные нечисловые значения\n",
    "df['sqft'] = df['sqft'].str.replace('--', '0', regex=True)\n",
    "df['sqft'] = df['sqft'].str.replace('610-840', '610', regex=True)\n",
    "# Вместо значения 'NaN' укажем 0\n",
    "df[['sqft']] = df[['sqft']].fillna(0)\n",
    "# Переведем в числовой тип\n",
    "df[['sqft']] = df[['sqft']].astype(int)"
   ]
  },
  {
   "cell_type": "code",
   "execution_count": 195,
   "metadata": {},
   "outputs": [
    {
     "name": "stdout",
     "output_type": "stream",
     "text": [
      "Количество уникальных значений: 9896\n",
      "Список первых уникальных значений: [2900, 1947, 3000, 6457, 0, 897, 1507, 3588, 1930, 1300, 3130, 2839, 1820, 2454, 2203]\n",
      "Список последних уникальных значений: 377175    1792\n",
      "377176    1829\n",
      "377177    1895\n",
      "377178    1841\n",
      "377179    1417\n",
      "377180    4017\n",
      "377181    2000\n",
      "377182    1152\n",
      "377183       0\n",
      "377184    1462\n",
      "Name: sqft, dtype: int32\n",
      "Средняя площадь: 1653.0\n",
      "Максимальная площадь: 795979430\n"
     ]
    }
   ],
   "source": [
    "# выведем уникальные значения признака 'sqft'\n",
    "sqft_sum = df['sqft'].nunique()\n",
    "print(f'Количество уникальных значений:', sqft_sum)\n",
    "unique_values = df['sqft'].unique()\n",
    "a = (list(unique_values))\n",
    "print(f'Список первых уникальных значений:',a[:15])\n",
    "print(f'Список последних уникальных значений:',df['sqft'].tail(10))\n",
    "print(f'Средняя площадь:',df['sqft'].median())\n",
    "print(f'Максимальная площадь:',df['sqft'].max())"
   ]
  },
  {
   "cell_type": "code",
   "execution_count": 196,
   "metadata": {},
   "outputs": [],
   "source": [
    "# Может быть группы не буду использовать\n",
    "# распределим площадь по группам: 0 - 0 кв., 1 - от 0 до 500 кв, 2 - от 500 до 1000 кв, 3 - от 1000 до 2000, 4 - от 2000 до 4000, 5 - от 4000 до 7500 \n",
    "# def square(sqft):\n",
    "#     if 0 < sqft['sqft'] <= 500:\n",
    "#         return 1\n",
    "#     elif 500 < sqft['sqft'] <= 1000:\n",
    "#         return 2\n",
    "#     elif sqft['sqft'] == 0:\n",
    "#         return 0\n",
    "#     elif 1000 < sqft['sqft'] <= 2000:\n",
    "#         return 3\n",
    "#     elif 2000 < sqft['sqft'] <= 4000:\n",
    "#         return 4\n",
    "#     elif 4000 < sqft['sqft'] <= 7500:\n",
    "#         return 5\n",
    "#     elif 7500 < sqft['sqft'] <= 10000:\n",
    "#         return 6\n",
    "#     elif 10000 < sqft['sqft'] <= 25000:\n",
    "#         return 7\n",
    "#     elif 25000 < sqft['sqft'] <= 50000:\n",
    "#         return 8\n",
    "#     elif 50000 < sqft['sqft'] <= 100000:\n",
    "#         return 9\n",
    "#     elif 100000 < sqft['sqft'] <= 250000:\n",
    "#         return 10\n",
    "#     elif 250000 < sqft['sqft'] <= 500000:\n",
    "#         return 11\n",
    "#     elif 500000 < sqft['sqft'] <= 1000000:\n",
    "#         return 12\n",
    "#     elif 1000000 < sqft['sqft'] <= 8000000:\n",
    "#         return 13\n",
    "#     elif 8000000 < sqft['sqft']:\n",
    "#         return 14\n",
    "#     else:\n",
    "#         return(sqft['sqft'])\n",
    "\n",
    "# df['sqft'] = df.apply(square, axis=1)"
   ]
  },
  {
   "cell_type": "code",
   "execution_count": 197,
   "metadata": {},
   "outputs": [
    {
     "name": "stdout",
     "output_type": "stream",
     "text": [
      "Количество уникальных значений: 9896\n"
     ]
    }
   ],
   "source": [
    "# выведем уникальные значения признака 'sqft'\n",
    "sqft_sum = df['sqft'].nunique()\n",
    "print(f'Количество уникальных значений:', sqft_sum)"
   ]
  },
  {
   "cell_type": "code",
   "execution_count": 198,
   "metadata": {},
   "outputs": [
    {
     "data": {
      "text/plain": [
       "Text(0.5, 0, 'Площадь, миллионов квадратных футов')"
      ]
     },
     "execution_count": 198,
     "metadata": {},
     "output_type": "execute_result"
    },
    {
     "data": {
      "image/png": "[encoded data removed]",
      "text/plain": [
       "<Figure size 1500x300 with 1 Axes>"
      ]
     },
     "metadata": {},
     "output_type": "display_data"
    }
   ],
   "source": [
    "# построим коробчатую диаграмму для признака 'sqft', чтобы увидеть выбросы\n",
    "fig = plt.figure(figsize=(15,3))\n",
    "# df.boxplot(column=['sqft'])\n",
    "boxplot = sns.boxplot(\n",
    "    data=df,\n",
    "    x='sqft',\n",
    "    orient='h',\n",
    "    width=0.9\n",
    ")\n",
    "boxplot.set_title('Площади объектов недвижимости')\n",
    "boxplot.set_xlabel('Площадь, миллионов квадратных футов')"
   ]
  },
  {
   "cell_type": "markdown",
   "metadata": {},
   "source": [
    "Проверим объекты площадь которых больше 400 000 000 квадратных футов (около 37 млн.кв.м)."
   ]
  },
  {
   "cell_type": "code",
   "execution_count": 199,
   "metadata": {},
   "outputs": [
    {
     "data": {
      "text/html": [
       "<div>\n",
       "<style scoped>\n",
       "    .dataframe tbody tr th:only-of-type {\n",
       "        vertical-align: middle;\n",
       "    }\n",
       "\n",
       "    .dataframe tbody tr th {\n",
       "        vertical-align: top;\n",
       "    }\n",
       "\n",
       "    .dataframe thead th {\n",
       "        text-align: right;\n",
       "    }\n",
       "</style>\n",
       "<table border=\"1\" class=\"dataframe\">\n",
       "  <thead>\n",
       "    <tr style=\"text-align: right;\">\n",
       "      <th></th>\n",
       "      <th>sqft</th>\n",
       "      <th>street</th>\n",
       "      <th>state</th>\n",
       "      <th>target</th>\n",
       "    </tr>\n",
       "  </thead>\n",
       "  <tbody>\n",
       "    <tr>\n",
       "      <th>62736</th>\n",
       "      <td>795979430</td>\n",
       "      <td>1723 Pulte St</td>\n",
       "      <td>OH</td>\n",
       "      <td>$27,500</td>\n",
       "    </tr>\n",
       "    <tr>\n",
       "      <th>376529</th>\n",
       "      <td>456602479</td>\n",
       "      <td>5382 S Dixie Hwy</td>\n",
       "      <td>KY</td>\n",
       "      <td>$198,000</td>\n",
       "    </tr>\n",
       "  </tbody>\n",
       "</table>\n",
       "</div>"
      ],
      "text/plain": [
       "             sqft            street state    target\n",
       "62736   795979430     1723 Pulte St    OH   $27,500\n",
       "376529  456602479  5382 S Dixie Hwy    KY  $198,000"
      ]
     },
     "metadata": {},
     "output_type": "display_data"
    }
   ],
   "source": [
    "objects = df.loc[df['sqft'] > 400000000, ['sqft', 'street', 'state', 'target']]\n",
    "display(objects)"
   ]
  },
  {
   "cell_type": "markdown",
   "metadata": {},
   "source": [
    "Взглянув на карту google, я обнаружила, что по адресу 1723 Pulte St штата OH находятся маленькие деревянные домишки, а по адресу 5382 S Dixie Hwy штата KY находится кладбище. Удалим эти два объекта, так как по объекту по адресу 1723 Pulte St информация о площади неверная. Кладбища нас не интересуют."
   ]
  },
  {
   "cell_type": "code",
   "execution_count": 200,
   "metadata": {},
   "outputs": [],
   "source": [
    "# удаление двух объектов\n",
    "df = df.loc[df['sqft'] < 400000000]"
   ]
  },
  {
   "cell_type": "code",
   "execution_count": 201,
   "metadata": {},
   "outputs": [
    {
     "data": {
      "text/plain": [
       "Text(0.5, 0, 'Площадь, миллионов квадратных футов')"
      ]
     },
     "execution_count": 201,
     "metadata": {},
     "output_type": "execute_result"
    },
    {
     "data": {
      "image/png": "[encoded data removed]",
      "text/plain": [
       "<Figure size 1500x300 with 1 Axes>"
      ]
     },
     "metadata": {},
     "output_type": "display_data"
    }
   ],
   "source": [
    "# вновь построим коробчатую диаграмму для признака 'sqft', чтобы увидеть выбросы\n",
    "fig = plt.figure(figsize=(15,3))\n",
    "# df.boxplot(column=['sqft'])\n",
    "boxplot = sns.boxplot(\n",
    "    data=df,\n",
    "    x='sqft',\n",
    "    orient='h',\n",
    "    width=0.9\n",
    ")\n",
    "boxplot.set_title('Площади объектов недвижимости')\n",
    "boxplot.set_xlabel('Площадь, миллионов квадратных футов')"
   ]
  },
  {
   "cell_type": "markdown",
   "metadata": {},
   "source": [
    "Проверим объекты площадь которых больше 1 000 000 квадратных футов (около 93 тыс.кв.м)."
   ]
  },
  {
   "cell_type": "code",
   "execution_count": 202,
   "metadata": {},
   "outputs": [
    {
     "data": {
      "text/html": [
       "<div>\n",
       "<style scoped>\n",
       "    .dataframe tbody tr th:only-of-type {\n",
       "        vertical-align: middle;\n",
       "    }\n",
       "\n",
       "    .dataframe tbody tr th {\n",
       "        vertical-align: top;\n",
       "    }\n",
       "\n",
       "    .dataframe thead th {\n",
       "        text-align: right;\n",
       "    }\n",
       "</style>\n",
       "<table border=\"1\" class=\"dataframe\">\n",
       "  <thead>\n",
       "    <tr style=\"text-align: right;\">\n",
       "      <th></th>\n",
       "      <th>sqft</th>\n",
       "      <th>street</th>\n",
       "      <th>state</th>\n",
       "      <th>target</th>\n",
       "    </tr>\n",
       "  </thead>\n",
       "  <tbody>\n",
       "    <tr>\n",
       "      <th>4604</th>\n",
       "      <td>1043741</td>\n",
       "      <td>State Highway 30</td>\n",
       "      <td>TX</td>\n",
       "      <td>$1,200,000</td>\n",
       "    </tr>\n",
       "    <tr>\n",
       "      <th>37394</th>\n",
       "      <td>2585006</td>\n",
       "      <td>23114 Henness Pass</td>\n",
       "      <td>TX</td>\n",
       "      <td>$138,000</td>\n",
       "    </tr>\n",
       "    <tr>\n",
       "      <th>52217</th>\n",
       "      <td>4356000</td>\n",
       "      <td>22462 Morin Rd</td>\n",
       "      <td>TX</td>\n",
       "      <td>$2,000,000</td>\n",
       "    </tr>\n",
       "    <tr>\n",
       "      <th>74215</th>\n",
       "      <td>7078574</td>\n",
       "      <td>Out Of Area</td>\n",
       "      <td>TX</td>\n",
       "      <td>$98,000</td>\n",
       "    </tr>\n",
       "    <tr>\n",
       "      <th>82469</th>\n",
       "      <td>1598652</td>\n",
       "      <td>Fanning Bayou Dr</td>\n",
       "      <td>FL</td>\n",
       "      <td>$2,500,000</td>\n",
       "    </tr>\n",
       "    <tr>\n",
       "      <th>142148</th>\n",
       "      <td>5728968</td>\n",
       "      <td>Nka Solar Ln</td>\n",
       "      <td>WA</td>\n",
       "      <td>$289,000</td>\n",
       "    </tr>\n",
       "    <tr>\n",
       "      <th>151007</th>\n",
       "      <td>1524600</td>\n",
       "      <td>35 Country Club Dr</td>\n",
       "      <td>FL</td>\n",
       "      <td>$210,000</td>\n",
       "    </tr>\n",
       "    <tr>\n",
       "      <th>173320</th>\n",
       "      <td>1916640</td>\n",
       "      <td>18615 Senior Rd</td>\n",
       "      <td>TX</td>\n",
       "      <td>$660,000</td>\n",
       "    </tr>\n",
       "    <tr>\n",
       "      <th>187391</th>\n",
       "      <td>4356000</td>\n",
       "      <td>100 Old Allanton Rd</td>\n",
       "      <td>FL</td>\n",
       "      <td>$400,000</td>\n",
       "    </tr>\n",
       "    <tr>\n",
       "      <th>196586</th>\n",
       "      <td>1239282</td>\n",
       "      <td>11800 N Ware Rd</td>\n",
       "      <td>TX</td>\n",
       "      <td>$4,100,000</td>\n",
       "    </tr>\n",
       "    <tr>\n",
       "      <th>201106</th>\n",
       "      <td>1250172</td>\n",
       "      <td>Wiscon Rd</td>\n",
       "      <td>FL</td>\n",
       "      <td>$1,568,000</td>\n",
       "    </tr>\n",
       "    <tr>\n",
       "      <th>227446</th>\n",
       "      <td>1761113</td>\n",
       "      <td>4300 Gravelly Beach Rd NW</td>\n",
       "      <td>WA</td>\n",
       "      <td>$524,700</td>\n",
       "    </tr>\n",
       "    <tr>\n",
       "      <th>232326</th>\n",
       "      <td>2807917</td>\n",
       "      <td>23106 Casey Cyn</td>\n",
       "      <td>TX</td>\n",
       "      <td>$114,900</td>\n",
       "    </tr>\n",
       "    <tr>\n",
       "      <th>233864</th>\n",
       "      <td>2613600</td>\n",
       "      <td>Sandy Crk N</td>\n",
       "      <td>FL</td>\n",
       "      <td>$230,000</td>\n",
       "    </tr>\n",
       "    <tr>\n",
       "      <th>253740</th>\n",
       "      <td>2585006</td>\n",
       "      <td>23114 Hennes Pass</td>\n",
       "      <td>TX</td>\n",
       "      <td>138,000</td>\n",
       "    </tr>\n",
       "    <tr>\n",
       "      <th>323567</th>\n",
       "      <td>1611720</td>\n",
       "      <td>7193 Talley Rd</td>\n",
       "      <td>TX</td>\n",
       "      <td>$1,300,000</td>\n",
       "    </tr>\n",
       "    <tr>\n",
       "      <th>324873</th>\n",
       "      <td>1417442</td>\n",
       "      <td>4774 Cleveland Rd</td>\n",
       "      <td>NY</td>\n",
       "      <td>$199,900</td>\n",
       "    </tr>\n",
       "    <tr>\n",
       "      <th>354884</th>\n",
       "      <td>2807917</td>\n",
       "      <td>23106 Casey Cyn</td>\n",
       "      <td>TX</td>\n",
       "      <td>114,900</td>\n",
       "    </tr>\n",
       "    <tr>\n",
       "      <th>356733</th>\n",
       "      <td>1089000</td>\n",
       "      <td>13451 Windermere Dr</td>\n",
       "      <td>TX</td>\n",
       "      <td>$700,000</td>\n",
       "    </tr>\n",
       "  </tbody>\n",
       "</table>\n",
       "</div>"
      ],
      "text/plain": [
       "           sqft                     street state      target\n",
       "4604    1043741           State Highway 30    TX  $1,200,000\n",
       "37394   2585006         23114 Henness Pass    TX    $138,000\n",
       "52217   4356000             22462 Morin Rd    TX  $2,000,000\n",
       "74215   7078574                Out Of Area    TX     $98,000\n",
       "82469   1598652           Fanning Bayou Dr    FL  $2,500,000\n",
       "142148  5728968               Nka Solar Ln    WA    $289,000\n",
       "151007  1524600         35 Country Club Dr    FL    $210,000\n",
       "173320  1916640            18615 Senior Rd    TX    $660,000\n",
       "187391  4356000        100 Old Allanton Rd    FL    $400,000\n",
       "196586  1239282            11800 N Ware Rd    TX  $4,100,000\n",
       "201106  1250172                  Wiscon Rd    FL  $1,568,000\n",
       "227446  1761113  4300 Gravelly Beach Rd NW    WA    $524,700\n",
       "232326  2807917            23106 Casey Cyn    TX    $114,900\n",
       "233864  2613600                Sandy Crk N    FL    $230,000\n",
       "253740  2585006         23114 Hennes Pass     TX     138,000\n",
       "323567  1611720             7193 Talley Rd    TX  $1,300,000\n",
       "324873  1417442          4774 Cleveland Rd    NY    $199,900\n",
       "354884  2807917           23106 Casey Cyn     TX     114,900\n",
       "356733  1089000        13451 Windermere Dr    TX    $700,000"
      ]
     },
     "metadata": {},
     "output_type": "display_data"
    }
   ],
   "source": [
    "objects = df.loc[df['sqft'] > 1000000, ['sqft', 'street', 'state', 'target']]\n",
    "display(objects)"
   ]
  },
  {
   "cell_type": "markdown",
   "metadata": {},
   "source": [
    "Удалим эти объекты тоже, так как указанная площадь согласно данным из карт google не соответствует действительности."
   ]
  },
  {
   "cell_type": "code",
   "execution_count": 203,
   "metadata": {},
   "outputs": [],
   "source": [
    "# удаление объектов, площадь которых свыше 1 000 000 sqft\n",
    "df = df.loc[df['sqft'] < 1000000]"
   ]
  },
  {
   "cell_type": "code",
   "execution_count": 204,
   "metadata": {},
   "outputs": [
    {
     "data": {
      "text/plain": [
       "Text(0.5, 0, 'Площадь, миллионов квадратных футов')"
      ]
     },
     "execution_count": 204,
     "metadata": {},
     "output_type": "execute_result"
    },
    {
     "data": {
      "image/png": "[encoded data removed]",
      "text/plain": [
       "<Figure size 1500x300 with 1 Axes>"
      ]
     },
     "metadata": {},
     "output_type": "display_data"
    }
   ],
   "source": [
    "# вновь построим коробчатую диаграмму для признака 'sqft', чтобы увидеть выбросы\n",
    "fig = plt.figure(figsize=(15,3))\n",
    "# df.boxplot(column=['sqft'])\n",
    "boxplot = sns.boxplot(\n",
    "    data=df,\n",
    "    x='sqft',\n",
    "    orient='h',\n",
    "    width=0.9\n",
    ")\n",
    "boxplot.set_title('Площади объектов недвижимости')\n",
    "boxplot.set_xlabel('Площадь, миллионов квадратных футов')"
   ]
  },
  {
   "cell_type": "markdown",
   "metadata": {},
   "source": [
    "Проверим объекты площадь которых больше 250 000 квадратных футов (около 23 тыс.кв.м)."
   ]
  },
  {
   "cell_type": "code",
   "execution_count": 205,
   "metadata": {},
   "outputs": [
    {
     "data": {
      "text/html": [
       "<div>\n",
       "<style scoped>\n",
       "    .dataframe tbody tr th:only-of-type {\n",
       "        vertical-align: middle;\n",
       "    }\n",
       "\n",
       "    .dataframe tbody tr th {\n",
       "        vertical-align: top;\n",
       "    }\n",
       "\n",
       "    .dataframe thead th {\n",
       "        text-align: right;\n",
       "    }\n",
       "</style>\n",
       "<table border=\"1\" class=\"dataframe\">\n",
       "  <thead>\n",
       "    <tr style=\"text-align: right;\">\n",
       "      <th></th>\n",
       "      <th>sqft</th>\n",
       "      <th>street</th>\n",
       "      <th>state</th>\n",
       "      <th>target</th>\n",
       "      <th>status</th>\n",
       "    </tr>\n",
       "  </thead>\n",
       "  <tbody>\n",
       "    <tr>\n",
       "      <th>318</th>\n",
       "      <td>373772</td>\n",
       "      <td>21015 23rd Ave #6B</td>\n",
       "      <td>NY</td>\n",
       "      <td>$239,000</td>\n",
       "      <td>for sale</td>\n",
       "    </tr>\n",
       "    <tr>\n",
       "      <th>2660</th>\n",
       "      <td>260961</td>\n",
       "      <td>2620 141st St #1E</td>\n",
       "      <td>NY</td>\n",
       "      <td>$349,990</td>\n",
       "      <td>for sale</td>\n",
       "    </tr>\n",
       "    <tr>\n",
       "      <th>2834</th>\n",
       "      <td>332660</td>\n",
       "      <td>3243 91st St #506</td>\n",
       "      <td>NY</td>\n",
       "      <td>$239,900</td>\n",
       "      <td>for sale</td>\n",
       "    </tr>\n",
       "    <tr>\n",
       "      <th>3260</th>\n",
       "      <td>363000</td>\n",
       "      <td>18-35 Corporal Kennedy St #6G</td>\n",
       "      <td>NY</td>\n",
       "      <td>$269,000</td>\n",
       "      <td>for sale</td>\n",
       "    </tr>\n",
       "    <tr>\n",
       "      <th>3902</th>\n",
       "      <td>338373</td>\n",
       "      <td>15 W 81st St #2J</td>\n",
       "      <td>NY</td>\n",
       "      <td>$1,650,000</td>\n",
       "      <td>for sale</td>\n",
       "    </tr>\n",
       "    <tr>\n",
       "      <th>...</th>\n",
       "      <td>...</td>\n",
       "      <td>...</td>\n",
       "      <td>...</td>\n",
       "      <td>...</td>\n",
       "      <td>...</td>\n",
       "    </tr>\n",
       "    <tr>\n",
       "      <th>370666</th>\n",
       "      <td>438340</td>\n",
       "      <td>1129 E Axton Rd</td>\n",
       "      <td>WA</td>\n",
       "      <td>$329,000</td>\n",
       "      <td>for sale</td>\n",
       "    </tr>\n",
       "    <tr>\n",
       "      <th>371855</th>\n",
       "      <td>387094</td>\n",
       "      <td>310 E 46th St #19G</td>\n",
       "      <td>NY</td>\n",
       "      <td>$725,000</td>\n",
       "      <td>for sale</td>\n",
       "    </tr>\n",
       "    <tr>\n",
       "      <th>375073</th>\n",
       "      <td>328560</td>\n",
       "      <td>1805 215th St #6J</td>\n",
       "      <td>NY</td>\n",
       "      <td>$425,000</td>\n",
       "      <td>for sale</td>\n",
       "    </tr>\n",
       "    <tr>\n",
       "      <th>375285</th>\n",
       "      <td>444115</td>\n",
       "      <td>3364 21st St #2D</td>\n",
       "      <td>NY</td>\n",
       "      <td>$475,000</td>\n",
       "      <td>for sale</td>\n",
       "    </tr>\n",
       "    <tr>\n",
       "      <th>377071</th>\n",
       "      <td>409538</td>\n",
       "      <td>48-50 44th St #5E</td>\n",
       "      <td>NY</td>\n",
       "      <td>$335,000</td>\n",
       "      <td>for sale</td>\n",
       "    </tr>\n",
       "  </tbody>\n",
       "</table>\n",
       "<p>260 rows × 5 columns</p>\n",
       "</div>"
      ],
      "text/plain": [
       "          sqft                         street state      target    status\n",
       "318     373772             21015 23rd Ave #6B    NY    $239,000  for sale\n",
       "2660    260961              2620 141st St #1E    NY    $349,990  for sale\n",
       "2834    332660              3243 91st St #506    NY    $239,900  for sale\n",
       "3260    363000  18-35 Corporal Kennedy St #6G    NY    $269,000  for sale\n",
       "3902    338373               15 W 81st St #2J    NY  $1,650,000  for sale\n",
       "...        ...                            ...   ...         ...       ...\n",
       "370666  438340                1129 E Axton Rd    WA    $329,000  for sale\n",
       "371855  387094             310 E 46th St #19G    NY    $725,000  for sale\n",
       "375073  328560              1805 215th St #6J    NY    $425,000  for sale\n",
       "375285  444115               3364 21st St #2D    NY    $475,000  for sale\n",
       "377071  409538              48-50 44th St #5E    NY    $335,000  for sale\n",
       "\n",
       "[260 rows x 5 columns]"
      ]
     },
     "metadata": {},
     "output_type": "display_data"
    }
   ],
   "source": [
    "objects = df.loc[df['sqft'] > 250000, ['sqft', 'street', 'state', 'target', 'status']]\n",
    "display(objects)"
   ]
  },
  {
   "cell_type": "markdown",
   "metadata": {},
   "source": [
    "Посмотрев информацию на карте google об объектах свыше 250 000 кв.футов я решила тоже удалить эти объекты, так как информация о площади явно завышенна."
   ]
  },
  {
   "cell_type": "code",
   "execution_count": 206,
   "metadata": {},
   "outputs": [],
   "source": [
    "# удаление объектов, площадь которых свыше 250 000 sqft\n",
    "df = df.loc[df['sqft'] < 250000]"
   ]
  },
  {
   "cell_type": "markdown",
   "metadata": {},
   "source": [
    "Так как объектов очень много, а проверять их всех на карте google очень трудоемко, то построим график распределения и коробчатую диаграмму."
   ]
  },
  {
   "cell_type": "code",
   "execution_count": 207,
   "metadata": {},
   "outputs": [
    {
     "name": "stdout",
     "output_type": "stream",
     "text": [
      "Средняя площадь равна 2159 кв.футов.\n",
      "Предельное значение признака \"sqft\" составляет 249299 кв.футов.\n"
     ]
    },
    {
     "data": {
      "text/html": [
       "<div>\n",
       "<style scoped>\n",
       "    .dataframe tbody tr th:only-of-type {\n",
       "        vertical-align: middle;\n",
       "    }\n",
       "\n",
       "    .dataframe tbody tr th {\n",
       "        vertical-align: top;\n",
       "    }\n",
       "\n",
       "    .dataframe thead th {\n",
       "        text-align: right;\n",
       "    }\n",
       "</style>\n",
       "<table border=\"1\" class=\"dataframe\">\n",
       "  <thead>\n",
       "    <tr style=\"text-align: right;\">\n",
       "      <th></th>\n",
       "      <th>sqft</th>\n",
       "    </tr>\n",
       "  </thead>\n",
       "  <tbody>\n",
       "    <tr>\n",
       "      <th>count</th>\n",
       "      <td>376854.000000</td>\n",
       "    </tr>\n",
       "    <tr>\n",
       "      <th>mean</th>\n",
       "      <td>2159.012275</td>\n",
       "    </tr>\n",
       "    <tr>\n",
       "      <th>std</th>\n",
       "      <td>6245.765019</td>\n",
       "    </tr>\n",
       "    <tr>\n",
       "      <th>min</th>\n",
       "      <td>0.000000</td>\n",
       "    </tr>\n",
       "    <tr>\n",
       "      <th>25%</th>\n",
       "      <td>1033.000000</td>\n",
       "    </tr>\n",
       "    <tr>\n",
       "      <th>50%</th>\n",
       "      <td>1652.000000</td>\n",
       "    </tr>\n",
       "    <tr>\n",
       "      <th>75%</th>\n",
       "      <td>2452.000000</td>\n",
       "    </tr>\n",
       "    <tr>\n",
       "      <th>max</th>\n",
       "      <td>249299.000000</td>\n",
       "    </tr>\n",
       "  </tbody>\n",
       "</table>\n",
       "</div>"
      ],
      "text/plain": [
       "                sqft\n",
       "count  376854.000000\n",
       "mean     2159.012275\n",
       "std      6245.765019\n",
       "min         0.000000\n",
       "25%      1033.000000\n",
       "50%      1652.000000\n",
       "75%      2452.000000\n",
       "max    249299.000000"
      ]
     },
     "metadata": {},
     "output_type": "display_data"
    },
    {
     "name": "stdout",
     "output_type": "stream",
     "text": [
      "Численный показатель асимметрии распределения составляет: 24.0.\n"
     ]
    },
    {
     "data": {
      "image/png": "[encoded data removed]",
      "text/plain": [
       "<Figure size 1200x400 with 2 Axes>"
      ]
     },
     "metadata": {},
     "output_type": "display_data"
    }
   ],
   "source": [
    "# построим график распределения и коробчатую диаграмму \n",
    "fig, axes = plt.subplots(nrows=1, ncols=2, figsize=(12, 4))\n",
    "plt.subplots_adjust(hspace=0)\n",
    "\n",
    "# Построение гистограммы\n",
    "histplot1 = sns.histplot(\n",
    "    data=df,\n",
    "    x='sqft',\n",
    "    kde=False,\n",
    "    bins=15,\n",
    "    ax=axes[0],\n",
    ")\n",
    "\n",
    "histplot1.grid()\n",
    "histplot1.set_title('Распределение площади недвижимости')\n",
    "histplot1.set_xlabel('Площадь')\n",
    "histplot1.set_ylabel('Количество объектов недвижимости')\n",
    "\n",
    "# Построение коробчатой диаграммы\n",
    "histplot2 = sns.boxplot(\n",
    "    data=df,\n",
    "    x='sqft',\n",
    "    orient='h',\n",
    "    width=0.9\n",
    ")\n",
    "\n",
    "# Расчет средней площади\n",
    "m_cost = round(df['sqft'].mean())\n",
    "print(f'Средняя площадь равна {m_cost} кв.футов.')\n",
    "\n",
    "# Информация о максимальной площади\n",
    "max_target = df['sqft'].max()\n",
    "print(f'Предельное значение признака \"sqft\" составляет {max_target} кв.футов.')\n",
    "\n",
    "# Статистика признака \"sqft\"\n",
    "display(df.describe().loc[:,['sqft']])\n",
    "\n",
    "# Расчет показателя асимметрии распределения площади\n",
    "assimetria = np.round(df['sqft'].skew(), decimals = 2)\n",
    "print(f'Численный показатель асимметрии распределения составляет: {assimetria}.')"
   ]
  },
  {
   "cell_type": "markdown",
   "metadata": {},
   "source": [
    "Мы видим, что распределение площади даже после удаления объектов недвижимости площадью более 250 000 кв.футов ненормально. Поэтому удалим все объекты площадью свыше 25 000 кв.футов, так как на графике распределения основная часть объектов находится в приделах 25 000 кв.футов. Затем вновь построим график и диаграмму."
   ]
  },
  {
   "cell_type": "code",
   "execution_count": 208,
   "metadata": {},
   "outputs": [],
   "source": [
    "df = df.loc[df['sqft'] < 25000]"
   ]
  },
  {
   "cell_type": "code",
   "execution_count": 209,
   "metadata": {},
   "outputs": [
    {
     "name": "stdout",
     "output_type": "stream",
     "text": [
      "Средняя площадь равна 1877 кв.футов.\n",
      "Предельное значение признака \"sqft\" составляет 24941 кв.футов.\n"
     ]
    },
    {
     "data": {
      "text/html": [
       "<div>\n",
       "<style scoped>\n",
       "    .dataframe tbody tr th:only-of-type {\n",
       "        vertical-align: middle;\n",
       "    }\n",
       "\n",
       "    .dataframe tbody tr th {\n",
       "        vertical-align: top;\n",
       "    }\n",
       "\n",
       "    .dataframe thead th {\n",
       "        text-align: right;\n",
       "    }\n",
       "</style>\n",
       "<table border=\"1\" class=\"dataframe\">\n",
       "  <thead>\n",
       "    <tr style=\"text-align: right;\">\n",
       "      <th></th>\n",
       "      <th>sqft</th>\n",
       "    </tr>\n",
       "  </thead>\n",
       "  <tbody>\n",
       "    <tr>\n",
       "      <th>count</th>\n",
       "      <td>375685.000000</td>\n",
       "    </tr>\n",
       "    <tr>\n",
       "      <th>mean</th>\n",
       "      <td>1876.936617</td>\n",
       "    </tr>\n",
       "    <tr>\n",
       "      <th>std</th>\n",
       "      <td>1596.222800</td>\n",
       "    </tr>\n",
       "    <tr>\n",
       "      <th>min</th>\n",
       "      <td>0.000000</td>\n",
       "    </tr>\n",
       "    <tr>\n",
       "      <th>25%</th>\n",
       "      <td>1030.000000</td>\n",
       "    </tr>\n",
       "    <tr>\n",
       "      <th>50%</th>\n",
       "      <td>1650.000000</td>\n",
       "    </tr>\n",
       "    <tr>\n",
       "      <th>75%</th>\n",
       "      <td>2443.000000</td>\n",
       "    </tr>\n",
       "    <tr>\n",
       "      <th>max</th>\n",
       "      <td>24941.000000</td>\n",
       "    </tr>\n",
       "  </tbody>\n",
       "</table>\n",
       "</div>"
      ],
      "text/plain": [
       "                sqft\n",
       "count  375685.000000\n",
       "mean     1876.936617\n",
       "std      1596.222800\n",
       "min         0.000000\n",
       "25%      1030.000000\n",
       "50%      1650.000000\n",
       "75%      2443.000000\n",
       "max     24941.000000"
      ]
     },
     "metadata": {},
     "output_type": "display_data"
    },
    {
     "name": "stdout",
     "output_type": "stream",
     "text": [
      "Численный показатель асимметрии распределения составляет: 3.19.\n"
     ]
    },
    {
     "data": {
      "image/png": "[encoded data removed]",
      "text/plain": [
       "<Figure size 1200x400 with 2 Axes>"
      ]
     },
     "metadata": {},
     "output_type": "display_data"
    }
   ],
   "source": [
    "# построим еще раз график распределения и коробчатую диаграмму \n",
    "fig, axes = plt.subplots(nrows=1, ncols=2, figsize=(12, 4))\n",
    "plt.subplots_adjust(hspace=0)\n",
    "\n",
    "# Построение гистограммы\n",
    "histplot1 = sns.histplot(\n",
    "    data=df,\n",
    "    x='sqft',\n",
    "    kde=False,\n",
    "    bins=15,\n",
    "    ax=axes[0],\n",
    ")\n",
    "\n",
    "histplot1.grid()\n",
    "histplot1.set_title('Распределение площади недвижимости')\n",
    "histplot1.set_xlabel('Площадь')\n",
    "histplot1.set_ylabel('Количество объектов недвижимости')\n",
    "\n",
    "# Построение коробчатой диаграммы\n",
    "histplot2 = sns.boxplot(\n",
    "    data=df,\n",
    "    x='sqft',\n",
    "    orient='h',\n",
    "    width=0.9\n",
    ")\n",
    "\n",
    "# Расчет средней площади\n",
    "m_cost = round(df['sqft'].mean())\n",
    "print(f'Средняя площадь равна {m_cost} кв.футов.')\n",
    "\n",
    "# Информация о максимальной площади\n",
    "max_target = df['sqft'].max()\n",
    "print(f'Предельное значение признака \"sqft\" составляет {max_target} кв.футов.')\n",
    "\n",
    "# Статистика признака \"sqft\"\n",
    "display(df.describe().loc[:,['sqft']])\n",
    "\n",
    "# Расчет показателя асимметрии распределения площади\n",
    "assimetria = np.round(df['sqft'].skew(), decimals = 2)\n",
    "print(f'Численный показатель асимметрии распределения составляет: {assimetria}.')"
   ]
  },
  {
   "cell_type": "markdown",
   "metadata": {},
   "source": [
    "Теперь на коробчатой диаграмме отчетливо видно, что выбросы - это недвижимость площадью свеше 5000 кв.футов. Удалим объекты площадью свыше 10 000 кв.футов."
   ]
  },
  {
   "cell_type": "code",
   "execution_count": 210,
   "metadata": {},
   "outputs": [],
   "source": [
    "df = df.loc[df['sqft'] < 10000]"
   ]
  },
  {
   "cell_type": "code",
   "execution_count": 211,
   "metadata": {},
   "outputs": [
    {
     "name": "stdout",
     "output_type": "stream",
     "text": [
      "Средняя площадь равна 1823 кв.футов.\n",
      "Предельное значение признака \"sqft\" составляет 9999 кв.футов.\n"
     ]
    },
    {
     "data": {
      "text/html": [
       "<div>\n",
       "<style scoped>\n",
       "    .dataframe tbody tr th:only-of-type {\n",
       "        vertical-align: middle;\n",
       "    }\n",
       "\n",
       "    .dataframe tbody tr th {\n",
       "        vertical-align: top;\n",
       "    }\n",
       "\n",
       "    .dataframe thead th {\n",
       "        text-align: right;\n",
       "    }\n",
       "</style>\n",
       "<table border=\"1\" class=\"dataframe\">\n",
       "  <thead>\n",
       "    <tr style=\"text-align: right;\">\n",
       "      <th></th>\n",
       "      <th>sqft</th>\n",
       "    </tr>\n",
       "  </thead>\n",
       "  <tbody>\n",
       "    <tr>\n",
       "      <th>count</th>\n",
       "      <td>373970.000000</td>\n",
       "    </tr>\n",
       "    <tr>\n",
       "      <th>mean</th>\n",
       "      <td>1823.281795</td>\n",
       "    </tr>\n",
       "    <tr>\n",
       "      <th>std</th>\n",
       "      <td>1366.700736</td>\n",
       "    </tr>\n",
       "    <tr>\n",
       "      <th>min</th>\n",
       "      <td>0.000000</td>\n",
       "    </tr>\n",
       "    <tr>\n",
       "      <th>25%</th>\n",
       "      <td>1026.000000</td>\n",
       "    </tr>\n",
       "    <tr>\n",
       "      <th>50%</th>\n",
       "      <td>1644.000000</td>\n",
       "    </tr>\n",
       "    <tr>\n",
       "      <th>75%</th>\n",
       "      <td>2428.000000</td>\n",
       "    </tr>\n",
       "    <tr>\n",
       "      <th>max</th>\n",
       "      <td>9999.000000</td>\n",
       "    </tr>\n",
       "  </tbody>\n",
       "</table>\n",
       "</div>"
      ],
      "text/plain": [
       "                sqft\n",
       "count  373970.000000\n",
       "mean     1823.281795\n",
       "std      1366.700736\n",
       "min         0.000000\n",
       "25%      1026.000000\n",
       "50%      1644.000000\n",
       "75%      2428.000000\n",
       "max      9999.000000"
      ]
     },
     "metadata": {},
     "output_type": "display_data"
    },
    {
     "name": "stdout",
     "output_type": "stream",
     "text": [
      "Численный показатель асимметрии распределения составляет: 1.4.\n"
     ]
    },
    {
     "data": {
      "image/png": "[encoded data removed]",
      "text/plain": [
       "<Figure size 1200x400 with 2 Axes>"
      ]
     },
     "metadata": {},
     "output_type": "display_data"
    }
   ],
   "source": [
    "# построим еще раз график распределения и коробчатую диаграмму \n",
    "fig, axes = plt.subplots(nrows=1, ncols=2, figsize=(12, 4))\n",
    "plt.subplots_adjust(hspace=0)\n",
    "\n",
    "# Построение гистограммы\n",
    "histplot1 = sns.histplot(\n",
    "    data=df,\n",
    "    x='sqft',\n",
    "    kde=False,\n",
    "    bins=15,\n",
    "    ax=axes[0],\n",
    ")\n",
    "\n",
    "histplot1.grid()\n",
    "histplot1.set_title('Распределение площади недвижимости')\n",
    "histplot1.set_xlabel('Площадь')\n",
    "histplot1.set_ylabel('Количество объектов недвижимости')\n",
    "\n",
    "# Построение коробчатой диаграммы\n",
    "histplot2 = sns.boxplot(\n",
    "    data=df,\n",
    "    x='sqft',\n",
    "    orient='h',\n",
    "    width=0.9\n",
    ")\n",
    "\n",
    "# Расчет средней площади\n",
    "m_cost = round(df['sqft'].mean())\n",
    "print(f'Средняя площадь равна {m_cost} кв.футов.')\n",
    "\n",
    "# Информация о максимальной площади\n",
    "max_target = df['sqft'].max()\n",
    "print(f'Предельное значение признака \"sqft\" составляет {max_target} кв.футов.')\n",
    "\n",
    "# Статистика признака \"sqft\"\n",
    "display(df.describe().loc[:,['sqft']])\n",
    "\n",
    "# Расчет показателя асимметрии распределения площади\n",
    "assimetria = np.round(df['sqft'].skew(), decimals = 2)\n",
    "print(f'Численный показатель асимметрии распределения составляет: {assimetria}.')"
   ]
  },
  {
   "cell_type": "markdown",
   "metadata": {},
   "source": [
    "Теперь у нас хорошии графики. Но у нас появились объекты с площадью равной нулю. Удалим такие объекты, так как они будут нам мешать, а заполнить мы их не можем."
   ]
  },
  {
   "cell_type": "code",
   "execution_count": 212,
   "metadata": {},
   "outputs": [],
   "source": [
    "df = df.loc[df['sqft'] != 0]"
   ]
  },
  {
   "cell_type": "markdown",
   "metadata": {},
   "source": [
    "### Статус ('status')"
   ]
  },
  {
   "cell_type": "code",
   "execution_count": 213,
   "metadata": {},
   "outputs": [
    {
     "name": "stdout",
     "output_type": "stream",
     "text": [
      "Количество уникальных значений: 152\n",
      "Список первых уникальных значений: ['Active', 'for sale', nan, 'New construction', 'For sale', 'Pending', 'P', 'Pre-foreclosure / auction', ' / auction', 'Under Contract', 'Under Contract   Showing', 'Pre-foreclosure', 'Under Contract Backups', 'foreclosure', 'Active Under Contract']\n",
      "Список последних уникальных значений: 377174    for sale\n",
      "377175    for sale\n",
      "377176         NaN\n",
      "377177      Active\n",
      "377178         NaN\n",
      "377179    For sale\n",
      "377180         NaN\n",
      "377181    for sale\n",
      "377182    for sale\n",
      "377184         NaN\n",
      "Name: status, dtype: object\n"
     ]
    }
   ],
   "source": [
    "# выведем уникальные значения признака 'status'\n",
    "status_sum = df['status'].nunique()\n",
    "print(f'Количество уникальных значений:', status_sum)\n",
    "unique_values = df['status'].unique()\n",
    "a = (list(unique_values))\n",
    "print(f'Список первых уникальных значений:',a[:15])\n",
    "print(f'Список последних уникальных значений:',df['status'].tail(10))"
   ]
  },
  {
   "cell_type": "code",
   "execution_count": 214,
   "metadata": {},
   "outputs": [],
   "source": [
    "# создадим справочники статусов объектов недвижимости \n",
    "def status(status):\n",
    "    # active = [\"Active\", \"A Active\", \"Active/Contingent\", \"Active Under Contract\", \"Active Option\", \"Auction - Active\",\n",
    "        # \"Active With Contingencies\", \"Active Option Contract\", \"Active Contingency\", \"Active Backup\",\n",
    "        # \"Active Contingent\", \"Active - Auction\", \"Active With Offer\", \"Active - Contingent\", \"Active with Contract\",\n",
    "        # \"Temporary Active\", \"Re Activated\", \"Reactivated\"]\n",
    "    sale = [\"Active\", \"A Active\", \"Active/Contingent\", \"Active Under Contract\", \"Active Option\", \"Auction - Active\",\n",
    "        \"Active With Contingencies\", \"Active Option Contract\", \"Active Contingency\", \"Active Backup\",\n",
    "        \"Active Contingent\", \"Active - Auction\", \"Active With Offer\", \"Active - Contingent\", \"Active with Contract\",\n",
    "        \"Temporary Active\", \"Re Activated\", \"Reactivated\", 'For Sale', 'for sale', 'For sale', 'New construction', 'New']\n",
    "    auction =  ['Auction']\n",
    "    back_on_market = ['Back on Market', 'Back On Market', 'Accepting backups', 'Backup']\n",
    "    contingent = ['Contingent', 'Contingent Finance And Inspection', 'Contingent Show',\n",
    "        'Contingent Take Backup', 'Contingent - Sale of Home', 'Contingent Finance and Inspection',\n",
    "        'C Continue Show', 'Contingent   Show', 'Contingent   Release', 'Contingent   No Show',\n",
    "        'CT Insp - Inspection Contingency', 'Contingent   Foreclosure', 'Conting Accpt Backups',\n",
    "        'Contingent - Financing', 'Contingency 48 Hr (+/ )', 'Contingency Contract', 'Contingent Escape']\n",
    "    coming_soon = ['Coming soon: Nov 21.', 'Coming soon: Dec 4.', 'Coming soon: Nov 23.', 'Coming soon: Nov 29.',\n",
    "        'Coming soon: Dec 2.', 'Coming soon: Dec 10.', 'Coming soon: Dec 24.', 'Coming soon: Nov 14.',\n",
    "        'Coming soon: Nov 22.', 'Coming soon: Oct 21.', 'Coming soon: Dec 14.', 'Coming soon: Oct 24.',\n",
    "        'Coming soon: Dec 18.', 'Coming soon: Dec 16.', 'Coming soon: Dec 3.', 'Coming soon: Dec 25.',\n",
    "        'Coming soon: Nov 11.', 'Coming soon: Nov 28.', 'Coming soon: Nov 17.', 'Coming soon: Dec 6.',\n",
    "        'Coming soon: Nov 27.', 'Coming soon: Nov 26.', 'Coming soon: Dec 7.', 'Coming soon: Dec 27.',\n",
    "        'Coming soon: Dec 11.', 'Coming soon: Dec 5.', 'Coming soon: Nov 13.', 'Coming soon: Nov 19.',\n",
    "        'Coming soon: Nov 8.', 'Coming soon: Oct 29.', 'Coming soon: Dec 15.', 'Coming soon: Oct 30.',\n",
    "        'Coming soon: Dec 9.', 'Coming soon: Dec 20.', 'Coming soon: Dec 13.', 'Coming soon: Dec 23.',\n",
    "        'Coming soon: Nov 30.', 'Coming soon: Dec 1.', 'Coming soon: Nov 5.', 'Coming soon: Nov 12.',\n",
    "        'Coming soon: Nov 25.', 'Coming soon: Nov 9.', 'Coming soon: Dec 12.']\n",
    "    sold = ['Closed', 'Sold: $285,000', 'Sold: $15,000', 'C', 'recently sold']\n",
    "    foreclosure = ['Pre-foreclosure', 'Pre-foreclosure / auction', ' / auction', 'Foreclosed', 'foreclosure', 'Foreclosure']\n",
    "    for_rent = ['for rent', 'Apartment for rent', 'Condo for rent']\n",
    "    listing_extended = ['Listing Extended']\n",
    "    pending = ['P', 'Pending', 'pending', 'P Pending Sale', 'Pending Ab', 'Pending   Continue To Show', 'Ps',\n",
    "        'Pending Inspection', 'Pending Offer Approval', 'Pending In', 'Pending W/Insp Finance', 'Pending Fe',\n",
    "        'Pending W/Backup Wanted', 'Pending Backups Wanted', 'Pending With Contingencies', 'Lease/Purchase Pending',\n",
    "        'Pending Bring Backup', 'Pending - Taking Backups', 'Pending - Continue to Show', 'Pi', 'Pf',\n",
    "        'Pending Taking Backups', 'Offer Pending Signature', 'Pending (Do Not Show)', 'Pending W/ Cont.',\n",
    "        'Pending W/Escape Clause', 'Pending - Backup Offer Requested', 'Pending Sale', 'Option Pending',\n",
    "        'Pending Sh', 'Pending, Continue to Show', 'Pending   Continue To Show   Financing', 'Pending Take Backups',\n",
    "        'Pending Continue To Show']\n",
    "    price_change = ['Price Change']\n",
    "    lease_purchase = ['Lease/Purchase']\n",
    "    # sale = ['For Sale', 'for sale', 'For sale', 'New construction', 'New']\n",
    "    under_contract = ['Under Contract', 'Under Contract   Showing', 'Under Contract Backups', 'Under Contract Show',\n",
    "        'Under Contract - Show', 'Under Contract - No Show', 'Under contract', 'U Under Contract',\n",
    "        'Due Diligence Period', 'Contract Contingent On Buyer Sale', 'Contract P', 'Ct', 'Uc Continue To Show',\n",
    "        'Under Contract Taking Back Up Offers', 'Under Contract W/ Bckp', 'Contract', 'Backup Contract', 'Option Contract', \n",
    "       'Conditional Contract', 'Accepted Offer', 'Contingent Lien Holder Release']\n",
    "\n",
    "    # if status['status'] in active:\n",
    "    #     return 'active'\n",
    "    if status['status'] in auction:\n",
    "        return 'auction'\n",
    "    elif status['status'] in back_on_market:\n",
    "        return 'back_on_market'\n",
    "    elif status['status'] in contingent:\n",
    "        return 'contingent'\n",
    "    elif status['status'] in coming_soon:\n",
    "        return 'coming_soon'\n",
    "    elif status['status'] in sold:\n",
    "        return 'sold'\n",
    "    elif status['status'] in foreclosure:\n",
    "        return 'foreclosure'\n",
    "    elif status['status'] in for_rent:\n",
    "        return 'for_rent'\n",
    "    elif status['status'] in listing_extended:\n",
    "        return 'listing_extended'\n",
    "    elif status['status'] in pending:\n",
    "        return 'pending' \n",
    "    elif status['status'] in price_change:\n",
    "        return 'price_change'\n",
    "    elif status['status'] in lease_purchase:\n",
    "        return 'lease_purchase'\n",
    "    elif status['status'] in sale:\n",
    "        return 'sale'\n",
    "    elif status['status'] in under_contract:\n",
    "        return 'under_contract' \n",
    "    else:\n",
    "        return(status['status'])\n",
    "\n",
    "df['status'] = df.apply(status, axis=1)"
   ]
  },
  {
   "cell_type": "code",
   "execution_count": 215,
   "metadata": {},
   "outputs": [
    {
     "data": {
      "text/plain": [
       "status\n",
       "sale                262050\n",
       "0                    36318\n",
       "foreclosure          10548\n",
       "pending               6238\n",
       "under_contract        2870\n",
       "contingent             928\n",
       "price_change           456\n",
       "auction                398\n",
       "for_rent               390\n",
       "sold                   326\n",
       "coming_soon            107\n",
       "back_on_market         106\n",
       "listing_extended        10\n",
       "lease_purchase           1\n",
       "Name: count, dtype: int64"
      ]
     },
     "execution_count": 215,
     "metadata": {},
     "output_type": "execute_result"
    }
   ],
   "source": [
    "# Проверим признак 'status'\n",
    "df['status'].fillna(0).value_counts()"
   ]
  },
  {
   "cell_type": "code",
   "execution_count": 216,
   "metadata": {},
   "outputs": [],
   "source": [
    "# удалим строки с нулевым значением в признаке \n",
    "df = df.dropna(subset=['status'])"
   ]
  },
  {
   "cell_type": "code",
   "execution_count": 217,
   "metadata": {},
   "outputs": [
    {
     "name": "stdout",
     "output_type": "stream",
     "text": [
      "13\n"
     ]
    },
    {
     "data": {
      "text/plain": [
       "array(['sale', 'pending', 'foreclosure', 'under_contract', 'for_rent',\n",
       "       'auction', 'contingent', 'price_change', 'back_on_market', 'sold',\n",
       "       'coming_soon', 'listing_extended', 'lease_purchase'], dtype=object)"
      ]
     },
     "execution_count": 217,
     "metadata": {},
     "output_type": "execute_result"
    }
   ],
   "source": [
    "# выведем уникальные значения признака 'status'\n",
    "print(df['status'].nunique())\n",
    "df['status'].unique()"
   ]
  },
  {
   "cell_type": "markdown",
   "metadata": {},
   "source": [
    "### Тип объекта недвижимости ('propertyType')"
   ]
  },
  {
   "cell_type": "code",
   "execution_count": 218,
   "metadata": {},
   "outputs": [
    {
     "name": "stdout",
     "output_type": "stream",
     "text": [
      "Количество уникальных значений: 1238\n",
      "Список первых уникальных значений: ['Single Family Home', 'single-family home', 'townhouse', 'Florida', 'coop', 'English', 'Single Family', nan, 'Townhouse', 'multi-family', 'Penthouse, Split-Level', 'Multi-Family Home', 'condo', 'lot/land', ' ']\n",
      "Список последних уникальных значений: 377170                   Single Family\n",
      "377171              single-family home\n",
      "377172                   Single Family\n",
      "377173              single-family home\n",
      "377174              single-family home\n",
      "377175              single-family home\n",
      "377177    Single Detached, Traditional\n",
      "377179                           Condo\n",
      "377181                           condo\n",
      "377182              single-family home\n",
      "Name: propertyType, dtype: object\n"
     ]
    }
   ],
   "source": [
    "# выведем уникальные значения признака 'propertyType'\n",
    "propertyType_sum = df['propertyType'].nunique()\n",
    "print(f'Количество уникальных значений:', propertyType_sum)\n",
    "unique_values = df['propertyType'].unique()\n",
    "a = (list(unique_values))\n",
    "print(f'Список первых уникальных значений:',a[:15])\n",
    "print(f'Список последних уникальных значений:',df['propertyType'].tail(10))"
   ]
  },
  {
   "cell_type": "code",
   "execution_count": 219,
   "metadata": {},
   "outputs": [],
   "source": [
    "# перевод в нижний регистр\n",
    "df['propertyType'] = df['propertyType'].str.lower()\n",
    "df['propertyType'] = df['propertyType'].str.replace('single family home', 'single family', regex=True)\n",
    "df['propertyType'] = df['propertyType'].str.replace('single-family home', 'single family', regex=True)\n",
    "df['propertyType'] = df['propertyType'].str.replace('yes','Other', regex=True)\n",
    "df['propertyType'] = df['propertyType'].str.replace('unknown','Other', regex=True)\n",
    "# df['propertyType'] = df['propertyType'].str.replace('one', '1', regex=True)"
   ]
  },
  {
   "cell_type": "code",
   "execution_count": 220,
   "metadata": {},
   "outputs": [],
   "source": [
    "types = {\n",
    "    'family_home': ['single family', '1 story', '2 story', 'detached', '1 story/ranch', '1 story traditional', 'single detached', 'singlefamilyresidence', 'single wide',\n",
    "        'single-wide mobile with land', 'two story', 'one story', 'one level unit', 'rancher', '1 1/2 story', 'single wide mh', 'one story traditional', \n",
    "        'multi-family', 'multi-family home', 'duplex', 'triplex', 'fourplex', 'multi_level', 'multi family', '2-story'],\n",
    "    'condo': ['condo', 'coop', 'cooperative', 'condo/townhome/row home/co-op', 'condo/townhome', 'condominium', 'condo/unit', 'apartment/condo/townhouse',\n",
    "        'co-op', '2 story condo', 'high rise', '2 unit condo'],\n",
    "    'townhouse': ['townhouse', 'townhome style', 'townhouse-interior', 'townhouse-end unit'],\n",
    "    'apartment': ['apartment', 'condominium (single level)', 'high-rise', 'mid-rise', 'low-rise (1-3 stories)', 'Flats', 'studio'],\n",
    "    'land': ['lot/land', 'land'],\n",
    "    'mobile_home': ['mobile/manufactured', 'mobile / manufactured', 'manufactured house', 'mfd/mobile home', 'mobile home', 'manufactured home', 'manufactured double-wide',\n",
    "        'manufactured single-wide', 'mobile home 1 story', 'mobile manu - double wide'],\n",
    "    'ranch': ['ranch',  'hi ranch', 'one story', 'farm house', 'farm/ranch', 'farm/ranch house', 'farms/ranches'],\n",
    "    'modern': ['contemporary', 'contemporary/modern', \"modern\", 'mid-century modern', 'modern farmhouse', 'modernist'],\n",
    "    'historical': ['historical', 'designated historical home', 'historical/conservation district', 'historic/older', 'historic vintage', 'historic'],\n",
    "    'other': ['1 1/2 story with basement', '1 story with basement', '3 story', '3+ stories', 'attached', 'attached duplex', 'bungalow', 'carriage house',\n",
    "        'coastal', 'coastal beach home', 'coastal contemporary', 'coastal ii', 'coastal modern', 'coastal two story', 'cottage', 'cottage/camp', 'country english',\n",
    "        'custom', 'end unit', 'english', 'english manor', 'florida', 'forest garden home', 'garden home',\n",
    "        'ground floor', 'hi-rise', 'historic', 'historical', 'houseboat', 'key west', 'key west/coastal', 'lake house', 'less than 4 floors', 'loft/balcony',\n",
    "        'manor', 'manuf/mobile', 'mid-level', 'mid-rise (4-7 stories)', 'miscellaneous', 'mountain contemporary', 'multiple occupancy', 'modular/prefab', 'new build 2019',\n",
    "        'new englander', 'old style', 'other style', 'patio', 'patio home', 'penthouse', 'post and beam', 'residential (<1 acre)', 'residential (1+ acre)',\n",
    "        'santa barbara/tuscan', 'split', 'split (4 level)', 'split (5+ level)', 'split foyer', 'split level', 'straight thru', 'texas hill country', 'tudor',\n",
    "        'urban', 'urban contemporary', 'victorian', 'victorian/federal']\n",
    "}\n",
    "\n",
    "def replace_synonyms(value):\n",
    "    for key, types_values in types.items():\n",
    "        if value in types_values:\n",
    "            return key\n",
    "    return \"other\"\n",
    "\n",
    "# Замена синонимов\n",
    "df['propertyType'] = df['propertyType'].apply(replace_synonyms)"
   ]
  },
  {
   "cell_type": "code",
   "execution_count": 221,
   "metadata": {},
   "outputs": [
    {
     "name": "stdout",
     "output_type": "stream",
     "text": [
      "Количество уникальных значений: 10\n",
      "Список первых уникальных значений: ['family_home', 'townhouse', 'other', 'condo', 'land', 'mobile_home', 'apartment', 'modern', 'ranch', 'historical']\n"
     ]
    }
   ],
   "source": [
    "# выведем уникальные значения признака 'propertyType'\n",
    "propertyType_sum = df['propertyType'].nunique()\n",
    "print(f'Количество уникальных значений:', propertyType_sum)\n",
    "unique_values = df['propertyType'].unique()\n",
    "a = (list(unique_values))\n",
    "print(f'Список первых уникальных значений:',a[:15])"
   ]
  },
  {
   "cell_type": "markdown",
   "metadata": {},
   "source": [
    "### Город ('city')"
   ]
  },
  {
   "cell_type": "code",
   "execution_count": 222,
   "metadata": {},
   "outputs": [
    {
     "name": "stdout",
     "output_type": "stream",
     "text": [
      "Количество уникальных значений: 1816\n",
      "Список первых уникальных значений: ['Southern Pines', 'Spokane Valley', 'Los Angeles', 'Dallas', 'Philadelphia', 'POINCIANA', 'Mason City', 'Flushing', 'Houston', 'Pembroke Pines', 'Eugene', 'Fort Lauderdale', 'New York', 'Tomball', 'Palmdale']\n",
      "Список последних уникальных значений: 377170         Las Vegas\n",
      "377171    Bonita Springs\n",
      "377172           Sunrise\n",
      "377173     Fairview Park\n",
      "377174       San Antonio\n",
      "377175           Houston\n",
      "377177        Fort Worth\n",
      "377179        Washington\n",
      "377181           Chicago\n",
      "377182           Jamaica\n",
      "Name: city, dtype: object\n"
     ]
    }
   ],
   "source": [
    "# выведем уникальные значения признака 'city'\n",
    "city_sum = df['city'].nunique()\n",
    "print(f'Количество уникальных значений:', city_sum)\n",
    "unique_values = df['city'].unique()\n",
    "a = (list(unique_values))\n",
    "print(f'Список первых уникальных значений:',a[:15])\n",
    "print(f'Список последних уникальных значений:',df['city'].tail(10))"
   ]
  },
  {
   "cell_type": "code",
   "execution_count": 223,
   "metadata": {},
   "outputs": [
    {
     "name": "stdout",
     "output_type": "stream",
     "text": [
      "Процент строк с пропущенным значением в признаке \"city\": 0.001054748477646364\n",
      "Количество строк с пропущенным значением в признаке \"city\": 3\n",
      "3\n"
     ]
    }
   ],
   "source": [
    "# строки с пропущенным значением в признаке 'city'\n",
    "cols_null_percent_city = df['city'].isnull().mean()\n",
    "num = df['city'].isna().sum()\n",
    "percent_city = cols_null_percent_city * 100\n",
    "\n",
    "print(f'Процент строк с пропущенным значением в признаке \"city\":', percent_city)\n",
    "print(f'Количество строк с пропущенным значением в признаке \"city\":', round(len(df['city']) * cols_null_percent_city))\n",
    "print(num)"
   ]
  },
  {
   "cell_type": "code",
   "execution_count": 224,
   "metadata": {},
   "outputs": [],
   "source": [
    "# удалим из признака слово 'city'\n",
    "df['city'] = df['city'].str.replace(' City', '', regex=True)"
   ]
  },
  {
   "cell_type": "code",
   "execution_count": 225,
   "metadata": {},
   "outputs": [
    {
     "name": "stdout",
     "output_type": "stream",
     "text": [
      "Количество уникальных значений: 1808\n",
      "Список первых уникальных значений: ['Southern Pines', 'Spokane Valley', 'Los Angeles', 'Dallas', 'Philadelphia', 'POINCIANA', 'Mason', 'Flushing', 'Houston', 'Pembroke Pines', 'Eugene', 'Fort Lauderdale', 'New York', 'Tomball', 'Palmdale']\n",
      "Список последних уникальных значений: 377170         Las Vegas\n",
      "377171    Bonita Springs\n",
      "377172           Sunrise\n",
      "377173     Fairview Park\n",
      "377174       San Antonio\n",
      "377175           Houston\n",
      "377177        Fort Worth\n",
      "377179        Washington\n",
      "377181           Chicago\n",
      "377182           Jamaica\n",
      "Name: city, dtype: object\n"
     ]
    }
   ],
   "source": [
    "# выведем уникальные значения признака 'city'\n",
    "city_sum = df['city'].nunique()\n",
    "print(f'Количество уникальных значений:', city_sum)\n",
    "unique_values = df['city'].unique()\n",
    "a = (list(unique_values))\n",
    "print(f'Список первых уникальных значений:',a[:15])\n",
    "print(f'Список последних уникальных значений:',df['city'].tail(10))"
   ]
  },
  {
   "cell_type": "code",
   "execution_count": 226,
   "metadata": {},
   "outputs": [],
   "source": [
    "# перевод в нижний регистр букв слова, кроме первой буквы\n",
    "df['city'] = df['city'].str.title()\n",
    "# удалим строки с пропущенным значением города\n",
    "df = df.dropna(subset=['city'])"
   ]
  },
  {
   "cell_type": "code",
   "execution_count": 227,
   "metadata": {},
   "outputs": [
    {
     "name": "stdout",
     "output_type": "stream",
     "text": [
      "Количество уникальных значений: 1703\n",
      "Процент строк с пропущенным значением в признаке \"city\": 0.0\n",
      "Количество строк с пропущенным значением в признаке \"city\": 0\n",
      "0\n"
     ]
    }
   ],
   "source": [
    "# выведем уникальные значения признака 'city'\n",
    "city_sum = df['city'].nunique()\n",
    "print(f'Количество уникальных значений:', city_sum)\n",
    "# строки с пропущенным значением в признаке 'city'\n",
    "cols_null_percent_city = df['city'].isnull().mean()\n",
    "num = df['city'].isna().sum()\n",
    "percent_city = cols_null_percent_city * 100\n",
    "\n",
    "print(f'Процент строк с пропущенным значением в признаке \"city\":', percent_city)\n",
    "print(f'Количество строк с пропущенным значением в признаке \"city\":', round(len(df['city']) * cols_null_percent_city))\n",
    "print(num)"
   ]
  },
  {
   "cell_type": "markdown",
   "metadata": {},
   "source": [
    "### Адрес ('street')"
   ]
  },
  {
   "cell_type": "code",
   "execution_count": 228,
   "metadata": {},
   "outputs": [
    {
     "name": "stdout",
     "output_type": "stream",
     "text": [
      "Количество уникальных значений: 259106\n",
      "Процент строк с пропущенным значением в признаке \"street\": 0.0003515865342357388\n",
      "Количество строк с пропущенным значением в признаке \"street\": 1\n",
      "1\n",
      "Список первых уникальных значений: ['240 Heather Ln', '12911 E Heroy Ave', '2005 Westridge Rd', '4311 Livingston Ave', '1624 S Newkirk St', '552 Casanova Ct ', '11182 Owl Ave', '14205 Roosevelt Ave #512', '4222 False Cypress Ln ', '16373 NW 16th St', '1538 Umpqua Dr', '2402 NW 22nd Rd ', '24 W 126th St ', '22702 Alderdale Ln', '1633 NE 15th St']\n",
      "Список последних уникальных значений: 377170              6121 Darby Ave\n",
      "377171          28025 Eagle Ray Ct\n",
      "377172            2210 NW 70th Ave\n",
      "377173         19743 N Sagamore Rd\n",
      "377174           1107 E Euclid Ave\n",
      "377175            9711 Lawngate Dr\n",
      "377177        2805 S Jennings Ave \n",
      "377179       2238 11th St NW APT 2\n",
      "377181    3530 N Lake Shore Dr #4B\n",
      "377182           15509 Linden Blvd\n",
      "Name: street, dtype: object\n"
     ]
    }
   ],
   "source": [
    "# выведем уникальные значения признака 'street'\n",
    "street_sum = df['street'].nunique()\n",
    "print(f'Количество уникальных значений:', street_sum)\n",
    "# строки с пропущенным значением в признаке 'street'\n",
    "cols_null_percent_street = df['street'].isnull().mean()\n",
    "num_st = df['street'].isna().sum()\n",
    "percent_street = cols_null_percent_street * 100\n",
    "\n",
    "print(f'Процент строк с пропущенным значением в признаке \"street\":', percent_street)\n",
    "print(f'Количество строк с пропущенным значением в признаке \"street\":', round(len(df['street']) * cols_null_percent_street))\n",
    "print(num_st)\n",
    "# выведем уникальные значения признака 'street'\n",
    "unique_values = df['street'].unique()\n",
    "a = (list(unique_values))\n",
    "print(f'Список первых уникальных значений:',a[:15])\n",
    "print(f'Список последних уникальных значений:',df['street'].tail(10))"
   ]
  },
  {
   "cell_type": "code",
   "execution_count": 229,
   "metadata": {},
   "outputs": [],
   "source": [
    "# удалим строки с пропущенным значением адреса\n",
    "df = df.dropna(subset=['street'])"
   ]
  },
  {
   "cell_type": "markdown",
   "metadata": {},
   "source": [
    "### Школы ('schools')"
   ]
  },
  {
   "cell_type": "code",
   "execution_count": 230,
   "metadata": {},
   "outputs": [
    {
     "name": "stdout",
     "output_type": "stream",
     "text": [
      "Количество уникальных значений: 233880\n",
      "Список первых уникальных значений: ['[{\\'rating\\': [\\'4\\', \\'4\\', \\'7\\', \\'NR\\', \\'4\\', \\'7\\', \\'NR\\', \\'NR\\'], \\'data\\': {\\'Distance\\': [\\'2.7 mi\\', \\'3.6 mi\\', \\'5.1 mi\\', \\'4.0 mi\\', \\'10.5 mi\\', \\'12.6 mi\\', \\'2.7 mi\\', \\'3.1 mi\\'], \\'Grades\\': [\\'3–5\\', \\'6–8\\', \\'9–12\\', \\'PK–2\\', \\'6–8\\', \\'9–12\\', \\'PK–5\\', \\'K–12\\']}, \\'name\\': [\\'Southern Pines Elementary School\\', \\'Southern Middle School\\', \\'Pinecrest High School\\', \\'Southern Pines Primary School\\', \"Crain\\'s Creek Middle School\", \\'Union Pines High School\\', \\'Episcopal Day Private School\\', \\'Calvary Christian Private School\\']}]']\n",
      "Список последних уникальных значений: 377175    [{'rating': ['2/10', '3/10', '3/10'], 'data': ...\n",
      "377177    [{'rating': ['4', '6', '5'], 'data': {'Distanc...\n",
      "377179    [{'rating': ['3/10', '3/10'], 'data': {'Distan...\n",
      "377181    [{'rating': ['1/10', '5/10', '7/10'], 'data': ...\n",
      "377182    [{'rating': ['5/10', '4/10'], 'data': {'Distan...\n",
      "Name: schools, dtype: object\n",
      "[{'rating': [], 'data': {'Distance': [], 'Grades': []}, 'name': []}]\n"
     ]
    }
   ],
   "source": [
    "# выведем уникальные значения признака 'schools'\n",
    "schools_sum = df['schools'].nunique()\n",
    "print(f'Количество уникальных значений:', schools_sum)\n",
    "unique_values = df['schools'].unique()\n",
    "a = (list(unique_values))\n",
    "print(f'Список первых уникальных значений:',a[:1])\n",
    "print(f'Список последних уникальных значений:',df['schools'].tail(5))\n",
    "print(df['schools'][5])"
   ]
  },
  {
   "cell_type": "markdown",
   "metadata": {},
   "source": [
    "Столбец \"школы\" ('schools') состоит из словаря, который имеет следующую структуру:\n",
    "1. Рейтинг\n",
    "2. Данные:\n",
    "    - дистанция\n",
    "    - классы\n",
    "3. Наименование\n",
    "\n",
    "Так как стоимость жилья очень зависит от наличия по-соседству хороших школ, то создадим новые столбцы по рейтингу 'max_rating' и 'mean_rating', а также 'mini_distance'  и 'mean_distance' в наших данных. Удалим строки вкоторых отсутствуют данные по рейтингу или дистанции."
   ]
  },
  {
   "cell_type": "code",
   "execution_count": 231,
   "metadata": {},
   "outputs": [],
   "source": [
    "# Найдем максимальный рейтинг школы. Пропуски заполним 0.\n",
    "def mx_rating(rating):\n",
    "    rating = rating[0].replace('/10', '0/10')\n",
    "    extracted_numbers =  [float(num) for num in rating if num.isdigit()]\n",
    "    max_rating = max(extracted_numbers) if extracted_numbers else 0\n",
    "    return round(max_rating, 1)\n",
    "\n",
    "# Создадим признак 'shcool_max_rating'\n",
    "df['school_max_rating'] = (df.schools.str.findall(r\"\\brating': ([\\s\\S]+?), 'data\\b\")\n",
    "    .apply(lambda x: mx_rating(x)))"
   ]
  },
  {
   "cell_type": "code",
   "execution_count": 232,
   "metadata": {},
   "outputs": [],
   "source": [
    "# Рассчитаем средний рейтинг школ\n",
    "def mn_rating(rating):\n",
    "    rating = rating[0].replace('/10', '0/10')\n",
    "    extracted_numbers = [float(num) for num in rating if num.isdigit()]\n",
    "    mean_rating = np.average(extracted_numbers) if extracted_numbers else -1\n",
    "    return round(mean_rating, 1)\n",
    "\n",
    "# Создадим признак 'shcool_mean_rating'. Пропуски заполним -1 \n",
    "df['school_mean_rating'] = (df.schools.str.findall(r\"\\brating': ([\\s\\S]+?), 'data\\b\")\n",
    "    .apply(lambda x: mn_rating(x)))"
   ]
  },
  {
   "cell_type": "code",
   "execution_count": 233,
   "metadata": {},
   "outputs": [],
   "source": [
    "# удалим строки, в котрых отсутствует информация о рейтинге школ\n",
    "index_rating = df[df['school_mean_rating'] == -1].index\n",
    "df.drop(index_rating, inplace = True) "
   ]
  },
  {
   "cell_type": "code",
   "execution_count": 234,
   "metadata": {},
   "outputs": [],
   "source": [
    "# Найдем минимальную дистанцию до школы. Пропуски заполним -1.\n",
    "def mini_dist(distance):\n",
    "    distance = distance[0].replace(' mi', '')\n",
    "    extracted_numbers =  [float(num) for num in distance if num.isdigit()]\n",
    "    min_distance = min(extracted_numbers) if extracted_numbers else -1\n",
    "    return round(min_distance, 1)\n",
    "\n",
    "# Создадим признак 'shcool_mini_distance'. \n",
    "df['school_mini_distance'] = (df.schools.str.findall(r\"\\brating': ([\\s\\S]+?), 'data\\b\")\n",
    "    .apply(lambda x: mini_dist(x)))"
   ]
  },
  {
   "cell_type": "code",
   "execution_count": 235,
   "metadata": {},
   "outputs": [],
   "source": [
    "# удалим строки, в котрых отсутствует информация о дистанции\n",
    "index_distance = df[df['school_mini_distance'] == -1].index\n",
    "df.drop(index_distance, inplace = True) "
   ]
  },
  {
   "cell_type": "code",
   "execution_count": 236,
   "metadata": {},
   "outputs": [],
   "source": [
    "# Рассчитаем среднюю дистанцию до школ\n",
    "def mn_dist(distance):\n",
    "    distance = distance[0].replace(' mi', '')\n",
    "    extracted_numbers = [float(num) for num in distance if num.isdigit()]\n",
    "    mean_distance = np.average(extracted_numbers) if extracted_numbers else 0\n",
    "    return round(mean_distance, 1)\n",
    "\n",
    "# Создадим признак 'shcool_mean_distance'. Пропуски заполним 0 \n",
    "df['shcool_mean_distance'] = (df.schools.str.findall(r\"\\brating': ([\\s\\S]+?), 'data\\b\")\n",
    "    .apply(lambda x: mn_dist(x)))"
   ]
  },
  {
   "cell_type": "code",
   "execution_count": 237,
   "metadata": {},
   "outputs": [],
   "source": [
    "# создадим новый признак с количеством школ 'school_names_count'\n",
    "def cnt_schools(name):\n",
    "    # Разделим строку на названия школ, используя запятые как разделитель\n",
    "    name = name[0].split(',') \n",
    "    # Посчитаем количество школ\n",
    "    school_count = len(name)\n",
    "    return school_count\n",
    "\n",
    "df['school_names_count'] = df.schools.str.findall(r\"\\brating': ([\\s\\S]+?), 'data\\b\").apply(lambda x: (cnt_schools(x)))"
   ]
  },
  {
   "cell_type": "code",
   "execution_count": 238,
   "metadata": {},
   "outputs": [],
   "source": [
    "# так как мне не известно нужен ли будет признак 'school_grades', то я его создам, но из данных пока удалю\n",
    "def grades_schools(Grades):\n",
    "    # Разделим строку на названия школ, используя запятые как разделитель\n",
    "    Grades = Grades[0].split(',') \n",
    "    return Grades\n",
    "\n",
    "df['school_grades'] = df.schools.str.findall(r\"\\brating': ([\\s\\S]+?), 'data\\b\").apply(lambda x: (grades_schools(x)))"
   ]
  },
  {
   "cell_type": "code",
   "execution_count": 239,
   "metadata": {},
   "outputs": [],
   "source": [
    "# удаление признака 'school_grades'\n",
    "df = df.drop(columns='school_grades')"
   ]
  },
  {
   "cell_type": "code",
   "execution_count": 240,
   "metadata": {},
   "outputs": [],
   "source": [
    "# удалим признак 'schools'\n",
    "df = df.drop(columns='schools')"
   ]
  },
  {
   "cell_type": "code",
   "execution_count": 241,
   "metadata": {},
   "outputs": [
    {
     "data": {
      "text/html": [
       "<div>\n",
       "<style scoped>\n",
       "    .dataframe tbody tr th:only-of-type {\n",
       "        vertical-align: middle;\n",
       "    }\n",
       "\n",
       "    .dataframe tbody tr th {\n",
       "        vertical-align: top;\n",
       "    }\n",
       "\n",
       "    .dataframe thead th {\n",
       "        text-align: right;\n",
       "    }\n",
       "</style>\n",
       "<table border=\"1\" class=\"dataframe\">\n",
       "  <thead>\n",
       "    <tr style=\"text-align: right;\">\n",
       "      <th></th>\n",
       "      <th>status</th>\n",
       "      <th>propertyType</th>\n",
       "      <th>street</th>\n",
       "      <th>baths</th>\n",
       "      <th>homeFacts</th>\n",
       "      <th>fireplace</th>\n",
       "      <th>city</th>\n",
       "      <th>sqft</th>\n",
       "      <th>zipcode</th>\n",
       "      <th>state</th>\n",
       "      <th>stories</th>\n",
       "      <th>target</th>\n",
       "      <th>pool</th>\n",
       "      <th>school_max_rating</th>\n",
       "      <th>school_mean_rating</th>\n",
       "      <th>school_mini_distance</th>\n",
       "      <th>shcool_mean_distance</th>\n",
       "      <th>school_names_count</th>\n",
       "    </tr>\n",
       "  </thead>\n",
       "  <tbody>\n",
       "    <tr>\n",
       "      <th>0</th>\n",
       "      <td>sale</td>\n",
       "      <td>family_home</td>\n",
       "      <td>240 Heather Ln</td>\n",
       "      <td>3.0</td>\n",
       "      <td>{'atAGlanceFacts': [{'factValue': '2019', 'fac...</td>\n",
       "      <td>Yes</td>\n",
       "      <td>Southern Pines</td>\n",
       "      <td>2900</td>\n",
       "      <td>28387</td>\n",
       "      <td>NC</td>\n",
       "      <td>0.0</td>\n",
       "      <td>$418,000</td>\n",
       "      <td>No</td>\n",
       "      <td>7.0</td>\n",
       "      <td>5.2</td>\n",
       "      <td>4.0</td>\n",
       "      <td>5.2</td>\n",
       "      <td>8</td>\n",
       "    </tr>\n",
       "    <tr>\n",
       "      <th>1</th>\n",
       "      <td>sale</td>\n",
       "      <td>family_home</td>\n",
       "      <td>12911 E Heroy Ave</td>\n",
       "      <td>3.0</td>\n",
       "      <td>{'atAGlanceFacts': [{'factValue': '2019', 'fac...</td>\n",
       "      <td>No</td>\n",
       "      <td>Spokane Valley</td>\n",
       "      <td>1947</td>\n",
       "      <td>99216</td>\n",
       "      <td>WA</td>\n",
       "      <td>2.0</td>\n",
       "      <td>$310,000</td>\n",
       "      <td>No</td>\n",
       "      <td>4.0</td>\n",
       "      <td>1.0</td>\n",
       "      <td>0.0</td>\n",
       "      <td>1.4</td>\n",
       "      <td>3</td>\n",
       "    </tr>\n",
       "  </tbody>\n",
       "</table>\n",
       "</div>"
      ],
      "text/plain": [
       "  status propertyType             street  baths   \n",
       "0   sale  family_home     240 Heather Ln    3.0  \\\n",
       "1   sale  family_home  12911 E Heroy Ave    3.0   \n",
       "\n",
       "                                           homeFacts fireplace   \n",
       "0  {'atAGlanceFacts': [{'factValue': '2019', 'fac...       Yes  \\\n",
       "1  {'atAGlanceFacts': [{'factValue': '2019', 'fac...        No   \n",
       "\n",
       "             city  sqft zipcode state  stories    target pool   \n",
       "0  Southern Pines  2900   28387    NC      0.0  $418,000   No  \\\n",
       "1  Spokane Valley  1947   99216    WA      2.0  $310,000   No   \n",
       "\n",
       "   school_max_rating  school_mean_rating  school_mini_distance   \n",
       "0                7.0                 5.2                   4.0  \\\n",
       "1                4.0                 1.0                   0.0   \n",
       "\n",
       "   shcool_mean_distance  school_names_count  \n",
       "0                   5.2                   8  \n",
       "1                   1.4                   3  "
      ]
     },
     "execution_count": 241,
     "metadata": {},
     "output_type": "execute_result"
    }
   ],
   "source": [
    "df.head(2)"
   ]
  },
  {
   "cell_type": "markdown",
   "metadata": {},
   "source": [
    "### Штат ('state')"
   ]
  },
  {
   "cell_type": "code",
   "execution_count": 242,
   "metadata": {},
   "outputs": [
    {
     "name": "stdout",
     "output_type": "stream",
     "text": [
      "Количество уникальных значений: 35\n",
      "Список первых уникальных значений: ['NC', 'WA', 'CA', 'TX', 'FL', 'IA', 'NY', 'OR', 'DC', 'NV']\n",
      "Список последних уникальных значений: 377175    TX\n",
      "377177    TX\n",
      "377179    DC\n",
      "377181    IL\n",
      "377182    NY\n",
      "Name: state, dtype: object\n"
     ]
    }
   ],
   "source": [
    "# выведем уникальные значения признака 'schools'\n",
    "state_sum = df['state'].nunique()\n",
    "print(f'Количество уникальных значений:', state_sum)\n",
    "unique_values = df['state'].unique()\n",
    "a = (list(unique_values))\n",
    "print(f'Список первых уникальных значений:',a[0:10])\n",
    "print(f'Список последних уникальных значений:',df['state'].tail(5))"
   ]
  },
  {
   "cell_type": "markdown",
   "metadata": {},
   "source": [
    "### Почтовый индекс ('zipcode)"
   ]
  },
  {
   "cell_type": "code",
   "execution_count": 243,
   "metadata": {},
   "outputs": [
    {
     "name": "stdout",
     "output_type": "stream",
     "text": [
      "Количество уникальных значений: 4340\n",
      "Список первых уникальных значений: ['28387', '99216', '90049', '75205', '34759', '50401', '11354', '77068', '33028', '97401']\n",
      "Список последних уникальных значений: 377175    77080\n",
      "377177    76110\n",
      "377179    20001\n",
      "377181    60657\n",
      "377182    11434\n",
      "Name: zipcode, dtype: object\n"
     ]
    }
   ],
   "source": [
    "# выведем уникальные значения признака 'schools'\n",
    "code_sum = df['zipcode'].nunique()\n",
    "print(f'Количество уникальных значений:', code_sum)\n",
    "unique_values = df['zipcode'].unique()\n",
    "a = (list(unique_values))\n",
    "print(f'Список первых уникальных значений:',a[0:10])\n",
    "print(f'Список последних уникальных значений:',df['zipcode'].tail(5))"
   ]
  },
  {
   "cell_type": "code",
   "execution_count": 244,
   "metadata": {},
   "outputs": [],
   "source": [
    "# оставим в признаке 'zipcode' первые шесть символов\n",
    "df['zipcode'] = df['zipcode'].str.slice(0, 6)\n",
    "# удалим '-'\n",
    "df['zipcode'] = df['zipcode'].str.replace('-','')"
   ]
  },
  {
   "cell_type": "code",
   "execution_count": 245,
   "metadata": {},
   "outputs": [],
   "source": [
    "# удалим строки с пустыми значениями\n",
    "df = df[df['zipcode'] != '']"
   ]
  },
  {
   "cell_type": "code",
   "execution_count": 246,
   "metadata": {},
   "outputs": [],
   "source": [
    "# переведем признак 'zipcode' в числовой тип\n",
    "df['zipcode'] = df['zipcode'].astype(int)"
   ]
  },
  {
   "cell_type": "markdown",
   "metadata": {},
   "source": [
    "### Сведения о строительстве объекта ('homeFacts')\n",
    "В признаке содержатся такие сведения, как:\n",
    "1. \"Год постройки\" ('Year built')\n",
    "2. \"Год реконструкции\" ('Remodeled year')\n",
    "3. \"Отопление\" ('Heating')\n",
    "4. \"Охлаждение\" ('Cooling')\n",
    "5. \"Парковка\" ('Parking')\n",
    "6. \"Размер участка\" ('lotsize')\n",
    "7. \"Цена/кв. фут\"  ('Price/sqft')"
   ]
  },
  {
   "cell_type": "code",
   "execution_count": 247,
   "metadata": {},
   "outputs": [
    {
     "name": "stdout",
     "output_type": "stream",
     "text": [
      "Количество уникальных значений: 263856\n",
      "Список первых уникальных значений: [\"{'atAGlanceFacts': [{'factValue': '2019', 'factLabel': 'Year built'}, {'factValue': '', 'factLabel': 'Remodeled year'}, {'factValue': 'Central A/C, Heat Pump', 'factLabel': 'Heating'}, {'factValue': '', 'factLabel': 'Cooling'}, {'factValue': '', 'factLabel': 'Parking'}, {'factValue': None, 'factLabel': 'lotsize'}, {'factValue': '$144', 'factLabel': 'Price/sqft'}]}\"]\n",
      "Список последних уникальных значений: 377175    {'atAGlanceFacts': [{'factValue': '1970', 'fac...\n",
      "377177    {'atAGlanceFacts': [{'factValue': '1921', 'fac...\n",
      "377179    {'atAGlanceFacts': [{'factValue': '2010', 'fac...\n",
      "377181    {'atAGlanceFacts': [{'factValue': '1924', 'fac...\n",
      "377182    {'atAGlanceFacts': [{'factValue': '1950', 'fac...\n",
      "Name: homeFacts, dtype: object\n"
     ]
    }
   ],
   "source": [
    "# выведем уникальные значения признака 'homeFacts'\n",
    "homeFacts_sum = df['homeFacts'].nunique()\n",
    "print(f'Количество уникальных значений:', homeFacts_sum)\n",
    "unique_values = df['homeFacts'].unique()\n",
    "a = (list(unique_values))\n",
    "print(f'Список первых уникальных значений:',a[:1])\n",
    "print(f'Список последних уникальных значений:',df['homeFacts'].tail(5))"
   ]
  },
  {
   "cell_type": "code",
   "execution_count": 248,
   "metadata": {},
   "outputs": [],
   "source": [
    "# извлечем названия сведений о строительстве объекта в список\n",
    "list_factLabel = df['homeFacts'].str.findall(r\"\\bfactLabel': ([\\s\\S]+?)[}\\b]\")\n",
    "# извлечем данные о строительстве объекта в список\n",
    "list_factValue = df['homeFacts'].str.findall(r\"\\bfactValue': ([\\s\\S]+?), 'factLabel\\b\")\n",
    "# создадим новые признаки, используя список названий сведений о строительстве\n",
    "list_label = ','.join(list_factLabel[0]).replace(\"'\",'').split(',')\n",
    "# заполним эти признаки значениями из признака 'homeFacts'\n",
    "for i, val in enumerate(list_label):\n",
    "    df[val]=list_factValue.apply(lambda x: x[i])"
   ]
  },
  {
   "cell_type": "code",
   "execution_count": 249,
   "metadata": {},
   "outputs": [],
   "source": [
    "# удалим признак 'homeFacts'\n",
    "df = df.drop(columns='homeFacts')"
   ]
  },
  {
   "cell_type": "markdown",
   "metadata": {},
   "source": [
    "### Год постройки ('Year built')"
   ]
  },
  {
   "cell_type": "code",
   "execution_count": 250,
   "metadata": {},
   "outputs": [
    {
     "name": "stdout",
     "output_type": "stream",
     "text": [
      "Количество уникальных значений: 228\n",
      "Список первых уникальных значений: [\"'2019'\", \"'1961'\", \"'2006'\", \"'1970'\", \"'1965'\", \"'2015'\", \"'1996'\", \"'2008'\", \"'1899'\", \"'2016'\"]\n",
      "Список последних уникальных значений: 377175    '1970'\n",
      "377177    '1921'\n",
      "377179    '2010'\n",
      "377181    '1924'\n",
      "377182    '1950'\n",
      "Name: Year built, dtype: object\n"
     ]
    }
   ],
   "source": [
    "# выведем уникальные значения признака 'Year built'\n",
    "year_built_sum = df['Year built'].nunique()\n",
    "print(f'Количество уникальных значений:', year_built_sum)\n",
    "unique_values = df['Year built'].unique()\n",
    "a = (list(unique_values))\n",
    "print(f'Список первых уникальных значений:',a[:10])\n",
    "print(f'Список последних уникальных значений:',df['Year built'].tail(5))"
   ]
  },
  {
   "cell_type": "code",
   "execution_count": 251,
   "metadata": {},
   "outputs": [],
   "source": [
    "# Удалим ковычки и пустоты\n",
    "df['Year built'] = df['Year built'].str.replace(\"'\",'', regex=True)\n",
    "df['Year built'] = df['Year built'].str.replace(\" \",'', regex=True)\n",
    "df['Year built'] = df['Year built'].str.replace(\"  \",'', regex=True)\n",
    "# изменим на нижний регистр\n",
    "df['Year built'] = df['Year built'].str.lower()"
   ]
  },
  {
   "cell_type": "code",
   "execution_count": 252,
   "metadata": {},
   "outputs": [],
   "source": [
    "df['Year built'] = df['Year built'].replace('nodata', '0')\n",
    "df['Year built'] = df['Year built'].replace('none', '0')"
   ]
  },
  {
   "cell_type": "code",
   "execution_count": 253,
   "metadata": {},
   "outputs": [],
   "source": [
    "# Заменим пропуски значением '0'\n",
    "df['Year built'] = df['Year built'].replace('', '0')"
   ]
  },
  {
   "cell_type": "code",
   "execution_count": 254,
   "metadata": {},
   "outputs": [
    {
     "data": {
      "text/plain": [
       "Year built\n",
       "2019    25335\n",
       "0       17343\n",
       "2006     6968\n",
       "2005     6495\n",
       "2007     6073\n",
       "        ...  \n",
       "1809        1\n",
       "1845        1\n",
       "1807        1\n",
       "1208        1\n",
       "1804        1\n",
       "Name: count, Length: 226, dtype: int64"
      ]
     },
     "execution_count": 254,
     "metadata": {},
     "output_type": "execute_result"
    }
   ],
   "source": [
    "df['Year built'].value_counts()"
   ]
  },
  {
   "cell_type": "code",
   "execution_count": 255,
   "metadata": {},
   "outputs": [],
   "source": [
    "# Конвертируем столбец Year built в числовой тип данных \n",
    "df['Year built'] = df['Year built'].astype(float)"
   ]
  },
  {
   "cell_type": "markdown",
   "metadata": {},
   "source": [
    "Заполним пропущенные значения в признаке 'Year biult' медианным значением данных, сгруппированных по значению признака 'zipcode', 'city', 'state'"
   ]
  },
  {
   "cell_type": "code",
   "execution_count": 256,
   "metadata": {},
   "outputs": [
    {
     "data": {
      "text/plain": [
       "status          propertyType  street                            baths  fireplace  city            sqft  zipcode  state  stories  target    pool  school_max_rating  school_mean_rating  school_mini_distance  shcool_mean_distance  school_names_count  Year built  Remodeled year  Heating                  Cooling                             Parking                                                         lotsize          Price/sqft    \n",
       "sale            family_home   SE 192nd St and  124th Ave SE     3.0    No         Renton          2733  98059    WA     0.0      $635,990  No    5.0                4.2                 3.0                   4.2                   8                   0.0         ''              ''                       ''                                  ''                                                              None             '$233'            3\n",
       "                other         0 Splashing Rock                  3.0    No         San Antonio     7426  78260    TX     0.0      50,000    No    8.0                3.0                 0.0                   3.0                   5                   0.0         ''              ''                       ''                                  ''                                                              '7,426 Sq. Ft.'  '$7 / Sq. Ft.'    3\n",
       "                family_home   11204 Sierra Gorda                2.0    No         Laredo          2680  78045    TX     0.0      $242,990  No    9.0                7.0                 4.0                   7.0                   8                   0.0         ''              ''                       ''                                  ''                                                              None             '$91'             2\n",
       "                              5494 Preston Bentley Dr           2.0    No         Jacksonville    2358  32218    FL     0.0      $246,990  No    7.0                3.2                 1.0                   3.2                   8                   0.0         ''              ''                       ''                                  ''                                                              None             '$105'            2\n",
       "                              15215 NE Woodinville-Duvall Road  3.0    No         Woodinville     3200  98072    WA     0.0      $923,990  No    8.0                6.6                 5.0                   6.6                   8                   0.0         ''              ''                       ''                                  ''                                                              None             '$289'            2\n",
       "                                                                                                                                                                                                                                                                                                                                                                                                                                                   ..\n",
       "                              28041 Wicklow Ct                  2.0    No         Bonita Springs  2245  34135    FL     1.0      $576,188  Yes   8.0                1.6                 0.0                   2.2                   24                  0.0         ''              ''                       ''                                  ''                                                              ''               '$257/sqft'       1\n",
       "                              28044 Wicklow Ct                  3.0    No         Bonita Springs  2445  34135    FL     1.0      $599,688  Yes   8.0                1.6                 0.0                   2.2                   24                  0.0         ''              ''                       ''                                  ''                                                              ''               '$245/sqft'       1\n",
       "                              28048 Dove Chase Dr               3.0    No         Spring          2240  77386    TX     2.0      $269,754  No    9.0                2.4                 0.0                   3.2                   3                   0.0         ''              'Gas'                    'Central'                           'Attached Garage'                                               ''               '$120/sqft'       1\n",
       "                              2805 Thompson Bluff Dr            2.0    No         Cary            1996  27519    NC     1.0      $503,085  No    9.0                1.4                 0.0                   1.8                   3                   0.0         ''              ''                       ''                                  '2 spaces'                                                      '-- sqft lot'    '$252'            1\n",
       "under_contract  family_home   700 Grandin Rd                    3.0    Yes        Charlotte       3335  28208    NC     2.0      $849,900  No    3.0                2.3                 1.0                   2.3                   8                   0.0         ''              ', Gas Hot Air/Furnace'  'Central Air, Gas Hot Air/Furnace'  'Detached Garage, Driveway, Garage - 2 Car, On-Street Parking'  '10019'          '$255'            1\n",
       "Name: count, Length: 17297, dtype: int64"
      ]
     },
     "execution_count": 256,
     "metadata": {},
     "output_type": "execute_result"
    }
   ],
   "source": [
    "df[df['Year built'] < 1700].value_counts()"
   ]
  },
  {
   "cell_type": "code",
   "execution_count": 257,
   "metadata": {},
   "outputs": [],
   "source": [
    "# Заменим значения в признаке 'Year built', которые меньше 1700 на медианные значения, сгруппированные по zipcode\n",
    "df['Year built'] = df.groupby('zipcode')['Year built'].transform(lambda x: x.median() if x.median() >= 1700 else x)\n",
    "# Для тех объектов, где нет ненулевых значений в группе по zipcode, признак 'Year built' заполним с группировкой по признаку 'city'\n",
    "df['Year built'] = df.groupby('city')['Year built'].transform(lambda x: x.median() if x.median() >= 1700 else x)\n",
    "# Для тех объектов, где нет ненулевых значений в группе по zipcode и city, признак 'Year built' заполним с группировкой по признаку 'state'\n",
    "df['Year built'] = df.groupby('state')['Year built'].transform(lambda x: x.median() if x.median() >= 1700 else x)"
   ]
  },
  {
   "cell_type": "code",
   "execution_count": 258,
   "metadata": {},
   "outputs": [
    {
     "data": {
      "text/html": [
       "<div>\n",
       "<style scoped>\n",
       "    .dataframe tbody tr th:only-of-type {\n",
       "        vertical-align: middle;\n",
       "    }\n",
       "\n",
       "    .dataframe tbody tr th {\n",
       "        vertical-align: top;\n",
       "    }\n",
       "\n",
       "    .dataframe thead th {\n",
       "        text-align: right;\n",
       "    }\n",
       "</style>\n",
       "<table border=\"1\" class=\"dataframe\">\n",
       "  <thead>\n",
       "    <tr style=\"text-align: right;\">\n",
       "      <th></th>\n",
       "      <th>status</th>\n",
       "      <th>propertyType</th>\n",
       "      <th>street</th>\n",
       "      <th>baths</th>\n",
       "      <th>fireplace</th>\n",
       "      <th>city</th>\n",
       "      <th>sqft</th>\n",
       "      <th>zipcode</th>\n",
       "      <th>state</th>\n",
       "      <th>stories</th>\n",
       "      <th>...</th>\n",
       "      <th>school_mini_distance</th>\n",
       "      <th>shcool_mean_distance</th>\n",
       "      <th>school_names_count</th>\n",
       "      <th>Year built</th>\n",
       "      <th>Remodeled year</th>\n",
       "      <th>Heating</th>\n",
       "      <th>Cooling</th>\n",
       "      <th>Parking</th>\n",
       "      <th>lotsize</th>\n",
       "      <th>Price/sqft</th>\n",
       "    </tr>\n",
       "  </thead>\n",
       "  <tbody>\n",
       "    <tr>\n",
       "      <th>101135</th>\n",
       "      <td>sale</td>\n",
       "      <td>condo</td>\n",
       "      <td>16B 38 N</td>\n",
       "      <td>1.0</td>\n",
       "      <td>No</td>\n",
       "      <td>Playa</td>\n",
       "      <td>555</td>\n",
       "      <td>77720</td>\n",
       "      <td>DE</td>\n",
       "      <td>1.0</td>\n",
       "      <td>...</td>\n",
       "      <td>0.0</td>\n",
       "      <td>1.4</td>\n",
       "      <td>3</td>\n",
       "      <td>0.0</td>\n",
       "      <td>''</td>\n",
       "      <td>'Forced air'</td>\n",
       "      <td>''</td>\n",
       "      <td>''</td>\n",
       "      <td>'-- sqft lot'</td>\n",
       "      <td>'$315'</td>\n",
       "    </tr>\n",
       "    <tr>\n",
       "      <th>122666</th>\n",
       "      <td>sale</td>\n",
       "      <td>condo</td>\n",
       "      <td>402B 38 N. Gonzalo Guerrero # 402B</td>\n",
       "      <td>1.0</td>\n",
       "      <td>No</td>\n",
       "      <td>Playa</td>\n",
       "      <td>558</td>\n",
       "      <td>77720</td>\n",
       "      <td>DE</td>\n",
       "      <td>1.0</td>\n",
       "      <td>...</td>\n",
       "      <td>0.0</td>\n",
       "      <td>1.4</td>\n",
       "      <td>3</td>\n",
       "      <td>0.0</td>\n",
       "      <td>''</td>\n",
       "      <td>'Forced air'</td>\n",
       "      <td>''</td>\n",
       "      <td>''</td>\n",
       "      <td>'-- sqft lot'</td>\n",
       "      <td>'$344'</td>\n",
       "    </tr>\n",
       "    <tr>\n",
       "      <th>143930</th>\n",
       "      <td>sale</td>\n",
       "      <td>condo</td>\n",
       "      <td>A506 Flamingo Avenue &amp; 46 N # A506</td>\n",
       "      <td>2.0</td>\n",
       "      <td>No</td>\n",
       "      <td>Playa</td>\n",
       "      <td>3301</td>\n",
       "      <td>77710</td>\n",
       "      <td>DE</td>\n",
       "      <td>2.0</td>\n",
       "      <td>...</td>\n",
       "      <td>0.0</td>\n",
       "      <td>1.4</td>\n",
       "      <td>3</td>\n",
       "      <td>0.0</td>\n",
       "      <td>''</td>\n",
       "      <td>'Forced air'</td>\n",
       "      <td>''</td>\n",
       "      <td>''</td>\n",
       "      <td>'-- sqft lot'</td>\n",
       "      <td>'$401'</td>\n",
       "    </tr>\n",
       "  </tbody>\n",
       "</table>\n",
       "<p>3 rows × 24 columns</p>\n",
       "</div>"
      ],
      "text/plain": [
       "       status propertyType                              street  baths   \n",
       "101135   sale        condo                            16B 38 N    1.0  \\\n",
       "122666   sale        condo  402B 38 N. Gonzalo Guerrero # 402B    1.0   \n",
       "143930   sale        condo  A506 Flamingo Avenue & 46 N # A506    2.0   \n",
       "\n",
       "       fireplace   city  sqft  zipcode state  stories  ...   \n",
       "101135        No  Playa   555    77720    DE      1.0  ...  \\\n",
       "122666        No  Playa   558    77720    DE      1.0  ...   \n",
       "143930        No  Playa  3301    77710    DE      2.0  ...   \n",
       "\n",
       "       school_mini_distance shcool_mean_distance  school_names_count   \n",
       "101135                  0.0                  1.4                   3  \\\n",
       "122666                  0.0                  1.4                   3   \n",
       "143930                  0.0                  1.4                   3   \n",
       "\n",
       "        Year built  Remodeled year       Heating  Cooling  Parking   \n",
       "101135         0.0              ''  'Forced air'       ''       ''  \\\n",
       "122666         0.0              ''  'Forced air'       ''       ''   \n",
       "143930         0.0              ''  'Forced air'       ''       ''   \n",
       "\n",
       "              lotsize Price/sqft  \n",
       "101135  '-- sqft lot'     '$315'  \n",
       "122666  '-- sqft lot'     '$344'  \n",
       "143930  '-- sqft lot'     '$401'  \n",
       "\n",
       "[3 rows x 24 columns]"
      ]
     },
     "execution_count": 258,
     "metadata": {},
     "output_type": "execute_result"
    }
   ],
   "source": [
    "df[df['Year built'] < 1700]"
   ]
  },
  {
   "cell_type": "markdown",
   "metadata": {},
   "source": [
    "Удаляем эти два объекта, так как не можем заполнить год строительства. На сайте https://www.zip-codes.com/ по указанным выше адресам zipcode также не определить."
   ]
  },
  {
   "cell_type": "code",
   "execution_count": 259,
   "metadata": {},
   "outputs": [],
   "source": [
    "# удаление объектов, по котором нет возможности заполнить zipcode\n",
    "df = df[df['Year built'] != 0]"
   ]
  },
  {
   "cell_type": "code",
   "execution_count": 260,
   "metadata": {},
   "outputs": [
    {
     "name": "stdout",
     "output_type": "stream",
     "text": [
      "<class 'pandas.core.frame.DataFrame'>\n",
      "Index: 281232 entries, 0 to 377182\n",
      "Data columns (total 24 columns):\n",
      " #   Column                Non-Null Count   Dtype  \n",
      "---  ------                --------------   -----  \n",
      " 0   status                281232 non-null  object \n",
      " 1   propertyType          281232 non-null  object \n",
      " 2   street                281232 non-null  object \n",
      " 3   baths                 281232 non-null  float64\n",
      " 4   fireplace             281232 non-null  object \n",
      " 5   city                  281232 non-null  object \n",
      " 6   sqft                  281232 non-null  int32  \n",
      " 7   zipcode               281232 non-null  int32  \n",
      " 8   state                 281232 non-null  object \n",
      " 9   stories               281232 non-null  float64\n",
      " 10  target                279774 non-null  object \n",
      " 11  pool                  281232 non-null  object \n",
      " 12  school_max_rating     281232 non-null  float64\n",
      " 13  school_mean_rating    281232 non-null  float64\n",
      " 14  school_mini_distance  281232 non-null  float64\n",
      " 15  shcool_mean_distance  281232 non-null  float64\n",
      " 16  school_names_count    281232 non-null  int64  \n",
      " 17  Year built            281232 non-null  float64\n",
      " 18  Remodeled year        281232 non-null  object \n",
      " 19  Heating               281232 non-null  object \n",
      " 20  Cooling               281232 non-null  object \n",
      " 21  Parking               281232 non-null  object \n",
      " 22  lotsize               281232 non-null  object \n",
      " 23  Price/sqft            281232 non-null  object \n",
      "dtypes: float64(7), int32(2), int64(1), object(14)\n",
      "memory usage: 51.5+ MB\n"
     ]
    }
   ],
   "source": [
    "df.info()"
   ]
  },
  {
   "cell_type": "markdown",
   "metadata": {},
   "source": [
    "### Год реконструкции ('Remodeled year')"
   ]
  },
  {
   "cell_type": "code",
   "execution_count": 261,
   "metadata": {},
   "outputs": [
    {
     "name": "stdout",
     "output_type": "stream",
     "text": [
      "Количество уникальных значений: 152\n",
      "Список первых уникальных значений: [\"''\", \"'1967'\", \"'2006'\", \"'2015'\", \"'1997'\", \"'2019'\", \"'2009'\", \"'2007'\", \"'1996'\", \"'1995'\"]\n",
      "Список последних уникальных значений: 377175    '1970'\n",
      "377177        ''\n",
      "377179      None\n",
      "377181        ''\n",
      "377182    '1950'\n",
      "Name: Remodeled year, dtype: object\n"
     ]
    }
   ],
   "source": [
    "# выведем уникальные значения признака 'Year built'\n",
    "rem_year_sum = df['Remodeled year'].nunique()\n",
    "print(f'Количество уникальных значений:', rem_year_sum)\n",
    "unique_values = df['Remodeled year'].unique()\n",
    "a = (list(unique_values))\n",
    "print(f'Список первых уникальных значений:',a[:10])\n",
    "print(f'Список последних уникальных значений:',df['Remodeled year'].tail(5))"
   ]
  },
  {
   "cell_type": "code",
   "execution_count": 262,
   "metadata": {},
   "outputs": [],
   "source": [
    "# Удалим ковычки\n",
    "df['Remodeled year'] = df['Remodeled year'].str.replace(\"'\",'', regex=True)\n",
    "# изменим на нижний регистр\n",
    "df['Remodeled year'] = df['Remodeled year'].str.lower()\n",
    "# уберем значения 'no data' и 'none'\n",
    "df['Remodeled year'] = df['Remodeled year'].str.replace(\"no data\",'', regex=True)\n",
    "df['Remodeled year'] = df['Remodeled year'].str.replace(\"none\",'', regex=True)"
   ]
  },
  {
   "cell_type": "code",
   "execution_count": 263,
   "metadata": {},
   "outputs": [
    {
     "data": {
      "text/plain": [
       "Remodeled year\n",
       "        157705\n",
       "2006      4733\n",
       "2005      4009\n",
       "2007      3544\n",
       "2008      2911\n",
       "         ...  \n",
       "1888         1\n",
       "1800         1\n",
       "1897         1\n",
       "1874         1\n",
       "1862         1\n",
       "Name: count, Length: 151, dtype: int64"
      ]
     },
     "execution_count": 263,
     "metadata": {},
     "output_type": "execute_result"
    }
   ],
   "source": [
    "df['Remodeled year'].value_counts()"
   ]
  },
  {
   "cell_type": "code",
   "execution_count": 264,
   "metadata": {},
   "outputs": [
    {
     "data": {
      "text/plain": [
       "Remodeled\n",
       "No     157705\n",
       "Yes    123527\n",
       "Name: count, dtype: int64"
      ]
     },
     "execution_count": 264,
     "metadata": {},
     "output_type": "execute_result"
    }
   ],
   "source": [
    "# если указан год реконструкции, то в признаке укажем Да, при отсутствии года укажем Нет - реконструкции не было.\n",
    "df['Remodeled year'] = df['Remodeled year'].str.replace('','No', regex=True)\n",
    "df['Remodeled year'] = df['Remodeled year'].apply(lambda x: 'Yes' if x not in ['No'] else 'No')\n",
    "# переименуем столбец 'Remodeled year'\n",
    "df.rename(columns = {'Remodeled year':'Remodeled'}, inplace = True)\n",
    "df['Remodeled'].value_counts()"
   ]
  },
  {
   "cell_type": "markdown",
   "metadata": {},
   "source": [
    "### Отопление ('Heating')"
   ]
  },
  {
   "cell_type": "code",
   "execution_count": 265,
   "metadata": {},
   "outputs": [
    {
     "name": "stdout",
     "output_type": "stream",
     "text": [
      "Количество уникальных значений: 1888\n",
      "Список первых уникальных значений: [\"'Central A/C, Heat Pump'\", \"''\", \"'Forced Air'\", \"'Electric, Heat Pump'\", \"'Central Electric'\", \"'Forced air'\", \"'Other'\"]\n",
      "Список последних уникальных значений: 377170    'Forced air'\n",
      "377171    'Forced Air'\n",
      "377172    'Forced air'\n",
      "377173    'Forced Air'\n",
      "377174          'Wall'\n",
      "377175         'Other'\n",
      "377177              ''\n",
      "377179    'Forced air'\n",
      "377181       'Radiant'\n",
      "377182         'Other'\n",
      "Name: Heating, dtype: object\n"
     ]
    }
   ],
   "source": [
    "# выведем уникальные значения признака 'Heating'\n",
    "heating_sum = df['Heating'].nunique()\n",
    "print(f'Количество уникальных значений:', heating_sum)\n",
    "unique_values = df['Heating'].unique()\n",
    "a = (list(unique_values))\n",
    "print(f'Список первых уникальных значений:',a[:7])\n",
    "print(f'Список последних уникальных значений:',df['Heating'].tail(10))"
   ]
  },
  {
   "cell_type": "code",
   "execution_count": 266,
   "metadata": {},
   "outputs": [],
   "source": [
    "# Удалим ковычки\n",
    "df['Heating'] = df['Heating'].str.replace(\"'\",'', regex=True)\n",
    "# изменим на нижний регистр\n",
    "df['Heating'] = df['Heating'].str.lower()\n",
    "# уберем значения 'no data' и 'none'\n",
    "df['Heating'] = df['Heating'].str.replace(\"no data\",'', regex=True)\n",
    "df['Heating'] = df['Heating'].str.replace(\"none\",'', regex=True)"
   ]
  },
  {
   "cell_type": "code",
   "execution_count": 267,
   "metadata": {},
   "outputs": [
    {
     "name": "stdout",
     "output_type": "stream",
     "text": [
      "Количество уникальных значений: 1820\n"
     ]
    }
   ],
   "source": [
    "heating_sum = df['Heating'].nunique()\n",
    "print(f'Количество уникальных значений:', heating_sum)"
   ]
  },
  {
   "cell_type": "code",
   "execution_count": 268,
   "metadata": {},
   "outputs": [
    {
     "data": {
      "text/plain": [
       "Heating\n",
       "forced air                                                                 111096\n",
       "                                                                            64975\n",
       "other                                                                       22915\n",
       "heat pump                                                                    7766\n",
       "central electric                                                             7024\n",
       "                                                                            ...  \n",
       "master closet-tankless                                                          1\n",
       "both refrigerative & evaporative cooling, refrigeration, ceiling fan(s)         1\n",
       "pellet                                                                          1\n",
       "central, combination                                                            1\n",
       "baseboard, hot water, programmable thermostat, radiant floor                    1\n",
       "Name: count, Length: 1820, dtype: int64"
      ]
     },
     "execution_count": 268,
     "metadata": {},
     "output_type": "execute_result"
    }
   ],
   "source": [
    "df['Heating'].value_counts()"
   ]
  },
  {
   "cell_type": "code",
   "execution_count": 269,
   "metadata": {},
   "outputs": [],
   "source": [
    "# укрупним информацию о наличии отопления на \"нет\" и \"да\"\n",
    "df['Heating'] = df['Heating'].str.replace('','No', regex=True)\n",
    "df['Heating'] = df['Heating'].apply(lambda x: 'Yes' if x not in ['No'] else 'No')"
   ]
  },
  {
   "cell_type": "code",
   "execution_count": 270,
   "metadata": {},
   "outputs": [
    {
     "data": {
      "text/plain": [
       "Heating\n",
       "Yes    216257\n",
       "No      64975\n",
       "Name: count, dtype: int64"
      ]
     },
     "execution_count": 270,
     "metadata": {},
     "output_type": "execute_result"
    }
   ],
   "source": [
    "df['Heating'].value_counts()"
   ]
  },
  {
   "cell_type": "markdown",
   "metadata": {},
   "source": [
    "### Охлаждение ('Cooling)"
   ]
  },
  {
   "cell_type": "code",
   "execution_count": 271,
   "metadata": {},
   "outputs": [
    {
     "name": "stdout",
     "output_type": "stream",
     "text": [
      "Количество уникальных значений: 1375\n",
      "Список первых уникальных значений: [\"''\", \"'Central'\", \"'Central Air'\", \"'Central Gas'\", \"'Central, Evaporative'\", \"'Has Cooling'\", \"'Air Conditioning Unit(s), Ceiling Fan(s)'\"]\n",
      "Список последних уникальных значений: 377175                                            'Central'\n",
      "377177    'Central A/C (Electric), Central Heat (Electric)'\n",
      "377179                                            'Central'\n",
      "377181                                                   ''\n",
      "377182                                                   ''\n",
      "Name: Cooling, dtype: object\n"
     ]
    }
   ],
   "source": [
    "# выведем уникальные значения признака 'Cooling'\n",
    "cooling_sum = df['Cooling'].nunique()\n",
    "print(f'Количество уникальных значений:', cooling_sum)\n",
    "unique_values = df['Cooling'].unique()\n",
    "a = (list(unique_values))\n",
    "print(f'Список первых уникальных значений:',a[:7])\n",
    "print(f'Список последних уникальных значений:',df['Cooling'].tail(5))"
   ]
  },
  {
   "cell_type": "code",
   "execution_count": 272,
   "metadata": {},
   "outputs": [],
   "source": [
    "# Удалим ковычки\n",
    "df['Cooling'] = df['Cooling'].str.replace(\"'\",'', regex=True)\n",
    "# изменим на нижний регистр\n",
    "df['Cooling'] = df['Cooling'].str.lower()\n",
    "# уберем значения 'no data' и 'none'\n",
    "df['Cooling'] = df['Cooling'].str.replace(\"no data\",'', regex=True)\n",
    "df['Cooling'] = df['Cooling'].str.replace(\"none\",'', regex=True)"
   ]
  },
  {
   "cell_type": "code",
   "execution_count": 273,
   "metadata": {},
   "outputs": [
    {
     "data": {
      "text/plain": [
       "Cooling\n",
       "central                                                                               126658\n",
       "                                                                                       83014\n",
       "central air                                                                            14102\n",
       "has cooling                                                                             8755\n",
       "central electric                                                                        5880\n",
       "                                                                                       ...  \n",
       "central air, electric hot air, heat pump for heat, multi-zone a/c, multi-zone heat         1\n",
       "forced air heating, radiator heat, wall heat                                               1\n",
       "air conditioning, dual                                                                     1\n",
       "dehumidifier                                                                               1\n",
       "central a/c (gas), central heat (gas), heat pump                                           1\n",
       "Name: count, Length: 1364, dtype: int64"
      ]
     },
     "execution_count": 273,
     "metadata": {},
     "output_type": "execute_result"
    }
   ],
   "source": [
    "df['Cooling'].value_counts()"
   ]
  },
  {
   "cell_type": "code",
   "execution_count": 274,
   "metadata": {},
   "outputs": [],
   "source": [
    "# укрупним информацию о наличии охлождения на \"нет\" и \"да\"\n",
    "df['Cooling'] = df['Cooling'].str.replace('','No', regex=True)\n",
    "df['Cooling'] = df['Cooling'].apply(lambda x: 'Yes' if x not in ['No'] else 'No')"
   ]
  },
  {
   "cell_type": "code",
   "execution_count": 275,
   "metadata": {},
   "outputs": [
    {
     "data": {
      "text/plain": [
       "Cooling\n",
       "Yes    198218\n",
       "No      83014\n",
       "Name: count, dtype: int64"
      ]
     },
     "execution_count": 275,
     "metadata": {},
     "output_type": "execute_result"
    }
   ],
   "source": [
    "df['Cooling'].value_counts()"
   ]
  },
  {
   "cell_type": "markdown",
   "metadata": {},
   "source": [
    "### Парковка ('Parking)"
   ]
  },
  {
   "cell_type": "code",
   "execution_count": 276,
   "metadata": {},
   "outputs": [
    {
     "name": "stdout",
     "output_type": "stream",
     "text": [
      "Количество уникальных значений: 3177\n",
      "Список первых уникальных значений: [\"''\", \"'Attached Garage'\", \"'Detached Garage'\", \"'Carport, Attached Garage'\", \"'4 spaces'\", \"'Off Street'\", \"'None'\"]\n",
      "Список последних уникальных значений: 377175    'Detached Garage'\n",
      "377177                   ''\n",
      "377179            '1 space'\n",
      "377181               'None'\n",
      "377182                  '2'\n",
      "Name: Parking, dtype: object\n"
     ]
    }
   ],
   "source": [
    "# выведем уникальные значения признака 'Parking'\n",
    "parking_sum = df['Parking'].nunique()\n",
    "print(f'Количество уникальных значений:', parking_sum)\n",
    "unique_values = df['Parking'].unique()\n",
    "a = (list(unique_values))\n",
    "print(f'Список первых уникальных значений:',a[:7])\n",
    "print(f'Список последних уникальных значений:',df['Parking'].tail(5))"
   ]
  },
  {
   "cell_type": "code",
   "execution_count": 277,
   "metadata": {},
   "outputs": [],
   "source": [
    "# Удалим ковычки\n",
    "df['Parking'] = df['Parking'].str.replace(\"'\",'', regex=True)\n",
    "# изменим на нижний регистр\n",
    "df['Parking'] = df['Parking'].str.lower()\n",
    "# уберем значения 'no data' и 'none'\n",
    "df['Parking'] = df['Parking'].str.replace(\"no data\",'', regex=True)\n",
    "df['Parking'] = df['Parking'].str.replace(\"none\",'', regex=True)"
   ]
  },
  {
   "cell_type": "code",
   "execution_count": 278,
   "metadata": {},
   "outputs": [
    {
     "data": {
      "text/plain": [
       "Parking\n",
       "                                                                                                                                    127995\n",
       "attached garage                                                                                                                      64721\n",
       "2 spaces                                                                                                                             15941\n",
       "detached garage                                                                                                                      12169\n",
       "1 space                                                                                                                               7736\n",
       "                                                                                                                                     ...  \n",
       "detached, electric door opener, extnded lngth garage, gated parking, slab parking spaces                                                 1\n",
       "boat, driveway                                                                                                                           1\n",
       "circle drive, driveway paved, rv-boat, under bldg closed                                                                                 1\n",
       "aspht, gravl                                                                                                                             1\n",
       "deed restrictions, fitness, gated community, golf carts ok, no truck/rv/motorcycle parking, pool, special community restrictions         1\n",
       "Name: count, Length: 3147, dtype: int64"
      ]
     },
     "execution_count": 278,
     "metadata": {},
     "output_type": "execute_result"
    }
   ],
   "source": [
    "df['Parking'].value_counts()"
   ]
  },
  {
   "cell_type": "code",
   "execution_count": 279,
   "metadata": {},
   "outputs": [],
   "source": [
    "# укрупним информацию о наличии парковочного места на \"нет\" и \"да\"\n",
    "df['Parking'] = df['Parking'].str.replace('','No', regex=True)\n",
    "df['Parking'] = df['Parking'].apply(lambda x: 'Yes' if x not in ['No'] else 'No')"
   ]
  },
  {
   "cell_type": "code",
   "execution_count": 280,
   "metadata": {},
   "outputs": [
    {
     "data": {
      "text/plain": [
       "Parking\n",
       "Yes    153237\n",
       "No     127995\n",
       "Name: count, dtype: int64"
      ]
     },
     "execution_count": 280,
     "metadata": {},
     "output_type": "execute_result"
    }
   ],
   "source": [
    "df['Parking'].value_counts()"
   ]
  },
  {
   "cell_type": "markdown",
   "metadata": {},
   "source": [
    "### Размер участка ('lotsize')\n"
   ]
  },
  {
   "cell_type": "code",
   "execution_count": 281,
   "metadata": {},
   "outputs": [
    {
     "name": "stdout",
     "output_type": "stream",
     "text": [
      "Количество уникальных значений: 32777\n",
      "Список первых уникальных значений: ['None', \"'5828 sqft'\", \"'8,626 sqft'\", \"'8,220 sqft'\", \"'4,996 Sq. Ft.'\", \"'124582'\", \"'1.73 acres'\"]\n",
      "Список последних уникальных значений: 377175       '6,599 sqft'\n",
      "377177    '7,500 Sq. Ft.'\n",
      "377179               None\n",
      "377181                 ''\n",
      "377182       '1,600 sqft'\n",
      "Name: lotsize, dtype: object\n"
     ]
    }
   ],
   "source": [
    "# выведем уникальные значения признака 'Lotsize'\n",
    "lotsize_sum = df['lotsize'].nunique()\n",
    "print(f'Количество уникальных значений:', lotsize_sum)\n",
    "unique_values = df['lotsize'].unique()\n",
    "a = (list(unique_values))\n",
    "print(f'Список первых уникальных значений:',a[:7])\n",
    "print(f'Список последних уникальных значений:',df['lotsize'].tail(5))"
   ]
  },
  {
   "cell_type": "code",
   "execution_count": 282,
   "metadata": {},
   "outputs": [
    {
     "data": {
      "text/plain": [
       "lotsize\n",
       "                61447\n",
       "                 3650\n",
       "0.26 acres       2326\n",
       "0.28 acres       1977\n",
       "0.27 acres       1896\n",
       "                ...  \n",
       "13.31 acres         1\n",
       "107.16 acres        1\n",
       "7340                1\n",
       "6.90 acres          1\n",
       "7084                1\n",
       "Name: count, Length: 19307, dtype: int64"
      ]
     },
     "execution_count": 282,
     "metadata": {},
     "output_type": "execute_result"
    }
   ],
   "source": [
    "# Удалим ковычки, запятые, qft и прочее\n",
    "df['lotsize'] = df['lotsize'].str.replace(\"'\",'', regex=True)\n",
    "df['lotsize'] = df['lotsize'].str.lower()\n",
    "df['lotsize'] = df['lotsize'].str.replace(\" sqft\",'', regex=True)\n",
    "df['lotsize'] = df['lotsize'].str.replace(\" sq. ft.\",'', regex=True)\n",
    "df['lotsize'] = df['lotsize'].str.replace(\",\",'', regex=True)\n",
    "df['lotsize'] = df['lotsize'].str.replace(\"none\",'', regex=True)\n",
    "df['lotsize'] = df['lotsize'].str.replace(\"no data\",'', regex=True)\n",
    "df['lotsize'] = df['lotsize'].str.replace(\"—\",'', regex=True)\n",
    "df['lotsize'] = df['lotsize'].str.replace(\"--\",'', regex=True)\n",
    "df['lotsize'] = df['lotsize'].str.replace(\"lot\",'', regex=True)\n",
    "df['lotsize'].value_counts()"
   ]
  },
  {
   "cell_type": "markdown",
   "metadata": {},
   "source": [
    "### Цена/кв. фут  ('Price/sqft')"
   ]
  },
  {
   "cell_type": "code",
   "execution_count": 283,
   "metadata": {},
   "outputs": [
    {
     "data": {
      "text/plain": [
       "Price/sqft\n",
       "        7181\n",
       "123     1525\n",
       "125     1522\n",
       "121     1516\n",
       "128     1515\n",
       "        ... \n",
       "3978       1\n",
       "2846       1\n",
       "6598       1\n",
       "2845       1\n",
       "1620       1\n",
       "Name: count, Length: 2910, dtype: int64"
      ]
     },
     "execution_count": 283,
     "metadata": {},
     "output_type": "execute_result"
    }
   ],
   "source": [
    "# Удалим все буквы, пробелы и двоеточия, $ и sqft, прочее\n",
    "df['Price/sqft'] = df['Price/sqft'].str.lower()\n",
    "df['Price/sqft'] = df['Price/sqft'].str.replace(\"none\",'', regex=True)\n",
    "df['Price/sqft'] = df['Price/sqft'].str.replace(\"no data\",'', regex=True)\n",
    "df['Price/sqft'] = df['Price/sqft'].str.replace(\"no info\",'', regex=True)\n",
    "df['Price/sqft'] = df['Price/sqft'].str.replace('$', '')\n",
    "df['Price/sqft'] = df['Price/sqft'].str.replace('sqft', '')\n",
    "df['Price/sqft'] = df['Price/sqft'].str.replace('sq. ft.', '')\n",
    "df['Price/sqft'] = df['Price/sqft'].str.replace('/', '')\n",
    "df['Price/sqft'] = df['Price/sqft'].str.replace(\"'\", '')\n",
    "df['Price/sqft'] = df['Price/sqft'].str.replace(\",\", '')\n",
    "df['Price/sqft'] = df['Price/sqft'].str.replace(\" \", '')\n",
    "df['Price/sqft'].value_counts()"
   ]
  },
  {
   "cell_type": "markdown",
   "metadata": {},
   "source": [
    "##### Так как в признаках 'lotsize' и 'Price/sqft' много пропусков, плюс информация об общей стоимость недвижимость и площадь объекта у нас есть, то эти два признака мы удалим."
   ]
  },
  {
   "cell_type": "code",
   "execution_count": 284,
   "metadata": {},
   "outputs": [],
   "source": [
    "# удаление признака 'lotsize' и 'Price/sqft'\n",
    "df = df.drop(['lotsize', 'Price/sqft'],  axis=1)"
   ]
  },
  {
   "cell_type": "code",
   "execution_count": 285,
   "metadata": {},
   "outputs": [
    {
     "data": {
      "text/html": [
       "<div>\n",
       "<style scoped>\n",
       "    .dataframe tbody tr th:only-of-type {\n",
       "        vertical-align: middle;\n",
       "    }\n",
       "\n",
       "    .dataframe tbody tr th {\n",
       "        vertical-align: top;\n",
       "    }\n",
       "\n",
       "    .dataframe thead th {\n",
       "        text-align: right;\n",
       "    }\n",
       "</style>\n",
       "<table border=\"1\" class=\"dataframe\">\n",
       "  <thead>\n",
       "    <tr style=\"text-align: right;\">\n",
       "      <th></th>\n",
       "      <th>status</th>\n",
       "      <th>propertyType</th>\n",
       "      <th>street</th>\n",
       "      <th>baths</th>\n",
       "      <th>fireplace</th>\n",
       "      <th>city</th>\n",
       "      <th>sqft</th>\n",
       "      <th>zipcode</th>\n",
       "      <th>state</th>\n",
       "      <th>stories</th>\n",
       "      <th>...</th>\n",
       "      <th>school_max_rating</th>\n",
       "      <th>school_mean_rating</th>\n",
       "      <th>school_mini_distance</th>\n",
       "      <th>shcool_mean_distance</th>\n",
       "      <th>school_names_count</th>\n",
       "      <th>Year built</th>\n",
       "      <th>Remodeled</th>\n",
       "      <th>Heating</th>\n",
       "      <th>Cooling</th>\n",
       "      <th>Parking</th>\n",
       "    </tr>\n",
       "  </thead>\n",
       "  <tbody>\n",
       "    <tr>\n",
       "      <th>0</th>\n",
       "      <td>sale</td>\n",
       "      <td>family_home</td>\n",
       "      <td>240 Heather Ln</td>\n",
       "      <td>3.0</td>\n",
       "      <td>Yes</td>\n",
       "      <td>Southern Pines</td>\n",
       "      <td>2900</td>\n",
       "      <td>28387</td>\n",
       "      <td>NC</td>\n",
       "      <td>0.0</td>\n",
       "      <td>...</td>\n",
       "      <td>7.0</td>\n",
       "      <td>5.2</td>\n",
       "      <td>4.0</td>\n",
       "      <td>5.2</td>\n",
       "      <td>8</td>\n",
       "      <td>1997.0</td>\n",
       "      <td>No</td>\n",
       "      <td>Yes</td>\n",
       "      <td>No</td>\n",
       "      <td>No</td>\n",
       "    </tr>\n",
       "    <tr>\n",
       "      <th>1</th>\n",
       "      <td>sale</td>\n",
       "      <td>family_home</td>\n",
       "      <td>12911 E Heroy Ave</td>\n",
       "      <td>3.0</td>\n",
       "      <td>No</td>\n",
       "      <td>Spokane Valley</td>\n",
       "      <td>1947</td>\n",
       "      <td>99216</td>\n",
       "      <td>WA</td>\n",
       "      <td>2.0</td>\n",
       "      <td>...</td>\n",
       "      <td>4.0</td>\n",
       "      <td>1.0</td>\n",
       "      <td>0.0</td>\n",
       "      <td>1.4</td>\n",
       "      <td>3</td>\n",
       "      <td>1980.5</td>\n",
       "      <td>No</td>\n",
       "      <td>No</td>\n",
       "      <td>No</td>\n",
       "      <td>No</td>\n",
       "    </tr>\n",
       "    <tr>\n",
       "      <th>2</th>\n",
       "      <td>sale</td>\n",
       "      <td>family_home</td>\n",
       "      <td>2005 Westridge Rd</td>\n",
       "      <td>2.0</td>\n",
       "      <td>Yes</td>\n",
       "      <td>Los Angeles</td>\n",
       "      <td>3000</td>\n",
       "      <td>90049</td>\n",
       "      <td>CA</td>\n",
       "      <td>1.0</td>\n",
       "      <td>...</td>\n",
       "      <td>8.0</td>\n",
       "      <td>1.9</td>\n",
       "      <td>0.0</td>\n",
       "      <td>2.6</td>\n",
       "      <td>3</td>\n",
       "      <td>1971.0</td>\n",
       "      <td>Yes</td>\n",
       "      <td>Yes</td>\n",
       "      <td>Yes</td>\n",
       "      <td>Yes</td>\n",
       "    </tr>\n",
       "  </tbody>\n",
       "</table>\n",
       "<p>3 rows × 22 columns</p>\n",
       "</div>"
      ],
      "text/plain": [
       "  status propertyType             street  baths fireplace            city   \n",
       "0   sale  family_home     240 Heather Ln    3.0       Yes  Southern Pines  \\\n",
       "1   sale  family_home  12911 E Heroy Ave    3.0        No  Spokane Valley   \n",
       "2   sale  family_home  2005 Westridge Rd    2.0       Yes     Los Angeles   \n",
       "\n",
       "   sqft  zipcode state  stories  ... school_max_rating school_mean_rating   \n",
       "0  2900    28387    NC      0.0  ...               7.0                5.2  \\\n",
       "1  1947    99216    WA      2.0  ...               4.0                1.0   \n",
       "2  3000    90049    CA      1.0  ...               8.0                1.9   \n",
       "\n",
       "   school_mini_distance  shcool_mean_distance  school_names_count  Year built   \n",
       "0                   4.0                   5.2                   8      1997.0  \\\n",
       "1                   0.0                   1.4                   3      1980.5   \n",
       "2                   0.0                   2.6                   3      1971.0   \n",
       "\n",
       "   Remodeled  Heating Cooling Parking  \n",
       "0         No      Yes      No      No  \n",
       "1         No       No      No      No  \n",
       "2        Yes      Yes     Yes     Yes  \n",
       "\n",
       "[3 rows x 22 columns]"
      ]
     },
     "execution_count": 285,
     "metadata": {},
     "output_type": "execute_result"
    }
   ],
   "source": [
    "df.head(3)"
   ]
  },
  {
   "cell_type": "markdown",
   "metadata": {},
   "source": [
    "### Целевой признак - цена ('target)"
   ]
  },
  {
   "cell_type": "code",
   "execution_count": 286,
   "metadata": {},
   "outputs": [
    {
     "name": "stdout",
     "output_type": "stream",
     "text": [
      "Количество уникальных значений: 33658\n",
      "Количество пропущенных значений: 1458\n",
      "Процент пропущенных значений: 0.52 %\n",
      "Список первых уникальных значений: ['$418,000', '$310,000', '$2,895,000', '$2,395,000', '181,500', '$244,900', '$669,000', '260,000', '$525,000', '$499,900']\n"
     ]
    }
   ],
   "source": [
    "# выведем уникальные значения признака 'target'\n",
    "target_sum = df['target'].nunique()\n",
    "print(f'Количество уникальных значений:', target_sum)\n",
    "lost_values_count = df['target'].isna().sum()\n",
    "print(f'Количество пропущенных значений:', lost_values_count)\n",
    "percent_lost_target = round(lost_values_count*100/df['target'].count(),2)\n",
    "print(f'Процент пропущенных значений:', percent_lost_target, '%')\n",
    "unique_values = df['target'].unique()\n",
    "a = (list(unique_values))\n",
    "print(f'Список первых уникальных значений:',a[:10])"
   ]
  },
  {
   "cell_type": "code",
   "execution_count": 287,
   "metadata": {},
   "outputs": [],
   "source": [
    "# Удалим все знаки, двоеточия, $ и прочее\n",
    "df['target'] = df['target'].str.lower()\n",
    "df['target'] = df['target'].str.replace('Nan', '', regex=True)\n",
    "df['target'] = df['target'].str.replace(\"'\", '')\n",
    "df['target'] = df['target'].str.replace('$', '')\n",
    "df['target'] = df['target'].str.replace('+', '')\n",
    "df['target'] = df['target'].str.replace('/mo', '')\n",
    "df['target'] = df['target'].str.replace(\",\", '')"
   ]
  },
  {
   "cell_type": "code",
   "execution_count": 288,
   "metadata": {},
   "outputs": [],
   "source": [
    "# удалим строки с пропущенным значением в признаке 'target'\n",
    "df = df.dropna(subset=['target'])"
   ]
  },
  {
   "cell_type": "code",
   "execution_count": 289,
   "metadata": {},
   "outputs": [],
   "source": [
    "# удалю строки с пустым значением и со значением '1215 - 1437' в признаке 'target'\n",
    "df = df[df['target'] != '1215 - 1437']\n",
    "df = df[df['target'] != '']"
   ]
  },
  {
   "cell_type": "code",
   "execution_count": 290,
   "metadata": {},
   "outputs": [],
   "source": [
    "# переведем признак 'target' в числовое значение\n",
    "df['target'] = df['target'].astype(int)"
   ]
  },
  {
   "cell_type": "code",
   "execution_count": 291,
   "metadata": {},
   "outputs": [
    {
     "name": "stdout",
     "output_type": "stream",
     "text": [
      "Средняя стомость равна 596552$.\n",
      "Предельное значение признака \"target\" составляет 110000000$.\n"
     ]
    },
    {
     "data": {
      "text/html": [
       "<div>\n",
       "<style scoped>\n",
       "    .dataframe tbody tr th:only-of-type {\n",
       "        vertical-align: middle;\n",
       "    }\n",
       "\n",
       "    .dataframe tbody tr th {\n",
       "        vertical-align: top;\n",
       "    }\n",
       "\n",
       "    .dataframe thead th {\n",
       "        text-align: right;\n",
       "    }\n",
       "</style>\n",
       "<table border=\"1\" class=\"dataframe\">\n",
       "  <thead>\n",
       "    <tr style=\"text-align: right;\">\n",
       "      <th></th>\n",
       "      <th>target</th>\n",
       "    </tr>\n",
       "  </thead>\n",
       "  <tbody>\n",
       "    <tr>\n",
       "      <th>count</th>\n",
       "      <td>2.797730e+05</td>\n",
       "    </tr>\n",
       "    <tr>\n",
       "      <th>mean</th>\n",
       "      <td>5.965524e+05</td>\n",
       "    </tr>\n",
       "    <tr>\n",
       "      <th>std</th>\n",
       "      <td>1.266327e+06</td>\n",
       "    </tr>\n",
       "    <tr>\n",
       "      <th>min</th>\n",
       "      <td>1.000000e+00</td>\n",
       "    </tr>\n",
       "    <tr>\n",
       "      <th>25%</th>\n",
       "      <td>2.105000e+05</td>\n",
       "    </tr>\n",
       "    <tr>\n",
       "      <th>50%</th>\n",
       "      <td>3.380000e+05</td>\n",
       "    </tr>\n",
       "    <tr>\n",
       "      <th>75%</th>\n",
       "      <td>5.890000e+05</td>\n",
       "    </tr>\n",
       "    <tr>\n",
       "      <th>max</th>\n",
       "      <td>1.100000e+08</td>\n",
       "    </tr>\n",
       "  </tbody>\n",
       "</table>\n",
       "</div>"
      ],
      "text/plain": [
       "             target\n",
       "count  2.797730e+05\n",
       "mean   5.965524e+05\n",
       "std    1.266327e+06\n",
       "min    1.000000e+00\n",
       "25%    2.105000e+05\n",
       "50%    3.380000e+05\n",
       "75%    5.890000e+05\n",
       "max    1.100000e+08"
      ]
     },
     "metadata": {},
     "output_type": "display_data"
    },
    {
     "name": "stdout",
     "output_type": "stream",
     "text": [
      "Численный показатель асимметрии распределения составляет: 17.41.\n"
     ]
    },
    {
     "data": {
      "image/png": "[encoded data removed]",
      "text/plain": [
       "<Figure size 1200x400 with 2 Axes>"
      ]
     },
     "metadata": {},
     "output_type": "display_data"
    }
   ],
   "source": [
    "# построим график распределения и коробчатую диаграмму \n",
    "fig, axes = plt.subplots(nrows=1, ncols=2, figsize=(12, 4))\n",
    "plt.subplots_adjust(hspace=0)\n",
    "\n",
    "# Построение гистограммы\n",
    "histplot1 = sns.histplot(\n",
    "    data=df,\n",
    "    x='target',\n",
    "    kde=False,\n",
    "    bins=15,\n",
    "    ax=axes[0],\n",
    ")\n",
    "\n",
    "histplot1.grid()\n",
    "histplot1.set_title('Распределение стоимости недвижимости')\n",
    "histplot1.set_xlabel('Стоимость, млн.$')\n",
    "histplot1.set_ylabel('Количество объектов недвижимости')\n",
    "\n",
    "# Построение коробчатой диаграммы\n",
    "histplot2 = sns.boxplot(\n",
    "    data=df,\n",
    "    x='target',\n",
    "    orient='h',\n",
    "    width=0.9\n",
    ")\n",
    "\n",
    "histplot2.set_xlabel('Стоимость, млн.$')\n",
    "\n",
    "# Расчет средней площади\n",
    "m_cost = round(df['target'].mean())\n",
    "print(f'Средняя стомость равна {m_cost}$.')\n",
    "\n",
    "# Информация о максимальной площади\n",
    "max_target = df['target'].max()\n",
    "print(f'Предельное значение признака \"target\" составляет {max_target}$.')\n",
    "\n",
    "# Статистика признака \"target\"\n",
    "display(df.describe().loc[:,['target']])\n",
    "\n",
    "# Расчет показателя асимметрии распределения стоимости\n",
    "assimetria = np.round(df['target'].skew(), decimals = 2)\n",
    "print(f'Численный показатель асимметрии распределения составляет: {assimetria}.')"
   ]
  },
  {
   "cell_type": "markdown",
   "metadata": {},
   "source": [
    "Удалим объекты стоимостью свыше 500 000 $ и построим новые графики."
   ]
  },
  {
   "cell_type": "code",
   "execution_count": 292,
   "metadata": {},
   "outputs": [],
   "source": [
    "df = df.loc[df['target'] <= 500000]"
   ]
  },
  {
   "cell_type": "code",
   "execution_count": 293,
   "metadata": {},
   "outputs": [
    {
     "name": "stdout",
     "output_type": "stream",
     "text": [
      "Средняя стомость равна 261144$.\n",
      "Предельное значение признака \"target\" составляет 500000$.\n"
     ]
    },
    {
     "data": {
      "text/html": [
       "<div>\n",
       "<style scoped>\n",
       "    .dataframe tbody tr th:only-of-type {\n",
       "        vertical-align: middle;\n",
       "    }\n",
       "\n",
       "    .dataframe tbody tr th {\n",
       "        vertical-align: top;\n",
       "    }\n",
       "\n",
       "    .dataframe thead th {\n",
       "        text-align: right;\n",
       "    }\n",
       "</style>\n",
       "<table border=\"1\" class=\"dataframe\">\n",
       "  <thead>\n",
       "    <tr style=\"text-align: right;\">\n",
       "      <th></th>\n",
       "      <th>target</th>\n",
       "    </tr>\n",
       "  </thead>\n",
       "  <tbody>\n",
       "    <tr>\n",
       "      <th>count</th>\n",
       "      <td>195348.000000</td>\n",
       "    </tr>\n",
       "    <tr>\n",
       "      <th>mean</th>\n",
       "      <td>261144.076428</td>\n",
       "    </tr>\n",
       "    <tr>\n",
       "      <th>std</th>\n",
       "      <td>120953.010357</td>\n",
       "    </tr>\n",
       "    <tr>\n",
       "      <th>min</th>\n",
       "      <td>1.000000</td>\n",
       "    </tr>\n",
       "    <tr>\n",
       "      <th>25%</th>\n",
       "      <td>172000.000000</td>\n",
       "    </tr>\n",
       "    <tr>\n",
       "      <th>50%</th>\n",
       "      <td>256990.000000</td>\n",
       "    </tr>\n",
       "    <tr>\n",
       "      <th>75%</th>\n",
       "      <td>350000.000000</td>\n",
       "    </tr>\n",
       "    <tr>\n",
       "      <th>max</th>\n",
       "      <td>500000.000000</td>\n",
       "    </tr>\n",
       "  </tbody>\n",
       "</table>\n",
       "</div>"
      ],
      "text/plain": [
       "              target\n",
       "count  195348.000000\n",
       "mean   261144.076428\n",
       "std    120953.010357\n",
       "min         1.000000\n",
       "25%    172000.000000\n",
       "50%    256990.000000\n",
       "75%    350000.000000\n",
       "max    500000.000000"
      ]
     },
     "metadata": {},
     "output_type": "display_data"
    },
    {
     "name": "stdout",
     "output_type": "stream",
     "text": [
      "Численный показатель асимметрии распределения составляет: 0.03.\n"
     ]
    },
    {
     "data": {
      "image/png": "[encoded data removed]",
      "text/plain": [
       "<Figure size 1200x400 with 2 Axes>"
      ]
     },
     "metadata": {},
     "output_type": "display_data"
    }
   ],
   "source": [
    "# построим график распределения и коробчатую диаграмму \n",
    "fig, axes = plt.subplots(nrows=1, ncols=2, figsize=(12, 4))\n",
    "plt.subplots_adjust(hspace=0)\n",
    "\n",
    "# Построение гистограммы\n",
    "histplot1 = sns.histplot(\n",
    "    data=df,\n",
    "    x='target',\n",
    "    kde=False,\n",
    "    bins=10,\n",
    "    ax=axes[0],\n",
    ")\n",
    "\n",
    "histplot1.grid()\n",
    "histplot1.set_title('Распределение стоимости недвижимости')\n",
    "histplot1.set_xlabel('Стоимость, $')\n",
    "histplot1.set_ylabel('Количество объектов недвижимости')\n",
    "\n",
    "# Построение коробчатой диаграммы\n",
    "histplot2 = sns.boxplot(\n",
    "    data=df,\n",
    "    x='target',\n",
    "    orient='h',\n",
    "    width=0.9\n",
    ")\n",
    "\n",
    "histplot2.set_xlabel('Стоимость, $')\n",
    "\n",
    "# Расчет средней площади\n",
    "m_cost = round(df['target'].mean())\n",
    "print(f'Средняя стомость равна {m_cost}$.')\n",
    "\n",
    "# Информация о максимальной площади\n",
    "max_target = df['target'].max()\n",
    "print(f'Предельное значение признака \"target\" составляет {max_target}$.')\n",
    "\n",
    "# Статистика признака \"target\"\n",
    "display(df.describe().loc[:,['target']])\n",
    "\n",
    "# Расчет показателя асимметрии распределения стоимости\n",
    "assimetria = np.round(df['target'].skew(), decimals = 2)\n",
    "print(f'Численный показатель асимметрии распределения составляет: {assimetria}.')"
   ]
  },
  {
   "cell_type": "markdown",
   "metadata": {},
   "source": [
    "Проверим есть ли объекты с низкой ценой."
   ]
  },
  {
   "cell_type": "code",
   "execution_count": 294,
   "metadata": {},
   "outputs": [
    {
     "data": {
      "text/html": [
       "<div>\n",
       "<style scoped>\n",
       "    .dataframe tbody tr th:only-of-type {\n",
       "        vertical-align: middle;\n",
       "    }\n",
       "\n",
       "    .dataframe tbody tr th {\n",
       "        vertical-align: top;\n",
       "    }\n",
       "\n",
       "    .dataframe thead th {\n",
       "        text-align: right;\n",
       "    }\n",
       "</style>\n",
       "<table border=\"1\" class=\"dataframe\">\n",
       "  <thead>\n",
       "    <tr style=\"text-align: right;\">\n",
       "      <th></th>\n",
       "      <th>sqft</th>\n",
       "      <th>street</th>\n",
       "      <th>state</th>\n",
       "      <th>target</th>\n",
       "      <th>status</th>\n",
       "    </tr>\n",
       "  </thead>\n",
       "  <tbody>\n",
       "    <tr>\n",
       "      <th>15533</th>\n",
       "      <td>1596</td>\n",
       "      <td>1230 Old Dickerson Rd</td>\n",
       "      <td>TN</td>\n",
       "      <td>1</td>\n",
       "      <td>sale</td>\n",
       "    </tr>\n",
       "    <tr>\n",
       "      <th>28395</th>\n",
       "      <td>1872</td>\n",
       "      <td>1737 Laurel St</td>\n",
       "      <td>IN</td>\n",
       "      <td>950</td>\n",
       "      <td>for_rent</td>\n",
       "    </tr>\n",
       "    <tr>\n",
       "      <th>39559</th>\n",
       "      <td>690</td>\n",
       "      <td>10075 Westpark Dr #77</td>\n",
       "      <td>TX</td>\n",
       "      <td>800</td>\n",
       "      <td>for_rent</td>\n",
       "    </tr>\n",
       "    <tr>\n",
       "      <th>42136</th>\n",
       "      <td>1098</td>\n",
       "      <td>E 86th St and Reed Ave</td>\n",
       "      <td>OH</td>\n",
       "      <td>950</td>\n",
       "      <td>for_rent</td>\n",
       "    </tr>\n",
       "    <tr>\n",
       "      <th>50662</th>\n",
       "      <td>1656</td>\n",
       "      <td>329 Orange St</td>\n",
       "      <td>NY</td>\n",
       "      <td>600</td>\n",
       "      <td>foreclosure</td>\n",
       "    </tr>\n",
       "    <tr>\n",
       "      <th>50984</th>\n",
       "      <td>1400</td>\n",
       "      <td>313 Sherman St</td>\n",
       "      <td>NY</td>\n",
       "      <td>600</td>\n",
       "      <td>foreclosure</td>\n",
       "    </tr>\n",
       "    <tr>\n",
       "      <th>73310</th>\n",
       "      <td>2010</td>\n",
       "      <td>1680 Beech St</td>\n",
       "      <td>NV</td>\n",
       "      <td>600</td>\n",
       "      <td>for_rent</td>\n",
       "    </tr>\n",
       "    <tr>\n",
       "      <th>82428</th>\n",
       "      <td>804</td>\n",
       "      <td>378 Old Grist Mill Blvd</td>\n",
       "      <td>TN</td>\n",
       "      <td>900</td>\n",
       "      <td>for_rent</td>\n",
       "    </tr>\n",
       "    <tr>\n",
       "      <th>84951</th>\n",
       "      <td>2536</td>\n",
       "      <td>7804 Hamilton Ave</td>\n",
       "      <td>OH</td>\n",
       "      <td>1</td>\n",
       "      <td>foreclosure</td>\n",
       "    </tr>\n",
       "    <tr>\n",
       "      <th>90321</th>\n",
       "      <td>1176</td>\n",
       "      <td>48 Good St</td>\n",
       "      <td>PA</td>\n",
       "      <td>990</td>\n",
       "      <td>for_rent</td>\n",
       "    </tr>\n",
       "    <tr>\n",
       "      <th>91402</th>\n",
       "      <td>1100</td>\n",
       "      <td>1299 Schaub Dr #A</td>\n",
       "      <td>NC</td>\n",
       "      <td>975</td>\n",
       "      <td>for_rent</td>\n",
       "    </tr>\n",
       "    <tr>\n",
       "      <th>92677</th>\n",
       "      <td>2106</td>\n",
       "      <td>4 McPherson Ter</td>\n",
       "      <td>NY</td>\n",
       "      <td>600</td>\n",
       "      <td>foreclosure</td>\n",
       "    </tr>\n",
       "    <tr>\n",
       "      <th>115118</th>\n",
       "      <td>1400</td>\n",
       "      <td>105 Alma Ave</td>\n",
       "      <td>NY</td>\n",
       "      <td>900</td>\n",
       "      <td>for_rent</td>\n",
       "    </tr>\n",
       "    <tr>\n",
       "      <th>123754</th>\n",
       "      <td>2288</td>\n",
       "      <td>2 Odell St</td>\n",
       "      <td>NY</td>\n",
       "      <td>600</td>\n",
       "      <td>foreclosure</td>\n",
       "    </tr>\n",
       "    <tr>\n",
       "      <th>125736</th>\n",
       "      <td>2998</td>\n",
       "      <td>311 Livingston Ave</td>\n",
       "      <td>NY</td>\n",
       "      <td>600</td>\n",
       "      <td>foreclosure</td>\n",
       "    </tr>\n",
       "    <tr>\n",
       "      <th>127456</th>\n",
       "      <td>1440</td>\n",
       "      <td>4310 Spann Ave</td>\n",
       "      <td>IN</td>\n",
       "      <td>750</td>\n",
       "      <td>for_rent</td>\n",
       "    </tr>\n",
       "    <tr>\n",
       "      <th>128768</th>\n",
       "      <td>1800</td>\n",
       "      <td>298 2nd St</td>\n",
       "      <td>NY</td>\n",
       "      <td>600</td>\n",
       "      <td>foreclosure</td>\n",
       "    </tr>\n",
       "    <tr>\n",
       "      <th>141765</th>\n",
       "      <td>1046</td>\n",
       "      <td>5005 Collins Ave #C6-S2A</td>\n",
       "      <td>FL</td>\n",
       "      <td>800</td>\n",
       "      <td>sale</td>\n",
       "    </tr>\n",
       "    <tr>\n",
       "      <th>144820</th>\n",
       "      <td>2462</td>\n",
       "      <td>92 Wood Ave #UPPER  LOWER BOTH</td>\n",
       "      <td>NY</td>\n",
       "      <td>750</td>\n",
       "      <td>for_rent</td>\n",
       "    </tr>\n",
       "    <tr>\n",
       "      <th>183527</th>\n",
       "      <td>2076</td>\n",
       "      <td>197 N Lake Ave</td>\n",
       "      <td>NY</td>\n",
       "      <td>600</td>\n",
       "      <td>foreclosure</td>\n",
       "    </tr>\n",
       "    <tr>\n",
       "      <th>187616</th>\n",
       "      <td>841</td>\n",
       "      <td>5056 S Rainbow Blvd #104</td>\n",
       "      <td>NV</td>\n",
       "      <td>950</td>\n",
       "      <td>for_rent</td>\n",
       "    </tr>\n",
       "    <tr>\n",
       "      <th>190302</th>\n",
       "      <td>1144</td>\n",
       "      <td>11169 Rossiter St</td>\n",
       "      <td>MI</td>\n",
       "      <td>875</td>\n",
       "      <td>for_rent</td>\n",
       "    </tr>\n",
       "    <tr>\n",
       "      <th>202525</th>\n",
       "      <td>1248</td>\n",
       "      <td>4689 Rockwood Rd</td>\n",
       "      <td>OH</td>\n",
       "      <td>800</td>\n",
       "      <td>for_rent</td>\n",
       "    </tr>\n",
       "    <tr>\n",
       "      <th>207338</th>\n",
       "      <td>1265</td>\n",
       "      <td>Reed Bark Ln and Shiloh Mill Blvd</td>\n",
       "      <td>FL</td>\n",
       "      <td>750</td>\n",
       "      <td>for_rent</td>\n",
       "    </tr>\n",
       "    <tr>\n",
       "      <th>212621</th>\n",
       "      <td>2402</td>\n",
       "      <td>20731 Edgecliff Dr</td>\n",
       "      <td>OH</td>\n",
       "      <td>393</td>\n",
       "      <td>foreclosure</td>\n",
       "    </tr>\n",
       "    <tr>\n",
       "      <th>214100</th>\n",
       "      <td>2984</td>\n",
       "      <td>281 Sheridan Ave</td>\n",
       "      <td>NY</td>\n",
       "      <td>600</td>\n",
       "      <td>sale</td>\n",
       "    </tr>\n",
       "    <tr>\n",
       "      <th>220166</th>\n",
       "      <td>840</td>\n",
       "      <td>18922 Kenosha St</td>\n",
       "      <td>MI</td>\n",
       "      <td>750</td>\n",
       "      <td>sale</td>\n",
       "    </tr>\n",
       "    <tr>\n",
       "      <th>226695</th>\n",
       "      <td>1450</td>\n",
       "      <td>1001 Christina St</td>\n",
       "      <td>NC</td>\n",
       "      <td>875</td>\n",
       "      <td>for_rent</td>\n",
       "    </tr>\n",
       "    <tr>\n",
       "      <th>252627</th>\n",
       "      <td>1771</td>\n",
       "      <td>114 S Washington St</td>\n",
       "      <td>OH</td>\n",
       "      <td>1</td>\n",
       "      <td>sale</td>\n",
       "    </tr>\n",
       "    <tr>\n",
       "      <th>253475</th>\n",
       "      <td>1177</td>\n",
       "      <td>Village Way and Yorkshire Rd</td>\n",
       "      <td>TN</td>\n",
       "      <td>825</td>\n",
       "      <td>for_rent</td>\n",
       "    </tr>\n",
       "    <tr>\n",
       "      <th>262752</th>\n",
       "      <td>1216</td>\n",
       "      <td>6776 Willowbrook Dr #3</td>\n",
       "      <td>NC</td>\n",
       "      <td>825</td>\n",
       "      <td>for_rent</td>\n",
       "    </tr>\n",
       "    <tr>\n",
       "      <th>274280</th>\n",
       "      <td>800</td>\n",
       "      <td>1472 Wingfoot Way</td>\n",
       "      <td>FL</td>\n",
       "      <td>850</td>\n",
       "      <td>for_rent</td>\n",
       "    </tr>\n",
       "    <tr>\n",
       "      <th>277572</th>\n",
       "      <td>3226</td>\n",
       "      <td>2902 W McMicken Ave</td>\n",
       "      <td>OH</td>\n",
       "      <td>1</td>\n",
       "      <td>foreclosure</td>\n",
       "    </tr>\n",
       "    <tr>\n",
       "      <th>285109</th>\n",
       "      <td>864</td>\n",
       "      <td>4300 N Lamont St APT 268</td>\n",
       "      <td>NV</td>\n",
       "      <td>700</td>\n",
       "      <td>for_rent</td>\n",
       "    </tr>\n",
       "    <tr>\n",
       "      <th>289162</th>\n",
       "      <td>1596</td>\n",
       "      <td>1230 Old Dickerson Rd</td>\n",
       "      <td>TN</td>\n",
       "      <td>1</td>\n",
       "      <td>foreclosure</td>\n",
       "    </tr>\n",
       "    <tr>\n",
       "      <th>299764</th>\n",
       "      <td>899</td>\n",
       "      <td>2606 Banks Rd</td>\n",
       "      <td>TN</td>\n",
       "      <td>750</td>\n",
       "      <td>for_rent</td>\n",
       "    </tr>\n",
       "    <tr>\n",
       "      <th>304045</th>\n",
       "      <td>1586</td>\n",
       "      <td>3205 N High School Rd</td>\n",
       "      <td>IN</td>\n",
       "      <td>1</td>\n",
       "      <td>foreclosure</td>\n",
       "    </tr>\n",
       "    <tr>\n",
       "      <th>306549</th>\n",
       "      <td>1064</td>\n",
       "      <td>308 Herbert St</td>\n",
       "      <td>NY</td>\n",
       "      <td>500</td>\n",
       "      <td>foreclosure</td>\n",
       "    </tr>\n",
       "    <tr>\n",
       "      <th>310112</th>\n",
       "      <td>2622</td>\n",
       "      <td>284 Elk St</td>\n",
       "      <td>NY</td>\n",
       "      <td>600</td>\n",
       "      <td>foreclosure</td>\n",
       "    </tr>\n",
       "    <tr>\n",
       "      <th>310789</th>\n",
       "      <td>2075</td>\n",
       "      <td>18401 Maple Heights Blvd</td>\n",
       "      <td>OH</td>\n",
       "      <td>925</td>\n",
       "      <td>for_rent</td>\n",
       "    </tr>\n",
       "    <tr>\n",
       "      <th>314680</th>\n",
       "      <td>2126</td>\n",
       "      <td>296 Sheridan Ave</td>\n",
       "      <td>NY</td>\n",
       "      <td>600</td>\n",
       "      <td>foreclosure</td>\n",
       "    </tr>\n",
       "    <tr>\n",
       "      <th>317002</th>\n",
       "      <td>990</td>\n",
       "      <td>1212 Holik Drive in College Station</td>\n",
       "      <td>TX</td>\n",
       "      <td>800</td>\n",
       "      <td>for_rent</td>\n",
       "    </tr>\n",
       "    <tr>\n",
       "      <th>317221</th>\n",
       "      <td>1656</td>\n",
       "      <td>315 Orange St</td>\n",
       "      <td>NY</td>\n",
       "      <td>600</td>\n",
       "      <td>sale</td>\n",
       "    </tr>\n",
       "    <tr>\n",
       "      <th>321515</th>\n",
       "      <td>1780</td>\n",
       "      <td>9115 Sea Oats Dr</td>\n",
       "      <td>IN</td>\n",
       "      <td>1</td>\n",
       "      <td>foreclosure</td>\n",
       "    </tr>\n",
       "    <tr>\n",
       "      <th>328863</th>\n",
       "      <td>900</td>\n",
       "      <td>2352 Verdun Cv</td>\n",
       "      <td>TN</td>\n",
       "      <td>700</td>\n",
       "      <td>for_rent</td>\n",
       "    </tr>\n",
       "    <tr>\n",
       "      <th>351087</th>\n",
       "      <td>1083</td>\n",
       "      <td>217 Livingston Ave</td>\n",
       "      <td>NY</td>\n",
       "      <td>500</td>\n",
       "      <td>foreclosure</td>\n",
       "    </tr>\n",
       "    <tr>\n",
       "      <th>363582</th>\n",
       "      <td>700</td>\n",
       "      <td>8600 Figland Ave #A</td>\n",
       "      <td>FL</td>\n",
       "      <td>750</td>\n",
       "      <td>for_rent</td>\n",
       "    </tr>\n",
       "    <tr>\n",
       "      <th>371791</th>\n",
       "      <td>1050</td>\n",
       "      <td>9436 Turrentine Dr</td>\n",
       "      <td>TX</td>\n",
       "      <td>890</td>\n",
       "      <td>for_rent</td>\n",
       "    </tr>\n",
       "  </tbody>\n",
       "</table>\n",
       "</div>"
      ],
      "text/plain": [
       "        sqft                               street state  target       status\n",
       "15533   1596                1230 Old Dickerson Rd    TN       1         sale\n",
       "28395   1872                       1737 Laurel St    IN     950     for_rent\n",
       "39559    690                10075 Westpark Dr #77    TX     800     for_rent\n",
       "42136   1098               E 86th St and Reed Ave    OH     950     for_rent\n",
       "50662   1656                        329 Orange St    NY     600  foreclosure\n",
       "50984   1400                       313 Sherman St    NY     600  foreclosure\n",
       "73310   2010                        1680 Beech St    NV     600     for_rent\n",
       "82428    804              378 Old Grist Mill Blvd    TN     900     for_rent\n",
       "84951   2536                    7804 Hamilton Ave    OH       1  foreclosure\n",
       "90321   1176                           48 Good St    PA     990     for_rent\n",
       "91402   1100                    1299 Schaub Dr #A    NC     975     for_rent\n",
       "92677   2106                      4 McPherson Ter    NY     600  foreclosure\n",
       "115118  1400                         105 Alma Ave    NY     900     for_rent\n",
       "123754  2288                           2 Odell St    NY     600  foreclosure\n",
       "125736  2998                   311 Livingston Ave    NY     600  foreclosure\n",
       "127456  1440                       4310 Spann Ave    IN     750     for_rent\n",
       "128768  1800                           298 2nd St    NY     600  foreclosure\n",
       "141765  1046             5005 Collins Ave #C6-S2A    FL     800         sale\n",
       "144820  2462       92 Wood Ave #UPPER  LOWER BOTH    NY     750     for_rent\n",
       "183527  2076                       197 N Lake Ave    NY     600  foreclosure\n",
       "187616   841             5056 S Rainbow Blvd #104    NV     950     for_rent\n",
       "190302  1144                    11169 Rossiter St    MI     875     for_rent\n",
       "202525  1248                     4689 Rockwood Rd    OH     800     for_rent\n",
       "207338  1265    Reed Bark Ln and Shiloh Mill Blvd    FL     750     for_rent\n",
       "212621  2402                   20731 Edgecliff Dr    OH     393  foreclosure\n",
       "214100  2984                     281 Sheridan Ave    NY     600         sale\n",
       "220166   840                     18922 Kenosha St    MI     750         sale\n",
       "226695  1450                    1001 Christina St    NC     875     for_rent\n",
       "252627  1771                 114 S Washington St     OH       1         sale\n",
       "253475  1177         Village Way and Yorkshire Rd    TN     825     for_rent\n",
       "262752  1216               6776 Willowbrook Dr #3    NC     825     for_rent\n",
       "274280   800                    1472 Wingfoot Way    FL     850     for_rent\n",
       "277572  3226                  2902 W McMicken Ave    OH       1  foreclosure\n",
       "285109   864             4300 N Lamont St APT 268    NV     700     for_rent\n",
       "289162  1596                1230 Old Dickerson Rd    TN       1  foreclosure\n",
       "299764   899                        2606 Banks Rd    TN     750     for_rent\n",
       "304045  1586                3205 N High School Rd    IN       1  foreclosure\n",
       "306549  1064                       308 Herbert St    NY     500  foreclosure\n",
       "310112  2622                           284 Elk St    NY     600  foreclosure\n",
       "310789  2075             18401 Maple Heights Blvd    OH     925     for_rent\n",
       "314680  2126                     296 Sheridan Ave    NY     600  foreclosure\n",
       "317002   990  1212 Holik Drive in College Station    TX     800     for_rent\n",
       "317221  1656                        315 Orange St    NY     600         sale\n",
       "321515  1780                     9115 Sea Oats Dr    IN       1  foreclosure\n",
       "328863   900                       2352 Verdun Cv    TN     700     for_rent\n",
       "351087  1083                   217 Livingston Ave    NY     500  foreclosure\n",
       "363582   700                  8600 Figland Ave #A    FL     750     for_rent\n",
       "371791  1050                   9436 Turrentine Dr    TX     890     for_rent"
      ]
     },
     "execution_count": 294,
     "metadata": {},
     "output_type": "execute_result"
    }
   ],
   "source": [
    "# сделаем отбор по параметрам\n",
    "df.loc[df['target'] < 1000, ['sqft', 'street', 'state', 'target', 'status']]"
   ]
  },
  {
   "cell_type": "markdown",
   "metadata": {},
   "source": [
    "Так как 'foreclosure' - это аукцион и окончательная стоимость продажи нам не известна, а 'for_rent' - это сдача недвижимости в аренду, а не продажа, то объекты с такими статусами мы удалим."
   ]
  },
  {
   "cell_type": "code",
   "execution_count": 295,
   "metadata": {},
   "outputs": [],
   "source": [
    "# удаление строк по объектам недвижимости со статусами 'for_rent' и 'foreclosure'\n",
    "df = df.loc[df['status'] != 'for_rent']\n",
    "df = df.loc[df['status'] != 'foreclosure']"
   ]
  },
  {
   "cell_type": "code",
   "execution_count": 296,
   "metadata": {},
   "outputs": [
    {
     "data": {
      "image/png": "[encoded data removed]",
      "text/plain": [
       "<Figure size 1200x1500 with 1 Axes>"
      ]
     },
     "metadata": {},
     "output_type": "display_data"
    }
   ],
   "source": [
    "# построим коробчатую диаграмму для признака 'target' в разрезе признака 'state', чтобы увидеть выбросы по штатам\n",
    "fig = plt.figure(figsize=(12, 15))\n",
    "boxplot = sns.boxplot(\n",
    "    data=df,\n",
    "    y='state',\n",
    "    x='target',\n",
    "    orient='h',\n",
    "    width=0.9\n",
    ")\n",
    "# отобразим график\n",
    "boxplot.set_title('Стоимость недвижимости по штатам');\n",
    "boxplot.set_xlabel('Стоимость');\n",
    "boxplot.set_ylabel('Штат');\n",
    "boxplot.grid()"
   ]
  },
  {
   "cell_type": "markdown",
   "metadata": {},
   "source": [
    "Далее будем делать отбор и проверку выборсов по следующим штатам: WA, IA, OR, CA, UT, MI, AZ, CO, DC, MD, KY, ME."
   ]
  },
  {
   "cell_type": "code",
   "execution_count": 297,
   "metadata": {},
   "outputs": [
    {
     "data": {
      "text/html": [
       "<div>\n",
       "<style scoped>\n",
       "    .dataframe tbody tr th:only-of-type {\n",
       "        vertical-align: middle;\n",
       "    }\n",
       "\n",
       "    .dataframe tbody tr th {\n",
       "        vertical-align: top;\n",
       "    }\n",
       "\n",
       "    .dataframe thead th {\n",
       "        text-align: right;\n",
       "    }\n",
       "</style>\n",
       "<table border=\"1\" class=\"dataframe\">\n",
       "  <thead>\n",
       "    <tr style=\"text-align: right;\">\n",
       "      <th></th>\n",
       "      <th>target</th>\n",
       "      <th>street</th>\n",
       "      <th>state</th>\n",
       "      <th>sqft</th>\n",
       "    </tr>\n",
       "  </thead>\n",
       "  <tbody>\n",
       "    <tr>\n",
       "      <th>10728</th>\n",
       "      <td>59800</td>\n",
       "      <td>10414 Peacock Hill Ave Spc 56</td>\n",
       "      <td>WA</td>\n",
       "      <td>924</td>\n",
       "    </tr>\n",
       "    <tr>\n",
       "      <th>14123</th>\n",
       "      <td>39000</td>\n",
       "      <td>10515 60th Street Ct E Unit 165</td>\n",
       "      <td>WA</td>\n",
       "      <td>1052</td>\n",
       "    </tr>\n",
       "    <tr>\n",
       "      <th>16711</th>\n",
       "      <td>32500</td>\n",
       "      <td>3213 28th Street Ct E</td>\n",
       "      <td>WA</td>\n",
       "      <td>1145</td>\n",
       "    </tr>\n",
       "    <tr>\n",
       "      <th>19370</th>\n",
       "      <td>20000</td>\n",
       "      <td>4000 Flynn St SPC 136</td>\n",
       "      <td>WA</td>\n",
       "      <td>924</td>\n",
       "    </tr>\n",
       "    <tr>\n",
       "      <th>20070</th>\n",
       "      <td>26900</td>\n",
       "      <td>1200 Lincoln St #186</td>\n",
       "      <td>WA</td>\n",
       "      <td>1194</td>\n",
       "    </tr>\n",
       "    <tr>\n",
       "      <th>...</th>\n",
       "      <td>...</td>\n",
       "      <td>...</td>\n",
       "      <td>...</td>\n",
       "      <td>...</td>\n",
       "    </tr>\n",
       "    <tr>\n",
       "      <th>350346</th>\n",
       "      <td>49000</td>\n",
       "      <td>3001 S 288th St Trlr 391</td>\n",
       "      <td>WA</td>\n",
       "      <td>924</td>\n",
       "    </tr>\n",
       "    <tr>\n",
       "      <th>353298</th>\n",
       "      <td>12000</td>\n",
       "      <td>4 Twin Flower Cir</td>\n",
       "      <td>WA</td>\n",
       "      <td>5660</td>\n",
       "    </tr>\n",
       "    <tr>\n",
       "      <th>354604</th>\n",
       "      <td>32000</td>\n",
       "      <td>55 W Washington Ave #104</td>\n",
       "      <td>WA</td>\n",
       "      <td>1152</td>\n",
       "    </tr>\n",
       "    <tr>\n",
       "      <th>356345</th>\n",
       "      <td>38000</td>\n",
       "      <td>1201 W Washington Ave UNIT 54</td>\n",
       "      <td>WA</td>\n",
       "      <td>1296</td>\n",
       "    </tr>\n",
       "    <tr>\n",
       "      <th>374034</th>\n",
       "      <td>29900</td>\n",
       "      <td>11505 127th St E Unit 205</td>\n",
       "      <td>WA</td>\n",
       "      <td>1314</td>\n",
       "    </tr>\n",
       "  </tbody>\n",
       "</table>\n",
       "<p>93 rows × 4 columns</p>\n",
       "</div>"
      ],
      "text/plain": [
       "        target                           street state  sqft\n",
       "10728    59800    10414 Peacock Hill Ave Spc 56    WA   924\n",
       "14123    39000  10515 60th Street Ct E Unit 165    WA  1052\n",
       "16711    32500            3213 28th Street Ct E    WA  1145\n",
       "19370    20000            4000 Flynn St SPC 136    WA   924\n",
       "20070    26900             1200 Lincoln St #186    WA  1194\n",
       "...        ...                              ...   ...   ...\n",
       "350346   49000         3001 S 288th St Trlr 391    WA   924\n",
       "353298   12000                4 Twin Flower Cir    WA  5660\n",
       "354604   32000         55 W Washington Ave #104    WA  1152\n",
       "356345   38000    1201 W Washington Ave UNIT 54    WA  1296\n",
       "374034   29900        11505 127th St E Unit 205    WA  1314\n",
       "\n",
       "[93 rows x 4 columns]"
      ]
     },
     "execution_count": 297,
     "metadata": {},
     "output_type": "execute_result"
    }
   ],
   "source": [
    "# сделаем отбор по параметрам выбросов штата WA\n",
    "df.loc[(df['state'] == 'WA')&(df['target'] < 60000), ['target', 'street', 'state', 'sqft']]"
   ]
  },
  {
   "cell_type": "markdown",
   "metadata": {},
   "source": [
    "Я проверила на сайте https://www.realtor.com/ информацию о ценах по объектам штата WA, которые попали в выбросы. Цены на сайте выше  в 2-10 раз. Поэтому объекты, попавшие в выбросы, действительно содержат недостоверную информацию о ценах. Такие объекты я удалю."
   ]
  },
  {
   "cell_type": "code",
   "execution_count": 298,
   "metadata": {},
   "outputs": [],
   "source": [
    "# сделаем удаление по параметрам\n",
    "df = df.drop(df[(df['state'] == 'WA') & (df['target'] < 60000)].index, axis=0, inplace=False)"
   ]
  },
  {
   "cell_type": "code",
   "execution_count": 299,
   "metadata": {},
   "outputs": [
    {
     "data": {
      "text/html": [
       "<div>\n",
       "<style scoped>\n",
       "    .dataframe tbody tr th:only-of-type {\n",
       "        vertical-align: middle;\n",
       "    }\n",
       "\n",
       "    .dataframe tbody tr th {\n",
       "        vertical-align: top;\n",
       "    }\n",
       "\n",
       "    .dataframe thead th {\n",
       "        text-align: right;\n",
       "    }\n",
       "</style>\n",
       "<table border=\"1\" class=\"dataframe\">\n",
       "  <thead>\n",
       "    <tr style=\"text-align: right;\">\n",
       "      <th></th>\n",
       "      <th>target</th>\n",
       "      <th>street</th>\n",
       "      <th>state</th>\n",
       "      <th>sqft</th>\n",
       "    </tr>\n",
       "  </thead>\n",
       "  <tbody>\n",
       "    <tr>\n",
       "      <th>23135</th>\n",
       "      <td>429900</td>\n",
       "      <td>11098 J Ave</td>\n",
       "      <td>IA</td>\n",
       "      <td>3648</td>\n",
       "    </tr>\n",
       "    <tr>\n",
       "      <th>32641</th>\n",
       "      <td>444000</td>\n",
       "      <td>20708 Finch Ave</td>\n",
       "      <td>IA</td>\n",
       "      <td>3696</td>\n",
       "    </tr>\n",
       "    <tr>\n",
       "      <th>50017</th>\n",
       "      <td>424923</td>\n",
       "      <td>516 Lexington Dr</td>\n",
       "      <td>IA</td>\n",
       "      <td>1846</td>\n",
       "    </tr>\n",
       "    <tr>\n",
       "      <th>60128</th>\n",
       "      <td>423000</td>\n",
       "      <td>65 Four Winds Dr</td>\n",
       "      <td>IA</td>\n",
       "      <td>2456</td>\n",
       "    </tr>\n",
       "    <tr>\n",
       "      <th>103236</th>\n",
       "      <td>355000</td>\n",
       "      <td>2122 River Rd</td>\n",
       "      <td>IA</td>\n",
       "      <td>1946</td>\n",
       "    </tr>\n",
       "    <tr>\n",
       "      <th>211246</th>\n",
       "      <td>439900</td>\n",
       "      <td>1305 Stenberg Dr</td>\n",
       "      <td>IA</td>\n",
       "      <td>1540</td>\n",
       "    </tr>\n",
       "    <tr>\n",
       "      <th>227961</th>\n",
       "      <td>364931</td>\n",
       "      <td>1912 N 24th St</td>\n",
       "      <td>IA</td>\n",
       "      <td>2128</td>\n",
       "    </tr>\n",
       "    <tr>\n",
       "      <th>229699</th>\n",
       "      <td>489000</td>\n",
       "      <td>212 4th Ave S</td>\n",
       "      <td>IA</td>\n",
       "      <td>3500</td>\n",
       "    </tr>\n",
       "    <tr>\n",
       "      <th>265225</th>\n",
       "      <td>499999</td>\n",
       "      <td>2113 S Lakeview Dr</td>\n",
       "      <td>IA</td>\n",
       "      <td>600</td>\n",
       "    </tr>\n",
       "  </tbody>\n",
       "</table>\n",
       "</div>"
      ],
      "text/plain": [
       "        target              street state  sqft\n",
       "23135   429900         11098 J Ave    IA  3648\n",
       "32641   444000     20708 Finch Ave    IA  3696\n",
       "50017   424923    516 Lexington Dr    IA  1846\n",
       "60128   423000    65 Four Winds Dr    IA  2456\n",
       "103236  355000       2122 River Rd    IA  1946\n",
       "211246  439900    1305 Stenberg Dr    IA  1540\n",
       "227961  364931      1912 N 24th St    IA  2128\n",
       "229699  489000       212 4th Ave S    IA  3500\n",
       "265225  499999  2113 S Lakeview Dr    IA   600"
      ]
     },
     "execution_count": 299,
     "metadata": {},
     "output_type": "execute_result"
    }
   ],
   "source": [
    "# сделаем отбор по параметрам выбросов штата IA\n",
    "df.loc[(df['state'] == 'IA')&(df['target'] > 340000), ['target', 'street', 'state', 'sqft']]"
   ]
  },
  {
   "cell_type": "markdown",
   "metadata": {},
   "source": [
    "Я проверила на сайте https://www.realtor.com/ информацию о ценах по объектам штата IA, которые попали в выбросы. Цены на сайте либо почти соответствуют, либо даже чуть выше. Следовательно объекты, попавшие в выбросы, содержат достоверную информацию о ценах. Такие объекты я оставила."
   ]
  },
  {
   "cell_type": "code",
   "execution_count": 300,
   "metadata": {},
   "outputs": [
    {
     "data": {
      "text/html": [
       "<div>\n",
       "<style scoped>\n",
       "    .dataframe tbody tr th:only-of-type {\n",
       "        vertical-align: middle;\n",
       "    }\n",
       "\n",
       "    .dataframe tbody tr th {\n",
       "        vertical-align: top;\n",
       "    }\n",
       "\n",
       "    .dataframe thead th {\n",
       "        text-align: right;\n",
       "    }\n",
       "</style>\n",
       "<table border=\"1\" class=\"dataframe\">\n",
       "  <thead>\n",
       "    <tr style=\"text-align: right;\">\n",
       "      <th></th>\n",
       "      <th>target</th>\n",
       "      <th>street</th>\n",
       "      <th>state</th>\n",
       "      <th>sqft</th>\n",
       "    </tr>\n",
       "  </thead>\n",
       "  <tbody>\n",
       "    <tr>\n",
       "      <th>10700</th>\n",
       "      <td>47900</td>\n",
       "      <td>3441 SE 111th Ave UNIT 10</td>\n",
       "      <td>OR</td>\n",
       "      <td>672</td>\n",
       "    </tr>\n",
       "    <tr>\n",
       "      <th>35002</th>\n",
       "      <td>47900</td>\n",
       "      <td>3441 SE 111th Ave #10</td>\n",
       "      <td>OR</td>\n",
       "      <td>672</td>\n",
       "    </tr>\n",
       "    <tr>\n",
       "      <th>193711</th>\n",
       "      <td>49850</td>\n",
       "      <td>17221 SW Eldorado Dr</td>\n",
       "      <td>OR</td>\n",
       "      <td>1236</td>\n",
       "    </tr>\n",
       "    <tr>\n",
       "      <th>258805</th>\n",
       "      <td>22500</td>\n",
       "      <td>1930 Hampden Ln NE UNIT 4</td>\n",
       "      <td>OR</td>\n",
       "      <td>924</td>\n",
       "    </tr>\n",
       "    <tr>\n",
       "      <th>280135</th>\n",
       "      <td>39900</td>\n",
       "      <td>3500 SE Concord Rd #4</td>\n",
       "      <td>OR</td>\n",
       "      <td>800</td>\n",
       "    </tr>\n",
       "    <tr>\n",
       "      <th>286932</th>\n",
       "      <td>5000</td>\n",
       "      <td>1831 N Jantzen Ave</td>\n",
       "      <td>OR</td>\n",
       "      <td>1100</td>\n",
       "    </tr>\n",
       "    <tr>\n",
       "      <th>305820</th>\n",
       "      <td>42000</td>\n",
       "      <td>900 NE Francis Ave UNIT 47</td>\n",
       "      <td>OR</td>\n",
       "      <td>980</td>\n",
       "    </tr>\n",
       "  </tbody>\n",
       "</table>\n",
       "</div>"
      ],
      "text/plain": [
       "        target                      street state  sqft\n",
       "10700    47900   3441 SE 111th Ave UNIT 10    OR   672\n",
       "35002    47900       3441 SE 111th Ave #10    OR   672\n",
       "193711   49850        17221 SW Eldorado Dr    OR  1236\n",
       "258805   22500   1930 Hampden Ln NE UNIT 4    OR   924\n",
       "280135   39900       3500 SE Concord Rd #4    OR   800\n",
       "286932    5000          1831 N Jantzen Ave    OR  1100\n",
       "305820   42000  900 NE Francis Ave UNIT 47    OR   980"
      ]
     },
     "execution_count": 300,
     "metadata": {},
     "output_type": "execute_result"
    }
   ],
   "source": [
    "# сделаем отбор по параметрам выбросов штата OR\n",
    "df.loc[(df['state'] == 'OR')&(df['target'] < 55000), ['target', 'street', 'state', 'sqft']]"
   ]
  },
  {
   "cell_type": "markdown",
   "metadata": {},
   "source": [
    "Я проверила на сайте https://www.realtor.com/ информацию о ценах по объектам штата OR, которые попали в выбросы. Цены на сайте соответствуют. Только по одному объекту цена отличалась на 20%. Следовательно объекты, попавшие в выбросы, содержат достоверную или почти достоверную информацию о ценах. Такие объекты я оставила."
   ]
  },
  {
   "cell_type": "markdown",
   "metadata": {},
   "source": [
    "Также я обратила внимание на то, что есть дублирующиеся позиции. Пoэтому признак 'street' нужно доработать."
   ]
  },
  {
   "cell_type": "code",
   "execution_count": 301,
   "metadata": {},
   "outputs": [],
   "source": [
    "# переведем буквы в нижний регистр\n",
    "df['street'] = df['street'].str.lower()\n",
    "# заменим знак # на UNIT из адреса\n",
    "df['street'] = df['street'].str.replace('#','unit', regex=True)\n",
    "df['street'] = df['street'].str.replace('-','', regex=True)"
   ]
  },
  {
   "cell_type": "code",
   "execution_count": 302,
   "metadata": {},
   "outputs": [
    {
     "name": "stdout",
     "output_type": "stream",
     "text": [
      "<class 'pandas.core.frame.DataFrame'>\n",
      "Index: 16109 entries, 549 to 377173\n",
      "Data columns (total 22 columns):\n",
      " #   Column                Non-Null Count  Dtype  \n",
      "---  ------                --------------  -----  \n",
      " 0   status                16109 non-null  object \n",
      " 1   propertyType          16109 non-null  object \n",
      " 2   street                16109 non-null  object \n",
      " 3   baths                 16109 non-null  float64\n",
      " 4   fireplace             16109 non-null  object \n",
      " 5   city                  16109 non-null  object \n",
      " 6   sqft                  16109 non-null  int32  \n",
      " 7   zipcode               16109 non-null  int32  \n",
      " 8   state                 16109 non-null  object \n",
      " 9   stories               16109 non-null  float64\n",
      " 10  target                16109 non-null  int32  \n",
      " 11  pool                  16109 non-null  object \n",
      " 12  school_max_rating     16109 non-null  float64\n",
      " 13  school_mean_rating    16109 non-null  float64\n",
      " 14  school_mini_distance  16109 non-null  float64\n",
      " 15  shcool_mean_distance  16109 non-null  float64\n",
      " 16  school_names_count    16109 non-null  int64  \n",
      " 17  Year built            16109 non-null  float64\n",
      " 18  Remodeled             16109 non-null  object \n",
      " 19  Heating               16109 non-null  object \n",
      " 20  Cooling               16109 non-null  object \n",
      " 21  Parking               16109 non-null  object \n",
      "dtypes: float64(7), int32(3), int64(1), object(11)\n",
      "memory usage: 2.6+ MB\n"
     ]
    }
   ],
   "source": [
    "# поиск строк-дубликатов \n",
    "dupl = df[df.duplicated(subset=['street', 'state', 'zipcode'])]\n",
    "dupl.info()"
   ]
  },
  {
   "cell_type": "code",
   "execution_count": 303,
   "metadata": {},
   "outputs": [],
   "source": [
    "# удаление строк-дубликатов \n",
    "df = df.drop_duplicates(subset=['street', 'state', 'zipcode'], keep='first')"
   ]
  },
  {
   "cell_type": "markdown",
   "metadata": {},
   "source": [
    "Еще раз построим коробчатую диаграмму стоимости недвижимости по штатам, чтобы продолжит проверку выбросов."
   ]
  },
  {
   "cell_type": "code",
   "execution_count": 304,
   "metadata": {},
   "outputs": [
    {
     "data": {
      "image/png": "[encoded data removed]",
      "text/plain": [
       "<Figure size 1200x1500 with 1 Axes>"
      ]
     },
     "metadata": {},
     "output_type": "display_data"
    }
   ],
   "source": [
    "# построим коробчатую диаграмму для признака 'target' в разрезе признака 'state', чтобы увидеть выбросы по штатам\n",
    "fig = plt.figure(figsize=(12, 15))\n",
    "boxplot = sns.boxplot(\n",
    "    data=df,\n",
    "    y='state',\n",
    "    x='target',\n",
    "    orient='h',\n",
    "    width=0.9\n",
    ")\n",
    "# отобразим график\n",
    "boxplot.set_title('Стоимость недвижимости по штатам');\n",
    "boxplot.set_xlabel('Стоимость');\n",
    "boxplot.set_ylabel('Штат');\n",
    "boxplot.grid()"
   ]
  },
  {
   "cell_type": "markdown",
   "metadata": {},
   "source": [
    "Продолжу проверку выбросов по штатам."
   ]
  },
  {
   "cell_type": "code",
   "execution_count": 305,
   "metadata": {},
   "outputs": [
    {
     "data": {
      "text/html": [
       "<div>\n",
       "<style scoped>\n",
       "    .dataframe tbody tr th:only-of-type {\n",
       "        vertical-align: middle;\n",
       "    }\n",
       "\n",
       "    .dataframe tbody tr th {\n",
       "        vertical-align: top;\n",
       "    }\n",
       "\n",
       "    .dataframe thead th {\n",
       "        text-align: right;\n",
       "    }\n",
       "</style>\n",
       "<table border=\"1\" class=\"dataframe\">\n",
       "  <thead>\n",
       "    <tr style=\"text-align: right;\">\n",
       "      <th></th>\n",
       "      <th>target</th>\n",
       "      <th>street</th>\n",
       "      <th>state</th>\n",
       "      <th>sqft</th>\n",
       "    </tr>\n",
       "  </thead>\n",
       "  <tbody>\n",
       "    <tr>\n",
       "      <th>37558</th>\n",
       "      <td>25900</td>\n",
       "      <td>260 n lyon ave spc 156</td>\n",
       "      <td>CA</td>\n",
       "      <td>1392</td>\n",
       "    </tr>\n",
       "    <tr>\n",
       "      <th>50986</th>\n",
       "      <td>3200</td>\n",
       "      <td>1047 s wooster st</td>\n",
       "      <td>CA</td>\n",
       "      <td>3200</td>\n",
       "    </tr>\n",
       "    <tr>\n",
       "      <th>58485</th>\n",
       "      <td>24000</td>\n",
       "      <td>7562 red bud ln</td>\n",
       "      <td>CA</td>\n",
       "      <td>758</td>\n",
       "    </tr>\n",
       "    <tr>\n",
       "      <th>70767</th>\n",
       "      <td>14950</td>\n",
       "      <td>601 n kirby st space 154</td>\n",
       "      <td>CA</td>\n",
       "      <td>960</td>\n",
       "    </tr>\n",
       "    <tr>\n",
       "      <th>101901</th>\n",
       "      <td>23900</td>\n",
       "      <td>2575 s willow ave unit15</td>\n",
       "      <td>CA</td>\n",
       "      <td>1056</td>\n",
       "    </tr>\n",
       "    <tr>\n",
       "      <th>127734</th>\n",
       "      <td>23500</td>\n",
       "      <td>601 n kirby st spc 36</td>\n",
       "      <td>CA</td>\n",
       "      <td>1000</td>\n",
       "    </tr>\n",
       "    <tr>\n",
       "      <th>135816</th>\n",
       "      <td>20000</td>\n",
       "      <td>4119 roma ct</td>\n",
       "      <td>CA</td>\n",
       "      <td>5093</td>\n",
       "    </tr>\n",
       "    <tr>\n",
       "      <th>186328</th>\n",
       "      <td>29900</td>\n",
       "      <td>18204 soledad canyon rd spc 21</td>\n",
       "      <td>CA</td>\n",
       "      <td>550</td>\n",
       "    </tr>\n",
       "    <tr>\n",
       "      <th>249183</th>\n",
       "      <td>14499</td>\n",
       "      <td>43601 florida ave spc 44</td>\n",
       "      <td>CA</td>\n",
       "      <td>504</td>\n",
       "    </tr>\n",
       "    <tr>\n",
       "      <th>250646</th>\n",
       "      <td>27000</td>\n",
       "      <td>2500 n state highway 59 spc 65</td>\n",
       "      <td>CA</td>\n",
       "      <td>550</td>\n",
       "    </tr>\n",
       "    <tr>\n",
       "      <th>327769</th>\n",
       "      <td>16500</td>\n",
       "      <td>17705 s western ave spc 34</td>\n",
       "      <td>CA</td>\n",
       "      <td>624</td>\n",
       "    </tr>\n",
       "    <tr>\n",
       "      <th>328848</th>\n",
       "      <td>24800</td>\n",
       "      <td>221 w herndon ave unit97</td>\n",
       "      <td>CA</td>\n",
       "      <td>1120</td>\n",
       "    </tr>\n",
       "    <tr>\n",
       "      <th>329301</th>\n",
       "      <td>15000</td>\n",
       "      <td>24200 walnut st spc 53</td>\n",
       "      <td>CA</td>\n",
       "      <td>448</td>\n",
       "    </tr>\n",
       "    <tr>\n",
       "      <th>347433</th>\n",
       "      <td>29900</td>\n",
       "      <td>1250 n kirby st spc 70</td>\n",
       "      <td>CA</td>\n",
       "      <td>1344</td>\n",
       "    </tr>\n",
       "    <tr>\n",
       "      <th>374177</th>\n",
       "      <td>25000</td>\n",
       "      <td>80 huntington st spc 260</td>\n",
       "      <td>CA</td>\n",
       "      <td>480</td>\n",
       "    </tr>\n",
       "  </tbody>\n",
       "</table>\n",
       "</div>"
      ],
      "text/plain": [
       "        target                          street state  sqft\n",
       "37558    25900          260 n lyon ave spc 156    CA  1392\n",
       "50986     3200               1047 s wooster st    CA  3200\n",
       "58485    24000                 7562 red bud ln    CA   758\n",
       "70767    14950        601 n kirby st space 154    CA   960\n",
       "101901   23900        2575 s willow ave unit15    CA  1056\n",
       "127734   23500           601 n kirby st spc 36    CA  1000\n",
       "135816   20000                    4119 roma ct    CA  5093\n",
       "186328   29900  18204 soledad canyon rd spc 21    CA   550\n",
       "249183   14499        43601 florida ave spc 44    CA   504\n",
       "250646   27000  2500 n state highway 59 spc 65    CA   550\n",
       "327769   16500      17705 s western ave spc 34    CA   624\n",
       "328848   24800        221 w herndon ave unit97    CA  1120\n",
       "329301   15000          24200 walnut st spc 53    CA   448\n",
       "347433   29900          1250 n kirby st spc 70    CA  1344\n",
       "374177   25000        80 huntington st spc 260    CA   480"
      ]
     },
     "execution_count": 305,
     "metadata": {},
     "output_type": "execute_result"
    }
   ],
   "source": [
    "# сделаем отбор по параметрам выбросов штата СА\n",
    "df.loc[(df['state'] == 'CA')&(df['target'] < 30000), ['target', 'street', 'state', 'sqft']]"
   ]
  },
  {
   "cell_type": "markdown",
   "metadata": {},
   "source": [
    "Я проверила на сайте https://www.realtor.com/ информацию о ценах по объектам штата CA, которые попали в выбросы. Цены на сайте на 50% объектов соответствуют, а на другую половину нет. Объектов в выбросах немного, поэтому все их удаляю. "
   ]
  },
  {
   "cell_type": "code",
   "execution_count": 306,
   "metadata": {},
   "outputs": [],
   "source": [
    "# сделаем удаление по параметрам\n",
    "df = df.drop(df[(df['state'] == 'СA') & (df['target'] < 25000)].index, axis=0, inplace=False)"
   ]
  },
  {
   "cell_type": "code",
   "execution_count": 307,
   "metadata": {},
   "outputs": [
    {
     "data": {
      "text/html": [
       "<div>\n",
       "<style scoped>\n",
       "    .dataframe tbody tr th:only-of-type {\n",
       "        vertical-align: middle;\n",
       "    }\n",
       "\n",
       "    .dataframe tbody tr th {\n",
       "        vertical-align: top;\n",
       "    }\n",
       "\n",
       "    .dataframe thead th {\n",
       "        text-align: right;\n",
       "    }\n",
       "</style>\n",
       "<table border=\"1\" class=\"dataframe\">\n",
       "  <thead>\n",
       "    <tr style=\"text-align: right;\">\n",
       "      <th></th>\n",
       "      <th>target</th>\n",
       "      <th>street</th>\n",
       "      <th>state</th>\n",
       "      <th>sqft</th>\n",
       "    </tr>\n",
       "  </thead>\n",
       "  <tbody>\n",
       "    <tr>\n",
       "      <th>5451</th>\n",
       "      <td>449000</td>\n",
       "      <td>375 hunters trl</td>\n",
       "      <td>MI</td>\n",
       "      <td>2368</td>\n",
       "    </tr>\n",
       "    <tr>\n",
       "      <th>14209</th>\n",
       "      <td>489000</td>\n",
       "      <td>1360 sunset rd</td>\n",
       "      <td>MI</td>\n",
       "      <td>3220</td>\n",
       "    </tr>\n",
       "    <tr>\n",
       "      <th>16861</th>\n",
       "      <td>489900</td>\n",
       "      <td>2516 w liberty st</td>\n",
       "      <td>MI</td>\n",
       "      <td>1954</td>\n",
       "    </tr>\n",
       "    <tr>\n",
       "      <th>23189</th>\n",
       "      <td>484000</td>\n",
       "      <td>2915 john r st unit212</td>\n",
       "      <td>MI</td>\n",
       "      <td>1587</td>\n",
       "    </tr>\n",
       "    <tr>\n",
       "      <th>32827</th>\n",
       "      <td>494900</td>\n",
       "      <td>4233 smokey row</td>\n",
       "      <td>MI</td>\n",
       "      <td>2816</td>\n",
       "    </tr>\n",
       "    <tr>\n",
       "      <th>...</th>\n",
       "      <td>...</td>\n",
       "      <td>...</td>\n",
       "      <td>...</td>\n",
       "      <td>...</td>\n",
       "    </tr>\n",
       "    <tr>\n",
       "      <th>363074</th>\n",
       "      <td>435000</td>\n",
       "      <td>11447 s west county line rd</td>\n",
       "      <td>MI</td>\n",
       "      <td>4747</td>\n",
       "    </tr>\n",
       "    <tr>\n",
       "      <th>370790</th>\n",
       "      <td>425000</td>\n",
       "      <td>21678 bedford rd n</td>\n",
       "      <td>MI</td>\n",
       "      <td>2286</td>\n",
       "    </tr>\n",
       "    <tr>\n",
       "      <th>372750</th>\n",
       "      <td>459000</td>\n",
       "      <td>65 s duval rd</td>\n",
       "      <td>MI</td>\n",
       "      <td>2670</td>\n",
       "    </tr>\n",
       "    <tr>\n",
       "      <th>373775</th>\n",
       "      <td>475000</td>\n",
       "      <td>8731 s d dr</td>\n",
       "      <td>MI</td>\n",
       "      <td>4140</td>\n",
       "    </tr>\n",
       "    <tr>\n",
       "      <th>375088</th>\n",
       "      <td>499000</td>\n",
       "      <td>4142 cass ave unit302</td>\n",
       "      <td>MI</td>\n",
       "      <td>1625</td>\n",
       "    </tr>\n",
       "  </tbody>\n",
       "</table>\n",
       "<p>92 rows × 4 columns</p>\n",
       "</div>"
      ],
      "text/plain": [
       "        target                       street state  sqft\n",
       "5451    449000              375 hunters trl    MI  2368\n",
       "14209   489000               1360 sunset rd    MI  3220\n",
       "16861   489900            2516 w liberty st    MI  1954\n",
       "23189   484000       2915 john r st unit212    MI  1587\n",
       "32827   494900              4233 smokey row    MI  2816\n",
       "...        ...                          ...   ...   ...\n",
       "363074  435000  11447 s west county line rd    MI  4747\n",
       "370790  425000           21678 bedford rd n    MI  2286\n",
       "372750  459000                65 s duval rd    MI  2670\n",
       "373775  475000                  8731 s d dr    MI  4140\n",
       "375088  499000        4142 cass ave unit302    MI  1625\n",
       "\n",
       "[92 rows x 4 columns]"
      ]
     },
     "execution_count": 307,
     "metadata": {},
     "output_type": "execute_result"
    }
   ],
   "source": [
    "# сделаем отбор по параметрам выбросов штата MI\n",
    "df.loc[(df['state'] == 'MI')&(df['target'] > 420000), ['target', 'street', 'state', 'sqft']]"
   ]
  },
  {
   "cell_type": "markdown",
   "metadata": {},
   "source": [
    "Проверив цены на сайте https://www.realtor.com/ по объектам штата MI, которые попали в выбросы, пришла к выводы, что эти объекты оставляем, так как цена либо почти соответсвует, либо даже немного выше. "
   ]
  },
  {
   "cell_type": "code",
   "execution_count": 308,
   "metadata": {},
   "outputs": [
    {
     "data": {
      "text/html": [
       "<div>\n",
       "<style scoped>\n",
       "    .dataframe tbody tr th:only-of-type {\n",
       "        vertical-align: middle;\n",
       "    }\n",
       "\n",
       "    .dataframe tbody tr th {\n",
       "        vertical-align: top;\n",
       "    }\n",
       "\n",
       "    .dataframe thead th {\n",
       "        text-align: right;\n",
       "    }\n",
       "</style>\n",
       "<table border=\"1\" class=\"dataframe\">\n",
       "  <thead>\n",
       "    <tr style=\"text-align: right;\">\n",
       "      <th></th>\n",
       "      <th>target</th>\n",
       "      <th>street</th>\n",
       "      <th>state</th>\n",
       "      <th>sqft</th>\n",
       "    </tr>\n",
       "  </thead>\n",
       "  <tbody>\n",
       "    <tr>\n",
       "      <th>33785</th>\n",
       "      <td>59900</td>\n",
       "      <td>11411 n 91st ave unit235</td>\n",
       "      <td>AZ</td>\n",
       "      <td>1024</td>\n",
       "    </tr>\n",
       "    <tr>\n",
       "      <th>57874</th>\n",
       "      <td>12900</td>\n",
       "      <td>11411 n 91st ave lot 99</td>\n",
       "      <td>AZ</td>\n",
       "      <td>868</td>\n",
       "    </tr>\n",
       "    <tr>\n",
       "      <th>114832</th>\n",
       "      <td>65000</td>\n",
       "      <td>16101 n el mirage rd lot 355</td>\n",
       "      <td>AZ</td>\n",
       "      <td>1326</td>\n",
       "    </tr>\n",
       "    <tr>\n",
       "      <th>119708</th>\n",
       "      <td>69900</td>\n",
       "      <td>16101 n el mirage rd unit320</td>\n",
       "      <td>AZ</td>\n",
       "      <td>1456</td>\n",
       "    </tr>\n",
       "    <tr>\n",
       "      <th>123983</th>\n",
       "      <td>69900</td>\n",
       "      <td>9101 n 65th dr</td>\n",
       "      <td>AZ</td>\n",
       "      <td>840</td>\n",
       "    </tr>\n",
       "    <tr>\n",
       "      <th>125033</th>\n",
       "      <td>47500</td>\n",
       "      <td>11411 n 91st ave unit47</td>\n",
       "      <td>AZ</td>\n",
       "      <td>1560</td>\n",
       "    </tr>\n",
       "    <tr>\n",
       "      <th>139236</th>\n",
       "      <td>22000</td>\n",
       "      <td>11000 n 91st ave unit90</td>\n",
       "      <td>AZ</td>\n",
       "      <td>1450</td>\n",
       "    </tr>\n",
       "    <tr>\n",
       "      <th>171989</th>\n",
       "      <td>49900</td>\n",
       "      <td>5002 w bethany home rd lot 5</td>\n",
       "      <td>AZ</td>\n",
       "      <td>840</td>\n",
       "    </tr>\n",
       "    <tr>\n",
       "      <th>190396</th>\n",
       "      <td>35000</td>\n",
       "      <td>2604 w berridge ln unit c110</td>\n",
       "      <td>AZ</td>\n",
       "      <td>482</td>\n",
       "    </tr>\n",
       "    <tr>\n",
       "      <th>219273</th>\n",
       "      <td>64900</td>\n",
       "      <td>7200 n 43rd ave lot 38</td>\n",
       "      <td>AZ</td>\n",
       "      <td>1344</td>\n",
       "    </tr>\n",
       "    <tr>\n",
       "      <th>265282</th>\n",
       "      <td>44500</td>\n",
       "      <td>2534 w berridge ln unit e208</td>\n",
       "      <td>AZ</td>\n",
       "      <td>720</td>\n",
       "    </tr>\n",
       "    <tr>\n",
       "      <th>282394</th>\n",
       "      <td>49900</td>\n",
       "      <td>5002 w bethany home rd unit05</td>\n",
       "      <td>AZ</td>\n",
       "      <td>840</td>\n",
       "    </tr>\n",
       "    <tr>\n",
       "      <th>292039</th>\n",
       "      <td>69900</td>\n",
       "      <td>9101 n 65th dr</td>\n",
       "      <td>AZ</td>\n",
       "      <td>840</td>\n",
       "    </tr>\n",
       "    <tr>\n",
       "      <th>307054</th>\n",
       "      <td>62000</td>\n",
       "      <td>2650 w union hills dr lot 229</td>\n",
       "      <td>AZ</td>\n",
       "      <td>1416</td>\n",
       "    </tr>\n",
       "    <tr>\n",
       "      <th>357141</th>\n",
       "      <td>55000</td>\n",
       "      <td>2650 w union hills dr lot 324</td>\n",
       "      <td>AZ</td>\n",
       "      <td>1680</td>\n",
       "    </tr>\n",
       "  </tbody>\n",
       "</table>\n",
       "</div>"
      ],
      "text/plain": [
       "        target                          street state  sqft\n",
       "33785    59900       11411 n 91st ave unit235     AZ  1024\n",
       "57874    12900         11411 n 91st ave lot 99    AZ   868\n",
       "114832   65000    16101 n el mirage rd lot 355    AZ  1326\n",
       "119708   69900   16101 n el mirage rd unit320     AZ  1456\n",
       "123983   69900                 9101 n 65th dr     AZ   840\n",
       "125033   47500        11411 n 91st ave unit47     AZ  1560\n",
       "139236   22000        11000 n 91st ave unit90     AZ  1450\n",
       "171989   49900    5002 w bethany home rd lot 5    AZ   840\n",
       "190396   35000    2604 w berridge ln unit c110    AZ   482\n",
       "219273   64900          7200 n 43rd ave lot 38    AZ  1344\n",
       "265282   44500    2534 w berridge ln unit e208    AZ   720\n",
       "282394   49900  5002 w bethany home rd unit05     AZ   840\n",
       "292039   69900                  9101 n 65th dr    AZ   840\n",
       "307054   62000   2650 w union hills dr lot 229    AZ  1416\n",
       "357141   55000   2650 w union hills dr lot 324    AZ  1680"
      ]
     },
     "execution_count": 308,
     "metadata": {},
     "output_type": "execute_result"
    }
   ],
   "source": [
    "# сделаем отбор по параметрам выбросов штата AZ\n",
    "df.loc[(df['state'] == 'AZ')&(df['target'] < 70000), ['target', 'street', 'state', 'sqft']]"
   ]
  },
  {
   "cell_type": "markdown",
   "metadata": {},
   "source": [
    "Проверив цены на сайте https://www.realtor.com/ по объектам штата AZ, которые попали в выбросы, пришла к выводы, что эти объекты оставляем, так как цена соответсвует. "
   ]
  },
  {
   "cell_type": "code",
   "execution_count": 309,
   "metadata": {},
   "outputs": [
    {
     "data": {
      "text/html": [
       "<div>\n",
       "<style scoped>\n",
       "    .dataframe tbody tr th:only-of-type {\n",
       "        vertical-align: middle;\n",
       "    }\n",
       "\n",
       "    .dataframe tbody tr th {\n",
       "        vertical-align: top;\n",
       "    }\n",
       "\n",
       "    .dataframe thead th {\n",
       "        text-align: right;\n",
       "    }\n",
       "</style>\n",
       "<table border=\"1\" class=\"dataframe\">\n",
       "  <thead>\n",
       "    <tr style=\"text-align: right;\">\n",
       "      <th></th>\n",
       "      <th>target</th>\n",
       "      <th>street</th>\n",
       "      <th>state</th>\n",
       "      <th>sqft</th>\n",
       "    </tr>\n",
       "  </thead>\n",
       "  <tbody>\n",
       "    <tr>\n",
       "      <th>33175</th>\n",
       "      <td>49000</td>\n",
       "      <td>300 w 11th ave unit p84</td>\n",
       "      <td>CO</td>\n",
       "      <td>120</td>\n",
       "    </tr>\n",
       "    <tr>\n",
       "      <th>51366</th>\n",
       "      <td>33811</td>\n",
       "      <td>1801 w 92nd ave unit40</td>\n",
       "      <td>CO</td>\n",
       "      <td>924</td>\n",
       "    </tr>\n",
       "    <tr>\n",
       "      <th>79475</th>\n",
       "      <td>49000</td>\n",
       "      <td>300 w 11th ave unit p85</td>\n",
       "      <td>CO</td>\n",
       "      <td>120</td>\n",
       "    </tr>\n",
       "    <tr>\n",
       "      <th>83809</th>\n",
       "      <td>49000</td>\n",
       "      <td>300 w 11th ave unit p84</td>\n",
       "      <td>CO</td>\n",
       "      <td>120</td>\n",
       "    </tr>\n",
       "    <tr>\n",
       "      <th>125432</th>\n",
       "      <td>44900</td>\n",
       "      <td>1801 w 92nd ave unit239</td>\n",
       "      <td>CO</td>\n",
       "      <td>960</td>\n",
       "    </tr>\n",
       "    <tr>\n",
       "      <th>134653</th>\n",
       "      <td>39900</td>\n",
       "      <td>860 w 132nd ave unit197</td>\n",
       "      <td>CO</td>\n",
       "      <td>994</td>\n",
       "    </tr>\n",
       "    <tr>\n",
       "      <th>154128</th>\n",
       "      <td>37000</td>\n",
       "      <td>3149 brownie cir spc 1</td>\n",
       "      <td>CO</td>\n",
       "      <td>1456</td>\n",
       "    </tr>\n",
       "    <tr>\n",
       "      <th>310992</th>\n",
       "      <td>53000</td>\n",
       "      <td>2500 e harmony rd lot 436</td>\n",
       "      <td>CO</td>\n",
       "      <td>1216</td>\n",
       "    </tr>\n",
       "    <tr>\n",
       "      <th>325760</th>\n",
       "      <td>44900</td>\n",
       "      <td>1201 w thornton pkwy lot 289</td>\n",
       "      <td>CO</td>\n",
       "      <td>980</td>\n",
       "    </tr>\n",
       "    <tr>\n",
       "      <th>350740</th>\n",
       "      <td>44900</td>\n",
       "      <td>2000 w 92nd ave unit239</td>\n",
       "      <td>CO</td>\n",
       "      <td>960</td>\n",
       "    </tr>\n",
       "  </tbody>\n",
       "</table>\n",
       "</div>"
      ],
      "text/plain": [
       "        target                        street state  sqft\n",
       "33175    49000       300 w 11th ave unit p84    CO   120\n",
       "51366    33811        1801 w 92nd ave unit40    CO   924\n",
       "79475    49000       300 w 11th ave unit p85    CO   120\n",
       "83809    49000      300 w 11th ave unit p84     CO   120\n",
       "125432   44900       1801 w 92nd ave unit239    CO   960\n",
       "134653   39900      860 w 132nd ave unit197     CO   994\n",
       "154128   37000        3149 brownie cir spc 1    CO  1456\n",
       "310992   53000     2500 e harmony rd lot 436    CO  1216\n",
       "325760   44900  1201 w thornton pkwy lot 289    CO   980\n",
       "350740   44900      2000 w 92nd ave unit239     CO   960"
      ]
     },
     "execution_count": 309,
     "metadata": {},
     "output_type": "execute_result"
    }
   ],
   "source": [
    "# сделаем отбор по параметрам выбросов штата CO\n",
    "df.loc[(df['state'] == 'CO')&(df['target'] < 55000), ['target', 'street', 'state', 'sqft']]"
   ]
  },
  {
   "cell_type": "markdown",
   "metadata": {},
   "source": [
    "Проверив цены на сайте https://www.realtor.com/ по объектам штата CO, которые попали в выбросы, пришла к выводы, что эти объекты оставляем, так как цена соответсвует. "
   ]
  },
  {
   "cell_type": "code",
   "execution_count": 310,
   "metadata": {},
   "outputs": [
    {
     "data": {
      "text/html": [
       "<div>\n",
       "<style scoped>\n",
       "    .dataframe tbody tr th:only-of-type {\n",
       "        vertical-align: middle;\n",
       "    }\n",
       "\n",
       "    .dataframe tbody tr th {\n",
       "        vertical-align: top;\n",
       "    }\n",
       "\n",
       "    .dataframe thead th {\n",
       "        text-align: right;\n",
       "    }\n",
       "</style>\n",
       "<table border=\"1\" class=\"dataframe\">\n",
       "  <thead>\n",
       "    <tr style=\"text-align: right;\">\n",
       "      <th></th>\n",
       "      <th>target</th>\n",
       "      <th>street</th>\n",
       "      <th>state</th>\n",
       "      <th>sqft</th>\n",
       "      <th>status</th>\n",
       "    </tr>\n",
       "  </thead>\n",
       "  <tbody>\n",
       "    <tr>\n",
       "      <th>230843</th>\n",
       "      <td>40330</td>\n",
       "      <td>3701 13th st nw unit1</td>\n",
       "      <td>DC</td>\n",
       "      <td>518</td>\n",
       "      <td>sale</td>\n",
       "    </tr>\n",
       "    <tr>\n",
       "      <th>250314</th>\n",
       "      <td>38900</td>\n",
       "      <td>4201 cathedral ave nw unit 206</td>\n",
       "      <td>DC</td>\n",
       "      <td>46</td>\n",
       "      <td>sale</td>\n",
       "    </tr>\n",
       "    <tr>\n",
       "      <th>278076</th>\n",
       "      <td>40000</td>\n",
       "      <td>936 rhode island ave ne</td>\n",
       "      <td>DC</td>\n",
       "      <td>1398</td>\n",
       "      <td>sale</td>\n",
       "    </tr>\n",
       "  </tbody>\n",
       "</table>\n",
       "</div>"
      ],
      "text/plain": [
       "        target                          street state  sqft status\n",
       "230843   40330          3701 13th st nw unit1     DC   518   sale\n",
       "250314   38900  4201 cathedral ave nw unit 206    DC    46   sale\n",
       "278076   40000         936 rhode island ave ne    DC  1398   sale"
      ]
     },
     "execution_count": 310,
     "metadata": {},
     "output_type": "execute_result"
    }
   ],
   "source": [
    "# сделаем отбор по параметрам выбросов штата DC\n",
    "df.loc[(df['state'] == 'DC')&(df['target'] < 65000), ['target', 'street', 'state', 'sqft', 'status']]"
   ]
  },
  {
   "cell_type": "markdown",
   "metadata": {},
   "source": [
    "Проверив цены на сайте https://www.realtor.com/ по объектам штата DC, которые попали в выбросы, пришла к выводы, что эти объекты оставляем, так как цена соответсвует. "
   ]
  },
  {
   "cell_type": "code",
   "execution_count": 311,
   "metadata": {},
   "outputs": [
    {
     "data": {
      "text/html": [
       "<div>\n",
       "<style scoped>\n",
       "    .dataframe tbody tr th:only-of-type {\n",
       "        vertical-align: middle;\n",
       "    }\n",
       "\n",
       "    .dataframe tbody tr th {\n",
       "        vertical-align: top;\n",
       "    }\n",
       "\n",
       "    .dataframe thead th {\n",
       "        text-align: right;\n",
       "    }\n",
       "</style>\n",
       "<table border=\"1\" class=\"dataframe\">\n",
       "  <thead>\n",
       "    <tr style=\"text-align: right;\">\n",
       "      <th></th>\n",
       "      <th>target</th>\n",
       "      <th>street</th>\n",
       "      <th>state</th>\n",
       "      <th>sqft</th>\n",
       "      <th>status</th>\n",
       "    </tr>\n",
       "  </thead>\n",
       "  <tbody>\n",
       "    <tr>\n",
       "      <th>39309</th>\n",
       "      <td>40000</td>\n",
       "      <td>7248 donnell pl unit c</td>\n",
       "      <td>MD</td>\n",
       "      <td>886</td>\n",
       "      <td>sale</td>\n",
       "    </tr>\n",
       "    <tr>\n",
       "      <th>50581</th>\n",
       "      <td>32000</td>\n",
       "      <td>4515 willard ave unit 456p</td>\n",
       "      <td>MD</td>\n",
       "      <td>136</td>\n",
       "      <td>sale</td>\n",
       "    </tr>\n",
       "    <tr>\n",
       "      <th>71607</th>\n",
       "      <td>55000</td>\n",
       "      <td>8601 temple hill rd trlr 49</td>\n",
       "      <td>MD</td>\n",
       "      <td>1900</td>\n",
       "      <td>sale</td>\n",
       "    </tr>\n",
       "    <tr>\n",
       "      <th>239140</th>\n",
       "      <td>29000</td>\n",
       "      <td>4601 n park ave unit p444</td>\n",
       "      <td>MD</td>\n",
       "      <td>200</td>\n",
       "      <td>sale</td>\n",
       "    </tr>\n",
       "    <tr>\n",
       "      <th>286921</th>\n",
       "      <td>59900</td>\n",
       "      <td>3302 huntley square dr apt t3</td>\n",
       "      <td>MD</td>\n",
       "      <td>893</td>\n",
       "      <td>sale</td>\n",
       "    </tr>\n",
       "    <tr>\n",
       "      <th>299742</th>\n",
       "      <td>32000</td>\n",
       "      <td>4515 willard ave unit 456p</td>\n",
       "      <td>MD</td>\n",
       "      <td>136</td>\n",
       "      <td>sale</td>\n",
       "    </tr>\n",
       "  </tbody>\n",
       "</table>\n",
       "</div>"
      ],
      "text/plain": [
       "        target                         street state  sqft status\n",
       "39309    40000         7248 donnell pl unit c    MD   886   sale\n",
       "50581    32000     4515 willard ave unit 456p    MD   136   sale\n",
       "71607    55000    8601 temple hill rd trlr 49    MD  1900   sale\n",
       "239140   29000      4601 n park ave unit p444    MD   200   sale\n",
       "286921   59900  3302 huntley square dr apt t3    MD   893   sale\n",
       "299742   32000    4515 willard ave unit 456p     MD   136   sale"
      ]
     },
     "execution_count": 311,
     "metadata": {},
     "output_type": "execute_result"
    }
   ],
   "source": [
    "# сделаем отбор по параметрам выбросов штата MD\n",
    "df.loc[(df['state'] == 'MD')&(df['target'] < 60000), ['target', 'street', 'state', 'sqft', 'status']]"
   ]
  },
  {
   "cell_type": "markdown",
   "metadata": {},
   "source": [
    "Проверив цены на сайте https://www.realtor.com/ по объектам штата MD, которые попали в выбросы, пришла к выводы, что эти объекты оставляем, так как цена соответсвует. "
   ]
  },
  {
   "cell_type": "code",
   "execution_count": 312,
   "metadata": {},
   "outputs": [
    {
     "data": {
      "text/html": [
       "<div>\n",
       "<style scoped>\n",
       "    .dataframe tbody tr th:only-of-type {\n",
       "        vertical-align: middle;\n",
       "    }\n",
       "\n",
       "    .dataframe tbody tr th {\n",
       "        vertical-align: top;\n",
       "    }\n",
       "\n",
       "    .dataframe thead th {\n",
       "        text-align: right;\n",
       "    }\n",
       "</style>\n",
       "<table border=\"1\" class=\"dataframe\">\n",
       "  <thead>\n",
       "    <tr style=\"text-align: right;\">\n",
       "      <th></th>\n",
       "      <th>target</th>\n",
       "      <th>street</th>\n",
       "      <th>state</th>\n",
       "      <th>sqft</th>\n",
       "      <th>status</th>\n",
       "    </tr>\n",
       "  </thead>\n",
       "  <tbody>\n",
       "    <tr>\n",
       "      <th>81455</th>\n",
       "      <td>419000</td>\n",
       "      <td>225 faulkner ave</td>\n",
       "      <td>KY</td>\n",
       "      <td>5344</td>\n",
       "      <td>sale</td>\n",
       "    </tr>\n",
       "    <tr>\n",
       "      <th>168995</th>\n",
       "      <td>495000</td>\n",
       "      <td>90 shiloh dr</td>\n",
       "      <td>KY</td>\n",
       "      <td>4176</td>\n",
       "      <td>sale</td>\n",
       "    </tr>\n",
       "    <tr>\n",
       "      <th>365388</th>\n",
       "      <td>455000</td>\n",
       "      <td>300 faulkner ave</td>\n",
       "      <td>KY</td>\n",
       "      <td>2613</td>\n",
       "      <td>sale</td>\n",
       "    </tr>\n",
       "  </tbody>\n",
       "</table>\n",
       "</div>"
      ],
      "text/plain": [
       "        target            street state  sqft status\n",
       "81455   419000  225 faulkner ave    KY  5344   sale\n",
       "168995  495000      90 shiloh dr    KY  4176   sale\n",
       "365388  455000  300 faulkner ave    KY  2613   sale"
      ]
     },
     "execution_count": 312,
     "metadata": {},
     "output_type": "execute_result"
    }
   ],
   "source": [
    "# сделаем отбор по параметрам выбросов штата KY\n",
    "df.loc[(df['state'] == 'KY')&(df['target'] > 410000), ['target', 'street', 'state', 'sqft', 'status']]"
   ]
  },
  {
   "cell_type": "markdown",
   "metadata": {},
   "source": [
    "Проверив цены на сайте https://www.realtor.com/ по объектам штата KY, которые попали в выбросы, пришла к выводы, что эти объекты надо удалить, так как два последних невозможно идентифицировать, а по первому объекту цена значительно ниже."
   ]
  },
  {
   "cell_type": "code",
   "execution_count": 313,
   "metadata": {},
   "outputs": [],
   "source": [
    "# сделаем удаление по параметрам\n",
    "df = df.drop(df[(df['state'] == 'KY') & (df['target'] > 410000)].index, axis=0, inplace=False)"
   ]
  },
  {
   "cell_type": "code",
   "execution_count": 314,
   "metadata": {},
   "outputs": [
    {
     "data": {
      "text/html": [
       "<div>\n",
       "<style scoped>\n",
       "    .dataframe tbody tr th:only-of-type {\n",
       "        vertical-align: middle;\n",
       "    }\n",
       "\n",
       "    .dataframe tbody tr th {\n",
       "        vertical-align: top;\n",
       "    }\n",
       "\n",
       "    .dataframe thead th {\n",
       "        text-align: right;\n",
       "    }\n",
       "</style>\n",
       "<table border=\"1\" class=\"dataframe\">\n",
       "  <thead>\n",
       "    <tr style=\"text-align: right;\">\n",
       "      <th></th>\n",
       "      <th>target</th>\n",
       "      <th>street</th>\n",
       "      <th>state</th>\n",
       "      <th>sqft</th>\n",
       "      <th>status</th>\n",
       "      <th>zipcode</th>\n",
       "    </tr>\n",
       "  </thead>\n",
       "  <tbody>\n",
       "    <tr>\n",
       "      <th>16642</th>\n",
       "      <td>449900</td>\n",
       "      <td>24 wedgewood dr</td>\n",
       "      <td>ME</td>\n",
       "      <td>5906</td>\n",
       "      <td>sale</td>\n",
       "      <td>4963</td>\n",
       "    </tr>\n",
       "    <tr>\n",
       "      <th>47194</th>\n",
       "      <td>475000</td>\n",
       "      <td>23 libby hill rd</td>\n",
       "      <td>ME</td>\n",
       "      <td>3500</td>\n",
       "      <td>sale</td>\n",
       "      <td>4963</td>\n",
       "    </tr>\n",
       "    <tr>\n",
       "      <th>107330</th>\n",
       "      <td>369900</td>\n",
       "      <td>22 meadow dr</td>\n",
       "      <td>ME</td>\n",
       "      <td>2816</td>\n",
       "      <td>pending</td>\n",
       "      <td>4963</td>\n",
       "    </tr>\n",
       "    <tr>\n",
       "      <th>291342</th>\n",
       "      <td>499900</td>\n",
       "      <td>32 w sandy river rd</td>\n",
       "      <td>ME</td>\n",
       "      <td>1860</td>\n",
       "      <td>sale</td>\n",
       "      <td>4957</td>\n",
       "    </tr>\n",
       "  </tbody>\n",
       "</table>\n",
       "</div>"
      ],
      "text/plain": [
       "        target               street state  sqft   status  zipcode\n",
       "16642   449900     24 wedgewood dr     ME  5906     sale     4963\n",
       "47194   475000    23 libby hill rd     ME  3500     sale     4963\n",
       "107330  369900         22 meadow dr    ME  2816  pending     4963\n",
       "291342  499900  32 w sandy river rd    ME  1860     sale     4957"
      ]
     },
     "execution_count": 314,
     "metadata": {},
     "output_type": "execute_result"
    }
   ],
   "source": [
    "# сделаем отбор по параметрам выбросов штата ME\n",
    "df.loc[(df['state'] == 'ME')&(df['target'] > 350000), ['target', 'street', 'state', 'sqft', 'status', 'zipcode']]"
   ]
  },
  {
   "cell_type": "markdown",
   "metadata": {},
   "source": [
    "Проверив цены на сайте https://www.realtor.com/ по объектам штата ME, которые попали в выбросы, пришла к выводы, что эти объекты оставляем, так как цена либо меньше на 10%, либо выше на 20%. "
   ]
  },
  {
   "cell_type": "markdown",
   "metadata": {},
   "source": [
    "Посмотрим как выглядит таблица с очищенными данными"
   ]
  },
  {
   "cell_type": "code",
   "execution_count": 315,
   "metadata": {},
   "outputs": [
    {
     "data": {
      "text/html": [
       "<div>\n",
       "<style scoped>\n",
       "    .dataframe tbody tr th:only-of-type {\n",
       "        vertical-align: middle;\n",
       "    }\n",
       "\n",
       "    .dataframe tbody tr th {\n",
       "        vertical-align: top;\n",
       "    }\n",
       "\n",
       "    .dataframe thead th {\n",
       "        text-align: right;\n",
       "    }\n",
       "</style>\n",
       "<table border=\"1\" class=\"dataframe\">\n",
       "  <thead>\n",
       "    <tr style=\"text-align: right;\">\n",
       "      <th></th>\n",
       "      <th>status</th>\n",
       "      <th>propertyType</th>\n",
       "      <th>street</th>\n",
       "      <th>baths</th>\n",
       "      <th>fireplace</th>\n",
       "      <th>city</th>\n",
       "      <th>sqft</th>\n",
       "      <th>zipcode</th>\n",
       "      <th>state</th>\n",
       "      <th>stories</th>\n",
       "      <th>...</th>\n",
       "      <th>school_max_rating</th>\n",
       "      <th>school_mean_rating</th>\n",
       "      <th>school_mini_distance</th>\n",
       "      <th>shcool_mean_distance</th>\n",
       "      <th>school_names_count</th>\n",
       "      <th>Year built</th>\n",
       "      <th>Remodeled</th>\n",
       "      <th>Heating</th>\n",
       "      <th>Cooling</th>\n",
       "      <th>Parking</th>\n",
       "    </tr>\n",
       "  </thead>\n",
       "  <tbody>\n",
       "    <tr>\n",
       "      <th>0</th>\n",
       "      <td>sale</td>\n",
       "      <td>family_home</td>\n",
       "      <td>240 heather ln</td>\n",
       "      <td>3.0</td>\n",
       "      <td>Yes</td>\n",
       "      <td>Southern Pines</td>\n",
       "      <td>2900</td>\n",
       "      <td>28387</td>\n",
       "      <td>NC</td>\n",
       "      <td>0.0</td>\n",
       "      <td>...</td>\n",
       "      <td>7.0</td>\n",
       "      <td>5.2</td>\n",
       "      <td>4.0</td>\n",
       "      <td>5.2</td>\n",
       "      <td>8</td>\n",
       "      <td>1997.0</td>\n",
       "      <td>No</td>\n",
       "      <td>Yes</td>\n",
       "      <td>No</td>\n",
       "      <td>No</td>\n",
       "    </tr>\n",
       "    <tr>\n",
       "      <th>1</th>\n",
       "      <td>sale</td>\n",
       "      <td>family_home</td>\n",
       "      <td>12911 e heroy ave</td>\n",
       "      <td>3.0</td>\n",
       "      <td>No</td>\n",
       "      <td>Spokane Valley</td>\n",
       "      <td>1947</td>\n",
       "      <td>99216</td>\n",
       "      <td>WA</td>\n",
       "      <td>2.0</td>\n",
       "      <td>...</td>\n",
       "      <td>4.0</td>\n",
       "      <td>1.0</td>\n",
       "      <td>0.0</td>\n",
       "      <td>1.4</td>\n",
       "      <td>3</td>\n",
       "      <td>1980.5</td>\n",
       "      <td>No</td>\n",
       "      <td>No</td>\n",
       "      <td>No</td>\n",
       "      <td>No</td>\n",
       "    </tr>\n",
       "    <tr>\n",
       "      <th>6</th>\n",
       "      <td>sale</td>\n",
       "      <td>other</td>\n",
       "      <td>552 casanova ct</td>\n",
       "      <td>0.0</td>\n",
       "      <td>No</td>\n",
       "      <td>Poinciana</td>\n",
       "      <td>1507</td>\n",
       "      <td>34759</td>\n",
       "      <td>FL</td>\n",
       "      <td>1.0</td>\n",
       "      <td>...</td>\n",
       "      <td>3.0</td>\n",
       "      <td>2.3</td>\n",
       "      <td>1.0</td>\n",
       "      <td>2.3</td>\n",
       "      <td>4</td>\n",
       "      <td>1990.0</td>\n",
       "      <td>Yes</td>\n",
       "      <td>Yes</td>\n",
       "      <td>Yes</td>\n",
       "      <td>No</td>\n",
       "    </tr>\n",
       "    <tr>\n",
       "      <th>8</th>\n",
       "      <td>sale</td>\n",
       "      <td>family_home</td>\n",
       "      <td>11182 owl ave</td>\n",
       "      <td>2.0</td>\n",
       "      <td>No</td>\n",
       "      <td>Mason</td>\n",
       "      <td>3588</td>\n",
       "      <td>50401</td>\n",
       "      <td>IA</td>\n",
       "      <td>0.0</td>\n",
       "      <td>...</td>\n",
       "      <td>7.0</td>\n",
       "      <td>3.8</td>\n",
       "      <td>2.0</td>\n",
       "      <td>3.8</td>\n",
       "      <td>6</td>\n",
       "      <td>1961.0</td>\n",
       "      <td>No</td>\n",
       "      <td>Yes</td>\n",
       "      <td>Yes</td>\n",
       "      <td>No</td>\n",
       "    </tr>\n",
       "    <tr>\n",
       "      <th>11</th>\n",
       "      <td>sale</td>\n",
       "      <td>other</td>\n",
       "      <td>4222 false cypress ln</td>\n",
       "      <td>0.0</td>\n",
       "      <td>No</td>\n",
       "      <td>Houston</td>\n",
       "      <td>3130</td>\n",
       "      <td>77068</td>\n",
       "      <td>TX</td>\n",
       "      <td>2.0</td>\n",
       "      <td>...</td>\n",
       "      <td>6.0</td>\n",
       "      <td>4.2</td>\n",
       "      <td>1.0</td>\n",
       "      <td>4.2</td>\n",
       "      <td>5</td>\n",
       "      <td>1990.0</td>\n",
       "      <td>Yes</td>\n",
       "      <td>Yes</td>\n",
       "      <td>Yes</td>\n",
       "      <td>No</td>\n",
       "    </tr>\n",
       "    <tr>\n",
       "      <th>...</th>\n",
       "      <td>...</td>\n",
       "      <td>...</td>\n",
       "      <td>...</td>\n",
       "      <td>...</td>\n",
       "      <td>...</td>\n",
       "      <td>...</td>\n",
       "      <td>...</td>\n",
       "      <td>...</td>\n",
       "      <td>...</td>\n",
       "      <td>...</td>\n",
       "      <td>...</td>\n",
       "      <td>...</td>\n",
       "      <td>...</td>\n",
       "      <td>...</td>\n",
       "      <td>...</td>\n",
       "      <td>...</td>\n",
       "      <td>...</td>\n",
       "      <td>...</td>\n",
       "      <td>...</td>\n",
       "      <td>...</td>\n",
       "      <td>...</td>\n",
       "    </tr>\n",
       "    <tr>\n",
       "      <th>377170</th>\n",
       "      <td>sale</td>\n",
       "      <td>family_home</td>\n",
       "      <td>6121 darby ave</td>\n",
       "      <td>3.0</td>\n",
       "      <td>Yes</td>\n",
       "      <td>Las Vegas</td>\n",
       "      <td>2672</td>\n",
       "      <td>89146</td>\n",
       "      <td>NV</td>\n",
       "      <td>2.0</td>\n",
       "      <td>...</td>\n",
       "      <td>5.0</td>\n",
       "      <td>1.2</td>\n",
       "      <td>0.0</td>\n",
       "      <td>1.7</td>\n",
       "      <td>3</td>\n",
       "      <td>1998.0</td>\n",
       "      <td>Yes</td>\n",
       "      <td>Yes</td>\n",
       "      <td>Yes</td>\n",
       "      <td>Yes</td>\n",
       "    </tr>\n",
       "    <tr>\n",
       "      <th>377171</th>\n",
       "      <td>sale</td>\n",
       "      <td>family_home</td>\n",
       "      <td>28025 eagle ray ct</td>\n",
       "      <td>3.0</td>\n",
       "      <td>No</td>\n",
       "      <td>Bonita Springs</td>\n",
       "      <td>2022</td>\n",
       "      <td>34135</td>\n",
       "      <td>FL</td>\n",
       "      <td>1.0</td>\n",
       "      <td>...</td>\n",
       "      <td>8.0</td>\n",
       "      <td>1.6</td>\n",
       "      <td>0.0</td>\n",
       "      <td>2.2</td>\n",
       "      <td>24</td>\n",
       "      <td>1990.0</td>\n",
       "      <td>Yes</td>\n",
       "      <td>Yes</td>\n",
       "      <td>Yes</td>\n",
       "      <td>Yes</td>\n",
       "    </tr>\n",
       "    <tr>\n",
       "      <th>377172</th>\n",
       "      <td>sale</td>\n",
       "      <td>family_home</td>\n",
       "      <td>2210 nw 70th ave</td>\n",
       "      <td>2.0</td>\n",
       "      <td>No</td>\n",
       "      <td>Sunrise</td>\n",
       "      <td>1907</td>\n",
       "      <td>33313</td>\n",
       "      <td>FL</td>\n",
       "      <td>1.0</td>\n",
       "      <td>...</td>\n",
       "      <td>6.0</td>\n",
       "      <td>1.2</td>\n",
       "      <td>0.0</td>\n",
       "      <td>1.7</td>\n",
       "      <td>3</td>\n",
       "      <td>1990.0</td>\n",
       "      <td>Yes</td>\n",
       "      <td>Yes</td>\n",
       "      <td>Yes</td>\n",
       "      <td>Yes</td>\n",
       "    </tr>\n",
       "    <tr>\n",
       "      <th>377175</th>\n",
       "      <td>sale</td>\n",
       "      <td>family_home</td>\n",
       "      <td>9711 lawngate dr</td>\n",
       "      <td>3.0</td>\n",
       "      <td>Yes</td>\n",
       "      <td>Houston</td>\n",
       "      <td>1792</td>\n",
       "      <td>77080</td>\n",
       "      <td>TX</td>\n",
       "      <td>2.0</td>\n",
       "      <td>...</td>\n",
       "      <td>3.0</td>\n",
       "      <td>0.9</td>\n",
       "      <td>0.0</td>\n",
       "      <td>1.2</td>\n",
       "      <td>3</td>\n",
       "      <td>1990.0</td>\n",
       "      <td>Yes</td>\n",
       "      <td>Yes</td>\n",
       "      <td>Yes</td>\n",
       "      <td>Yes</td>\n",
       "    </tr>\n",
       "    <tr>\n",
       "      <th>377177</th>\n",
       "      <td>sale</td>\n",
       "      <td>other</td>\n",
       "      <td>2805 s jennings ave</td>\n",
       "      <td>0.0</td>\n",
       "      <td>No</td>\n",
       "      <td>Fort Worth</td>\n",
       "      <td>1895</td>\n",
       "      <td>76110</td>\n",
       "      <td>TX</td>\n",
       "      <td>0.0</td>\n",
       "      <td>...</td>\n",
       "      <td>6.0</td>\n",
       "      <td>5.0</td>\n",
       "      <td>4.0</td>\n",
       "      <td>5.0</td>\n",
       "      <td>3</td>\n",
       "      <td>1990.0</td>\n",
       "      <td>No</td>\n",
       "      <td>No</td>\n",
       "      <td>Yes</td>\n",
       "      <td>No</td>\n",
       "    </tr>\n",
       "  </tbody>\n",
       "</table>\n",
       "<p>170655 rows × 22 columns</p>\n",
       "</div>"
      ],
      "text/plain": [
       "       status propertyType                  street  baths fireplace   \n",
       "0        sale  family_home          240 heather ln    3.0       Yes  \\\n",
       "1        sale  family_home       12911 e heroy ave    3.0        No   \n",
       "6        sale        other        552 casanova ct     0.0        No   \n",
       "8        sale  family_home           11182 owl ave    2.0        No   \n",
       "11       sale        other  4222 false cypress ln     0.0        No   \n",
       "...       ...          ...                     ...    ...       ...   \n",
       "377170   sale  family_home          6121 darby ave    3.0       Yes   \n",
       "377171   sale  family_home      28025 eagle ray ct    3.0        No   \n",
       "377172   sale  family_home        2210 nw 70th ave    2.0        No   \n",
       "377175   sale  family_home        9711 lawngate dr    3.0       Yes   \n",
       "377177   sale        other    2805 s jennings ave     0.0        No   \n",
       "\n",
       "                  city  sqft  zipcode state  stories  ...  school_max_rating   \n",
       "0       Southern Pines  2900    28387    NC      0.0  ...                7.0  \\\n",
       "1       Spokane Valley  1947    99216    WA      2.0  ...                4.0   \n",
       "6            Poinciana  1507    34759    FL      1.0  ...                3.0   \n",
       "8                Mason  3588    50401    IA      0.0  ...                7.0   \n",
       "11             Houston  3130    77068    TX      2.0  ...                6.0   \n",
       "...                ...   ...      ...   ...      ...  ...                ...   \n",
       "377170       Las Vegas  2672    89146    NV      2.0  ...                5.0   \n",
       "377171  Bonita Springs  2022    34135    FL      1.0  ...                8.0   \n",
       "377172         Sunrise  1907    33313    FL      1.0  ...                6.0   \n",
       "377175         Houston  1792    77080    TX      2.0  ...                3.0   \n",
       "377177      Fort Worth  1895    76110    TX      0.0  ...                6.0   \n",
       "\n",
       "       school_mean_rating  school_mini_distance  shcool_mean_distance   \n",
       "0                     5.2                   4.0                   5.2  \\\n",
       "1                     1.0                   0.0                   1.4   \n",
       "6                     2.3                   1.0                   2.3   \n",
       "8                     3.8                   2.0                   3.8   \n",
       "11                    4.2                   1.0                   4.2   \n",
       "...                   ...                   ...                   ...   \n",
       "377170                1.2                   0.0                   1.7   \n",
       "377171                1.6                   0.0                   2.2   \n",
       "377172                1.2                   0.0                   1.7   \n",
       "377175                0.9                   0.0                   1.2   \n",
       "377177                5.0                   4.0                   5.0   \n",
       "\n",
       "        school_names_count  Year built  Remodeled  Heating Cooling Parking  \n",
       "0                        8      1997.0         No      Yes      No      No  \n",
       "1                        3      1980.5         No       No      No      No  \n",
       "6                        4      1990.0        Yes      Yes     Yes      No  \n",
       "8                        6      1961.0         No      Yes     Yes      No  \n",
       "11                       5      1990.0        Yes      Yes     Yes      No  \n",
       "...                    ...         ...        ...      ...     ...     ...  \n",
       "377170                   3      1998.0        Yes      Yes     Yes     Yes  \n",
       "377171                  24      1990.0        Yes      Yes     Yes     Yes  \n",
       "377172                   3      1990.0        Yes      Yes     Yes     Yes  \n",
       "377175                   3      1990.0        Yes      Yes     Yes     Yes  \n",
       "377177                   3      1990.0         No       No     Yes      No  \n",
       "\n",
       "[170655 rows x 22 columns]"
      ]
     },
     "execution_count": 315,
     "metadata": {},
     "output_type": "execute_result"
    }
   ],
   "source": [
    "df"
   ]
  },
  {
   "cell_type": "code",
   "execution_count": 316,
   "metadata": {},
   "outputs": [
    {
     "name": "stdout",
     "output_type": "stream",
     "text": [
      "status - 0%\n",
      "propertyType - 0%\n",
      "street - 0%\n",
      "baths - 0%\n",
      "fireplace - 0%\n",
      "city - 0%\n",
      "sqft - 0%\n",
      "zipcode - 0%\n",
      "state - 0%\n",
      "stories - 0%\n",
      "target - 0%\n",
      "pool - 0%\n",
      "school_max_rating - 0%\n",
      "school_mean_rating - 0%\n",
      "school_mini_distance - 0%\n",
      "shcool_mean_distance - 0%\n",
      "school_names_count - 0%\n",
      "Year built - 0%\n",
      "Remodeled - 0%\n",
      "Heating - 0%\n",
      "Cooling - 0%\n",
      "Parking - 0%\n"
     ]
    }
   ],
   "source": [
    "# еще раз проверим признаки на наличие в них пропусков\n",
    "for col in df.columns:\n",
    "    pct_missing = np.mean(df[col].isnull())\n",
    "    print('{} - {}%'.format(col, round(pct_missing*100)))"
   ]
  },
  {
   "cell_type": "markdown",
   "metadata": {},
   "source": [
    "Признаков с пропусками нет."
   ]
  },
  {
   "cell_type": "markdown",
   "metadata": {},
   "source": [
    "Произведем исследование логарифмированных распределений на наличие выбросов с помощью метода z-отклонений (3ех сигм)"
   ]
  },
  {
   "cell_type": "code",
   "execution_count": 317,
   "metadata": {},
   "outputs": [
    {
     "data": {
      "image/png": "[encoded data removed]",
      "text/plain": [
       "<Figure size 1500x400 with 2 Axes>"
      ]
     },
     "metadata": {},
     "output_type": "display_data"
    }
   ],
   "source": [
    "fig, axes = plt.subplots(1, 2, figsize=(15, 4)) #фигура + координатная плоскость\n",
    "#Строим гистограмму\n",
    "sns.histplot(data=df, x='target', ax=axes[0]);\n",
    "#Логарифмируем\n",
    "log_target = np.log(df['target'])\n",
    "#Строим гистограмму в логарифмическом масштабе\n",
    "sns.histplot(data=log_target, ax=axes[1]);\n",
    "#Добавляем вертикальные линии для среднего и 3ех стандартных отклонений влево и вправо от среднего\n",
    "axes[1].axvline(log_target.mean(), color='k', lw=2)\n",
    "axes[1].axvline(log_target.mean()+ 3 *log_target.std(),\n",
    "                color='k', ls='--', lw=2)\n",
    "axes[1].axvline(log_target.mean()- 3 *log_target.std(),\n",
    "                color='k', ls='--', lw=2);"
   ]
  },
  {
   "cell_type": "code",
   "execution_count": 318,
   "metadata": {},
   "outputs": [
    {
     "data": {
      "image/png": "[encoded data removed]",
      "text/plain": [
       "<Figure size 1500x400 with 2 Axes>"
      ]
     },
     "metadata": {},
     "output_type": "display_data"
    }
   ],
   "source": [
    "#Строим гистограмму\n",
    "fig, axes = plt.subplots(1, 2, figsize=(15, 4))\n",
    "sns.histplot(data=df, x='sqft', ax=axes[0]);\n",
    "#Логарифмируем\n",
    "log_target = np.log(df['sqft'])\n",
    "#Строим гистограмму в логарифмическом масштабе\n",
    "sns.histplot(data=log_target, ax=axes[1]);\n",
    "#Добавляем вертикальные линии для среднего и 3ех стандартных отклонений влево и вправо от среднего\n",
    "axes[1].axvline(log_target.mean(), color='k', lw=2)\n",
    "axes[1].axvline(log_target.mean()+ 3 *log_target.std(),\n",
    "                color='k', ls='--', lw=2)\n",
    "axes[1].axvline(log_target.mean()- 3 *log_target.std(),\n",
    "                color='k', ls='--', lw=2);"
   ]
  },
  {
   "cell_type": "code",
   "execution_count": 319,
   "metadata": {},
   "outputs": [
    {
     "name": "stderr",
     "output_type": "stream",
     "text": [
      "c:\\Users\\tani_\\AppData\\Local\\Programs\\Python\\Python311\\Lib\\site-packages\\pandas\\core\\arraylike.py:396: RuntimeWarning: divide by zero encountered in log\n",
      "  result = getattr(ufunc, method)(*inputs, **kwargs)\n"
     ]
    },
    {
     "data": {
      "image/png": "[encoded data removed]",
      "text/plain": [
       "<Figure size 1500x400 with 2 Axes>"
      ]
     },
     "metadata": {},
     "output_type": "display_data"
    }
   ],
   "source": [
    "#Строим гистограмму\n",
    "fig, axes = plt.subplots(1, 2, figsize=(15, 4))\n",
    "sns.histplot(data=df, x='baths', ax=axes[0]);\n",
    "#Логарифмируем\n",
    "log_target = np.log(df['baths'])\n",
    "#Строим гистограмму в логарифмическом масштабе\n",
    "sns.histplot(data=log_target, ax=axes[1]);\n",
    "#Добавляем вертикальные линии для среднего и 3ех стандартных отклонений влево и вправо от среднего\n",
    "axes[1].axvline(log_target.mean(), color='k', lw=2)\n",
    "axes[1].axvline(log_target.mean()+ 3 *log_target.std(),\n",
    "                color='k', ls='--', lw=2)\n",
    "axes[1].axvline(log_target.mean()- 3 *log_target.std(),\n",
    "                color='k', ls='--', lw=2);"
   ]
  },
  {
   "cell_type": "code",
   "execution_count": 320,
   "metadata": {},
   "outputs": [
    {
     "data": {
      "image/png": "[encoded data removed]",
      "text/plain": [
       "<Figure size 1500x400 with 2 Axes>"
      ]
     },
     "metadata": {},
     "output_type": "display_data"
    }
   ],
   "source": [
    "#Строим гистограмму\n",
    "fig, axes = plt.subplots(1, 2, figsize=(15, 4))\n",
    "sns.histplot(data=df, x='school_max_rating', ax=axes[0]);\n",
    "#Логарифмируем\n",
    "log_target = np.log(df['school_max_rating'])\n",
    "#Строим гистограмму в логарифмическом масштабе\n",
    "sns.histplot(data=log_target, ax=axes[1]);\n",
    "#Добавляем вертикальные линии для среднего и 3ех стандартных отклонений влево и вправо от среднего\n",
    "axes[1].axvline(log_target.mean(), color='k', lw=2)\n",
    "axes[1].axvline(log_target.mean()+ 3 *log_target.std(),\n",
    "                color='k', ls='--', lw=2)\n",
    "axes[1].axvline(log_target.mean()- 3 *log_target.std(),\n",
    "                color='k', ls='--', lw=2);"
   ]
  },
  {
   "cell_type": "code",
   "execution_count": 321,
   "metadata": {},
   "outputs": [
    {
     "data": {
      "image/png": "[encoded data removed]",
      "text/plain": [
       "<Figure size 1500x400 with 2 Axes>"
      ]
     },
     "metadata": {},
     "output_type": "display_data"
    }
   ],
   "source": [
    "#Строим гистограмму \n",
    "fig, axes = plt.subplots(1, 2, figsize=(15, 4))\n",
    "sns.histplot(data=df, x='shcool_mean_distance', ax=axes[0]);\n",
    "#Логарифмируем\n",
    "log_target = np.log(df['shcool_mean_distance'])\n",
    "#Строим гистограмму в логарифмическом масштабе\n",
    "sns.histplot(data=log_target, ax=axes[1]);\n",
    "#Добавляем вертикальные линии для среднего и 3ех стандартных отклонений влево и вправо от среднего\n",
    "axes[1].axvline(log_target.mean(), color='k', lw=2)\n",
    "axes[1].axvline(log_target.mean()+ 3 *log_target.std(),\n",
    "                color='k', ls='--', lw=2)\n",
    "axes[1].axvline(log_target.mean()- 3 *log_target.std(),\n",
    "                color='k', ls='--', lw=2);"
   ]
  },
  {
   "cell_type": "markdown",
   "metadata": {},
   "source": [
    "Избавимся от выбросов с помощью метода z-отклонений на логарифмированных признаках. "
   ]
  },
  {
   "cell_type": "code",
   "execution_count": 322,
   "metadata": {},
   "outputs": [
    {
     "name": "stdout",
     "output_type": "stream",
     "text": [
      "Shape before cleaning outliers: (170655, 22)\n",
      "Shape after cleaning outliers: (165481, 22)\n"
     ]
    }
   ],
   "source": [
    "#Объявляем функцию, реализующую фильтрацию выбросов по методу z-отклонений\n",
    "def outliers_z_score(data, feature, log_scale=False):\n",
    "    if log_scale:\n",
    "        x = np.log(data[feature]+1)\n",
    "    else:\n",
    "        x = data[feature]\n",
    "    mu = x.mean()\n",
    "    sigma = x.std()\n",
    "    lower_bound = mu - 3 * sigma\n",
    "    upper_bound = mu + 3 * sigma\n",
    "    outliers = data[(x < lower_bound) | (x > upper_bound)]\n",
    "    cleaned = data[(x > lower_bound) & (x < upper_bound)]\n",
    "    return outliers, cleaned\n",
    "#Производим очистку \n",
    "outliers, temp_cleaned = outliers_z_score(df, 'target', log_scale=True)\n",
    "outliers, temp_cleaned = outliers_z_score(temp_cleaned, 'sqft', log_scale=True)\n",
    "outliers, temp_cleaned = outliers_z_score(temp_cleaned, 'baths', log_scale=True)\n",
    "outliers, temp_cleaned = outliers_z_score(temp_cleaned, 'school_max_rating', log_scale=True)\n",
    "outliers, temp_cleaned = outliers_z_score(temp_cleaned, 'shcool_mean_distance', log_scale=True)\n",
    "print('Shape before cleaning outliers: {}'.format(df.shape))\n",
    "print('Shape after cleaning outliers: {}'.format(temp_cleaned.shape))"
   ]
  },
  {
   "cell_type": "code",
   "execution_count": 325,
   "metadata": {},
   "outputs": [
    {
     "name": "stdout",
     "output_type": "stream",
     "text": [
      "<class 'pandas.core.frame.DataFrame'>\n",
      "Index: 165481 entries, 0 to 377177\n",
      "Data columns (total 22 columns):\n",
      " #   Column                Non-Null Count   Dtype  \n",
      "---  ------                --------------   -----  \n",
      " 0   status                165481 non-null  object \n",
      " 1   propertyType          165481 non-null  object \n",
      " 2   street                165481 non-null  object \n",
      " 3   baths                 165481 non-null  float64\n",
      " 4   fireplace             165481 non-null  object \n",
      " 5   city                  165481 non-null  object \n",
      " 6   sqft                  165481 non-null  int32  \n",
      " 7   zipcode               165481 non-null  int32  \n",
      " 8   state                 165481 non-null  object \n",
      " 9   stories               165481 non-null  float64\n",
      " 10  target                165481 non-null  int32  \n",
      " 11  pool                  165481 non-null  object \n",
      " 12  school_max_rating     165481 non-null  float64\n",
      " 13  school_mean_rating    165481 non-null  float64\n",
      " 14  school_mini_distance  165481 non-null  float64\n",
      " 15  shcool_mean_distance  165481 non-null  float64\n",
      " 16  school_names_count    165481 non-null  int64  \n",
      " 17  Year built            165481 non-null  float64\n",
      " 18  Remodeled             165481 non-null  object \n",
      " 19  Heating               165481 non-null  object \n",
      " 20  Cooling               165481 non-null  object \n",
      " 21  Parking               165481 non-null  object \n",
      "dtypes: float64(7), int32(3), int64(1), object(11)\n",
      "memory usage: 27.1+ MB\n"
     ]
    }
   ],
   "source": [
    "# выведем информацию о получившимся датафрейме\n",
    "temp_cleaned.info()"
   ]
  },
  {
   "cell_type": "code",
   "execution_count": 326,
   "metadata": {},
   "outputs": [],
   "source": [
    "# Сохраним полученный датафрейм в CSV-файл\n",
    "temp_cleaned.to_csv(\"data/clean_df.csv\", index=False)"
   ]
  }
 ],
 "metadata": {
  "kernelspec": {
   "display_name": "Python 3",
   "language": "python",
   "name": "python3"
  },
  "language_info": {
   "codemirror_mode": {
    "name": "ipython",
    "version": 3
   },
   "file_extension": ".py",
   "mimetype": "text/x-python",
   "name": "python",
   "nbconvert_exporter": "python",
   "pygments_lexer": "ipython3",
   "version": "3.11.1"
  },
  "orig_nbformat": 4
 },
 "nbformat": 4,
 "nbformat_minor": 2
}
