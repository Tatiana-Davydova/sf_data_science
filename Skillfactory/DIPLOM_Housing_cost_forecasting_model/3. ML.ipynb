{
 "cells": [
  {
   "cell_type": "markdown",
   "metadata": {},
   "source": [
    "## 3. ML"
   ]
  },
  {
   "cell_type": "code",
   "execution_count": 4,
   "metadata": {},
   "outputs": [
    {
     "name": "stderr",
     "output_type": "stream",
     "text": [
      "C:\\Users\\tani_\\AppData\\Local\\Temp\\ipykernel_4164\\1250253059.py:24: MatplotlibDeprecationWarning: The seaborn styles shipped by Matplotlib are deprecated since 3.6, as they no longer correspond to the styles shipped by seaborn. However, they will remain available as 'seaborn-v0_8-<style>'. Alternatively, directly use the seaborn API instead.\n",
      "  plt.style.use('seaborn')\n"
     ]
    }
   ],
   "source": [
    "# загрузим библиотеки\n",
    "import pandas as pd\n",
    "import numpy as np\n",
    "import matplotlib.pyplot as plt\n",
    "import seaborn as sns\n",
    "import category_encoders as ce\n",
    "from sklearn import linear_model \n",
    "from sklearn import metrics\n",
    "from sklearn import preprocessing \n",
    "from sklearn.tree import DecisionTreeRegressor\n",
    "from sklearn.metrics import r2_score\n",
    "from sklearn.metrics import accuracy_score\n",
    "from sklearn.ensemble import RandomForestRegressor\n",
    "from sklearn.linear_model import Ridge\n",
    "from sklearn.preprocessing import PolynomialFeatures\n",
    "from sklearn.linear_model import LinearRegression\n",
    "from sklearn.linear_model import ElasticNetCV\n",
    "from sklearn.gaussian_process import GaussianProcessRegressor\n",
    "from sklearn.gaussian_process.kernels import RBF\n",
    "from sklearn.metrics import mean_squared_error\n",
    "from sklearn.pipeline import make_pipeline\n",
    "from sklearn.model_selection import train_test_split \n",
    "%matplotlib inline\n",
    "plt.style.use('seaborn')"
   ]
  },
  {
   "cell_type": "code",
   "execution_count": 5,
   "metadata": {},
   "outputs": [
    {
     "name": "stdout",
     "output_type": "stream",
     "text": [
      "<class 'pandas.core.frame.DataFrame'>\n",
      "RangeIndex: 165481 entries, 0 to 165480\n",
      "Data columns (total 35 columns):\n",
      " #   Column                    Non-Null Count   Dtype  \n",
      "---  ------                    --------------   -----  \n",
      " 0   baths                     165481 non-null  float64\n",
      " 1   fireplace                 165481 non-null  int64  \n",
      " 2   city                      165481 non-null  int64  \n",
      " 3   sqft                      165481 non-null  float64\n",
      " 4   zipcode                   165481 non-null  int64  \n",
      " 5   state                     165481 non-null  int64  \n",
      " 6   target                    165481 non-null  float64\n",
      " 7   pool                      165481 non-null  int64  \n",
      " 8   school_max_rating         165481 non-null  float64\n",
      " 9   shcool_mean_distance      165481 non-null  float64\n",
      " 10  Year built                165481 non-null  int64  \n",
      " 11  Remodeled                 165481 non-null  int64  \n",
      " 12  Heating                   165481 non-null  int64  \n",
      " 13  Cooling                   165481 non-null  int64  \n",
      " 14  Parking                   165481 non-null  int64  \n",
      " 15  status_auction            165481 non-null  bool   \n",
      " 16  status_back_on_market     165481 non-null  bool   \n",
      " 17  status_coming_soon        165481 non-null  bool   \n",
      " 18  status_contingent         165481 non-null  bool   \n",
      " 19  status_lease_purchase     165481 non-null  bool   \n",
      " 20  status_listing_extended   165481 non-null  bool   \n",
      " 21  status_price_change       165481 non-null  bool   \n",
      " 22  status_sale               165481 non-null  bool   \n",
      " 23  status_sold               165481 non-null  bool   \n",
      " 24  status_under_contract     165481 non-null  bool   \n",
      " 25  propertyType_apartment    165481 non-null  bool   \n",
      " 26  propertyType_condo        165481 non-null  bool   \n",
      " 27  propertyType_family_home  165481 non-null  bool   \n",
      " 28  propertyType_historical   165481 non-null  bool   \n",
      " 29  propertyType_land         165481 non-null  bool   \n",
      " 30  propertyType_mobile_home  165481 non-null  bool   \n",
      " 31  propertyType_modern       165481 non-null  bool   \n",
      " 32  propertyType_other        165481 non-null  bool   \n",
      " 33  propertyType_ranch        165481 non-null  bool   \n",
      " 34  propertyType_townhouse    165481 non-null  bool   \n",
      "dtypes: bool(20), float64(5), int64(10)\n",
      "memory usage: 22.1 MB\n"
     ]
    }
   ],
   "source": [
    "# загрузим очищенные и нормализованные данные\n",
    "norm_df = pd.read_csv('data/norm_df.csv')\n",
    "norm_df.info()"
   ]
  },
  {
   "cell_type": "markdown",
   "metadata": {},
   "source": [
    "Разделим набор данных на матрицу наблюдений X (таблица из объектов и их признаков) и столбец правильных ответов y"
   ]
  },
  {
   "cell_type": "code",
   "execution_count": 6,
   "metadata": {},
   "outputs": [],
   "source": [
    "# X - матрица наблюдений, y - столбец правильных ответов\n",
    "X = norm_df.drop('target', axis=1)\n",
    "y = norm_df['target']"
   ]
  },
  {
   "cell_type": "code",
   "execution_count": 7,
   "metadata": {},
   "outputs": [
    {
     "data": {
      "text/html": [
       "<div>\n",
       "<style scoped>\n",
       "    .dataframe tbody tr th:only-of-type {\n",
       "        vertical-align: middle;\n",
       "    }\n",
       "\n",
       "    .dataframe tbody tr th {\n",
       "        vertical-align: top;\n",
       "    }\n",
       "\n",
       "    .dataframe thead th {\n",
       "        text-align: right;\n",
       "    }\n",
       "</style>\n",
       "<table border=\"1\" class=\"dataframe\">\n",
       "  <thead>\n",
       "    <tr style=\"text-align: right;\">\n",
       "      <th></th>\n",
       "      <th>baths</th>\n",
       "      <th>fireplace</th>\n",
       "      <th>city</th>\n",
       "      <th>sqft</th>\n",
       "      <th>zipcode</th>\n",
       "      <th>state</th>\n",
       "      <th>pool</th>\n",
       "      <th>school_max_rating</th>\n",
       "      <th>shcool_mean_distance</th>\n",
       "      <th>Year built</th>\n",
       "      <th>...</th>\n",
       "      <th>propertyType_apartment</th>\n",
       "      <th>propertyType_condo</th>\n",
       "      <th>propertyType_family_home</th>\n",
       "      <th>propertyType_historical</th>\n",
       "      <th>propertyType_land</th>\n",
       "      <th>propertyType_mobile_home</th>\n",
       "      <th>propertyType_modern</th>\n",
       "      <th>propertyType_other</th>\n",
       "      <th>propertyType_ranch</th>\n",
       "      <th>propertyType_townhouse</th>\n",
       "    </tr>\n",
       "  </thead>\n",
       "  <tbody>\n",
       "    <tr>\n",
       "      <th>0</th>\n",
       "      <td>0.5</td>\n",
       "      <td>1</td>\n",
       "      <td>1229</td>\n",
       "      <td>1.255020</td>\n",
       "      <td>778</td>\n",
       "      <td>19</td>\n",
       "      <td>0</td>\n",
       "      <td>0.333333</td>\n",
       "      <td>1.764706</td>\n",
       "      <td>27</td>\n",
       "      <td>...</td>\n",
       "      <td>False</td>\n",
       "      <td>False</td>\n",
       "      <td>True</td>\n",
       "      <td>False</td>\n",
       "      <td>False</td>\n",
       "      <td>False</td>\n",
       "      <td>False</td>\n",
       "      <td>False</td>\n",
       "      <td>False</td>\n",
       "      <td>False</td>\n",
       "    </tr>\n",
       "    <tr>\n",
       "      <th>1</th>\n",
       "      <td>0.5</td>\n",
       "      <td>0</td>\n",
       "      <td>1236</td>\n",
       "      <td>0.298193</td>\n",
       "      <td>3760</td>\n",
       "      <td>33</td>\n",
       "      <td>0</td>\n",
       "      <td>-0.666667</td>\n",
       "      <td>-0.470588</td>\n",
       "      <td>21</td>\n",
       "      <td>...</td>\n",
       "      <td>False</td>\n",
       "      <td>False</td>\n",
       "      <td>True</td>\n",
       "      <td>False</td>\n",
       "      <td>False</td>\n",
       "      <td>False</td>\n",
       "      <td>False</td>\n",
       "      <td>False</td>\n",
       "      <td>False</td>\n",
       "      <td>False</td>\n",
       "    </tr>\n",
       "    <tr>\n",
       "      <th>2</th>\n",
       "      <td>-1.0</td>\n",
       "      <td>0</td>\n",
       "      <td>1018</td>\n",
       "      <td>-0.143574</td>\n",
       "      <td>1323</td>\n",
       "      <td>5</td>\n",
       "      <td>0</td>\n",
       "      <td>-1.000000</td>\n",
       "      <td>0.058824</td>\n",
       "      <td>24</td>\n",
       "      <td>...</td>\n",
       "      <td>False</td>\n",
       "      <td>False</td>\n",
       "      <td>False</td>\n",
       "      <td>False</td>\n",
       "      <td>False</td>\n",
       "      <td>False</td>\n",
       "      <td>False</td>\n",
       "      <td>True</td>\n",
       "      <td>False</td>\n",
       "      <td>False</td>\n",
       "    </tr>\n",
       "    <tr>\n",
       "      <th>3</th>\n",
       "      <td>0.0</td>\n",
       "      <td>0</td>\n",
       "      <td>781</td>\n",
       "      <td>1.945783</td>\n",
       "      <td>1937</td>\n",
       "      <td>8</td>\n",
       "      <td>0</td>\n",
       "      <td>0.333333</td>\n",
       "      <td>0.941176</td>\n",
       "      <td>11</td>\n",
       "      <td>...</td>\n",
       "      <td>False</td>\n",
       "      <td>False</td>\n",
       "      <td>True</td>\n",
       "      <td>False</td>\n",
       "      <td>False</td>\n",
       "      <td>False</td>\n",
       "      <td>False</td>\n",
       "      <td>False</td>\n",
       "      <td>False</td>\n",
       "      <td>False</td>\n",
       "    </tr>\n",
       "    <tr>\n",
       "      <th>4</th>\n",
       "      <td>-1.0</td>\n",
       "      <td>0</td>\n",
       "      <td>591</td>\n",
       "      <td>1.485944</td>\n",
       "      <td>2418</td>\n",
       "      <td>29</td>\n",
       "      <td>0</td>\n",
       "      <td>0.000000</td>\n",
       "      <td>1.176471</td>\n",
       "      <td>24</td>\n",
       "      <td>...</td>\n",
       "      <td>False</td>\n",
       "      <td>False</td>\n",
       "      <td>False</td>\n",
       "      <td>False</td>\n",
       "      <td>False</td>\n",
       "      <td>False</td>\n",
       "      <td>False</td>\n",
       "      <td>True</td>\n",
       "      <td>False</td>\n",
       "      <td>False</td>\n",
       "    </tr>\n",
       "    <tr>\n",
       "      <th>...</th>\n",
       "      <td>...</td>\n",
       "      <td>...</td>\n",
       "      <td>...</td>\n",
       "      <td>...</td>\n",
       "      <td>...</td>\n",
       "      <td>...</td>\n",
       "      <td>...</td>\n",
       "      <td>...</td>\n",
       "      <td>...</td>\n",
       "      <td>...</td>\n",
       "      <td>...</td>\n",
       "      <td>...</td>\n",
       "      <td>...</td>\n",
       "      <td>...</td>\n",
       "      <td>...</td>\n",
       "      <td>...</td>\n",
       "      <td>...</td>\n",
       "      <td>...</td>\n",
       "      <td>...</td>\n",
       "      <td>...</td>\n",
       "      <td>...</td>\n",
       "    </tr>\n",
       "    <tr>\n",
       "      <th>165476</th>\n",
       "      <td>0.5</td>\n",
       "      <td>1</td>\n",
       "      <td>708</td>\n",
       "      <td>1.026104</td>\n",
       "      <td>3007</td>\n",
       "      <td>21</td>\n",
       "      <td>1</td>\n",
       "      <td>-0.333333</td>\n",
       "      <td>-0.294118</td>\n",
       "      <td>28</td>\n",
       "      <td>...</td>\n",
       "      <td>False</td>\n",
       "      <td>False</td>\n",
       "      <td>True</td>\n",
       "      <td>False</td>\n",
       "      <td>False</td>\n",
       "      <td>False</td>\n",
       "      <td>False</td>\n",
       "      <td>False</td>\n",
       "      <td>False</td>\n",
       "      <td>False</td>\n",
       "    </tr>\n",
       "    <tr>\n",
       "      <th>165477</th>\n",
       "      <td>0.5</td>\n",
       "      <td>0</td>\n",
       "      <td>128</td>\n",
       "      <td>0.373494</td>\n",
       "      <td>1273</td>\n",
       "      <td>5</td>\n",
       "      <td>1</td>\n",
       "      <td>0.666667</td>\n",
       "      <td>0.000000</td>\n",
       "      <td>24</td>\n",
       "      <td>...</td>\n",
       "      <td>False</td>\n",
       "      <td>False</td>\n",
       "      <td>True</td>\n",
       "      <td>False</td>\n",
       "      <td>False</td>\n",
       "      <td>False</td>\n",
       "      <td>False</td>\n",
       "      <td>False</td>\n",
       "      <td>False</td>\n",
       "      <td>False</td>\n",
       "    </tr>\n",
       "    <tr>\n",
       "      <th>165478</th>\n",
       "      <td>0.0</td>\n",
       "      <td>0</td>\n",
       "      <td>1283</td>\n",
       "      <td>0.258032</td>\n",
       "      <td>1143</td>\n",
       "      <td>5</td>\n",
       "      <td>0</td>\n",
       "      <td>0.000000</td>\n",
       "      <td>-0.294118</td>\n",
       "      <td>24</td>\n",
       "      <td>...</td>\n",
       "      <td>False</td>\n",
       "      <td>False</td>\n",
       "      <td>True</td>\n",
       "      <td>False</td>\n",
       "      <td>False</td>\n",
       "      <td>False</td>\n",
       "      <td>False</td>\n",
       "      <td>False</td>\n",
       "      <td>False</td>\n",
       "      <td>False</td>\n",
       "    </tr>\n",
       "    <tr>\n",
       "      <th>165479</th>\n",
       "      <td>0.5</td>\n",
       "      <td>1</td>\n",
       "      <td>591</td>\n",
       "      <td>0.142570</td>\n",
       "      <td>2430</td>\n",
       "      <td>29</td>\n",
       "      <td>0</td>\n",
       "      <td>-1.000000</td>\n",
       "      <td>-0.588235</td>\n",
       "      <td>24</td>\n",
       "      <td>...</td>\n",
       "      <td>False</td>\n",
       "      <td>False</td>\n",
       "      <td>True</td>\n",
       "      <td>False</td>\n",
       "      <td>False</td>\n",
       "      <td>False</td>\n",
       "      <td>False</td>\n",
       "      <td>False</td>\n",
       "      <td>False</td>\n",
       "      <td>False</td>\n",
       "    </tr>\n",
       "    <tr>\n",
       "      <th>165480</th>\n",
       "      <td>-1.0</td>\n",
       "      <td>0</td>\n",
       "      <td>453</td>\n",
       "      <td>0.245984</td>\n",
       "      <td>2295</td>\n",
       "      <td>29</td>\n",
       "      <td>0</td>\n",
       "      <td>0.000000</td>\n",
       "      <td>1.647059</td>\n",
       "      <td>24</td>\n",
       "      <td>...</td>\n",
       "      <td>False</td>\n",
       "      <td>False</td>\n",
       "      <td>False</td>\n",
       "      <td>False</td>\n",
       "      <td>False</td>\n",
       "      <td>False</td>\n",
       "      <td>False</td>\n",
       "      <td>True</td>\n",
       "      <td>False</td>\n",
       "      <td>False</td>\n",
       "    </tr>\n",
       "  </tbody>\n",
       "</table>\n",
       "<p>165481 rows × 34 columns</p>\n",
       "</div>"
      ],
      "text/plain": [
       "        baths  fireplace  city      sqft  zipcode  state  pool   \n",
       "0         0.5          1  1229  1.255020      778     19     0  \\\n",
       "1         0.5          0  1236  0.298193     3760     33     0   \n",
       "2        -1.0          0  1018 -0.143574     1323      5     0   \n",
       "3         0.0          0   781  1.945783     1937      8     0   \n",
       "4        -1.0          0   591  1.485944     2418     29     0   \n",
       "...       ...        ...   ...       ...      ...    ...   ...   \n",
       "165476    0.5          1   708  1.026104     3007     21     1   \n",
       "165477    0.5          0   128  0.373494     1273      5     1   \n",
       "165478    0.0          0  1283  0.258032     1143      5     0   \n",
       "165479    0.5          1   591  0.142570     2430     29     0   \n",
       "165480   -1.0          0   453  0.245984     2295     29     0   \n",
       "\n",
       "        school_max_rating  shcool_mean_distance  Year built  ...   \n",
       "0                0.333333              1.764706          27  ...  \\\n",
       "1               -0.666667             -0.470588          21  ...   \n",
       "2               -1.000000              0.058824          24  ...   \n",
       "3                0.333333              0.941176          11  ...   \n",
       "4                0.000000              1.176471          24  ...   \n",
       "...                   ...                   ...         ...  ...   \n",
       "165476          -0.333333             -0.294118          28  ...   \n",
       "165477           0.666667              0.000000          24  ...   \n",
       "165478           0.000000             -0.294118          24  ...   \n",
       "165479          -1.000000             -0.588235          24  ...   \n",
       "165480           0.000000              1.647059          24  ...   \n",
       "\n",
       "        propertyType_apartment  propertyType_condo  propertyType_family_home   \n",
       "0                        False               False                      True  \\\n",
       "1                        False               False                      True   \n",
       "2                        False               False                     False   \n",
       "3                        False               False                      True   \n",
       "4                        False               False                     False   \n",
       "...                        ...                 ...                       ...   \n",
       "165476                   False               False                      True   \n",
       "165477                   False               False                      True   \n",
       "165478                   False               False                      True   \n",
       "165479                   False               False                      True   \n",
       "165480                   False               False                     False   \n",
       "\n",
       "        propertyType_historical  propertyType_land  propertyType_mobile_home   \n",
       "0                         False              False                     False  \\\n",
       "1                         False              False                     False   \n",
       "2                         False              False                     False   \n",
       "3                         False              False                     False   \n",
       "4                         False              False                     False   \n",
       "...                         ...                ...                       ...   \n",
       "165476                    False              False                     False   \n",
       "165477                    False              False                     False   \n",
       "165478                    False              False                     False   \n",
       "165479                    False              False                     False   \n",
       "165480                    False              False                     False   \n",
       "\n",
       "        propertyType_modern  propertyType_other  propertyType_ranch   \n",
       "0                     False               False               False  \\\n",
       "1                     False               False               False   \n",
       "2                     False                True               False   \n",
       "3                     False               False               False   \n",
       "4                     False                True               False   \n",
       "...                     ...                 ...                 ...   \n",
       "165476                False               False               False   \n",
       "165477                False               False               False   \n",
       "165478                False               False               False   \n",
       "165479                False               False               False   \n",
       "165480                False                True               False   \n",
       "\n",
       "        propertyType_townhouse  \n",
       "0                        False  \n",
       "1                        False  \n",
       "2                        False  \n",
       "3                        False  \n",
       "4                        False  \n",
       "...                        ...  \n",
       "165476                   False  \n",
       "165477                   False  \n",
       "165478                   False  \n",
       "165479                   False  \n",
       "165480                   False  \n",
       "\n",
       "[165481 rows x 34 columns]"
      ]
     },
     "execution_count": 7,
     "metadata": {},
     "output_type": "execute_result"
    }
   ],
   "source": [
    "X"
   ]
  },
  {
   "cell_type": "markdown",
   "metadata": {},
   "source": [
    "Разделяем всю выборку на тренировочную и тестовую в соотношении 80/20.\n",
    "\n",
    "На тренировочной выборке будем обучать модели, а на тестовой проверять их качество. "
   ]
  },
  {
   "cell_type": "code",
   "execution_count": 8,
   "metadata": {},
   "outputs": [
    {
     "name": "stdout",
     "output_type": "stream",
     "text": [
      "Train shape: (132384, 34)\n",
      "Test shape: (33097, 34)\n"
     ]
    }
   ],
   "source": [
    "#Создаем тренировочную и тестовую выборки с помощью train_test_split\n",
    "X_train, X_test, y_train, y_test = train_test_split(\n",
    "    X, y, #таблица с наблюдениями и столбец с правильным ответами\n",
    "    test_size=0.2, #размер тестовой выборки\n",
    "    random_state=42 #число отвечающее за генерацию случайных чисел\n",
    ")\n",
    "#Выводим размеры полученных выборок\n",
    "print('Train shape: {}'.format(X_train.shape))\n",
    "print('Test shape: {}'.format(X_test.shape))"
   ]
  },
  {
   "cell_type": "markdown",
   "metadata": {},
   "source": [
    "### Моделирование и оценка модели"
   ]
  },
  {
   "cell_type": "markdown",
   "metadata": {},
   "source": [
    "Cоздадим функцию, которая будет расчитывать метрики:\n",
    "\n",
    "1. $R^2$ - коэффициент детерминации \n",
    "2. MAE - средняя абсолютная ошибка (целевая метрика)\n",
    "3. MSE - средняя квадратическая ошибка"
   ]
  },
  {
   "cell_type": "code",
   "execution_count": 9,
   "metadata": {},
   "outputs": [],
   "source": [
    "# функция для расчета метрик\n",
    "def print_metrics(y_train, y_train_predict, y_test, y_test_predict):\n",
    "    print('Train R^2: {:.3f}'.format(metrics.r2_score(y_train, y_train_predict)))\n",
    "    print('Train MAE: {:.3f}'.format(metrics.mean_absolute_error(y_train, y_train_predict)))\n",
    "    print('Train MSE: {:.3f}'.format(metrics.mean_squared_error(y_train, y_train_predict)))\n",
    "    print('\\n')\n",
    "    print('Test R^2: {:.3f}'.format(metrics.r2_score(y_test, y_test_predict)))\n",
    "    print('Test MAE: {:.3f}'.format(metrics.mean_absolute_error(y_test, y_test_predict)))\n",
    "    print('Test MSE: {:.3f}'.format(metrics.mean_squared_error(y_test, y_test_predict)))"
   ]
  },
  {
   "cell_type": "markdown",
   "metadata": {},
   "source": [
    "### 1. Модель линейной регрессии"
   ]
  },
  {
   "cell_type": "code",
   "execution_count": 10,
   "metadata": {},
   "outputs": [
    {
     "name": "stdout",
     "output_type": "stream",
     "text": [
      "Train R^2: 0.301\n",
      "Train MAE: 0.443\n",
      "Train MSE: 0.305\n",
      "\n",
      "\n",
      "Test R^2: 0.298\n",
      "Test MAE: 0.443\n",
      "Test MSE: 0.305\n"
     ]
    }
   ],
   "source": [
    "# Инициализируем объект класса линейная регрессия\n",
    "lr = linear_model.LinearRegression()\n",
    "# Обучаем модель - ищем параметры\n",
    "lr.fit(X_train, y_train)\n",
    "# Делаем предсказание для каждой из выборок\n",
    "y_train_pred = lr.predict(X_train)\n",
    "y_test_pred = lr.predict(X_test)\n",
    "# Выводим результирующие метрики\n",
    "print_metrics(y_train, y_train_pred, y_test, y_test_pred)"
   ]
  },
  {
   "cell_type": "markdown",
   "metadata": {},
   "source": [
    "Выводы:\n",
    "\n",
    "1. Коэффициент детерминации R^2 для обучающего набора составляет 0.301, что означает, что примерно 30.1% изменчивости целевой переменной может быть объяснено моделью. Аналогично, коэффициент детерминации R^2 для тестового набора составляет 0.298, что означает, что примерно 29.8% изменчивости целевой переменной может быть объяснено моделью. Оба значения R^2 находятся в довольно низком диапазоне, что может указывать на то, что модель не очень хорошо объясняет изменчивость данных.\n",
    "\n",
    "2. Средняя абсолютная ошибка (MAE) для обучающего набора составляет 0.443, для тестового набора также 0.443. Значения MAE показывают, что модель в среднем оказывается ошибочной на 0.443  единицы.\n",
    "\n",
    "3. Среднеквадратическая ошибка (MSE) для обучающего и тестового набора составляет 0.305. Значения MSE показывают, насколько сильно отличаются предсказанные значения от фактических значений. Более высокое значение MSE указывает на большую дисперсию ошибок.\n",
    "\n",
    "На основе данных метрик можно заключить, что модель машинного обучения линейной регрессии имеет относительно низкую точность предсказаний, так как значения R^2, MAE и MSE оказались довольно низкими. Для улучшения модели требуется использовать более сложные модели."
   ]
  },
  {
   "cell_type": "markdown",
   "metadata": {},
   "source": [
    "### 2. Регуляризованная линейная регрессия"
   ]
  },
  {
   "cell_type": "code",
   "execution_count": 11,
   "metadata": {},
   "outputs": [
    {
     "name": "stdout",
     "output_type": "stream",
     "text": [
      "Train R^2: 0.301\n",
      "Train MAE: 0.443\n",
      "Train MSE: 0.305\n",
      "\n",
      "\n",
      "Test R^2: 0.298\n",
      "Test MAE: 0.443\n",
      "Test MSE: 0.305\n"
     ]
    }
   ],
   "source": [
    "# Создадим регрессионную модель с параметром регуляризации alpha\n",
    "alpha = 0.5\n",
    "ridge = Ridge(alpha=alpha)\n",
    "# Обучаем модель\n",
    "ridge.fit(X_train, y_train)\n",
    "# Делаем предсказание для каждой из выборок\n",
    "y_train_pred = ridge.predict(X_train)\n",
    "y_test_pred = ridge.predict(X_test)\n",
    "# Выводим результирующие метрики\n",
    "print_metrics(y_train, y_train_pred, y_test, y_test_pred)"
   ]
  },
  {
   "cell_type": "markdown",
   "metadata": {},
   "source": [
    "Выводы:\n",
    "\n",
    "Метрики модели регуляризованной линейной регрессии идентичны показателям метрик модели линейной регрессии."
   ]
  },
  {
   "cell_type": "markdown",
   "metadata": {},
   "source": [
    "### 3. Решающие деревья"
   ]
  },
  {
   "cell_type": "code",
   "execution_count": 12,
   "metadata": {},
   "outputs": [],
   "source": [
    "trees_df = norm_df.copy()"
   ]
  },
  {
   "cell_type": "code",
   "execution_count": 13,
   "metadata": {},
   "outputs": [],
   "source": [
    "# X - матрица наблюдений, y - столбец правильных ответов\n",
    "X = trees_df.drop('target', axis=1)\n",
    "y = trees_df['target']"
   ]
  },
  {
   "cell_type": "code",
   "execution_count": 14,
   "metadata": {},
   "outputs": [
    {
     "name": "stdout",
     "output_type": "stream",
     "text": [
      "Train shape: (132384, 34)\n",
      "Test shape: (33097, 34)\n"
     ]
    }
   ],
   "source": [
    "#Создаем тренировочную и тестовую выборки с помощью train_test_split\n",
    "X_train, X_test, y_train, y_test = train_test_split(\n",
    "    X, y, #таблица с наблюдениями и столбец с правильным ответами\n",
    "    test_size=0.2, #размер тестовой выборки\n",
    "    random_state=42 #число отвечающее за генерацию случайных чисел\n",
    ")\n",
    "#Выводим размеры полученных выборок\n",
    "print('Train shape: {}'.format(X_train.shape))\n",
    "print('Test shape: {}'.format(X_test.shape))"
   ]
  },
  {
   "cell_type": "code",
   "execution_count": 15,
   "metadata": {},
   "outputs": [
    {
     "name": "stdout",
     "output_type": "stream",
     "text": [
      "Train R^2: 0.301\n",
      "Train MAE: 0.443\n",
      "Train MSE: 0.305\n",
      "\n",
      "\n",
      "Test R^2: 0.298\n",
      "Test MAE: 0.443\n",
      "Test MSE: 0.305\n"
     ]
    }
   ],
   "source": [
    "# Создание и обучение модели решающего дерева\n",
    "model = DecisionTreeRegressor()\n",
    "model.fit(X_train, y_train)\n",
    "# Предсказание значений на тренировочной выборке\n",
    "train_pred = model.predict(X_train)\n",
    "# Предсказание значений на тестовой выборке\n",
    "test_pred = model.predict(X_test)\n",
    "# Оценка точности модели\n",
    "train_accuracy = r2_score(y_train, train_pred)\n",
    "test_accuracy = r2_score(y_test, test_pred)\n",
    "# Вывод точности модели\n",
    "# print('Train Accuracy:', train_accuracy)\n",
    "# print('Test Accuracy:', test_accuracy)\n",
    "# # Выводим результирующие метрики\n",
    "print_metrics(y_train, y_train_pred, y_test, y_test_pred)"
   ]
  },
  {
   "cell_type": "markdown",
   "metadata": {},
   "source": [
    "Выводы:\n",
    "\n",
    "1. Train R^2 (коэффициент детерминации) равен 0.301 для обучающей выборки, что означает, что примерно 30.1% дисперсии зависимой переменной объясняется моделью. Это говорит о том, что модель не очень хорошо соответствует обучающим данным, так как R^2 близок к 0. Это может указывать на недообучение модели. Test R^2 (коэффициент детерминации на тестовой выборке) также равен 0.298. Это говорит о том, что модель не очень хорошо обобщает данные на новых данных, так как R^2 также близок к 0.\n",
    "\n",
    "2. Train MAE (средняя абсолютная ошибка) составляет 0.443. Это означает, что модель в среднем ошибается на 0.443 единицы при прогнозировании значений на обучающей выборке. Test MAE (средняя абсолютная ошибка на тестовой выборке) также составляет 0.443. Это показывает, что модель имеет схожую среднюю ошибку на тестовой выборке, как и на обучающей.\n",
    "\n",
    "3. Train MSE (среднеквадратичная ошибка) равен 0.305. Эта метрика показывает, насколько сильно модель отклоняется от реальных значений на обучающей выборке. В данном случае, MSE равен 0.305. Test MSE (среднеквадратичная ошибка на тестовой выборке) также равен 0.305. Это говорит о том, что модель сохраняет схожее качество прогнозов на тестовой выборке, как и на обучающей.\n",
    "\n",
    "Исходя из предоставленных метрик, можно сделать вывод, что модель Решающего леса не показывает выдающегося качества прогнозирования. Она имеет невысокий коэффициент детерминации (R^2) как на обучающей, так и на тестовой выборках, что может указывать на недообучение или несостоятельность модели. Средние абсолютные и среднеквадратичные ошибки на обучающей и тестовой выборках примерно одинаковы, что также может указывать на отсутствие переобучения, но модель требует доработки, чтобы улучшить качество прогнозов."
   ]
  },
  {
   "cell_type": "markdown",
   "metadata": {},
   "source": [
    "### 4. Случайный лес"
   ]
  },
  {
   "cell_type": "code",
   "execution_count": 16,
   "metadata": {},
   "outputs": [
    {
     "name": "stdout",
     "output_type": "stream",
     "text": [
      "Train R^2: 0.964\n",
      "Train MAE: 0.089\n",
      "Train MSE: 0.016\n",
      "\n",
      "\n",
      "Test R^2: 0.750\n",
      "Test MAE: 0.234\n",
      "Test MSE: 0.109\n"
     ]
    }
   ],
   "source": [
    "# Создаем экземпляр модели RandomForestRegressor\n",
    "rf_regressor = RandomForestRegressor(random_state=42)\n",
    "# Обучаем модель на обучающих данных\n",
    "rf_regressor.fit(X_train, y_train)\n",
    "# Предсказания на обучающих и тестовых данных\n",
    "y_train_pred = rf_regressor.predict(X_train)\n",
    "y_test_pred = rf_regressor.predict(X_test)\n",
    "# Выводим результирующие метрики\n",
    "print_metrics(y_train, y_train_pred, y_test, y_test_pred)"
   ]
  },
  {
   "cell_type": "markdown",
   "metadata": {},
   "source": [
    "Выводы:\n",
    "\n",
    "1. Train R^2 (коэффициент детерминации) равен 0.964, что означает, что 96.4% изменчивости зависимой переменной (целевой переменной) в тренировочных данных объясняется моделью. Это высокий показатель и говорит о хорошем соответствии модели данным тренировки. Test R^2 равен 0.750, что означает, что модель объясняет около 75% изменчивости в тестовых данных. Это может быть интерпретировано как хороший уровень соответствия модели данным тестирования.\n",
    "\n",
    "2. Train MAE (средняя абсолютная ошибка) равна 0.089. MAE показывает среднюю абсолютную разницу между предсказанными и фактическими значениями в тренировочных данных. Низкое значение MAE свидетельствует о том, что модель достаточно точна в предсказании тренировочных данных. Test MAE равна 0.234, что указывает на среднюю абсолютную разницу между предсказанными и фактическими значениями в тестовых данных. Более низкое значение MAE будет свидетельствовать о более точной модели.\n",
    "\n",
    "3. Train MSE (среднеквадратическая ошибка) равна 0.016. MSE показывает среднюю квадратическую разницу между предсказанными и фактическими значениями в тренировочных данных. Низкое значение MSE также указывает на хорошую точность модели в тренировочных данных. Test MSE равна 0.109, показывая среднюю квадратическую разницу между предсказанными и фактическими значениями в тестовых данных. Более низкое значение MSE также будет указывать на более точную модель.\n",
    "\n",
    "Исходя из этих метрик, можно сказать, что модель Random Forest имеет хорошую способность объяснять вариацию данных как на тренировочные, так и на тестовые данные. Однако, разница между показателями тренировочных и тестовых данных может подразумевать некоторое переобучение модели. Чтобы сделать окончательные выводы и принять решение об использовании этой модели в реальных условиях, проведем дополнительный анализ и сравнение с другими моделями."
   ]
  },
  {
   "cell_type": "markdown",
   "metadata": {},
   "source": [
    "### 5. Гауссов процесс (Из-за необходимого большое объема памяти не удлалось воспроизвести эту модель)"
   ]
  },
  {
   "cell_type": "code",
   "execution_count": 17,
   "metadata": {},
   "outputs": [],
   "source": [
    "# # Создание объекта модели Гауссового процесса с выбором ядра (RBF - радиально-базисная функция)\n",
    "# kernel = 1.0 * RBF(length_scale=1.0)\n",
    "# # Инициализация модели Гауссового процесса\n",
    "# gp = GaussianProcessRegressor(kernel=kernel, n_restarts_optimizer=10)\n",
    "# # Обучение модели на тренировочных данных\n",
    "# gp.fit(X_train, y_train)\n",
    "# # Предсказания на обучающих и тестовых данных\n",
    "# y_train_pred = gp.predict(X_train)\n",
    "# y_test_pred = gp.predict(X_test)\n",
    "# # Выводим результирующие метрики\n",
    "# print_metrics(y_train, y_train_pred, y_test, y_test_pred)"
   ]
  },
  {
   "cell_type": "markdown",
   "metadata": {},
   "source": [
    "### 6. Эластичная модель"
   ]
  },
  {
   "cell_type": "code",
   "execution_count": 18,
   "metadata": {},
   "outputs": [
    {
     "name": "stdout",
     "output_type": "stream",
     "text": [
      "Train R^2: 0.203\n",
      "Train MAE: 0.484\n",
      "Train MSE: 0.348\n",
      "\n",
      "\n",
      "Test R^2: 0.200\n",
      "Test MAE: 0.483\n",
      "Test MSE: 0.348\n"
     ]
    }
   ],
   "source": [
    "# Создание модели\n",
    "el_model = ElasticNetCV(cv=6, random_state=42)\n",
    "# Обучение модели на тренировочных данных\n",
    "el_model.fit(X_train, y_train)\n",
    "# Предсказания на обучающих и тестовых данных\n",
    "y_train_pred = el_model.predict(X_train)\n",
    "y_test_pred = el_model.predict(X_test)\n",
    "# Выводим результирующие метрики\n",
    "print_metrics(y_train, y_train_pred, y_test, y_test_pred)"
   ]
  },
  {
   "cell_type": "markdown",
   "metadata": {},
   "source": [
    "Выводы:\n",
    "\n",
    "1. R^2 (коэффициент детерминации) для обучающей и тестовой выборок составляет около 0.20. Это означает, что модель объясняет всего лишь 20% дисперсии зависимой переменной. Низкое значение R^2 может свидетельствовать о том, что модель плохо соответствует данным.\n",
    "\n",
    "2. MAE (средняя абсолютная ошибка) для обучающей и тестовой выборок составляет около 0.484 и 0.483 соответственно. MAE измеряет среднее абсолютное отклонение прогнозов модели от фактических значений. Значения MAE довольно близки друг к другу и находятся на относительно низком уровне, что может быть приемлемо в зависимости от конкретной задачи.\n",
    "\n",
    "3. MSE (средняя квадратичная ошибка) для обучающей и тестовой выборок также составляет около 0.348. MSE измеряет среднеквадратичное отклонение прогнозов модели от фактических значений. Значения MSE также сходятся между обучающей и тестовой выборками и находятся на относительно низком уровне.\n",
    "\n",
    "В целом, метрики модели показывают, что модель имеет низкую способность объяснения дисперсии зависимой переменной (низкий R^2), но при этом она делает прогнозы с небольшой средней абсолютной и среднеквадратичной ошибкой. "
   ]
  },
  {
   "cell_type": "markdown",
   "metadata": {},
   "source": [
    "### 7. Модель полиномиальной регрессии"
   ]
  },
  {
   "cell_type": "markdown",
   "metadata": {},
   "source": [
    "Попробуем добавить в данные полиномиальные признаки и построить модель полиномиальной регрессии."
   ]
  },
  {
   "cell_type": "code",
   "execution_count": 19,
   "metadata": {},
   "outputs": [],
   "source": [
    "pol_df = norm_df.copy()"
   ]
  },
  {
   "cell_type": "code",
   "execution_count": 20,
   "metadata": {},
   "outputs": [],
   "source": [
    "# X - матрица наблюдений, y - столбец правильных ответов\n",
    "X = pol_df.drop('target', axis=1)\n",
    "y = pol_df['target']"
   ]
  },
  {
   "cell_type": "code",
   "execution_count": 21,
   "metadata": {},
   "outputs": [
    {
     "name": "stdout",
     "output_type": "stream",
     "text": [
      "Train shape: (132384, 34)\n",
      "Test shape: (33097, 34)\n"
     ]
    }
   ],
   "source": [
    "#Создаем тренировочную и тестовую выборки с помощью train_test_split\n",
    "X_train, X_test, y_train, y_test = train_test_split(\n",
    "    X, y, #таблица с наблюдениями и столбец с правильным ответами\n",
    "    test_size=0.2, #размер тестовой выборки\n",
    "    random_state=42 #число отвечающее за генерацию случайных чисел\n",
    ")\n",
    "#Выводим размеры полученных выборок\n",
    "print('Train shape: {}'.format(X_train.shape))\n",
    "print('Test shape: {}'.format(X_test.shape))"
   ]
  },
  {
   "cell_type": "code",
   "execution_count": 22,
   "metadata": {},
   "outputs": [
    {
     "name": "stdout",
     "output_type": "stream",
     "text": [
      "Train R^2: 0.439\n",
      "Train MAE: 0.391\n",
      "Train MSE: 0.245\n",
      "\n",
      "\n",
      "Test R^2: 0.426\n",
      "Test MAE: 0.391\n",
      "Test MSE: 0.249\n"
     ]
    }
   ],
   "source": [
    "# Создаем объект PolynomialFeatures для задания степени полинома\n",
    "degree = 2  # Задайте желаемую степень полинома\n",
    "poly_features = PolynomialFeatures(degree=degree)\n",
    "# Преобразуем данные в полиномиальные признаки\n",
    "X_train_poly = poly_features.fit_transform(X_train)\n",
    "X_test_poly = poly_features.transform(X_test)\n",
    "# Создаем модель линейной регрессии\n",
    "model = LinearRegression()\n",
    "# Обучаем модель на тренировочных данных\n",
    "model.fit(X_train_poly, y_train)\n",
    "# Предсказываем значения на тренировочной и тестовой выборках\n",
    "y_train_pred = model.predict(X_train_poly)\n",
    "y_test_pred = model.predict(X_test_poly)\n",
    "# Оценка качества модели\n",
    "print_metrics(y_train, y_train_pred, y_test, y_test_pred)"
   ]
  },
  {
   "cell_type": "markdown",
   "metadata": {},
   "source": [
    "Выводы:\n",
    "    \n",
    "1. Train R^2 (коэффициент детерминации) равен 0.439, что означает, что модель объясняет примерно 43.9% дисперсии в данных обучающей выборки. Это может свидетельствовать о том, что модель хорошо соответствует обучающим данным, но также может быть подвержена переобучению, если значение R^2 слишком близко к 1.\n",
    "\n",
    "2. Train MAE (средняя абсолютная ошибка) равен 0.391. Это указывает на среднее абсолютное отклонение модели от фактических значений в обучающей выборке. Низкое значение MAE говорит о том, что модель хорошо приближает данные в обучающей выборке.\n",
    "\n",
    "3. Train MSE (среднеквадратическая ошибка) равен 0.245. MSE измеряет среднее квадратичное отклонение модели от фактических данных. Здесь также низкое значение MSE указывает на хорошее приближение модели к данным обучающей выборки.\n",
    "\n",
    "Test R^2, Test MAE и Test MSE имеют схожие значения с соответствующими метриками на обучающей выборке. Это может указывать на то, что модель обобщает хорошо на новых данных (тестовой выборке) и не переобучена."
   ]
  },
  {
   "cell_type": "code",
   "execution_count": 23,
   "metadata": {},
   "outputs": [
    {
     "data": {
      "text/html": [
       "<div>\n",
       "<style scoped>\n",
       "    .dataframe tbody tr th:only-of-type {\n",
       "        vertical-align: middle;\n",
       "    }\n",
       "\n",
       "    .dataframe tbody tr th {\n",
       "        vertical-align: top;\n",
       "    }\n",
       "\n",
       "    .dataframe thead th {\n",
       "        text-align: right;\n",
       "    }\n",
       "</style>\n",
       "<table border=\"1\" class=\"dataframe\">\n",
       "  <thead>\n",
       "    <tr style=\"text-align: right;\">\n",
       "      <th></th>\n",
       "      <th>Metrics</th>\n",
       "      <th>Linear Regression</th>\n",
       "      <th>Linear Regression with Ridge</th>\n",
       "      <th>Decision Tree Regressor</th>\n",
       "      <th>Random Forest Regressor</th>\n",
       "      <th>Elastic Net CV</th>\n",
       "      <th>Polynomial Features</th>\n",
       "    </tr>\n",
       "  </thead>\n",
       "  <tbody>\n",
       "    <tr>\n",
       "      <th>0</th>\n",
       "      <td>Train R^2</td>\n",
       "      <td>0.301</td>\n",
       "      <td>0.301</td>\n",
       "      <td>0.301</td>\n",
       "      <td>0.964</td>\n",
       "      <td>0.203</td>\n",
       "      <td>0.439</td>\n",
       "    </tr>\n",
       "    <tr>\n",
       "      <th>1</th>\n",
       "      <td>Train MAE</td>\n",
       "      <td>0.443</td>\n",
       "      <td>0.443</td>\n",
       "      <td>0.443</td>\n",
       "      <td>0.089</td>\n",
       "      <td>0.484</td>\n",
       "      <td>0.391</td>\n",
       "    </tr>\n",
       "    <tr>\n",
       "      <th>2</th>\n",
       "      <td>Train MSE</td>\n",
       "      <td>0.305</td>\n",
       "      <td>0.305</td>\n",
       "      <td>0.305</td>\n",
       "      <td>0.016</td>\n",
       "      <td>0.348</td>\n",
       "      <td>0.245</td>\n",
       "    </tr>\n",
       "    <tr>\n",
       "      <th>3</th>\n",
       "      <td>Test R^2</td>\n",
       "      <td>0.298</td>\n",
       "      <td>0.298</td>\n",
       "      <td>0.298</td>\n",
       "      <td>0.750</td>\n",
       "      <td>0.200</td>\n",
       "      <td>0.426</td>\n",
       "    </tr>\n",
       "    <tr>\n",
       "      <th>4</th>\n",
       "      <td>Test MAE</td>\n",
       "      <td>0.443</td>\n",
       "      <td>0.443</td>\n",
       "      <td>0.443</td>\n",
       "      <td>0.234</td>\n",
       "      <td>0.483</td>\n",
       "      <td>0.391</td>\n",
       "    </tr>\n",
       "    <tr>\n",
       "      <th>5</th>\n",
       "      <td>Test MSE</td>\n",
       "      <td>0.305</td>\n",
       "      <td>0.305</td>\n",
       "      <td>0.305</td>\n",
       "      <td>0.109</td>\n",
       "      <td>0.348</td>\n",
       "      <td>0.249</td>\n",
       "    </tr>\n",
       "  </tbody>\n",
       "</table>\n",
       "</div>"
      ],
      "text/plain": [
       "     Metrics  Linear Regression  Linear Regression with Ridge   \n",
       "0  Train R^2              0.301                         0.301  \\\n",
       "1  Train MAE              0.443                         0.443   \n",
       "2  Train MSE              0.305                         0.305   \n",
       "3   Test R^2              0.298                         0.298   \n",
       "4   Test MAE              0.443                         0.443   \n",
       "5   Test MSE              0.305                         0.305   \n",
       "\n",
       "   Decision Tree Regressor  Random Forest Regressor  Elastic Net CV   \n",
       "0                    0.301                    0.964           0.203  \\\n",
       "1                    0.443                    0.089           0.484   \n",
       "2                    0.305                    0.016           0.348   \n",
       "3                    0.298                    0.750           0.200   \n",
       "4                    0.443                    0.234           0.483   \n",
       "5                    0.305                    0.109           0.348   \n",
       "\n",
       "   Polynomial Features  \n",
       "0                0.439  \n",
       "1                0.391  \n",
       "2                0.245  \n",
       "3                0.426  \n",
       "4                0.391  \n",
       "5                0.249  "
      ]
     },
     "execution_count": 23,
     "metadata": {},
     "output_type": "execute_result"
    }
   ],
   "source": [
    "metrics = {'Metrics': ['Train R^2', 'Train MAE', 'Train MSE', 'Test R^2', 'Test MAE', 'Test MSE'],\n",
    "        'Linear Regression': [0.301, 0.443, 0.305, 0.298, 0.443, 0.305],\n",
    "        'Linear Regression with Ridge': [0.301, 0.443, 0.305, 0.298, 0.443, 0.305],\n",
    "        'Decision Tree Regressor': [0.301, 0.443, 0.305, 0.298, 0.443, 0.305],\n",
    "        'Random Forest Regressor': [0.964, 0.089, 0.016, 0.750, 0.234, 0.109],\n",
    "        'Elastic Net CV': [0.203, 0.484, 0.348, 0.200, 0.483, 0.348],\n",
    "        'Polynomial Features':[0.439, 0.391, 0.245, 0.426, 0.391, 0.249]}\n",
    "\n",
    "df_metric = pd.DataFrame(metrics)\n",
    "df_metric.head(6)"
   ]
  },
  {
   "cell_type": "markdown",
   "metadata": {},
   "source": [
    "Общий вывод:\n",
    "\n",
    "1. R-квадрат (R^2):\n",
    "\n",
    "Модель \"Random Forest Regressor\" показывает наилучший результат на тестовой выборке с R^2 равным 0.750. Это говорит о том, что эта модель лучше всего объясняет вариацию в данных среди всех рассмотренных моделей.\n",
    "Линейная регрессия, линейная регрессия с регуляризацией Ridge и Elastic Net CV показывают схожие значения R^2 как на обучающей, так и на тестовой выборках (около 0.30), что говорит о их относительной слабости по сравнению с \"Random Forest Regressor\".\n",
    "\n",
    "2. Средняя абсолютная ошибка (MAE):\n",
    "\n",
    "Модель \"Random Forest Regressor\" также имеет наименьшее значение MAE как на обучающей, так и на тестовой выборке, что указывает на то, что она предсказывает целевую переменную с наименьшей средней ошибкой.\n",
    "Линейная регрессия с регуляризацией Ridge и линейная регрессия также имеют схожие значения MAE как на обучающей, так и на тестовой выборке.\n",
    "\n",
    "3. Среднеквадратическая ошибка (MSE):\n",
    "\n",
    "По MSE модель \"Random Forest Regressor\" также показывает лучший результат как на обучающей, так и на тестовой выборке.\n",
    "Линейная регрессия, линейная регрессия с регуляризацией Ridge и Elastic Net CV имеют близкие значения MSE как на обучающей, так и на тестовой выборке.\n",
    "\n",
    "Модель \"Random Forest Regressor\" является наилучшей среди рассмотренных моделей, так как она имеет наилучшие показатели R^2, MAE и MSE как на обучающей, так и на тестовой выборке. Однако, необходимо помнить о возможной переобученности данной модели, так как разница между показателями на обучающей и тестовой выборке довольно большая."
   ]
  },
  {
   "cell_type": "code",
   "execution_count": 28,
   "metadata": {},
   "outputs": [],
   "source": [
    "import pickle\n",
    "\n",
    "# Сохранение модели 'RandomForestRegressor' в файл pickle\n",
    "with open('diploma_project/application/model/working_model.pkl', 'wb') as f:\n",
    "    pickle.dump(rf_regressor, f)"
   ]
  }
 ],
 "metadata": {
  "kernelspec": {
   "display_name": "Python 3",
   "language": "python",
   "name": "python3"
  },
  "language_info": {
   "codemirror_mode": {
    "name": "ipython",
    "version": 3
   },
   "file_extension": ".py",
   "mimetype": "text/x-python",
   "name": "python",
   "nbconvert_exporter": "python",
   "pygments_lexer": "ipython3",
   "version": "3.11.1"
  }
 },
 "nbformat": 4,
 "nbformat_minor": 2
}
