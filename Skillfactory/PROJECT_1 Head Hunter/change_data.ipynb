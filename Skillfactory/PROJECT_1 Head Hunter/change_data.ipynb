{
 "cells": [
  {
   "cell_type": "code",
   "execution_count": 1,
   "metadata": {},
   "outputs": [
    {
     "name": "stdout",
     "output_type": "stream",
     "text": [
      "<class 'pandas.core.frame.DataFrame'>\n",
      "RangeIndex: 5664 entries, 0 to 5663\n",
      "Data columns (total 7 columns):\n",
      " #   Column      Non-Null Count  Dtype         \n",
      "---  ------      --------------  -----         \n",
      " 0   currency    5664 non-null   object        \n",
      " 1   per         5664 non-null   object        \n",
      " 2   date        5664 non-null   datetime64[ns]\n",
      " 3   time        5664 non-null   object        \n",
      " 4   close       5664 non-null   float64       \n",
      " 5   vol         5664 non-null   int64         \n",
      " 6   proportion  5664 non-null   int64         \n",
      "dtypes: datetime64[ns](1), float64(1), int64(2), object(3)\n",
      "memory usage: 309.9+ KB\n"
     ]
    }
   ],
   "source": [
    "import pandas as pd\n",
    "change_data = pd.read_csv('data/ExchangeRates.csv', sep=',')\n",
    "change_data['date'] = pd.to_datetime(change_data['date'])\n",
    "change_data['currency'].value_counts()\n",
    "change_data.info()\n"
   ]
  }
 ],
 "metadata": {
  "kernelspec": {
   "display_name": "Python 3",
   "language": "python",
   "name": "python3"
  },
  "language_info": {
   "codemirror_mode": {
    "name": "ipython",
    "version": 3
   },
   "file_extension": ".py",
   "mimetype": "text/x-python",
   "name": "python",
   "nbconvert_exporter": "python",
   "pygments_lexer": "ipython3",
   "version": "3.11.1"
  },
  "orig_nbformat": 4,
  "vscode": {
   "interpreter": {
    "hash": "fc62b2789eac7b1e5c5e326c658fe477a68603303105d9994fd219a45eb49b71"
   }
  }
 },
 "nbformat": 4,
 "nbformat_minor": 2
}
