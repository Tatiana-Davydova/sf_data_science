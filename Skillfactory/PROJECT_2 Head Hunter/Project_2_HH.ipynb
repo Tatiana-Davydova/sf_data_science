{
  "cells": [
    {
      "cell_type": "markdown",
      "id": "42289889-bd57-434e-9637-d3e354756316",
      "metadata": {
        "id": "42289889-bd57-434e-9637-d3e354756316"
      },
      "source": [
        "<center> <img src = https://raw.githubusercontent.com/AndreyRysistov/DatasetsForPandas/main/hh%20label.jpg alt=\"drawing\" style=\"width:400px;\">"
      ]
    },
    {
      "cell_type": "markdown",
      "id": "829cb75b-f14e-4ba8-9195-7ba929a7d656",
      "metadata": {
        "id": "829cb75b-f14e-4ba8-9195-7ba929a7d656",
        "tags": []
      },
      "source": [
        "# <center> Проект: Анализ вакансий из HeadHunter\n",
        "   "
      ]
    },
    {
      "cell_type": "code",
      "execution_count": 172,
      "id": "dccfde33-2452-43fb-a8a5-5c6ebc02a71d",
      "metadata": {
        "id": "dccfde33-2452-43fb-a8a5-5c6ebc02a71d"
      },
      "outputs": [],
      "source": [
        "import pandas as pd\n",
        "import psycopg2\n",
        "import warnings\n",
        "warnings.simplefilter(action='ignore', category=UserWarning)"
      ]
    },
    {
      "cell_type": "code",
      "execution_count": 173,
      "id": "oVKH4ehvf8Ay",
      "metadata": {
        "id": "oVKH4ehvf8Ay"
      },
      "outputs": [],
      "source": [
        "# параметры подключения\n",
        "DBNAME = 'project_sql'\n",
        "USER = 'skillfactory'\n",
        "PASSWORD = 'cCkxxLVrDE8EbvjueeMedPKt'\n",
        "HOST = '84.201.134.129'\n",
        "PORT = 5432 "
      ]
    },
    {
      "cell_type": "code",
      "execution_count": 174,
      "id": "G4X_q8KBf7SF",
      "metadata": {
        "id": "G4X_q8KBf7SF"
      },
      "outputs": [],
      "source": [
        "connection = psycopg2.connect(\n",
        "    dbname=DBNAME,\n",
        "    user=USER,\n",
        "    host=HOST,\n",
        "    password=PASSWORD,\n",
        "    port=PORT\n",
        ")"
      ]
    },
    {
      "cell_type": "markdown",
      "id": "0dc6476b-7a00-44f1-ac93-6e3baed33a29",
      "metadata": {
        "id": "0dc6476b-7a00-44f1-ac93-6e3baed33a29"
      },
      "source": [
        "# Юнит 3. Предварительный анализ данных"
      ]
    },
    {
      "cell_type": "markdown",
      "id": "889782b6-8d1c-410e-8920-e57f27917c64",
      "metadata": {
        "id": "889782b6-8d1c-410e-8920-e57f27917c64"
      },
      "source": [
        "1. Напишите запрос, который посчитает количество вакансий в нашей базе (вакансии находятся в таблице vacancies). "
      ]
    },
    {
      "cell_type": "code",
      "execution_count": 175,
      "id": "bc39e68e-ed02-4ee2-9235-7258a2f867a8",
      "metadata": {
        "id": "bc39e68e-ed02-4ee2-9235-7258a2f867a8"
      },
      "outputs": [],
      "source": [
        "query_3_1 = f'''select \n",
        "            COUNT(id) \"Количество_вакансий_в_базе\"\n",
        "           from public.vacancies\n",
        "        '''  "
      ]
    },
    {
      "cell_type": "code",
      "execution_count": 176,
      "id": "7mAwtsk4hEHY",
      "metadata": {
        "id": "7mAwtsk4hEHY"
      },
      "outputs": [
        {
          "data": {
            "text/html": [
              "<div>\n",
              "<style scoped>\n",
              "    .dataframe tbody tr th:only-of-type {\n",
              "        vertical-align: middle;\n",
              "    }\n",
              "\n",
              "    .dataframe tbody tr th {\n",
              "        vertical-align: top;\n",
              "    }\n",
              "\n",
              "    .dataframe thead th {\n",
              "        text-align: right;\n",
              "    }\n",
              "</style>\n",
              "<table border=\"1\" class=\"dataframe\">\n",
              "  <thead>\n",
              "    <tr style=\"text-align: right;\">\n",
              "      <th></th>\n",
              "      <th>Количество_вакансий_в_базе</th>\n",
              "    </tr>\n",
              "  </thead>\n",
              "  <tbody>\n",
              "    <tr>\n",
              "      <th>0</th>\n",
              "      <td>49197</td>\n",
              "    </tr>\n",
              "  </tbody>\n",
              "</table>\n",
              "</div>"
            ],
            "text/plain": [
              "   Количество_вакансий_в_базе\n",
              "0                       49197"
            ]
          },
          "execution_count": 176,
          "metadata": {},
          "output_type": "execute_result"
        }
      ],
      "source": [
        "df_3_1 = pd.read_sql_query(query_3_1, connection)\n",
        "df_3_1"
      ]
    },
    {
      "cell_type": "markdown",
      "id": "b583485d-1f9e-494e-ada4-80ffff7c53d6",
      "metadata": {
        "id": "b583485d-1f9e-494e-ada4-80ffff7c53d6"
      },
      "source": [
        "2. Напишите запрос, который посчитает количество работодателей (таблица employers). "
      ]
    },
    {
      "cell_type": "code",
      "execution_count": 177,
      "id": "5408c52c-3407-4a63-b25b-1aafa2322d28",
      "metadata": {
        "id": "5408c52c-3407-4a63-b25b-1aafa2322d28"
      },
      "outputs": [],
      "source": [
        "query_3_2 = f'''select DISTINCT\n",
        "            COUNT(name) \"Количество_работодателей\"\n",
        "           from public.employers\n",
        "        ''' "
      ]
    },
    {
      "cell_type": "code",
      "execution_count": 178,
      "id": "jVL4eshKhdqc",
      "metadata": {
        "id": "jVL4eshKhdqc"
      },
      "outputs": [
        {
          "data": {
            "text/html": [
              "<div>\n",
              "<style scoped>\n",
              "    .dataframe tbody tr th:only-of-type {\n",
              "        vertical-align: middle;\n",
              "    }\n",
              "\n",
              "    .dataframe tbody tr th {\n",
              "        vertical-align: top;\n",
              "    }\n",
              "\n",
              "    .dataframe thead th {\n",
              "        text-align: right;\n",
              "    }\n",
              "</style>\n",
              "<table border=\"1\" class=\"dataframe\">\n",
              "  <thead>\n",
              "    <tr style=\"text-align: right;\">\n",
              "      <th></th>\n",
              "      <th>Количество_работодателей</th>\n",
              "    </tr>\n",
              "  </thead>\n",
              "  <tbody>\n",
              "    <tr>\n",
              "      <th>0</th>\n",
              "      <td>23501</td>\n",
              "    </tr>\n",
              "  </tbody>\n",
              "</table>\n",
              "</div>"
            ],
            "text/plain": [
              "   Количество_работодателей\n",
              "0                     23501"
            ]
          },
          "execution_count": 178,
          "metadata": {},
          "output_type": "execute_result"
        }
      ],
      "source": [
        "df_3_2 = pd.read_sql_query(query_3_2, connection)\n",
        "df_3_2"
      ]
    },
    {
      "cell_type": "markdown",
      "id": "a2bfff1f-c975-4bf6-84be-2185d79dcb76",
      "metadata": {
        "id": "a2bfff1f-c975-4bf6-84be-2185d79dcb76"
      },
      "source": [
        "3. Посчитате с помощью запроса количество регионов (таблица areas)."
      ]
    },
    {
      "cell_type": "code",
      "execution_count": 179,
      "id": "1m8QJwBYhey6",
      "metadata": {
        "id": "1m8QJwBYhey6"
      },
      "outputs": [],
      "source": [
        "query_3_3 = f'''select DISTINCT\n",
        "            COUNT(id) \"Количество_регионов\"\n",
        "           from public.areas\n",
        "        ''' "
      ]
    },
    {
      "cell_type": "code",
      "execution_count": 180,
      "id": "EZsn9tlfhe7f",
      "metadata": {
        "id": "EZsn9tlfhe7f"
      },
      "outputs": [
        {
          "data": {
            "text/html": [
              "<div>\n",
              "<style scoped>\n",
              "    .dataframe tbody tr th:only-of-type {\n",
              "        vertical-align: middle;\n",
              "    }\n",
              "\n",
              "    .dataframe tbody tr th {\n",
              "        vertical-align: top;\n",
              "    }\n",
              "\n",
              "    .dataframe thead th {\n",
              "        text-align: right;\n",
              "    }\n",
              "</style>\n",
              "<table border=\"1\" class=\"dataframe\">\n",
              "  <thead>\n",
              "    <tr style=\"text-align: right;\">\n",
              "      <th></th>\n",
              "      <th>Количество_регионов</th>\n",
              "    </tr>\n",
              "  </thead>\n",
              "  <tbody>\n",
              "    <tr>\n",
              "      <th>0</th>\n",
              "      <td>1362</td>\n",
              "    </tr>\n",
              "  </tbody>\n",
              "</table>\n",
              "</div>"
            ],
            "text/plain": [
              "   Количество_регионов\n",
              "0                 1362"
            ]
          },
          "execution_count": 180,
          "metadata": {},
          "output_type": "execute_result"
        }
      ],
      "source": [
        "df_3_3 = pd.read_sql_query(query_3_3, connection)\n",
        "df_3_3"
      ]
    },
    {
      "cell_type": "markdown",
      "id": "41bb59f3-53cc-4a67-a5bc-bedf573955e4",
      "metadata": {
        "id": "41bb59f3-53cc-4a67-a5bc-bedf573955e4"
      },
      "source": [
        "4. Посчитате с помощью запроса количество сфер деятельности в базе (таблица industries)."
      ]
    },
    {
      "cell_type": "code",
      "execution_count": 181,
      "id": "d286cf4c-707b-4cd2-9190-7ab3587d04a1",
      "metadata": {
        "id": "d286cf4c-707b-4cd2-9190-7ab3587d04a1"
      },
      "outputs": [],
      "source": [
        "query_3_4 = f'''select DISTINCT\n",
        "            COUNT(id) \"Количество_сфер_деятельности\"\n",
        "           from public.industries\n",
        "        ''' "
      ]
    },
    {
      "cell_type": "code",
      "execution_count": 182,
      "id": "JYAaoZ4qhfzW",
      "metadata": {
        "id": "JYAaoZ4qhfzW"
      },
      "outputs": [
        {
          "data": {
            "text/html": [
              "<div>\n",
              "<style scoped>\n",
              "    .dataframe tbody tr th:only-of-type {\n",
              "        vertical-align: middle;\n",
              "    }\n",
              "\n",
              "    .dataframe tbody tr th {\n",
              "        vertical-align: top;\n",
              "    }\n",
              "\n",
              "    .dataframe thead th {\n",
              "        text-align: right;\n",
              "    }\n",
              "</style>\n",
              "<table border=\"1\" class=\"dataframe\">\n",
              "  <thead>\n",
              "    <tr style=\"text-align: right;\">\n",
              "      <th></th>\n",
              "      <th>Количество_сфер_деятельности</th>\n",
              "    </tr>\n",
              "  </thead>\n",
              "  <tbody>\n",
              "    <tr>\n",
              "      <th>0</th>\n",
              "      <td>294</td>\n",
              "    </tr>\n",
              "  </tbody>\n",
              "</table>\n",
              "</div>"
            ],
            "text/plain": [
              "   Количество_сфер_деятельности\n",
              "0                           294"
            ]
          },
          "execution_count": 182,
          "metadata": {},
          "output_type": "execute_result"
        }
      ],
      "source": [
        "df_3_4 = pd.read_sql_query(query_3_4, connection)\n",
        "df_3_4"
      ]
    },
    {
      "cell_type": "markdown",
      "id": "9a8a2181-6914-448b-85f1-38f5f18b8a93",
      "metadata": {
        "id": "9a8a2181-6914-448b-85f1-38f5f18b8a93"
      },
      "source": [
        "***"
      ]
    },
    {
      "attachments": {},
      "cell_type": "markdown",
      "id": "9602d334",
      "metadata": {},
      "source": [
        "Выводы:\n",
        "\n",
        "В базе вакансий находятся около 50 000 вакансий. При этом количество регионов около 1 400. Количество работодателей составляет около 24 000, которые осуществляют около 300 сфер деятельности."
      ]
    },
    {
      "cell_type": "markdown",
      "id": "8d62a9f3-f64e-4fe7-bdac-c4dffa16155e",
      "metadata": {
        "id": "8d62a9f3-f64e-4fe7-bdac-c4dffa16155e"
      },
      "source": [
        "# Юнит 4. Детальный анализ вакансий"
      ]
    },
    {
      "cell_type": "markdown",
      "id": "93053d3d-b284-481a-9cf7-012d7014c0e0",
      "metadata": {
        "id": "93053d3d-b284-481a-9cf7-012d7014c0e0"
      },
      "source": [
        "1. Напишите запрос, который позволит узнать, сколько (cnt) вакансий в каждом регионе (area).\n",
        "Отсортируйте по количеству вакансий в порядке убывания."
      ]
    },
    {
      "cell_type": "code",
      "execution_count": 183,
      "id": "3f069da6-fdc9-4ae7-b514-fafe2675efd3",
      "metadata": {
        "id": "3f069da6-fdc9-4ae7-b514-fafe2675efd3"
      },
      "outputs": [],
      "source": [
        "query_4_1 = f'''select \n",
        "           DISTINCT(a.name) \"Регион\",\n",
        "           COUNT(v.id) \"Количество_вакансий\"\n",
        "           from public.areas a\n",
        "           join public.vacancies v on a.id = v.area_id\n",
        "           GROUP BY a.name\n",
        "           ORDER BY 2 DESC\n",
        "           LIMIT 5\n",
        "        ''' "
      ]
    },
    {
      "cell_type": "code",
      "execution_count": 184,
      "id": "P7QL86hrjhRJ",
      "metadata": {
        "id": "P7QL86hrjhRJ"
      },
      "outputs": [
        {
          "data": {
            "text/html": [
              "<div>\n",
              "<style scoped>\n",
              "    .dataframe tbody tr th:only-of-type {\n",
              "        vertical-align: middle;\n",
              "    }\n",
              "\n",
              "    .dataframe tbody tr th {\n",
              "        vertical-align: top;\n",
              "    }\n",
              "\n",
              "    .dataframe thead th {\n",
              "        text-align: right;\n",
              "    }\n",
              "</style>\n",
              "<table border=\"1\" class=\"dataframe\">\n",
              "  <thead>\n",
              "    <tr style=\"text-align: right;\">\n",
              "      <th></th>\n",
              "      <th>Регион</th>\n",
              "      <th>Количество_вакансий</th>\n",
              "    </tr>\n",
              "  </thead>\n",
              "  <tbody>\n",
              "    <tr>\n",
              "      <th>0</th>\n",
              "      <td>Москва</td>\n",
              "      <td>5333</td>\n",
              "    </tr>\n",
              "    <tr>\n",
              "      <th>1</th>\n",
              "      <td>Санкт-Петербург</td>\n",
              "      <td>2851</td>\n",
              "    </tr>\n",
              "    <tr>\n",
              "      <th>2</th>\n",
              "      <td>Минск</td>\n",
              "      <td>2112</td>\n",
              "    </tr>\n",
              "    <tr>\n",
              "      <th>3</th>\n",
              "      <td>Новосибирск</td>\n",
              "      <td>2006</td>\n",
              "    </tr>\n",
              "    <tr>\n",
              "      <th>4</th>\n",
              "      <td>Алматы</td>\n",
              "      <td>1892</td>\n",
              "    </tr>\n",
              "  </tbody>\n",
              "</table>\n",
              "</div>"
            ],
            "text/plain": [
              "            Регион  Количество_вакансий\n",
              "0           Москва                 5333\n",
              "1  Санкт-Петербург                 2851\n",
              "2            Минск                 2112\n",
              "3      Новосибирск                 2006\n",
              "4           Алматы                 1892"
            ]
          },
          "execution_count": 184,
          "metadata": {},
          "output_type": "execute_result"
        }
      ],
      "source": [
        "df_4_1 = pd.read_sql_query(query_4_1, connection)\n",
        "df_4_1"
      ]
    },
    {
      "cell_type": "markdown",
      "id": "4266f0b6-1646-492a-88b4-2f6a46502135",
      "metadata": {
        "id": "4266f0b6-1646-492a-88b4-2f6a46502135"
      },
      "source": [
        "2. Напишите запрос, чтобы определить у какого количества вакансий заполнено хотя бы одно из двух полей с зарплатой."
      ]
    },
    {
      "cell_type": "code",
      "execution_count": 185,
      "id": "0c44b350-72eb-4d65-8b54-a1fc449ba9fd",
      "metadata": {
        "id": "0c44b350-72eb-4d65-8b54-a1fc449ba9fd"
      },
      "outputs": [],
      "source": [
        "query_4_2 = f'''select \n",
        "           COUNT(id) \"Количество_вакансий\"\n",
        "           from public.vacancies\n",
        "           WHERE salary_from IS NOT NULL or salary_to IS NOT NULL\n",
        "        '''  "
      ]
    },
    {
      "cell_type": "code",
      "execution_count": 186,
      "id": "rhvwaMDkoWTi",
      "metadata": {
        "id": "rhvwaMDkoWTi"
      },
      "outputs": [
        {
          "data": {
            "text/html": [
              "<div>\n",
              "<style scoped>\n",
              "    .dataframe tbody tr th:only-of-type {\n",
              "        vertical-align: middle;\n",
              "    }\n",
              "\n",
              "    .dataframe tbody tr th {\n",
              "        vertical-align: top;\n",
              "    }\n",
              "\n",
              "    .dataframe thead th {\n",
              "        text-align: right;\n",
              "    }\n",
              "</style>\n",
              "<table border=\"1\" class=\"dataframe\">\n",
              "  <thead>\n",
              "    <tr style=\"text-align: right;\">\n",
              "      <th></th>\n",
              "      <th>Количество_вакансий</th>\n",
              "    </tr>\n",
              "  </thead>\n",
              "  <tbody>\n",
              "    <tr>\n",
              "      <th>0</th>\n",
              "      <td>24073</td>\n",
              "    </tr>\n",
              "  </tbody>\n",
              "</table>\n",
              "</div>"
            ],
            "text/plain": [
              "   Количество_вакансий\n",
              "0                24073"
            ]
          },
          "execution_count": 186,
          "metadata": {},
          "output_type": "execute_result"
        }
      ],
      "source": [
        "df_4_2 = pd.read_sql_query(query_4_2, connection)\n",
        "df_4_2"
      ]
    },
    {
      "cell_type": "markdown",
      "id": "635c4d5d-f323-4c66-b428-50a088120aa0",
      "metadata": {
        "id": "635c4d5d-f323-4c66-b428-50a088120aa0"
      },
      "source": [
        "3. Найдите средние значения для нижней и верхней границы зарплатной вилки. Округлите значения до целого."
      ]
    },
    {
      "cell_type": "code",
      "execution_count": 187,
      "id": "603cdbe4-0ec3-4106-8eaf-c73fcdd29165",
      "metadata": {
        "id": "603cdbe4-0ec3-4106-8eaf-c73fcdd29165"
      },
      "outputs": [],
      "source": [
        "query_4_3 = f'''select \n",
        "           ROUND(AVG(salary_from)) \"Нижняя_граница_ЗП\",\n",
        "           ROUND(AVG(salary_to)) \"Верхняя_граница_ЗП\" \n",
        "           from public.vacancies\n",
        "           WHERE salary_from IS NOT NULL or salary_to IS NOT NULL\n",
        "        '''  "
      ]
    },
    {
      "cell_type": "code",
      "execution_count": 188,
      "id": "pswpAb66ovZZ",
      "metadata": {
        "id": "pswpAb66ovZZ"
      },
      "outputs": [
        {
          "data": {
            "text/html": [
              "<div>\n",
              "<style scoped>\n",
              "    .dataframe tbody tr th:only-of-type {\n",
              "        vertical-align: middle;\n",
              "    }\n",
              "\n",
              "    .dataframe tbody tr th {\n",
              "        vertical-align: top;\n",
              "    }\n",
              "\n",
              "    .dataframe thead th {\n",
              "        text-align: right;\n",
              "    }\n",
              "</style>\n",
              "<table border=\"1\" class=\"dataframe\">\n",
              "  <thead>\n",
              "    <tr style=\"text-align: right;\">\n",
              "      <th></th>\n",
              "      <th>Нижняя_граница_ЗП</th>\n",
              "      <th>Верхняя_граница_ЗП</th>\n",
              "    </tr>\n",
              "  </thead>\n",
              "  <tbody>\n",
              "    <tr>\n",
              "      <th>0</th>\n",
              "      <td>71065.0</td>\n",
              "      <td>110537.0</td>\n",
              "    </tr>\n",
              "  </tbody>\n",
              "</table>\n",
              "</div>"
            ],
            "text/plain": [
              "   Нижняя_граница_ЗП  Верхняя_граница_ЗП\n",
              "0            71065.0            110537.0"
            ]
          },
          "execution_count": 188,
          "metadata": {},
          "output_type": "execute_result"
        }
      ],
      "source": [
        "df_4_3 = pd.read_sql_query(query_4_3, connection)\n",
        "df_4_3"
      ]
    },
    {
      "cell_type": "markdown",
      "id": "f3fdaec9-5fd3-4260-9cf5-1d7406b628a5",
      "metadata": {
        "id": "f3fdaec9-5fd3-4260-9cf5-1d7406b628a5"
      },
      "source": [
        "4. Напишите запрос, который выведет количество вакансий для каждого сочетания типа рабочего графика (schedule) и типа трудоустройства (employment), используемого в вакансиях. Результат отсортируйте по убыванию количества.\n"
      ]
    },
    {
      "cell_type": "code",
      "execution_count": 189,
      "id": "1ea710ec-871b-431e-9462-c7d0fd87011b",
      "metadata": {
        "id": "1ea710ec-871b-431e-9462-c7d0fd87011b"
      },
      "outputs": [],
      "source": [
        "query_4_4 = f'''select \n",
        "           schedule \"Тип_рабочего_графика\",\n",
        "           employment \"Тип_трудоустройства\",\n",
        "           COUNT(id) \"Количество вакансий\"\n",
        "           from public.vacancies\n",
        "           GROUP BY 1, 2\n",
        "           ORDER BY 3 DESC\n",
        "        '''  "
      ]
    },
    {
      "cell_type": "code",
      "execution_count": 190,
      "id": "lGUVqavdo4JQ",
      "metadata": {
        "id": "lGUVqavdo4JQ"
      },
      "outputs": [
        {
          "data": {
            "text/html": [
              "<div>\n",
              "<style scoped>\n",
              "    .dataframe tbody tr th:only-of-type {\n",
              "        vertical-align: middle;\n",
              "    }\n",
              "\n",
              "    .dataframe tbody tr th {\n",
              "        vertical-align: top;\n",
              "    }\n",
              "\n",
              "    .dataframe thead th {\n",
              "        text-align: right;\n",
              "    }\n",
              "</style>\n",
              "<table border=\"1\" class=\"dataframe\">\n",
              "  <thead>\n",
              "    <tr style=\"text-align: right;\">\n",
              "      <th></th>\n",
              "      <th>Тип_рабочего_графика</th>\n",
              "      <th>Тип_трудоустройства</th>\n",
              "      <th>Количество вакансий</th>\n",
              "    </tr>\n",
              "  </thead>\n",
              "  <tbody>\n",
              "    <tr>\n",
              "      <th>0</th>\n",
              "      <td>Полный день</td>\n",
              "      <td>Полная занятость</td>\n",
              "      <td>35367</td>\n",
              "    </tr>\n",
              "    <tr>\n",
              "      <th>1</th>\n",
              "      <td>Удаленная работа</td>\n",
              "      <td>Полная занятость</td>\n",
              "      <td>7802</td>\n",
              "    </tr>\n",
              "    <tr>\n",
              "      <th>2</th>\n",
              "      <td>Гибкий график</td>\n",
              "      <td>Полная занятость</td>\n",
              "      <td>1593</td>\n",
              "    </tr>\n",
              "    <tr>\n",
              "      <th>3</th>\n",
              "      <td>Удаленная работа</td>\n",
              "      <td>Частичная занятость</td>\n",
              "      <td>1312</td>\n",
              "    </tr>\n",
              "    <tr>\n",
              "      <th>4</th>\n",
              "      <td>Сменный график</td>\n",
              "      <td>Полная занятость</td>\n",
              "      <td>940</td>\n",
              "    </tr>\n",
              "    <tr>\n",
              "      <th>5</th>\n",
              "      <td>Полный день</td>\n",
              "      <td>Стажировка</td>\n",
              "      <td>569</td>\n",
              "    </tr>\n",
              "    <tr>\n",
              "      <th>6</th>\n",
              "      <td>Вахтовый метод</td>\n",
              "      <td>Полная занятость</td>\n",
              "      <td>367</td>\n",
              "    </tr>\n",
              "    <tr>\n",
              "      <th>7</th>\n",
              "      <td>Полный день</td>\n",
              "      <td>Частичная занятость</td>\n",
              "      <td>347</td>\n",
              "    </tr>\n",
              "    <tr>\n",
              "      <th>8</th>\n",
              "      <td>Гибкий график</td>\n",
              "      <td>Частичная занятость</td>\n",
              "      <td>312</td>\n",
              "    </tr>\n",
              "    <tr>\n",
              "      <th>9</th>\n",
              "      <td>Полный день</td>\n",
              "      <td>Проектная работа</td>\n",
              "      <td>141</td>\n",
              "    </tr>\n",
              "    <tr>\n",
              "      <th>10</th>\n",
              "      <td>Удаленная работа</td>\n",
              "      <td>Проектная работа</td>\n",
              "      <td>133</td>\n",
              "    </tr>\n",
              "    <tr>\n",
              "      <th>11</th>\n",
              "      <td>Гибкий график</td>\n",
              "      <td>Стажировка</td>\n",
              "      <td>116</td>\n",
              "    </tr>\n",
              "    <tr>\n",
              "      <th>12</th>\n",
              "      <td>Сменный график</td>\n",
              "      <td>Частичная занятость</td>\n",
              "      <td>101</td>\n",
              "    </tr>\n",
              "    <tr>\n",
              "      <th>13</th>\n",
              "      <td>Удаленная работа</td>\n",
              "      <td>Стажировка</td>\n",
              "      <td>64</td>\n",
              "    </tr>\n",
              "    <tr>\n",
              "      <th>14</th>\n",
              "      <td>Гибкий график</td>\n",
              "      <td>Проектная работа</td>\n",
              "      <td>18</td>\n",
              "    </tr>\n",
              "    <tr>\n",
              "      <th>15</th>\n",
              "      <td>Сменный график</td>\n",
              "      <td>Стажировка</td>\n",
              "      <td>12</td>\n",
              "    </tr>\n",
              "    <tr>\n",
              "      <th>16</th>\n",
              "      <td>Вахтовый метод</td>\n",
              "      <td>Проектная работа</td>\n",
              "      <td>2</td>\n",
              "    </tr>\n",
              "    <tr>\n",
              "      <th>17</th>\n",
              "      <td>Сменный график</td>\n",
              "      <td>Проектная работа</td>\n",
              "      <td>1</td>\n",
              "    </tr>\n",
              "  </tbody>\n",
              "</table>\n",
              "</div>"
            ],
            "text/plain": [
              "   Тип_рабочего_графика  Тип_трудоустройства  Количество вакансий\n",
              "0           Полный день     Полная занятость                35367\n",
              "1      Удаленная работа     Полная занятость                 7802\n",
              "2         Гибкий график     Полная занятость                 1593\n",
              "3      Удаленная работа  Частичная занятость                 1312\n",
              "4        Сменный график     Полная занятость                  940\n",
              "5           Полный день           Стажировка                  569\n",
              "6        Вахтовый метод     Полная занятость                  367\n",
              "7           Полный день  Частичная занятость                  347\n",
              "8         Гибкий график  Частичная занятость                  312\n",
              "9           Полный день     Проектная работа                  141\n",
              "10     Удаленная работа     Проектная работа                  133\n",
              "11        Гибкий график           Стажировка                  116\n",
              "12       Сменный график  Частичная занятость                  101\n",
              "13     Удаленная работа           Стажировка                   64\n",
              "14        Гибкий график     Проектная работа                   18\n",
              "15       Сменный график           Стажировка                   12\n",
              "16       Вахтовый метод     Проектная работа                    2\n",
              "17       Сменный график     Проектная работа                    1"
            ]
          },
          "execution_count": 190,
          "metadata": {},
          "output_type": "execute_result"
        }
      ],
      "source": [
        "df_4_4 = pd.read_sql_query(query_4_4, connection)\n",
        "df_4_4"
      ]
    },
    {
      "cell_type": "markdown",
      "id": "0136ffee-0ead-4a6b-b608-61d1c753a438",
      "metadata": {
        "id": "0136ffee-0ead-4a6b-b608-61d1c753a438"
      },
      "source": [
        "5. Напишите запрос, выводящий значения поля Требуемый опыт работы (experience) в порядке возрастания количества вакансий, в которых указан данный вариант опыта. "
      ]
    },
    {
      "cell_type": "code",
      "execution_count": 191,
      "id": "5b3a8e79-f7ab-4008-b767-12aea3a205ea",
      "metadata": {
        "id": "5b3a8e79-f7ab-4008-b767-12aea3a205ea"
      },
      "outputs": [],
      "source": [
        "query_4_5 = f'''select \n",
        "           experience \"Опыт_работы\",\n",
        "           COUNT(id)  \"Количество_вакансий\"\n",
        "           from public.vacancies\n",
        "           GROUP BY 1\n",
        "           ORDER BY 2 ASC\n",
        "        '''  "
      ]
    },
    {
      "cell_type": "code",
      "execution_count": 192,
      "id": "3Is64Y-hpDpq",
      "metadata": {
        "id": "3Is64Y-hpDpq"
      },
      "outputs": [
        {
          "data": {
            "text/html": [
              "<div>\n",
              "<style scoped>\n",
              "    .dataframe tbody tr th:only-of-type {\n",
              "        vertical-align: middle;\n",
              "    }\n",
              "\n",
              "    .dataframe tbody tr th {\n",
              "        vertical-align: top;\n",
              "    }\n",
              "\n",
              "    .dataframe thead th {\n",
              "        text-align: right;\n",
              "    }\n",
              "</style>\n",
              "<table border=\"1\" class=\"dataframe\">\n",
              "  <thead>\n",
              "    <tr style=\"text-align: right;\">\n",
              "      <th></th>\n",
              "      <th>Опыт_работы</th>\n",
              "      <th>Количество_вакансий</th>\n",
              "    </tr>\n",
              "  </thead>\n",
              "  <tbody>\n",
              "    <tr>\n",
              "      <th>0</th>\n",
              "      <td>Более 6 лет</td>\n",
              "      <td>1337</td>\n",
              "    </tr>\n",
              "    <tr>\n",
              "      <th>1</th>\n",
              "      <td>Нет опыта</td>\n",
              "      <td>7197</td>\n",
              "    </tr>\n",
              "    <tr>\n",
              "      <th>2</th>\n",
              "      <td>От 3 до 6 лет</td>\n",
              "      <td>14511</td>\n",
              "    </tr>\n",
              "    <tr>\n",
              "      <th>3</th>\n",
              "      <td>От 1 года до 3 лет</td>\n",
              "      <td>26152</td>\n",
              "    </tr>\n",
              "  </tbody>\n",
              "</table>\n",
              "</div>"
            ],
            "text/plain": [
              "          Опыт_работы  Количество_вакансий\n",
              "0         Более 6 лет                 1337\n",
              "1           Нет опыта                 7197\n",
              "2       От 3 до 6 лет                14511\n",
              "3  От 1 года до 3 лет                26152"
            ]
          },
          "execution_count": 192,
          "metadata": {},
          "output_type": "execute_result"
        }
      ],
      "source": [
        "df_4_5 = pd.read_sql_query(query_4_5, connection)\n",
        "df_4_5"
      ]
    },
    {
      "cell_type": "markdown",
      "id": "oq2b7n1QpIka",
      "metadata": {
        "id": "oq2b7n1QpIka"
      },
      "source": [
        "***"
      ]
    },
    {
      "attachments": {},
      "cell_type": "markdown",
      "id": "c8a6480e",
      "metadata": {},
      "source": [
        "Выводы:\n",
        "\n",
        "Самое большое количество вакансий представлено в Москве. Далее по убыванию идут Санкт-Петербург и Минск.\n",
        "\n",
        "Только в половине вакансий указаны границы заработной платы.\n",
        "\n",
        "Средние значения для нижней и верхней границы зарплатной вилки составляют 71 000 и 111 000 соответственно.\n",
        "\n",
        "Подавляющее большинство вакансий, а именно около 35 000, с требованиями полного рабочего дня и полной занятостью.\n",
        "\n",
        "Наибольшее количество вакансий с наименьшим опытом. С максимальным опытом наименьшее число вакансий. Седьмую часть вакансий составляют вакансии от работодателей, которые не требуют опыта работы."
      ]
    },
    {
      "cell_type": "markdown",
      "id": "7ea20ab6-04a7-40a0-adec-443a0e5a42c3",
      "metadata": {
        "id": "7ea20ab6-04a7-40a0-adec-443a0e5a42c3"
      },
      "source": [
        "# Юнит 5. Анализ работодателей"
      ]
    },
    {
      "cell_type": "markdown",
      "id": "968aed80-74ef-4ffb-b5bf-c65b84e9caea",
      "metadata": {
        "id": "968aed80-74ef-4ffb-b5bf-c65b84e9caea"
      },
      "source": [
        "1. Напишите запрос, который позволит узнать, какие работодатели находятся на первом и пятом месте по количеству вакансий."
      ]
    },
    {
      "cell_type": "code",
      "execution_count": 193,
      "id": "f2d62796-d400-4ec1-a675-88112739a50e",
      "metadata": {
        "id": "f2d62796-d400-4ec1-a675-88112739a50e"
      },
      "outputs": [],
      "source": [
        "query_5_1 = f'''select \n",
        "           emp.name \"Работодатель\",\n",
        "           COUNT(v.id) \"Количество_вакансий\"\n",
        "           from public.vacancies v\n",
        "           join public.employers emp on emp.id = v.employer_id\n",
        "           GROUP BY 1\n",
        "           ORDER BY 2 DESC\n",
        "           LIMIT 5\n",
        "        '''  "
      ]
    },
    {
      "cell_type": "code",
      "execution_count": 194,
      "id": "64tOMkAxqkQk",
      "metadata": {
        "id": "64tOMkAxqkQk"
      },
      "outputs": [
        {
          "data": {
            "text/html": [
              "<div>\n",
              "<style scoped>\n",
              "    .dataframe tbody tr th:only-of-type {\n",
              "        vertical-align: middle;\n",
              "    }\n",
              "\n",
              "    .dataframe tbody tr th {\n",
              "        vertical-align: top;\n",
              "    }\n",
              "\n",
              "    .dataframe thead th {\n",
              "        text-align: right;\n",
              "    }\n",
              "</style>\n",
              "<table border=\"1\" class=\"dataframe\">\n",
              "  <thead>\n",
              "    <tr style=\"text-align: right;\">\n",
              "      <th></th>\n",
              "      <th>Работодатель</th>\n",
              "      <th>Количество_вакансий</th>\n",
              "    </tr>\n",
              "  </thead>\n",
              "  <tbody>\n",
              "    <tr>\n",
              "      <th>0</th>\n",
              "      <td>Яндекс</td>\n",
              "      <td>1933</td>\n",
              "    </tr>\n",
              "    <tr>\n",
              "      <th>1</th>\n",
              "      <td>Ростелеком</td>\n",
              "      <td>491</td>\n",
              "    </tr>\n",
              "    <tr>\n",
              "      <th>2</th>\n",
              "      <td>Тинькофф</td>\n",
              "      <td>444</td>\n",
              "    </tr>\n",
              "    <tr>\n",
              "      <th>3</th>\n",
              "      <td>СБЕР</td>\n",
              "      <td>428</td>\n",
              "    </tr>\n",
              "    <tr>\n",
              "      <th>4</th>\n",
              "      <td>Газпром нефть</td>\n",
              "      <td>331</td>\n",
              "    </tr>\n",
              "  </tbody>\n",
              "</table>\n",
              "</div>"
            ],
            "text/plain": [
              "    Работодатель  Количество_вакансий\n",
              "0         Яндекс                 1933\n",
              "1     Ростелеком                  491\n",
              "2       Тинькофф                  444\n",
              "3           СБЕР                  428\n",
              "4  Газпром нефть                  331"
            ]
          },
          "execution_count": 194,
          "metadata": {},
          "output_type": "execute_result"
        }
      ],
      "source": [
        "df_5_1 = pd.read_sql_query(query_5_1, connection)\n",
        "df_5_1"
      ]
    },
    {
      "cell_type": "markdown",
      "id": "68377cfc-b378-43dc-ab7d-1195abf2c515",
      "metadata": {
        "id": "68377cfc-b378-43dc-ab7d-1195abf2c515"
      },
      "source": [
        "2. Напишите запрос, который для каждого региона выведет количество работодателей и вакансий в нём.\n",
        "Среди регионов, в которых нет вакансий, найдите тот, в котором наибольшее количество работодателей.\n"
      ]
    },
    {
      "cell_type": "code",
      "execution_count": 195,
      "id": "dd7df27a-e3e8-412e-a21a-5d389b71e891",
      "metadata": {
        "id": "dd7df27a-e3e8-412e-a21a-5d389b71e891"
      },
      "outputs": [],
      "source": [
        "query_5_2 = f'''select \n",
        "           a.name \"Регион\",\n",
        "           COUNT(emp.id) \"Количество_работодателей\",\n",
        "           COUNT(v.id) \"Количество_вакансий\"\n",
        "           from public.areas a\n",
        "           join public.employers emp on emp.area = a.id\n",
        "           left join public.vacancies v on a.id = v.area_id\n",
        "           WHERE v.id IS NULL\n",
        "           GROUP BY 1\n",
        "           ORDER BY 2 DESC\n",
        "        '''  "
      ]
    },
    {
      "cell_type": "code",
      "execution_count": 196,
      "id": "x1ikWbydrbf6",
      "metadata": {
        "id": "x1ikWbydrbf6"
      },
      "outputs": [
        {
          "data": {
            "text/html": [
              "<div>\n",
              "<style scoped>\n",
              "    .dataframe tbody tr th:only-of-type {\n",
              "        vertical-align: middle;\n",
              "    }\n",
              "\n",
              "    .dataframe tbody tr th {\n",
              "        vertical-align: top;\n",
              "    }\n",
              "\n",
              "    .dataframe thead th {\n",
              "        text-align: right;\n",
              "    }\n",
              "</style>\n",
              "<table border=\"1\" class=\"dataframe\">\n",
              "  <thead>\n",
              "    <tr style=\"text-align: right;\">\n",
              "      <th></th>\n",
              "      <th>Регион</th>\n",
              "      <th>Количество_работодателей</th>\n",
              "      <th>Количество_вакансий</th>\n",
              "    </tr>\n",
              "  </thead>\n",
              "  <tbody>\n",
              "    <tr>\n",
              "      <th>0</th>\n",
              "      <td>Россия</td>\n",
              "      <td>410</td>\n",
              "      <td>0</td>\n",
              "    </tr>\n",
              "    <tr>\n",
              "      <th>1</th>\n",
              "      <td>Казахстан</td>\n",
              "      <td>207</td>\n",
              "      <td>0</td>\n",
              "    </tr>\n",
              "    <tr>\n",
              "      <th>2</th>\n",
              "      <td>Московская область</td>\n",
              "      <td>75</td>\n",
              "      <td>0</td>\n",
              "    </tr>\n",
              "    <tr>\n",
              "      <th>3</th>\n",
              "      <td>Краснодарский край</td>\n",
              "      <td>19</td>\n",
              "      <td>0</td>\n",
              "    </tr>\n",
              "    <tr>\n",
              "      <th>4</th>\n",
              "      <td>Беларусь</td>\n",
              "      <td>18</td>\n",
              "      <td>0</td>\n",
              "    </tr>\n",
              "    <tr>\n",
              "      <th>...</th>\n",
              "      <td>...</td>\n",
              "      <td>...</td>\n",
              "      <td>...</td>\n",
              "    </tr>\n",
              "    <tr>\n",
              "      <th>181</th>\n",
              "      <td>Миллерово</td>\n",
              "      <td>1</td>\n",
              "      <td>0</td>\n",
              "    </tr>\n",
              "    <tr>\n",
              "      <th>182</th>\n",
              "      <td>Михайловка (Уфимский район, Башкортостан)</td>\n",
              "      <td>1</td>\n",
              "      <td>0</td>\n",
              "    </tr>\n",
              "    <tr>\n",
              "      <th>183</th>\n",
              "      <td>Можайск</td>\n",
              "      <td>1</td>\n",
              "      <td>0</td>\n",
              "    </tr>\n",
              "    <tr>\n",
              "      <th>184</th>\n",
              "      <td>Морозовск\\n</td>\n",
              "      <td>1</td>\n",
              "      <td>0</td>\n",
              "    </tr>\n",
              "    <tr>\n",
              "      <th>185</th>\n",
              "      <td>Несвиж</td>\n",
              "      <td>1</td>\n",
              "      <td>0</td>\n",
              "    </tr>\n",
              "  </tbody>\n",
              "</table>\n",
              "<p>186 rows × 3 columns</p>\n",
              "</div>"
            ],
            "text/plain": [
              "                                        Регион  Количество_работодателей   \n",
              "0                                       Россия                       410  \\\n",
              "1                                    Казахстан                       207   \n",
              "2                           Московская область                        75   \n",
              "3                           Краснодарский край                        19   \n",
              "4                                     Беларусь                        18   \n",
              "..                                         ...                       ...   \n",
              "181                                  Миллерово                         1   \n",
              "182  Михайловка (Уфимский район, Башкортостан)                         1   \n",
              "183                                    Можайск                         1   \n",
              "184                                Морозовск\\n                         1   \n",
              "185                                     Несвиж                         1   \n",
              "\n",
              "     Количество_вакансий  \n",
              "0                      0  \n",
              "1                      0  \n",
              "2                      0  \n",
              "3                      0  \n",
              "4                      0  \n",
              "..                   ...  \n",
              "181                    0  \n",
              "182                    0  \n",
              "183                    0  \n",
              "184                    0  \n",
              "185                    0  \n",
              "\n",
              "[186 rows x 3 columns]"
            ]
          },
          "execution_count": 196,
          "metadata": {},
          "output_type": "execute_result"
        }
      ],
      "source": [
        "df_5_2 = pd.read_sql_query(query_5_2, connection)\n",
        "df_5_2"
      ]
    },
    {
      "cell_type": "markdown",
      "id": "f2fe0acb-ab1a-4e15-9326-2560e22d73c1",
      "metadata": {
        "id": "f2fe0acb-ab1a-4e15-9326-2560e22d73c1"
      },
      "source": [
        "3. Для каждого работодателя посчитайте количество регионов, в которых он публикует свои вакансии. Отсортируйте результат по убыванию количества.\n"
      ]
    },
    {
      "cell_type": "code",
      "execution_count": 197,
      "id": "6271f8ad-bd2e-4196-ae4a-5b39c4c1010e",
      "metadata": {
        "id": "6271f8ad-bd2e-4196-ae4a-5b39c4c1010e"
      },
      "outputs": [],
      "source": [
        "query_5_3 = f'''select\n",
        "           emp.name \"Работодатель\",\n",
        "           COUNT(DISTINCT v.area_id) \"Количество_регионов\"\n",
        "           from public.employers emp\n",
        "           join public.vacancies v on emp.id = v.employer_id\n",
        "           GROUP BY emp.id \n",
        "           ORDER BY 2 DESC\n",
        "        '''  "
      ]
    },
    {
      "cell_type": "code",
      "execution_count": 198,
      "id": "1EIvX3HasH4F",
      "metadata": {
        "id": "1EIvX3HasH4F"
      },
      "outputs": [
        {
          "data": {
            "text/html": [
              "<div>\n",
              "<style scoped>\n",
              "    .dataframe tbody tr th:only-of-type {\n",
              "        vertical-align: middle;\n",
              "    }\n",
              "\n",
              "    .dataframe tbody tr th {\n",
              "        vertical-align: top;\n",
              "    }\n",
              "\n",
              "    .dataframe thead th {\n",
              "        text-align: right;\n",
              "    }\n",
              "</style>\n",
              "<table border=\"1\" class=\"dataframe\">\n",
              "  <thead>\n",
              "    <tr style=\"text-align: right;\">\n",
              "      <th></th>\n",
              "      <th>Работодатель</th>\n",
              "      <th>Количество_регионов</th>\n",
              "    </tr>\n",
              "  </thead>\n",
              "  <tbody>\n",
              "    <tr>\n",
              "      <th>0</th>\n",
              "      <td>Яндекс</td>\n",
              "      <td>181</td>\n",
              "    </tr>\n",
              "    <tr>\n",
              "      <th>1</th>\n",
              "      <td>Ростелеком</td>\n",
              "      <td>152</td>\n",
              "    </tr>\n",
              "    <tr>\n",
              "      <th>2</th>\n",
              "      <td>Спецремонт</td>\n",
              "      <td>116</td>\n",
              "    </tr>\n",
              "    <tr>\n",
              "      <th>3</th>\n",
              "      <td>Поляков Денис Иванович</td>\n",
              "      <td>88</td>\n",
              "    </tr>\n",
              "    <tr>\n",
              "      <th>4</th>\n",
              "      <td>ООО ЕФИН</td>\n",
              "      <td>71</td>\n",
              "    </tr>\n",
              "    <tr>\n",
              "      <th>...</th>\n",
              "      <td>...</td>\n",
              "      <td>...</td>\n",
              "    </tr>\n",
              "    <tr>\n",
              "      <th>14901</th>\n",
              "      <td>НПП Авиатрон</td>\n",
              "      <td>1</td>\n",
              "    </tr>\n",
              "    <tr>\n",
              "      <th>14902</th>\n",
              "      <td>Центр дистанционных торгов</td>\n",
              "      <td>1</td>\n",
              "    </tr>\n",
              "    <tr>\n",
              "      <th>14903</th>\n",
              "      <td>Городские Телекоммуникационные Системы</td>\n",
              "      <td>1</td>\n",
              "    </tr>\n",
              "    <tr>\n",
              "      <th>14904</th>\n",
              "      <td>Введенский, Отель</td>\n",
              "      <td>1</td>\n",
              "    </tr>\n",
              "    <tr>\n",
              "      <th>14905</th>\n",
              "      <td>Группа Компаний Автоимпорт</td>\n",
              "      <td>1</td>\n",
              "    </tr>\n",
              "  </tbody>\n",
              "</table>\n",
              "<p>14906 rows × 2 columns</p>\n",
              "</div>"
            ],
            "text/plain": [
              "                                 Работодатель  Количество_регионов\n",
              "0                                      Яндекс                  181\n",
              "1                                  Ростелеком                  152\n",
              "2                                  Спецремонт                  116\n",
              "3                      Поляков Денис Иванович                   88\n",
              "4                                   ООО ЕФИН                    71\n",
              "...                                       ...                  ...\n",
              "14901                            НПП Авиатрон                    1\n",
              "14902              Центр дистанционных торгов                    1\n",
              "14903  Городские Телекоммуникационные Системы                    1\n",
              "14904                       Введенский, Отель                    1\n",
              "14905              Группа Компаний Автоимпорт                    1\n",
              "\n",
              "[14906 rows x 2 columns]"
            ]
          },
          "execution_count": 198,
          "metadata": {},
          "output_type": "execute_result"
        }
      ],
      "source": [
        "df_5_3 = pd.read_sql_query(query_5_3, connection)\n",
        "df_5_3"
      ]
    },
    {
      "cell_type": "markdown",
      "id": "eab2206d-d95b-468b-8e5f-34381abf0ce7",
      "metadata": {
        "id": "eab2206d-d95b-468b-8e5f-34381abf0ce7"
      },
      "source": [
        "4. Напишите запрос для подсчёта количества работодателей, у которых не указана сфера деятельности. "
      ]
    },
    {
      "cell_type": "code",
      "execution_count": 199,
      "id": "80defb23-bfb1-4a18-8be6-bf36aa7165d5",
      "metadata": {
        "id": "80defb23-bfb1-4a18-8be6-bf36aa7165d5"
      },
      "outputs": [],
      "source": [
        "query_5_4 = f'''select\n",
        "           COUNT(emp.id) \"Количество работодателей\"\n",
        "           from public.employers emp\n",
        "           left join public.employers_industries i on i.employer_id = emp.id\n",
        "           WHERE i.industry_id IS NULL\n",
        "        '''  "
      ]
    },
    {
      "cell_type": "code",
      "execution_count": 200,
      "id": "Dp_yCx6ysQSu",
      "metadata": {
        "id": "Dp_yCx6ysQSu"
      },
      "outputs": [
        {
          "data": {
            "text/html": [
              "<div>\n",
              "<style scoped>\n",
              "    .dataframe tbody tr th:only-of-type {\n",
              "        vertical-align: middle;\n",
              "    }\n",
              "\n",
              "    .dataframe tbody tr th {\n",
              "        vertical-align: top;\n",
              "    }\n",
              "\n",
              "    .dataframe thead th {\n",
              "        text-align: right;\n",
              "    }\n",
              "</style>\n",
              "<table border=\"1\" class=\"dataframe\">\n",
              "  <thead>\n",
              "    <tr style=\"text-align: right;\">\n",
              "      <th></th>\n",
              "      <th>Количество работодателей</th>\n",
              "    </tr>\n",
              "  </thead>\n",
              "  <tbody>\n",
              "    <tr>\n",
              "      <th>0</th>\n",
              "      <td>8419</td>\n",
              "    </tr>\n",
              "  </tbody>\n",
              "</table>\n",
              "</div>"
            ],
            "text/plain": [
              "   Количество работодателей\n",
              "0                      8419"
            ]
          },
          "execution_count": 200,
          "metadata": {},
          "output_type": "execute_result"
        }
      ],
      "source": [
        "df_5_4 = pd.read_sql_query(query_5_4, connection)\n",
        "df_5_4"
      ]
    },
    {
      "cell_type": "markdown",
      "id": "0112af31-f6b0-4e3b-82ab-71296e752e5e",
      "metadata": {
        "id": "0112af31-f6b0-4e3b-82ab-71296e752e5e"
      },
      "source": [
        "5. Напишите запрос, чтобы узнать название компании, находящейся на третьем месте в алфавитном списке (по названию) компаний, у которых указано четыре сферы деятельности. "
      ]
    },
    {
      "cell_type": "code",
      "execution_count": 201,
      "id": "973b0cfc-a972-470a-8b4a-68744ef220c4",
      "metadata": {
        "id": "973b0cfc-a972-470a-8b4a-68744ef220c4"
      },
      "outputs": [],
      "source": [
        "query_5_5 = f'''select\n",
        "           emp.name \"Работодатель\",\n",
        "           COUNT(i.industry_id) \"Количество_деятельностей\"\n",
        "           from public.employers emp\n",
        "           left join public.employers_industries i on i.employer_id = emp.id\n",
        "           GROUP BY emp.name\n",
        "           HAVING COUNT(i.industry_id) = 4\n",
        "           ORDER BY emp.name ASC\n",
        "           OFFSET 2 LIMIT 1\n",
        "        '''  "
      ]
    },
    {
      "cell_type": "code",
      "execution_count": 202,
      "id": "xsPtpp8EsaED",
      "metadata": {
        "id": "xsPtpp8EsaED"
      },
      "outputs": [
        {
          "data": {
            "text/html": [
              "<div>\n",
              "<style scoped>\n",
              "    .dataframe tbody tr th:only-of-type {\n",
              "        vertical-align: middle;\n",
              "    }\n",
              "\n",
              "    .dataframe tbody tr th {\n",
              "        vertical-align: top;\n",
              "    }\n",
              "\n",
              "    .dataframe thead th {\n",
              "        text-align: right;\n",
              "    }\n",
              "</style>\n",
              "<table border=\"1\" class=\"dataframe\">\n",
              "  <thead>\n",
              "    <tr style=\"text-align: right;\">\n",
              "      <th></th>\n",
              "      <th>Работодатель</th>\n",
              "      <th>Количество_деятельностей</th>\n",
              "    </tr>\n",
              "  </thead>\n",
              "  <tbody>\n",
              "    <tr>\n",
              "      <th>0</th>\n",
              "      <td>2ГИС</td>\n",
              "      <td>4</td>\n",
              "    </tr>\n",
              "  </tbody>\n",
              "</table>\n",
              "</div>"
            ],
            "text/plain": [
              "  Работодатель  Количество_деятельностей\n",
              "0         2ГИС                         4"
            ]
          },
          "execution_count": 202,
          "metadata": {},
          "output_type": "execute_result"
        }
      ],
      "source": [
        "df_5_5 = pd.read_sql_query(query_5_5, connection)\n",
        "df_5_5"
      ]
    },
    {
      "cell_type": "markdown",
      "id": "3bfcfdaf-755d-4d2b-8ed8-326201dc07ab",
      "metadata": {
        "id": "3bfcfdaf-755d-4d2b-8ed8-326201dc07ab"
      },
      "source": [
        "6. С помощью запроса выясните, у какого количества работодателей в качестве сферы деятельности указана Разработка программного обеспечения.\n"
      ]
    },
    {
      "cell_type": "code",
      "execution_count": 203,
      "id": "ad3f270f-2991-47eb-929b-e8f88a55b0d1",
      "metadata": {
        "id": "ad3f270f-2991-47eb-929b-e8f88a55b0d1"
      },
      "outputs": [],
      "source": [
        "query_5_6 = f'''select\n",
        "         COUNT(emp.id) \"Количество_работодателей\"\n",
        "         from public.employers emp\n",
        "         left join public.employers_industries i on i.employer_id = emp.id\n",
        "         join public.industries ind on ind.id = i.industry_id\n",
        "         WHERE ind.name = 'Разработка программного обеспечения'\n",
        "        '''  "
      ]
    },
    {
      "cell_type": "code",
      "execution_count": 204,
      "id": "H72qxWM0shPR",
      "metadata": {
        "id": "H72qxWM0shPR"
      },
      "outputs": [
        {
          "data": {
            "text/html": [
              "<div>\n",
              "<style scoped>\n",
              "    .dataframe tbody tr th:only-of-type {\n",
              "        vertical-align: middle;\n",
              "    }\n",
              "\n",
              "    .dataframe tbody tr th {\n",
              "        vertical-align: top;\n",
              "    }\n",
              "\n",
              "    .dataframe thead th {\n",
              "        text-align: right;\n",
              "    }\n",
              "</style>\n",
              "<table border=\"1\" class=\"dataframe\">\n",
              "  <thead>\n",
              "    <tr style=\"text-align: right;\">\n",
              "      <th></th>\n",
              "      <th>Количество_работодателей</th>\n",
              "    </tr>\n",
              "  </thead>\n",
              "  <tbody>\n",
              "    <tr>\n",
              "      <th>0</th>\n",
              "      <td>3553</td>\n",
              "    </tr>\n",
              "  </tbody>\n",
              "</table>\n",
              "</div>"
            ],
            "text/plain": [
              "   Количество_работодателей\n",
              "0                      3553"
            ]
          },
          "execution_count": 204,
          "metadata": {},
          "output_type": "execute_result"
        }
      ],
      "source": [
        "df_5_6 = pd.read_sql_query(query_5_6, connection)\n",
        "df_5_6"
      ]
    },
    {
      "cell_type": "markdown",
      "id": "7b02bb86-0546-40fb-94a4-242f050a5c57",
      "metadata": {
        "id": "7b02bb86-0546-40fb-94a4-242f050a5c57"
      },
      "source": [
        "7. Для компании «Яндекс» выведите список регионов-миллионников, в которых представлены вакансии компании, вместе с количеством вакансий в этих регионах. Также добавьте строку Total с общим количеством вакансий компании. Результат отсортируйте по возрастанию количества.\n",
        "\n",
        "Список городов-милионников надо взять [отсюда](https://ru.wikipedia.org/wiki/%D0%93%D0%BE%D1%80%D0%BE%D0%B4%D0%B0-%D0%BC%D0%B8%D0%BB%D0%BB%D0%B8%D0%BE%D0%BD%D0%B5%D1%80%D1%8B_%D0%A0%D0%BE%D1%81%D1%81%D0%B8%D0%B8). \n",
        "\n",
        "Если возникнут трудности с этим задание посмотрите материалы модуля  PYTHON-17. Как получать данные из веб-источников и API. "
      ]
    },
    {
      "cell_type": "code",
      "execution_count": 205,
      "id": "82e037f2",
      "metadata": {},
      "outputs": [
        {
          "data": {
            "text/plain": [
              "'https://ru.wikipedia.org/wiki/%D0%93%D0%BE%D1%80%D0%BE%D0%B4%D0%B0-%D0%BC%D0%B8%D0%BB%D0%BB%D0%B8%D0%BE%D0%BD%D0%B5%D1%80%D1%8B_%D0%A0%D0%BE%D1%81%D1%81%D0%B8%D0%B8#%D0%A1%D0%BF%D0%B8%D1%81%D0%BE%D0%BA_%D0%B3%D0%BE%D1%80%D0%BE%D0%B4%D0%BE%D0%B2-%D0%BC%D0%B8%D0%BB%D0%BB%D0%B8%D0%BE%D0%BD%D0%B5%D1%80%D0%BE%D0%B2'"
            ]
          },
          "execution_count": 205,
          "metadata": {},
          "output_type": "execute_result"
        }
      ],
      "source": [
        "import pandas as pd\n",
        "import urllib.parse as req\n",
        "\n",
        "path_common = req.urlparse('https://ru.wikipedia.org/wiki/Города-миллионеры_России#Список_городов-миллионеров')\n",
        "url = path_common.scheme + '://' + req.quote(path_common.netloc) +  req.quote(path_common.path) + '#'+ req.quote(path_common.fragment)\n",
        "url"
      ]
    },
    {
      "cell_type": "code",
      "execution_count": 206,
      "id": "5a0e32a4-e68a-4365-8a39-2fe24c542c36",
      "metadata": {
        "id": "5a0e32a4-e68a-4365-8a39-2fe24c542c36"
      },
      "outputs": [],
      "source": [
        "query_5_7 = f'''\n",
        "        SELECT \n",
        "            a.name \"Регион\", \n",
        "            COUNT(v.id) \"Количество_вакансий\"\n",
        "        FROM public.employers e\n",
        "            JOIN public.vacancies v ON e.id=v.employer_id\n",
        "            JOIN public.areas a ON a.id=v.area_id \n",
        "        WHERE e.name LIKE '%Яндекс%' \n",
        "        AND (a.name LIKE '%Москва%' OR a.name LIKE '%Санкт-Петербург%'\n",
        "        OR a.name LIKE '%Новосибирск%' OR a.name LIKE '%Екатеринбург%' OR a.name LIKE '%Казань%'\n",
        "        OR a.name LIKE '%Нижний Новгород%' OR a.name LIKE '%Красноярск%' OR a.name LIKE '%Челябинск%'\n",
        "        OR a.name LIKE '%Самара%' OR a.name LIKE '%Уфа%'OR a.name LIKE '%Ростов-на-Дону%'\n",
        "        OR a.name LIKE '%Омск%' OR a.name LIKE '%Краснодар%' OR a.name LIKE '%Воронеж%' \n",
        "        OR a.name LIKE '%Пермь%' OR a.name LIKE '%Волгоград%')                                                                                         \n",
        "        GROUP BY a.name\n",
        "\n",
        "        UNION all\n",
        "                                                                                                    \n",
        "        SELECT \n",
        "            'Total',\n",
        "            count(*)\n",
        "        FROM public.vacancies v\n",
        "        JOIN public.areas a ON a.id=v.area_id\n",
        "        JOIN public.employers e ON e.id=v.employer_id\n",
        "        WHERE e.name LIKE '%Яндекс%' \n",
        "        AND (a.name LIKE '%Москва%' OR a.name LIKE '%Санкт-Петербург%'\n",
        "        OR a.name LIKE '%Новосибирск%' OR a.name LIKE '%Екатеринбург%' OR a.name LIKE '%Казань%'\n",
        "        OR a.name LIKE '%Нижний Новгород%' OR a.name LIKE '%Красноярск%' OR a.name LIKE '%Челябинск%'\n",
        "        OR a.name LIKE '%Самара%' OR a.name LIKE '%Уфа%'OR a.name LIKE '%Ростов-на-Дону%'\n",
        "        OR a.name LIKE '%Омск%' OR a.name LIKE '%Краснодар%' OR a.name LIKE '%Воронеж%' \n",
        "        OR a.name LIKE '%Пермь%' OR a.name LIKE '%Волгоград%') \n",
        "        ORDER BY 2 ASC\n",
        "        '''"
      ]
    },
    {
      "cell_type": "code",
      "execution_count": 207,
      "id": "ttPhiO1rsvPq",
      "metadata": {
        "id": "ttPhiO1rsvPq"
      },
      "outputs": [
        {
          "data": {
            "text/html": [
              "<div>\n",
              "<style scoped>\n",
              "    .dataframe tbody tr th:only-of-type {\n",
              "        vertical-align: middle;\n",
              "    }\n",
              "\n",
              "    .dataframe tbody tr th {\n",
              "        vertical-align: top;\n",
              "    }\n",
              "\n",
              "    .dataframe thead th {\n",
              "        text-align: right;\n",
              "    }\n",
              "</style>\n",
              "<table border=\"1\" class=\"dataframe\">\n",
              "  <thead>\n",
              "    <tr style=\"text-align: right;\">\n",
              "      <th></th>\n",
              "      <th>Регион</th>\n",
              "      <th>Количество_вакансий</th>\n",
              "    </tr>\n",
              "  </thead>\n",
              "  <tbody>\n",
              "    <tr>\n",
              "      <th>0</th>\n",
              "      <td>Волжский (Волгоградская область)</td>\n",
              "      <td>13</td>\n",
              "    </tr>\n",
              "    <tr>\n",
              "      <th>1</th>\n",
              "      <td>Омск</td>\n",
              "      <td>21</td>\n",
              "    </tr>\n",
              "    <tr>\n",
              "      <th>2</th>\n",
              "      <td>Челябинск</td>\n",
              "      <td>22</td>\n",
              "    </tr>\n",
              "    <tr>\n",
              "      <th>3</th>\n",
              "      <td>Красноярск</td>\n",
              "      <td>23</td>\n",
              "    </tr>\n",
              "    <tr>\n",
              "      <th>4</th>\n",
              "      <td>Волгоград</td>\n",
              "      <td>24</td>\n",
              "    </tr>\n",
              "    <tr>\n",
              "      <th>5</th>\n",
              "      <td>Ростов-на-Дону</td>\n",
              "      <td>25</td>\n",
              "    </tr>\n",
              "    <tr>\n",
              "      <th>6</th>\n",
              "      <td>Казань</td>\n",
              "      <td>25</td>\n",
              "    </tr>\n",
              "    <tr>\n",
              "      <th>7</th>\n",
              "      <td>Пермь</td>\n",
              "      <td>25</td>\n",
              "    </tr>\n",
              "    <tr>\n",
              "      <th>8</th>\n",
              "      <td>Уфа</td>\n",
              "      <td>26</td>\n",
              "    </tr>\n",
              "    <tr>\n",
              "      <th>9</th>\n",
              "      <td>Самара</td>\n",
              "      <td>26</td>\n",
              "    </tr>\n",
              "    <tr>\n",
              "      <th>10</th>\n",
              "      <td>Краснодар</td>\n",
              "      <td>30</td>\n",
              "    </tr>\n",
              "    <tr>\n",
              "      <th>11</th>\n",
              "      <td>Воронеж</td>\n",
              "      <td>32</td>\n",
              "    </tr>\n",
              "    <tr>\n",
              "      <th>12</th>\n",
              "      <td>Новосибирск</td>\n",
              "      <td>35</td>\n",
              "    </tr>\n",
              "    <tr>\n",
              "      <th>13</th>\n",
              "      <td>Нижний Новгород</td>\n",
              "      <td>36</td>\n",
              "    </tr>\n",
              "    <tr>\n",
              "      <th>14</th>\n",
              "      <td>Екатеринбург</td>\n",
              "      <td>39</td>\n",
              "    </tr>\n",
              "    <tr>\n",
              "      <th>15</th>\n",
              "      <td>Санкт-Петербург</td>\n",
              "      <td>43</td>\n",
              "    </tr>\n",
              "    <tr>\n",
              "      <th>16</th>\n",
              "      <td>Москва</td>\n",
              "      <td>59</td>\n",
              "    </tr>\n",
              "    <tr>\n",
              "      <th>17</th>\n",
              "      <td>Total</td>\n",
              "      <td>504</td>\n",
              "    </tr>\n",
              "  </tbody>\n",
              "</table>\n",
              "</div>"
            ],
            "text/plain": [
              "                              Регион  Количество_вакансий\n",
              "0   Волжский (Волгоградская область)                   13\n",
              "1                               Омск                   21\n",
              "2                          Челябинск                   22\n",
              "3                         Красноярск                   23\n",
              "4                          Волгоград                   24\n",
              "5                     Ростов-на-Дону                   25\n",
              "6                             Казань                   25\n",
              "7                              Пермь                   25\n",
              "8                                Уфа                   26\n",
              "9                             Самара                   26\n",
              "10                         Краснодар                   30\n",
              "11                           Воронеж                   32\n",
              "12                       Новосибирск                   35\n",
              "13                   Нижний Новгород                   36\n",
              "14                      Екатеринбург                   39\n",
              "15                   Санкт-Петербург                   43\n",
              "16                            Москва                   59\n",
              "17                             Total                  504"
            ]
          },
          "execution_count": 207,
          "metadata": {},
          "output_type": "execute_result"
        }
      ],
      "source": [
        "df_5_7 = pd.read_sql_query(query_5_7, connection)\n",
        "df_5_7"
      ]
    },
    {
      "cell_type": "markdown",
      "id": "04966e40-3bc3-4dc8-9ba2-e80580ce3abc",
      "metadata": {
        "id": "04966e40-3bc3-4dc8-9ba2-e80580ce3abc"
      },
      "source": [
        "***"
      ]
    },
    {
      "attachments": {},
      "cell_type": "markdown",
      "id": "bf0495c8",
      "metadata": {},
      "source": [
        "Выводы:\n",
        "\n",
        "На первом месте по количеству вакансий находится Яндекс, около 1700 вакансий. Далее идут Ростелеком, Тинькофф, СБЕР и Газпром нефть.\n",
        "\n",
        "Среди представленных вакансий наибольшее количество работодателей, находится в России.\n",
        "\n",
        "Наибольшее количество регионов - 181, в которых работодатель публикует вакансии, охватывает Яндекс. Ростелеком охватывает 152 региона. Спецремонт публикует вакансии в 116 регионах.\n",
        "\n",
        "Почти у 8 000 работодателей не указана сфера деятельности.\n",
        "\n",
        "Компания 2ГИС, находится на третьем месте в алфавитном списке (по названию) компаний, у которых указано четыре сферы деятельности.\n",
        "\n",
        "У почти 3 500 работодателей в качестве сферы деятельности указана \"Разработка программного обеспечения\".\n",
        "\n",
        "Общее количество вакансий от компании \"Яндекс\" в городах-милионников 504 вакансии. Самое большое количество вакансий в городе Москва, затем в Санкт-Петербурге и Екатеринбурге."
      ]
    },
    {
      "cell_type": "markdown",
      "id": "b1ef156a-efcb-49ce-bb23-90763e7f35b2",
      "metadata": {
        "id": "b1ef156a-efcb-49ce-bb23-90763e7f35b2",
        "tags": []
      },
      "source": [
        "# Юнит 6. Предметный анализ"
      ]
    },
    {
      "cell_type": "markdown",
      "id": "b9cd50a0-992d-4988-8463-2b2b1c4629b4",
      "metadata": {
        "id": "b9cd50a0-992d-4988-8463-2b2b1c4629b4"
      },
      "source": [
        "1. Сколько вакансий имеет отношение к данным?\n",
        "\n",
        "Считаем, что вакансия имеет отношение к данным, если в её названии содержатся слова 'data' или 'данн'.\n",
        "\n",
        "*Подсказка: Обратите внимание, что названия вакансий могут быть написаны в любом регистре.* \n"
      ]
    },
    {
      "cell_type": "code",
      "execution_count": 208,
      "id": "54ab0e50-c0f1-47cc-a54b-bc5c8bc363f9",
      "metadata": {
        "id": "54ab0e50-c0f1-47cc-a54b-bc5c8bc363f9"
      },
      "outputs": [],
      "source": [
        "query_6_1 = f'''select\n",
        "           COUNT(id) \"Количество_вакансий\"\n",
        "           from public.vacancies\n",
        "           WHERE name ILIKE '%data%' or name ILIKE '%данн%'\n",
        "        '''  "
      ]
    },
    {
      "cell_type": "code",
      "execution_count": 209,
      "id": "9F1meAqsuUjd",
      "metadata": {
        "id": "9F1meAqsuUjd"
      },
      "outputs": [
        {
          "data": {
            "text/html": [
              "<div>\n",
              "<style scoped>\n",
              "    .dataframe tbody tr th:only-of-type {\n",
              "        vertical-align: middle;\n",
              "    }\n",
              "\n",
              "    .dataframe tbody tr th {\n",
              "        vertical-align: top;\n",
              "    }\n",
              "\n",
              "    .dataframe thead th {\n",
              "        text-align: right;\n",
              "    }\n",
              "</style>\n",
              "<table border=\"1\" class=\"dataframe\">\n",
              "  <thead>\n",
              "    <tr style=\"text-align: right;\">\n",
              "      <th></th>\n",
              "      <th>Количество_вакансий</th>\n",
              "    </tr>\n",
              "  </thead>\n",
              "  <tbody>\n",
              "    <tr>\n",
              "      <th>0</th>\n",
              "      <td>1771</td>\n",
              "    </tr>\n",
              "  </tbody>\n",
              "</table>\n",
              "</div>"
            ],
            "text/plain": [
              "   Количество_вакансий\n",
              "0                 1771"
            ]
          },
          "execution_count": 209,
          "metadata": {},
          "output_type": "execute_result"
        }
      ],
      "source": [
        "df_6_1 = pd.read_sql_query(query_6_1, connection)\n",
        "df_6_1"
      ]
    },
    {
      "cell_type": "markdown",
      "id": "4dea20cb-a36b-474a-a0b9-e08e8e3857a5",
      "metadata": {
        "id": "4dea20cb-a36b-474a-a0b9-e08e8e3857a5"
      },
      "source": [
        "2. Сколько есть подходящих вакансий для начинающего дата-сайентиста? \n",
        "Будем считать вакансиями для дата-сайентистов такие, в названии которых есть хотя бы одно из следующих сочетаний:\n",
        "* 'data scientist'\n",
        "* 'data science'\n",
        "* 'исследователь данных'\n",
        "* 'ML' (здесь не нужно брать вакансии по HTML)\n",
        "* 'machine learning'\n",
        "* 'машинн%обучен%'\n",
        "\n",
        "** В следующих заданиях мы продолжим работать с вакансиями по этому условию.*\n",
        "\n",
        "Считаем вакансиями для специалистов уровня Junior следующие:\n",
        "* в названии есть слово 'junior' *или*\n",
        "* требуемый опыт — Нет опыта *или*\n",
        "* тип трудоустройства — Стажировка.\n",
        " "
      ]
    },
    {
      "cell_type": "code",
      "execution_count": 210,
      "id": "9c61b3c0-bb66-46c9-ae1e-81d3f5752b4a",
      "metadata": {
        "id": "9c61b3c0-bb66-46c9-ae1e-81d3f5752b4a"
      },
      "outputs": [],
      "source": [
        "query_6_2 = f'''select\n",
        "           COUNT(id) \"Количество_вакансий\"\n",
        "           from public.vacancies\n",
        "           WHERE (name ILIKE '%data scientist%' \n",
        "                or (name LIKE '%ML%' and name NOT ILIKE '%HTML%')\n",
        "                or name ILIKE '%исследователь данных%'\n",
        "                or name ILIKE '%machine learning%' \n",
        "                or name ILIKE '%машинн%обучен%' \n",
        "                or name ILIKE '%data science%') \n",
        "                and (name ILIKE '%junior%'\n",
        "                or experience ILIKE 'Нет опыта'\n",
        "                or employment ILIKE 'Стажировка')\n",
        "           ''' "
      ]
    },
    {
      "cell_type": "code",
      "execution_count": 211,
      "id": "ZNM-LLYuu1dj",
      "metadata": {
        "id": "ZNM-LLYuu1dj"
      },
      "outputs": [
        {
          "data": {
            "text/html": [
              "<div>\n",
              "<style scoped>\n",
              "    .dataframe tbody tr th:only-of-type {\n",
              "        vertical-align: middle;\n",
              "    }\n",
              "\n",
              "    .dataframe tbody tr th {\n",
              "        vertical-align: top;\n",
              "    }\n",
              "\n",
              "    .dataframe thead th {\n",
              "        text-align: right;\n",
              "    }\n",
              "</style>\n",
              "<table border=\"1\" class=\"dataframe\">\n",
              "  <thead>\n",
              "    <tr style=\"text-align: right;\">\n",
              "      <th></th>\n",
              "      <th>Количество_вакансий</th>\n",
              "    </tr>\n",
              "  </thead>\n",
              "  <tbody>\n",
              "    <tr>\n",
              "      <th>0</th>\n",
              "      <td>51</td>\n",
              "    </tr>\n",
              "  </tbody>\n",
              "</table>\n",
              "</div>"
            ],
            "text/plain": [
              "   Количество_вакансий\n",
              "0                   51"
            ]
          },
          "execution_count": 211,
          "metadata": {},
          "output_type": "execute_result"
        }
      ],
      "source": [
        "df_6_2 = pd.read_sql_query(query_6_2, connection)\n",
        "df_6_2"
      ]
    },
    {
      "cell_type": "markdown",
      "id": "eedceb80-c5ca-480e-b27a-278dfb8b4438",
      "metadata": {
        "id": "eedceb80-c5ca-480e-b27a-278dfb8b4438"
      },
      "source": [
        "3. Сколько есть вакансий для DS, в которых в качестве ключевого навыка указан SQL или postgres?\n",
        "\n",
        "** Критерии для отнесения вакансии к DS указаны в предыдущем задании.*"
      ]
    },
    {
      "cell_type": "code",
      "execution_count": 212,
      "id": "69621713-0cc5-4f1b-a1d7-bb144fa6148c",
      "metadata": {
        "id": "69621713-0cc5-4f1b-a1d7-bb144fa6148c"
      },
      "outputs": [],
      "source": [
        "query_6_3 = f'''select\n",
        "           COUNT(id) \"Количество_вакансий\"\n",
        "           from public.vacancies\n",
        "           WHERE (name ILIKE '%data scientist%' \n",
        "                or (name LIKE '%ML%' and name NOT ILIKE '%HTML%')\n",
        "                or name ILIKE '%исследователь данных%'\n",
        "                or name ILIKE '%machine learning%' \n",
        "                or name ILIKE '%машинн%обучен%' \n",
        "                or name ILIKE '%data science%')\n",
        "                and (key_skills ILIKE '%SQL%' or key_skills ILIKE '%postgres%')\n",
        "           ''' "
      ]
    },
    {
      "cell_type": "code",
      "execution_count": 213,
      "id": "alA8WEAAvGdf",
      "metadata": {
        "id": "alA8WEAAvGdf"
      },
      "outputs": [
        {
          "data": {
            "text/html": [
              "<div>\n",
              "<style scoped>\n",
              "    .dataframe tbody tr th:only-of-type {\n",
              "        vertical-align: middle;\n",
              "    }\n",
              "\n",
              "    .dataframe tbody tr th {\n",
              "        vertical-align: top;\n",
              "    }\n",
              "\n",
              "    .dataframe thead th {\n",
              "        text-align: right;\n",
              "    }\n",
              "</style>\n",
              "<table border=\"1\" class=\"dataframe\">\n",
              "  <thead>\n",
              "    <tr style=\"text-align: right;\">\n",
              "      <th></th>\n",
              "      <th>Количество_вакансий</th>\n",
              "    </tr>\n",
              "  </thead>\n",
              "  <tbody>\n",
              "    <tr>\n",
              "      <th>0</th>\n",
              "      <td>201</td>\n",
              "    </tr>\n",
              "  </tbody>\n",
              "</table>\n",
              "</div>"
            ],
            "text/plain": [
              "   Количество_вакансий\n",
              "0                  201"
            ]
          },
          "execution_count": 213,
          "metadata": {},
          "output_type": "execute_result"
        }
      ],
      "source": [
        "df_6_3 = pd.read_sql_query(query_6_3, connection)\n",
        "df_6_3"
      ]
    },
    {
      "cell_type": "markdown",
      "id": "1be1e9c6-37cf-4a5f-bfeb-04cab799dc80",
      "metadata": {
        "id": "1be1e9c6-37cf-4a5f-bfeb-04cab799dc80"
      },
      "source": [
        "4. Проверьте, насколько популярен Python в требованиях работодателей к DS.Для этого вычислите количество вакансий, в которых в качестве ключевого навыка указан Python.\n",
        "\n",
        "** Это можно сделать помощью запроса, аналогичного предыдущему.*"
      ]
    },
    {
      "cell_type": "code",
      "execution_count": 214,
      "id": "0036a355-9ccf-4564-8b01-73d8194297e7",
      "metadata": {
        "id": "0036a355-9ccf-4564-8b01-73d8194297e7"
      },
      "outputs": [],
      "source": [
        "query_6_4 = f'''select\n",
        "           COUNT(id) \"Количество_вакансий\"\n",
        "           from public.vacancies\n",
        "           WHERE (name ILIKE '%data scientist%' \n",
        "                or (name LIKE '%ML%' and name NOT ILIKE '%HTML%')\n",
        "                or name ILIKE '%исследователь данных%'\n",
        "                or name ILIKE '%machine learning%' \n",
        "                or name ILIKE '%машинн%обучен%' \n",
        "                or name ILIKE '%data science%')\n",
        "                and key_skills ILIKE '%Python%'\n",
        "           ''' "
      ]
    },
    {
      "cell_type": "code",
      "execution_count": 215,
      "id": "1i-5WyucvQ6v",
      "metadata": {
        "id": "1i-5WyucvQ6v"
      },
      "outputs": [
        {
          "data": {
            "text/html": [
              "<div>\n",
              "<style scoped>\n",
              "    .dataframe tbody tr th:only-of-type {\n",
              "        vertical-align: middle;\n",
              "    }\n",
              "\n",
              "    .dataframe tbody tr th {\n",
              "        vertical-align: top;\n",
              "    }\n",
              "\n",
              "    .dataframe thead th {\n",
              "        text-align: right;\n",
              "    }\n",
              "</style>\n",
              "<table border=\"1\" class=\"dataframe\">\n",
              "  <thead>\n",
              "    <tr style=\"text-align: right;\">\n",
              "      <th></th>\n",
              "      <th>Количество_вакансий</th>\n",
              "    </tr>\n",
              "  </thead>\n",
              "  <tbody>\n",
              "    <tr>\n",
              "      <th>0</th>\n",
              "      <td>351</td>\n",
              "    </tr>\n",
              "  </tbody>\n",
              "</table>\n",
              "</div>"
            ],
            "text/plain": [
              "   Количество_вакансий\n",
              "0                  351"
            ]
          },
          "execution_count": 215,
          "metadata": {},
          "output_type": "execute_result"
        }
      ],
      "source": [
        "df_6_4 = pd.read_sql_query(query_6_4, connection)\n",
        "df_6_4"
      ]
    },
    {
      "cell_type": "markdown",
      "id": "ec3c8db7-fa21-4a41-a994-1af63742a642",
      "metadata": {
        "id": "ec3c8db7-fa21-4a41-a994-1af63742a642"
      },
      "source": [
        "5. Сколько ключевых навыков в среднем указывают в вакансиях для DS?\n",
        "Ответ округлите до двух знаков после точки-разделителя."
      ]
    },
    {
      "cell_type": "code",
      "execution_count": 216,
      "id": "949132bc-d5b6-4611-8218-0b9a504d74f4",
      "metadata": {
        "id": "949132bc-d5b6-4611-8218-0b9a504d74f4"
      },
      "outputs": [],
      "source": [
        "query_6_5 = f'''select\n",
        "           AVG(length(key_skills) - length(REPLACE(key_skills, CHR(9), '' )) + 1)  \"Среднее_количество_навыков\"         \n",
        "           from public.vacancies\n",
        "           WHERE (name ILIKE '%data scientist%' \n",
        "                or (name LIKE '%ML%' and name NOT ILIKE '%HTML%')\n",
        "                or name ILIKE '%исследователь данных%'\n",
        "                or name ILIKE '%machine learning%' \n",
        "                or name ILIKE '%машинн%обучен%' \n",
        "                or name ILIKE '%data science%')\n",
        "                and key_skills IS NOT NULL\n",
        "           ''' "
      ]
    },
    {
      "cell_type": "code",
      "execution_count": 217,
      "id": "a3V24Tvmviqk",
      "metadata": {
        "id": "a3V24Tvmviqk"
      },
      "outputs": [
        {
          "data": {
            "text/html": [
              "<div>\n",
              "<style scoped>\n",
              "    .dataframe tbody tr th:only-of-type {\n",
              "        vertical-align: middle;\n",
              "    }\n",
              "\n",
              "    .dataframe tbody tr th {\n",
              "        vertical-align: top;\n",
              "    }\n",
              "\n",
              "    .dataframe thead th {\n",
              "        text-align: right;\n",
              "    }\n",
              "</style>\n",
              "<table border=\"1\" class=\"dataframe\">\n",
              "  <thead>\n",
              "    <tr style=\"text-align: right;\">\n",
              "      <th></th>\n",
              "      <th>Среднее_количество_навыков</th>\n",
              "    </tr>\n",
              "  </thead>\n",
              "  <tbody>\n",
              "    <tr>\n",
              "      <th>0</th>\n",
              "      <td>6.41</td>\n",
              "    </tr>\n",
              "  </tbody>\n",
              "</table>\n",
              "</div>"
            ],
            "text/plain": [
              "   Среднее_количество_навыков\n",
              "0                        6.41"
            ]
          },
          "execution_count": 217,
          "metadata": {},
          "output_type": "execute_result"
        }
      ],
      "source": [
        "df_6_5 = pd.read_sql_query(query_6_5, connection)\n",
        "round(df_6_5, 2)"
      ]
    },
    {
      "cell_type": "markdown",
      "id": "1041c17a-ca8f-4543-a0ca-32778914fb00",
      "metadata": {
        "id": "1041c17a-ca8f-4543-a0ca-32778914fb00"
      },
      "source": [
        "6. Напишите запрос, позволяющий вычислить, какую зарплату для DS в **среднем** указывают для каждого типа требуемого опыта (уникальное значение из поля *experience*). \n",
        "\n",
        "При решении задачи примите во внимание следующее:\n",
        "1. Рассматриваем только вакансии, у которых заполнено хотя бы одно из двух полей с зарплатой.\n",
        "2. Если заполнены оба поля с зарплатой, то считаем зарплату по каждой вакансии как сумму двух полей, делённую на 2. Если заполнено только одно из полей, то его и считаем зарплатой по вакансии.\n",
        "3. Если в расчётах участвует null, в результате он тоже даст null (посмотрите, что возвращает запрос select 1 + null). Чтобы избежать этой ситуацию, мы воспользуемся функцией [coalesce](https://postgrespro.ru/docs/postgresql/9.5/functions-conditional#functions-coalesce-nvl-ifnull), которая заменит null на значение, которое мы передадим. Например, посмотрите, что возвращает запрос `select 1 + coalesce(null, 0)`\n",
        "\n",
        "Выясните, на какую зарплату в среднем может рассчитывать дата-сайентист с опытом работы от 3 до 6 лет. Результат округлите до целого числа. "
      ]
    },
    {
      "cell_type": "code",
      "execution_count": 218,
      "id": "6a743d39-5204-48d3-8271-b9f88e68d40e",
      "metadata": {
        "id": "6a743d39-5204-48d3-8271-b9f88e68d40e"
      },
      "outputs": [],
      "source": [
        "query_6_6 = f'''select\n",
        "           experience \"Опыт_работы\",\n",
        "           ROUND(AVG(coalesce((salary_from+salary_to)/2, salary_from, salary_to)), 0) \"Средняя_ЗП\"        \n",
        "           from public.vacancies\n",
        "           WHERE (name ILIKE '%data scientist%' \n",
        "                or (name LIKE '%ML%' and name NOT ILIKE '%HTML%')\n",
        "                or name ILIKE '%исследователь данных%'\n",
        "                or name ILIKE '%machine learning%' \n",
        "                or name ILIKE '%машинн%обучен%' \n",
        "                or name ILIKE '%data science%')\n",
        "                and experience ILIKE 'От 3 до 6 лет'\n",
        "           GROUP BY experience\n",
        "           ''' "
      ]
    },
    {
      "cell_type": "code",
      "execution_count": 219,
      "id": "aRIJ0mZEwU1_",
      "metadata": {
        "id": "aRIJ0mZEwU1_"
      },
      "outputs": [
        {
          "data": {
            "text/html": [
              "<div>\n",
              "<style scoped>\n",
              "    .dataframe tbody tr th:only-of-type {\n",
              "        vertical-align: middle;\n",
              "    }\n",
              "\n",
              "    .dataframe tbody tr th {\n",
              "        vertical-align: top;\n",
              "    }\n",
              "\n",
              "    .dataframe thead th {\n",
              "        text-align: right;\n",
              "    }\n",
              "</style>\n",
              "<table border=\"1\" class=\"dataframe\">\n",
              "  <thead>\n",
              "    <tr style=\"text-align: right;\">\n",
              "      <th></th>\n",
              "      <th>Опыт_работы</th>\n",
              "      <th>Средняя_ЗП</th>\n",
              "    </tr>\n",
              "  </thead>\n",
              "  <tbody>\n",
              "    <tr>\n",
              "      <th>0</th>\n",
              "      <td>От 3 до 6 лет</td>\n",
              "      <td>243115.0</td>\n",
              "    </tr>\n",
              "  </tbody>\n",
              "</table>\n",
              "</div>"
            ],
            "text/plain": [
              "     Опыт_работы  Средняя_ЗП\n",
              "0  От 3 до 6 лет    243115.0"
            ]
          },
          "execution_count": 219,
          "metadata": {},
          "output_type": "execute_result"
        }
      ],
      "source": [
        "df_6_6 = pd.read_sql_query(query_6_6, connection)\n",
        "df_6_6\n",
        "# connection.close()"
      ]
    },
    {
      "cell_type": "markdown",
      "id": "6a7892b4-4113-4746-adce-18aa2844f18e",
      "metadata": {
        "id": "6a7892b4-4113-4746-adce-18aa2844f18e"
      },
      "source": [
        "***"
      ]
    },
    {
      "attachments": {},
      "cell_type": "markdown",
      "id": "UjLWUptVwY1o",
      "metadata": {
        "id": "UjLWUptVwY1o"
      },
      "source": [
        "Выводы:\n",
        "    \n",
        "Количество вакансий в базе, в которых требуются специалисты по работе с данными около 1800.\n",
        "\n",
        "Для начинающего дата-сайентиста, т.е. для сотрудника у которого нет опыта работы или необходима работа на период стажировки, в базе имеется около 50 вакансий.\n",
        "\n",
        "Количество вакансий для DS, в которых в качестве ключевого навыка указан SQL или postgres - 201 вакансия.\n",
        "\n",
        "В базе вакансий около 350 вакансий для специалиста DS, в которых в качестве ключевого навыка указан язык программирования Python.\n",
        "\n",
        "Для специалистов DS в вакансиях указано около 6 ключевых навыков.\n",
        "\n",
        "Размер средней заработной платы для специалиста DS, чей опыт работы составляет от 3 до 6 лет, около 240 000."
      ]
    },
    {
      "cell_type": "markdown",
      "id": "c0ED6fh7wiBT",
      "metadata": {
        "id": "c0ED6fh7wiBT"
      },
      "source": [
        "# Общий вывод по проекту"
      ]
    },
    {
      "attachments": {},
      "cell_type": "markdown",
      "id": "h9B3BL-wwj18",
      "metadata": {
        "id": "h9B3BL-wwj18"
      },
      "source": [
        "Из представленной информации можно сделать вывод, что на текущий момент на рынке труда присутствует большое количество вакансий в различных сферах деятельности, большинство из которых требует полный рабочий день и полную занятость. Чтобы успешно найти работу, необходимо иметь опыт работы и навыки работы с данными, в том числе языка программирования Python и SQL/postgres. Средняя заработная плата для специалистов с опытом работы от 3 до 6 лет в сфере DS составляет около 240 000. Крупнейшее количество вакансий и работодателей находится в России, особенно в Москве и Санкт-Петербурге. Одна из крупнейших компаний-работодателей является Яндекс, которая имеет наибольшее количество вакансий и охватывает большое количество регионов. Однако, многие работодатели не указывают сферу деятельности, а также не указывают диапазон заработной платы в описании вакансии, что может затруднить подбор вакансий для IT-специалистов."
      ]
    },
    {
      "attachments": {},
      "cell_type": "markdown",
      "id": "1c96ff26",
      "metadata": {},
      "source": [
        "# 7. Дополнительные исследования данных"
      ]
    },
    {
      "attachments": {},
      "cell_type": "markdown",
      "id": "e1917d60",
      "metadata": {},
      "source": [
        "1. Запрос, позволяющий вычислить, если ли зависимость размера средней заработной платы от количества навыков, указанных в вакансии по специалистам DS."
      ]
    },
    {
      "cell_type": "code",
      "execution_count": 220,
      "id": "8efce7ca",
      "metadata": {},
      "outputs": [],
      "source": [
        "query_7_1 = f'''select\n",
        "           DISTINCT(length(key_skills) - length(REPLACE(key_skills, CHR(9), '' )) + 1)  \"Количество_навыков\",\n",
        "           ROUND(AVG(salary_from), 0) \"Зарплата_от\",\n",
        "           ROUND(AVG(salary_to), 0) \"Зарплата_до\",\n",
        "           ROUND(AVG(coalesce((salary_from+salary_to)/2, salary_from, salary_to)), 0) \"Средняя_ЗП\"        \n",
        "           from public.vacancies\n",
        "           WHERE (name ILIKE '%data scientist%' \n",
        "                or (name LIKE '%ML%' and name NOT ILIKE '%HTML%')\n",
        "                or name ILIKE '%исследователь данных%'\n",
        "                or name ILIKE '%machine learning%' \n",
        "                or name ILIKE '%машинн%обучен%' \n",
        "                or name ILIKE '%data science%')\n",
        "                and key_skills IS NOT NULL\n",
        "                and (salary_from IS NOT NULL and salary_to IS NOT NULL)\n",
        "          GROUP BY length(key_skills) - length(REPLACE(key_skills, CHR(9), '' )) + 1\n",
        "          ORDER BY 4 DESC\n",
        "           ''' "
      ]
    },
    {
      "cell_type": "code",
      "execution_count": 221,
      "id": "81e626e9",
      "metadata": {},
      "outputs": [
        {
          "data": {
            "text/html": [
              "<div>\n",
              "<style scoped>\n",
              "    .dataframe tbody tr th:only-of-type {\n",
              "        vertical-align: middle;\n",
              "    }\n",
              "\n",
              "    .dataframe tbody tr th {\n",
              "        vertical-align: top;\n",
              "    }\n",
              "\n",
              "    .dataframe thead th {\n",
              "        text-align: right;\n",
              "    }\n",
              "</style>\n",
              "<table border=\"1\" class=\"dataframe\">\n",
              "  <thead>\n",
              "    <tr style=\"text-align: right;\">\n",
              "      <th></th>\n",
              "      <th>Количество_навыков</th>\n",
              "      <th>Зарплата_от</th>\n",
              "      <th>Зарплата_до</th>\n",
              "      <th>Средняя_ЗП</th>\n",
              "    </tr>\n",
              "  </thead>\n",
              "  <tbody>\n",
              "    <tr>\n",
              "      <th>0</th>\n",
              "      <td>4</td>\n",
              "      <td>200000.0</td>\n",
              "      <td>700000.0</td>\n",
              "      <td>450000.0</td>\n",
              "    </tr>\n",
              "    <tr>\n",
              "      <th>1</th>\n",
              "      <td>2</td>\n",
              "      <td>200000.0</td>\n",
              "      <td>250000.0</td>\n",
              "      <td>225000.0</td>\n",
              "    </tr>\n",
              "    <tr>\n",
              "      <th>2</th>\n",
              "      <td>3</td>\n",
              "      <td>160000.0</td>\n",
              "      <td>272000.0</td>\n",
              "      <td>216000.0</td>\n",
              "    </tr>\n",
              "    <tr>\n",
              "      <th>3</th>\n",
              "      <td>16</td>\n",
              "      <td>170000.0</td>\n",
              "      <td>240000.0</td>\n",
              "      <td>205000.0</td>\n",
              "    </tr>\n",
              "    <tr>\n",
              "      <th>4</th>\n",
              "      <td>5</td>\n",
              "      <td>160000.0</td>\n",
              "      <td>241667.0</td>\n",
              "      <td>200833.0</td>\n",
              "    </tr>\n",
              "    <tr>\n",
              "      <th>5</th>\n",
              "      <td>6</td>\n",
              "      <td>126000.0</td>\n",
              "      <td>236000.0</td>\n",
              "      <td>181000.0</td>\n",
              "    </tr>\n",
              "    <tr>\n",
              "      <th>6</th>\n",
              "      <td>8</td>\n",
              "      <td>125000.0</td>\n",
              "      <td>180000.0</td>\n",
              "      <td>152500.0</td>\n",
              "    </tr>\n",
              "    <tr>\n",
              "      <th>7</th>\n",
              "      <td>7</td>\n",
              "      <td>115000.0</td>\n",
              "      <td>172000.0</td>\n",
              "      <td>143500.0</td>\n",
              "    </tr>\n",
              "    <tr>\n",
              "      <th>8</th>\n",
              "      <td>11</td>\n",
              "      <td>97638.0</td>\n",
              "      <td>146456.0</td>\n",
              "      <td>122047.0</td>\n",
              "    </tr>\n",
              "    <tr>\n",
              "      <th>9</th>\n",
              "      <td>9</td>\n",
              "      <td>61024.0</td>\n",
              "      <td>73228.0</td>\n",
              "      <td>67126.0</td>\n",
              "    </tr>\n",
              "  </tbody>\n",
              "</table>\n",
              "</div>"
            ],
            "text/plain": [
              "   Количество_навыков  Зарплата_от  Зарплата_до  Средняя_ЗП\n",
              "0                   4     200000.0     700000.0    450000.0\n",
              "1                   2     200000.0     250000.0    225000.0\n",
              "2                   3     160000.0     272000.0    216000.0\n",
              "3                  16     170000.0     240000.0    205000.0\n",
              "4                   5     160000.0     241667.0    200833.0\n",
              "5                   6     126000.0     236000.0    181000.0\n",
              "6                   8     125000.0     180000.0    152500.0\n",
              "7                   7     115000.0     172000.0    143500.0\n",
              "8                  11      97638.0     146456.0    122047.0\n",
              "9                   9      61024.0      73228.0     67126.0"
            ]
          },
          "execution_count": 221,
          "metadata": {},
          "output_type": "execute_result"
        }
      ],
      "source": [
        "df_7_1 = pd.read_sql_query(query_7_1, connection)\n",
        "df_7_1"
      ]
    },
    {
      "attachments": {},
      "cell_type": "markdown",
      "id": "5201fb11",
      "metadata": {},
      "source": [
        "Выводы:\n",
        "\n",
        "Согласно полученным данным, наибольшая средняя зарплата в размере 450 000 указана в вакансиях с 4 ключевыми навыками.\n",
        "\n",
        "На втором и третем месте по размеру заработной платы находятся вакансии, в которых указано 2 и 3 ключевых навыка соответственно, при этом средняя зарплата составляет около 220 000. Разница между 2 местом и 1 составлят 100%.\n",
        "\n",
        "На 4 месте расположились вакансии с самым большим набором ключевых навыков - 16 навыков. При этом разница в размере заработной платы между 4 и 3 местом составляет около 5%.\n",
        "\n",
        "На последнм месте находятся вакансии с самой маленькой средней зарплатой в размере около 70 000, при этом количество ключевых навыков 9.\n",
        "\n",
        "___"
      ]
    },
    {
      "attachments": {},
      "cell_type": "markdown",
      "id": "1007ace8",
      "metadata": {},
      "source": [
        "2. Запрос, позволяющий определить, если ли зависимость средней заработной платы специалистов DS в зависимости от сферы деятельности работодателя"
      ]
    },
    {
      "cell_type": "code",
      "execution_count": 222,
      "id": "bd13d3af",
      "metadata": {},
      "outputs": [],
      "source": [
        "query_7_2 = f'''select\n",
        "           DISTINCT(i.name)  \"Сферы_деятельности\",\n",
        "           ROUND(AVG(v.salary_from), 0) \"Зарплата_от\",\n",
        "           ROUND(AVG(v.salary_to), 0) \"Зарплата_до\",\n",
        "           ROUND(AVG(coalesce((v.salary_from+v.salary_to)/2, v.salary_from, v.salary_to)), 0) \"Средняя_ЗП\"        \n",
        "           from public.vacancies v\n",
        "           join public.employers_industries e on e.employer_id = v.employer_id\n",
        "           join public.industries i on i.id = e.industry_id \n",
        "           WHERE (v.name ILIKE '%data scientist%' \n",
        "                or (v.name LIKE '%ML%' and v.name NOT ILIKE '%HTML%')\n",
        "                or v.name ILIKE '%исследователь данных%'\n",
        "                or v.name ILIKE '%machine learning%' \n",
        "                or v.name ILIKE '%машинн%обучен%' \n",
        "                or v.name ILIKE '%data science%')\n",
        "                and (v.salary_from IS NOT NULL and v.salary_to IS NOT NULL)\n",
        "          GROUP BY 1\n",
        "          ORDER BY 4 DESC\n",
        "           ''' "
      ]
    },
    {
      "cell_type": "code",
      "execution_count": 223,
      "id": "613ecd11",
      "metadata": {},
      "outputs": [
        {
          "data": {
            "text/html": [
              "<div>\n",
              "<style scoped>\n",
              "    .dataframe tbody tr th:only-of-type {\n",
              "        vertical-align: middle;\n",
              "    }\n",
              "\n",
              "    .dataframe tbody tr th {\n",
              "        vertical-align: top;\n",
              "    }\n",
              "\n",
              "    .dataframe thead th {\n",
              "        text-align: right;\n",
              "    }\n",
              "</style>\n",
              "<table border=\"1\" class=\"dataframe\">\n",
              "  <thead>\n",
              "    <tr style=\"text-align: right;\">\n",
              "      <th></th>\n",
              "      <th>Сферы_деятельности</th>\n",
              "      <th>Зарплата_от</th>\n",
              "      <th>Зарплата_до</th>\n",
              "      <th>Средняя_ЗП</th>\n",
              "    </tr>\n",
              "  </thead>\n",
              "  <tbody>\n",
              "    <tr>\n",
              "      <th>0</th>\n",
              "      <td>Маркетинговые, рекламные, BTL, дизайнерские, E...</td>\n",
              "      <td>300000.0</td>\n",
              "      <td>400000.0</td>\n",
              "      <td>350000.0</td>\n",
              "    </tr>\n",
              "    <tr>\n",
              "      <th>1</th>\n",
              "      <td>Консалтинговые услуги</td>\n",
              "      <td>250000.0</td>\n",
              "      <td>300000.0</td>\n",
              "      <td>275000.0</td>\n",
              "    </tr>\n",
              "    <tr>\n",
              "      <th>2</th>\n",
              "      <td>Издательская деятельность</td>\n",
              "      <td>198819.0</td>\n",
              "      <td>273228.0</td>\n",
              "      <td>236024.0</td>\n",
              "    </tr>\n",
              "    <tr>\n",
              "      <th>3</th>\n",
              "      <td>Разработка программного обеспечения</td>\n",
              "      <td>166000.0</td>\n",
              "      <td>304000.0</td>\n",
              "      <td>235000.0</td>\n",
              "    </tr>\n",
              "    <tr>\n",
              "      <th>4</th>\n",
              "      <td>Системная интеграция,  автоматизации технологи...</td>\n",
              "      <td>157102.0</td>\n",
              "      <td>299323.0</td>\n",
              "      <td>228213.0</td>\n",
              "    </tr>\n",
              "    <tr>\n",
              "      <th>5</th>\n",
              "      <td>Кадровые агентства</td>\n",
              "      <td>150000.0</td>\n",
              "      <td>300000.0</td>\n",
              "      <td>225000.0</td>\n",
              "    </tr>\n",
              "    <tr>\n",
              "      <th>6</th>\n",
              "      <td>Интернет-компания (поисковики, платежные систе...</td>\n",
              "      <td>174410.0</td>\n",
              "      <td>241614.0</td>\n",
              "      <td>208012.0</td>\n",
              "    </tr>\n",
              "    <tr>\n",
              "      <th>7</th>\n",
              "      <td>Производство мультимедиа, контента, редакторск...</td>\n",
              "      <td>97638.0</td>\n",
              "      <td>146456.0</td>\n",
              "      <td>122047.0</td>\n",
              "    </tr>\n",
              "    <tr>\n",
              "      <th>8</th>\n",
              "      <td>Производство печатной, полиграфической продукции</td>\n",
              "      <td>97638.0</td>\n",
              "      <td>146456.0</td>\n",
              "      <td>122047.0</td>\n",
              "    </tr>\n",
              "    <tr>\n",
              "      <th>9</th>\n",
              "      <td>Вуз, ссуз колледж, ПТУ</td>\n",
              "      <td>80000.0</td>\n",
              "      <td>150000.0</td>\n",
              "      <td>115000.0</td>\n",
              "    </tr>\n",
              "    <tr>\n",
              "      <th>10</th>\n",
              "      <td>Государственные организации</td>\n",
              "      <td>80000.0</td>\n",
              "      <td>150000.0</td>\n",
              "      <td>115000.0</td>\n",
              "    </tr>\n",
              "    <tr>\n",
              "      <th>11</th>\n",
              "      <td>Научно-исследовательская, научная, академическ...</td>\n",
              "      <td>80000.0</td>\n",
              "      <td>150000.0</td>\n",
              "      <td>115000.0</td>\n",
              "    </tr>\n",
              "    <tr>\n",
              "      <th>12</th>\n",
              "      <td>Металлические изделия, металлоконструкции (про...</td>\n",
              "      <td>100000.0</td>\n",
              "      <td>120000.0</td>\n",
              "      <td>110000.0</td>\n",
              "    </tr>\n",
              "    <tr>\n",
              "      <th>13</th>\n",
              "      <td>Металлические изделия, металлоконструкции (про...</td>\n",
              "      <td>100000.0</td>\n",
              "      <td>120000.0</td>\n",
              "      <td>110000.0</td>\n",
              "    </tr>\n",
              "    <tr>\n",
              "      <th>14</th>\n",
              "      <td>Продукция черной металлургии (продвижение, опт...</td>\n",
              "      <td>100000.0</td>\n",
              "      <td>120000.0</td>\n",
              "      <td>110000.0</td>\n",
              "    </tr>\n",
              "    <tr>\n",
              "      <th>15</th>\n",
              "      <td>Розничная сеть (DIY и товары для дома)</td>\n",
              "      <td>45000.0</td>\n",
              "      <td>100000.0</td>\n",
              "      <td>72500.0</td>\n",
              "    </tr>\n",
              "    <tr>\n",
              "      <th>16</th>\n",
              "      <td>Стройматериалы, сборные конструкции для ремонт...</td>\n",
              "      <td>45000.0</td>\n",
              "      <td>100000.0</td>\n",
              "      <td>72500.0</td>\n",
              "    </tr>\n",
              "    <tr>\n",
              "      <th>17</th>\n",
              "      <td>Промышленное, бытовое электрооборудование и эл...</td>\n",
              "      <td>50000.0</td>\n",
              "      <td>70000.0</td>\n",
              "      <td>60000.0</td>\n",
              "    </tr>\n",
              "    <tr>\n",
              "      <th>18</th>\n",
              "      <td>Промышленное, бытовое электрооборудование и эл...</td>\n",
              "      <td>50000.0</td>\n",
              "      <td>70000.0</td>\n",
              "      <td>60000.0</td>\n",
              "    </tr>\n",
              "    <tr>\n",
              "      <th>19</th>\n",
              "      <td>Промышленное, бытовое электрооборудование и эл...</td>\n",
              "      <td>50000.0</td>\n",
              "      <td>70000.0</td>\n",
              "      <td>60000.0</td>\n",
              "    </tr>\n",
              "    <tr>\n",
              "      <th>20</th>\n",
              "      <td>Электронно-вычислительная, оптическая, контрол...</td>\n",
              "      <td>50000.0</td>\n",
              "      <td>70000.0</td>\n",
              "      <td>60000.0</td>\n",
              "    </tr>\n",
              "  </tbody>\n",
              "</table>\n",
              "</div>"
            ],
            "text/plain": [
              "                                   Сферы_деятельности  Зарплата_от   \n",
              "0   Маркетинговые, рекламные, BTL, дизайнерские, E...     300000.0  \\\n",
              "1                               Консалтинговые услуги     250000.0   \n",
              "2                           Издательская деятельность     198819.0   \n",
              "3                 Разработка программного обеспечения     166000.0   \n",
              "4   Системная интеграция,  автоматизации технологи...     157102.0   \n",
              "5                                  Кадровые агентства     150000.0   \n",
              "6   Интернет-компания (поисковики, платежные систе...     174410.0   \n",
              "7   Производство мультимедиа, контента, редакторск...      97638.0   \n",
              "8    Производство печатной, полиграфической продукции      97638.0   \n",
              "9                              Вуз, ссуз колледж, ПТУ      80000.0   \n",
              "10                        Государственные организации      80000.0   \n",
              "11  Научно-исследовательская, научная, академическ...      80000.0   \n",
              "12  Металлические изделия, металлоконструкции (про...     100000.0   \n",
              "13  Металлические изделия, металлоконструкции (про...     100000.0   \n",
              "14  Продукция черной металлургии (продвижение, опт...     100000.0   \n",
              "15             Розничная сеть (DIY и товары для дома)      45000.0   \n",
              "16  Стройматериалы, сборные конструкции для ремонт...      45000.0   \n",
              "17  Промышленное, бытовое электрооборудование и эл...      50000.0   \n",
              "18  Промышленное, бытовое электрооборудование и эл...      50000.0   \n",
              "19  Промышленное, бытовое электрооборудование и эл...      50000.0   \n",
              "20  Электронно-вычислительная, оптическая, контрол...      50000.0   \n",
              "\n",
              "    Зарплата_до  Средняя_ЗП  \n",
              "0      400000.0    350000.0  \n",
              "1      300000.0    275000.0  \n",
              "2      273228.0    236024.0  \n",
              "3      304000.0    235000.0  \n",
              "4      299323.0    228213.0  \n",
              "5      300000.0    225000.0  \n",
              "6      241614.0    208012.0  \n",
              "7      146456.0    122047.0  \n",
              "8      146456.0    122047.0  \n",
              "9      150000.0    115000.0  \n",
              "10     150000.0    115000.0  \n",
              "11     150000.0    115000.0  \n",
              "12     120000.0    110000.0  \n",
              "13     120000.0    110000.0  \n",
              "14     120000.0    110000.0  \n",
              "15     100000.0     72500.0  \n",
              "16     100000.0     72500.0  \n",
              "17      70000.0     60000.0  \n",
              "18      70000.0     60000.0  \n",
              "19      70000.0     60000.0  \n",
              "20      70000.0     60000.0  "
            ]
          },
          "execution_count": 223,
          "metadata": {},
          "output_type": "execute_result"
        }
      ],
      "source": [
        "df_7_2 = pd.read_sql_query(query_7_2, connection)\n",
        "df_7_2"
      ]
    },
    {
      "attachments": {},
      "cell_type": "markdown",
      "id": "62044562",
      "metadata": {},
      "source": [
        "Выводы:\n",
        "\n",
        "Средняя заработная плата специалистов DS напрямую зависимостзависит от сферы деятельности работодателя. Например в такой сфере деятельности, как \"Маркетиновые, рекламные, BTL, дизайнерские услуги\" средняя заработная плата 350 000.\n",
        "\n",
        "У работодателя предоставляющие консалтинговые услуги средняя заработная плата DS специалиста составляет 275 000.\n",
        "\n",
        "Средняя заработная плата DS специалиста в компании, которая занимается издательской деятельностью, составляет около 240 000.\n",
        "\n",
        "Самая низкая заработная плата в размере 60 000 в вакансии DS специалиста у работодателя, который занимается электронно-вычислительной, оптической, контрольно-измерительной техникой. "
      ]
    },
    {
      "cell_type": "code",
      "execution_count": 224,
      "id": "c7349fa5",
      "metadata": {},
      "outputs": [],
      "source": [
        "connection.close()"
      ]
    }
  ],
  "metadata": {
    "colab": {
      "collapsed_sections": [
        "8d62a9f3-f64e-4fe7-bdac-c4dffa16155e"
      ],
      "provenance": []
    },
    "kernelspec": {
      "display_name": "Python 3 (ipykernel)",
      "language": "python",
      "name": "python3"
    },
    "language_info": {
      "codemirror_mode": {
        "name": "ipython",
        "version": 3
      },
      "file_extension": ".py",
      "mimetype": "text/x-python",
      "name": "python",
      "nbconvert_exporter": "python",
      "pygments_lexer": "ipython3",
      "version": "3.11.1"
    }
  },
  "nbformat": 4,
  "nbformat_minor": 5
}
