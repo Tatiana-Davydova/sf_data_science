{
 "cells": [
  {
   "attachments": {},
   "cell_type": "markdown",
   "metadata": {},
   "source": [
    "Используя информацию по мидиям Петербурга и Магадана, которые представлены в виде двух массивов petersburg и magadan в разделе ANOVA тест, проверьте данные на нормальность и на наличие корреляции. Для этого объедините 2 массива в DataFrame. Обоснуйте выбор теста на корреляцию. Сделайте вывод по гипотезе.\n",
    " \n",
    " \n",
    "Также ответьте на вопрос:\n",
    "Какова разница в среднем размере мидии в зависимости от города-производителя. Обоснуйте выбор теста. Сделайте вывод по гипотезе."
   ]
  },
  {
   "cell_type": "code",
   "execution_count": 160,
   "metadata": {},
   "outputs": [
    {
     "data": {
      "text/html": [
       "<div>\n",
       "<style scoped>\n",
       "    .dataframe tbody tr th:only-of-type {\n",
       "        vertical-align: middle;\n",
       "    }\n",
       "\n",
       "    .dataframe tbody tr th {\n",
       "        vertical-align: top;\n",
       "    }\n",
       "\n",
       "    .dataframe thead th {\n",
       "        text-align: right;\n",
       "    }\n",
       "</style>\n",
       "<table border=\"1\" class=\"dataframe\">\n",
       "  <thead>\n",
       "    <tr style=\"text-align: right;\">\n",
       "      <th></th>\n",
       "      <th>Petersburg</th>\n",
       "      <th>Magadan</th>\n",
       "    </tr>\n",
       "  </thead>\n",
       "  <tbody>\n",
       "    <tr>\n",
       "      <th>0</th>\n",
       "      <td>0.0974</td>\n",
       "      <td>0.1033</td>\n",
       "    </tr>\n",
       "    <tr>\n",
       "      <th>1</th>\n",
       "      <td>0.1352</td>\n",
       "      <td>0.0915</td>\n",
       "    </tr>\n",
       "    <tr>\n",
       "      <th>2</th>\n",
       "      <td>0.0817</td>\n",
       "      <td>0.0781</td>\n",
       "    </tr>\n",
       "    <tr>\n",
       "      <th>3</th>\n",
       "      <td>0.1016</td>\n",
       "      <td>0.0685</td>\n",
       "    </tr>\n",
       "    <tr>\n",
       "      <th>4</th>\n",
       "      <td>0.0968</td>\n",
       "      <td>0.0677</td>\n",
       "    </tr>\n",
       "    <tr>\n",
       "      <th>5</th>\n",
       "      <td>0.1064</td>\n",
       "      <td>0.0697</td>\n",
       "    </tr>\n",
       "    <tr>\n",
       "      <th>6</th>\n",
       "      <td>0.1050</td>\n",
       "      <td>0.0764</td>\n",
       "    </tr>\n",
       "    <tr>\n",
       "      <th>7</th>\n",
       "      <td>0.1034</td>\n",
       "      <td>0.0689</td>\n",
       "    </tr>\n",
       "  </tbody>\n",
       "</table>\n",
       "</div>"
      ],
      "text/plain": [
       "   Petersburg  Magadan\n",
       "0      0.0974   0.1033\n",
       "1      0.1352   0.0915\n",
       "2      0.0817   0.0781\n",
       "3      0.1016   0.0685\n",
       "4      0.0968   0.0677\n",
       "5      0.1064   0.0697\n",
       "6      0.1050   0.0764\n",
       "7      0.1034   0.0689"
      ]
     },
     "execution_count": 160,
     "metadata": {},
     "output_type": "execute_result"
    }
   ],
   "source": [
    "import pandas as pd\n",
    "mag_df = pd.DataFrame({\n",
    "    'Magadan': [0.1033, 0.0915, 0.0781, 0.0685, 0.0677, 0.0697, 0.0764, 0.0689]\n",
    "})\n",
    "\n",
    "spb_df = pd.DataFrame({\n",
    "    'Petersburg': [0.0974, 0.1352, 0.0817, 0.1016, 0.0968, 0.1064, 0.105],\n",
    "})\n",
    "\n",
    "# будем использовать средний размер раковин для 8-го значения\n",
    "spb_mean = round(spb_df['Petersburg'].mean(), 4)\n",
    "\n",
    "# создание df для среднего значения\n",
    "spb_mean = pd.DataFrame({\n",
    "    'Petersburg': [spb_mean],\n",
    "})\n",
    "\n",
    "# включение среднего значения в список по Питеру\n",
    "spb_df = spb_df.merge(\n",
    "    spb_mean, \n",
    "    on='Petersburg',\n",
    "    how='outer'\n",
    "    )\n",
    "\n",
    "# объединение двух df\n",
    "stat_df = spb_df.join(mag_df, how='inner')\n",
    "stat_df"
   ]
  },
  {
   "attachments": {},
   "cell_type": "markdown",
   "metadata": {},
   "source": [
    "# Проверка данных на нормальность"
   ]
  },
  {
   "cell_type": "code",
   "execution_count": 161,
   "metadata": {},
   "outputs": [],
   "source": [
    "H0 = 'Данные распределены нормально'\n",
    "Ha = 'Данные не распределены нормально (мы отвергаем H0)'"
   ]
  },
  {
   "attachments": {},
   "cell_type": "markdown",
   "metadata": {},
   "source": [
    "Установим уровень значимости"
   ]
  },
  {
   "cell_type": "code",
   "execution_count": 162,
   "metadata": {},
   "outputs": [],
   "source": [
    "alpha = 0.05"
   ]
  },
  {
   "attachments": {},
   "cell_type": "markdown",
   "metadata": {},
   "source": [
    "## Тест Шапиро-Уилка"
   ]
  },
  {
   "cell_type": "code",
   "execution_count": 163,
   "metadata": {},
   "outputs": [],
   "source": [
    "from scipy.stats import shapiro"
   ]
  },
  {
   "cell_type": "code",
   "execution_count": 164,
   "metadata": {},
   "outputs": [
    {
     "name": "stdout",
     "output_type": "stream",
     "text": [
      "p=0.100\n",
      "Данные распределены нормально\n"
     ]
    }
   ],
   "source": [
    "_, p = shapiro(stat_df)\n",
    "print('p=%.3f' % p)\n",
    "\n",
    "# Интерпретация \n",
    "\n",
    "if p > alpha:\n",
    "\tprint(H0)\n",
    "else:\n",
    "\tprint(Ha)"
   ]
  },
  {
   "attachments": {},
   "cell_type": "markdown",
   "metadata": {},
   "source": [
    "# Независимый T-тест "
   ]
  },
  {
   "cell_type": "code",
   "execution_count": 165,
   "metadata": {},
   "outputs": [],
   "source": [
    "from scipy.stats import ttest_ind"
   ]
  },
  {
   "cell_type": "code",
   "execution_count": 166,
   "metadata": {},
   "outputs": [],
   "source": [
    "H0 = 'Нет значимой разницы между средним размером мидий в разных городах.'\n",
    "Ha = 'Есть значимая разница между средним размером мидий в разных городах.'"
   ]
  },
  {
   "attachments": {},
   "cell_type": "markdown",
   "metadata": {},
   "source": [
    "Зависимая переменная (размер мидий) является количественной. Группы происходят из разных совокупностей. Следовательно, мы используем независимый T-тест."
   ]
  },
  {
   "cell_type": "code",
   "execution_count": 167,
   "metadata": {},
   "outputs": [
    {
     "name": "stdout",
     "output_type": "stream",
     "text": [
      "\n",
      "*** Результаты независимого T-теста ***\n",
      "0.0 <= 0.05. Мы отвергаем нулевую гипотезу. Есть значимая разница между средним размером мидий в разных городах.\n"
     ]
    }
   ],
   "source": [
    "def t_test(df):\n",
    "    print('\\n' + \"*** Результаты независимого T-теста ***\")\n",
    "    test_results = ttest_ind(stat_df['Petersburg'], stat_df['Magadan'], equal_var=True)\n",
    "\n",
    "    p = round(test_results[1],2)\n",
    "\n",
    "    if p>alpha:\n",
    "        print(f\"{p} > {alpha}. Мы не можем отвергнуть нулевую гипотезу. {H0}\")\n",
    "    else:\n",
    "        print(f\"{p} <= {alpha}. Мы отвергаем нулевую гипотезу. {Ha}\")\n",
    "\n",
    "t_test(stat_df)"
   ]
  },
  {
   "attachments": {},
   "cell_type": "markdown",
   "metadata": {},
   "source": [
    "# Тест на корреляцию"
   ]
  },
  {
   "cell_type": "code",
   "execution_count": 168,
   "metadata": {},
   "outputs": [
    {
     "name": "stdout",
     "output_type": "stream",
     "text": [
      "0.1666666666666667 0.693238811728395\n"
     ]
    }
   ],
   "source": [
    "# корреляция Спирмена\n",
    "from numpy.random import rand\n",
    "from scipy.stats import spearmanr\n",
    "\n",
    "corr, p = spearmanr(spb_df, mag_df)\n",
    "\n",
    "print(corr,p)"
   ]
  },
  {
   "cell_type": "code",
   "execution_count": 169,
   "metadata": {},
   "outputs": [
    {
     "name": "stdout",
     "output_type": "stream",
     "text": [
      "0.693238811728395 > 0.05. Мы не можем отвергнуть нулевую гипотезу об отсутсвии зависимости между переменными.\n"
     ]
    }
   ],
   "source": [
    "if p>alpha:\n",
    "    print(f\"{p} > {alpha}. Мы не можем отвергнуть нулевую гипотезу об отсутсвии зависимости между переменными.\")\n",
    "else:\n",
    "    print(f\"{p} <= {alpha}. Мы отвергаем нулевую гипотезу об отсутсвии зависимости между переменными.\")"
   ]
  }
 ],
 "metadata": {
  "kernelspec": {
   "display_name": "Python 3",
   "language": "python",
   "name": "python3"
  },
  "language_info": {
   "codemirror_mode": {
    "name": "ipython",
    "version": 3
   },
   "file_extension": ".py",
   "mimetype": "text/x-python",
   "name": "python",
   "nbconvert_exporter": "python",
   "pygments_lexer": "ipython3",
   "version": "3.11.1"
  },
  "orig_nbformat": 4
 },
 "nbformat": 4,
 "nbformat_minor": 2
}
