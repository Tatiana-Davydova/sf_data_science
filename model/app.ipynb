{
 "cells": [
  {
   "cell_type": "code",
   "execution_count": 16,
   "metadata": {},
   "outputs": [],
   "source": [
    "import numpy as np\n",
    "from flask import Flask, request, jsonify, render_template\n",
    "import pickle"
   ]
  },
  {
   "cell_type": "code",
   "execution_count": null,
   "metadata": {},
   "outputs": [],
   "source": [
    "# Create flask app\n",
    "flask_app = Flask(__name__)\n",
    "work_model = pickle.load(open('working_model.pkl', \"rb\"))\n",
    "\n",
    "@flask_app.route(\"/\")\n",
    "def Home():\n",
    "    return render_template(\"index.html\")\n",
    "\n",
    "@flask_app.route(\"/predict\", methods = [\"POST\"])\n",
    "def predict():\n",
    "    float_features = [float(x) for x in request.form.values()]\n",
    "    features = [np.array(float_features)]\n",
    "    prediction = work_model.predict(features)\n",
    "    return render_template(\"index.html\", prediction_text = \"Real estate price {}\".format(prediction))\n",
    "\n",
    "if __name__ == \"__main__\":\n",
    "    flask_app.run(debug=True)"
   ]
  }
 ],
 "metadata": {
  "kernelspec": {
   "display_name": "Python 3",
   "language": "python",
   "name": "python3"
  },
  "language_info": {
   "codemirror_mode": {
    "name": "ipython",
    "version": 3
   },
   "file_extension": ".py",
   "mimetype": "text/x-python",
   "name": "python",
   "nbconvert_exporter": "python",
   "pygments_lexer": "ipython3",
   "version": "3.11.1"
  }
 },
 "nbformat": 4,
 "nbformat_minor": 2
}
